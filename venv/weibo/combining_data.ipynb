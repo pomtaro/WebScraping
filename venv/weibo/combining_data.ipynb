{
 "cells": [
  {
   "cell_type": "code",
   "execution_count": 23,
   "metadata": {
    "collapsed": true
   },
   "outputs": [],
   "source": [
    "import pandas as pd\n",
    "import os\n",
    "import glob\n",
    "import pprint as pp\n"
   ]
  },
  {
   "cell_type": "code",
   "execution_count": 4,
   "metadata": {},
   "outputs": [],
   "source": [
    "\"\"\"\n",
    "load csv file and return DataDrame\n",
    "\"\"\"\n",
    "\n",
    "\n",
    "def load_csv_file(file_path):\n",
    "    df = pd.read_csv(file_path, header=0)\n",
    "    \n",
    "    return df\n"
   ]
  },
  {
   "cell_type": "code",
   "execution_count": 49,
   "metadata": {},
   "outputs": [],
   "source": [
    "\"\"\"\n",
    "get filename list\n",
    "\"\"\"\n",
    "\n",
    "\n",
    "def get_filepath_list(directory_path):\n",
    "    filenames = sorted(glob.glob(directory_path))\n",
    "    \n",
    "    return filenames\n"
   ]
  },
  {
   "cell_type": "code",
   "execution_count": 59,
   "metadata": {},
   "outputs": [],
   "source": [
    "\"\"\"\n",
    "Weibo\n",
    "df_dprogram_0: 20190319_weibo_d program_20181201-20190228_comment\n",
    "df_dprogram_1: 20190319_weibo_d program_20181201-20190228_feed\n",
    "df_dprogram_2: 20190319_weibo_资生堂 program_20181201-20190228_comment\n",
    "df_dprogram_3: 20190319_weibo_资生堂 program__20181201-20190228_feed\n",
    "\"\"\"\n",
    "\n",
    "dprogram_filepath_list = get_filepath_list('/Users/higashi/PycharmProjects/WebScraping/venv/weibo/'\n",
    "                                        'data/dprogram-CUREL-freeplus_20181201-20190228/'\n",
    "                                        'dprogram_20181201-20190228/*')\n",
    "\n",
    "df_dprogram_0 = load_csv_file(dprogram_filepath_list[0])\n",
    "df_dprogram_1 = load_csv_file(dprogram_filepath_list[1])\n",
    "df_dprogram_2 = load_csv_file(dprogram_filepath_list[2])\n",
    "df_dprogram_3 = load_csv_file(dprogram_filepath_list[3])\n"
   ]
  },
  {
   "cell_type": "code",
   "execution_count": 61,
   "metadata": {},
   "outputs": [
    {
     "data": {
      "text/plain": [
       "'/Users/higashi/PycharmProjects/WebScraping/venv/weibo/data/dprogram-CUREL-freeplus_20181201-20190228/dprogram_20181201-20190228/20190319_weibo_资生堂 program_20181201-20190228_comment.csv'"
      ]
     },
     "execution_count": 61,
     "metadata": {},
     "output_type": "execute_result"
    }
   ],
   "source": [
    "dprogram_filepath_list[2]"
   ]
  },
  {
   "cell_type": "code",
   "execution_count": 62,
   "metadata": {},
   "outputs": [],
   "source": [
    "\"\"\"\n",
    "combining\n",
    "pandas.concat([df1, df2])\n",
    "\"\"\"\n",
    "\n",
    "df_dprogram_02 = pd.concat([df_dprogram_0, df_dprogram_2])  # comment\n",
    "df_dprogram_13 = pd.concat([df_dprogram_1, df_dprogram_3])  # feed\n"
   ]
  },
  {
   "cell_type": "code",
   "execution_count": 63,
   "metadata": {},
   "outputs": [],
   "source": [
    "os.chdir('/Users/higashi/PycharmProjects/WebScraping/venv/weibo/data')\n",
    "df_dprogram_02.to_csv('test' + '.csv')"
   ]
  },
  {
   "cell_type": "code",
   "execution_count": 64,
   "metadata": {},
   "outputs": [],
   "source": [
    "os.chdir('/Users/higashi/PycharmProjects/WebScraping/venv/weibo/data')\n",
    "df_dprogram_13.to_csv('test' + '.csv')"
   ]
  },
  {
   "cell_type": "code",
   "execution_count": 30,
   "metadata": {},
   "outputs": [],
   "source": [
    ""
   ]
  },
  {
   "cell_type": "code",
   "execution_count": 35,
   "metadata": {},
   "outputs": [],
   "source": [
    "\"\"\"\n",
    "Weibo\n",
    "df_CUREL_0: 20181201-20181215 comment\n",
    "df_CUREL_1: 20181201-20181215 feed\n",
    "df_CUREL_2: 20181201-20181215 comment\n",
    "df_CUREL_3: \n",
    "df_CUREL_4: 20181201-20181215 comment\n",
    "df_CUREL_5: \n",
    "df_CUREL_6: 20181201-20181215 comment\n",
    "df_CUREL_7: \n",
    "df_CUREL_8: 20181201-20181215 comment\n",
    "df_CUREL_9: \n",
    "df_CUREL_10: 20181201-20181215 comment\n",
    "df_CUREL_11: \n",
    "\n",
    "\"\"\"\n",
    "\n",
    "curel_filepath_list = get_filepath_list('/Users/higashi/PycharmProjects/WebScraping/venv/weibo/'\n",
    "                                        'data/dprogram-CUREL-freeplus_20181201-20190228/'\n",
    "                                        'CUREL_20181201-20190228/*')\n",
    "\n",
    "df_CUREL_0 = load_csv_file(curel_filepath_list[0])\n",
    "df_CUREL_1 = load_csv_file(curel_filepath_list[1])\n",
    "df_CUREL_2 = load_csv_file(curel_filepath_list[2])\n",
    "df_CUREL_3 = load_csv_file(curel_filepath_list[3])\n",
    "df_CUREL_4 = load_csv_file(curel_filepath_list[4])\n",
    "df_CUREL_5 = load_csv_file(curel_filepath_list[5])\n",
    "df_CUREL_6 = load_csv_file(curel_filepath_list[6])\n",
    "df_CUREL_7 = load_csv_file(curel_filepath_list[7])\n",
    "df_CUREL_8 = load_csv_file(curel_filepath_list[8])\n",
    "df_CUREL_9 = load_csv_file(curel_filepath_list[9])\n",
    "df_CUREL_10 = load_csv_file(curel_filepath_list[10])\n",
    "df_CUREL_11 = load_csv_file(curel_filepath_list[11])\n"
   ]
  },
  {
   "cell_type": "code",
   "execution_count": 36,
   "metadata": {},
   "outputs": [],
   "source": [
    "\"\"\"\n",
    "combining feed\n",
    "\"\"\"\n",
    "\n",
    "\n",
    "df_CUREL_1357911 = pd.concat([df_CUREL_1, df_CUREL_3, df_CUREL_5, df_CUREL_7, df_CUREL_9, df_CUREL_11])\n",
    "\n",
    "os.chdir('/Users/higashi/PycharmProjects/WebScraping/venv/weibo/data')\n",
    "df_CUREL_1357911.to_csv('test' + '.csv')"
   ]
  },
  {
   "cell_type": "code",
   "execution_count": 37,
   "metadata": {},
   "outputs": [],
   "source": [
    "\"\"\"\n",
    "combining comment\n",
    "\"\"\"\n",
    "\n",
    "\n",
    "df_CUREL_0246810 = pd.concat([df_CUREL_0, df_CUREL_2, df_CUREL_4, df_CUREL_6, df_CUREL_8, df_CUREL_10])\n",
    "\n",
    "os.chdir('/Users/higashi/PycharmProjects/WebScraping/venv/weibo/data')\n",
    "df_CUREL_0246810.to_csv('test' + '.csv')"
   ]
  },
  {
   "cell_type": "code",
   "execution_count": 33,
   "metadata": {},
   "outputs": [],
   "source": [
    "A = get_filepath_list('/Users/higashi/PycharmProjects/WebScraping/venv/weibo/data/dprogram-CUREL-freeplus_20181201-20190228/CUREL_20181201-20190228/*')"
   ]
  },
  {
   "cell_type": "code",
   "execution_count": 34,
   "metadata": {},
   "outputs": [
    {
     "name": "stdout",
     "output_type": "stream",
     "text": [
      "20190319_weibo_CUREL_20181201-20181215_comment.csv\n20190319_weibo_CUREL_20181201-20181215_feed.csv\n20190319_weibo_CUREL_20181216-20181231_comment.csv\n20190319_weibo_CUREL_20181216-20181231_feed.csv\n20190319_weibo_CUREL_20190101-20190115_comment.csv\n20190319_weibo_CUREL_20190101-20190115_feed.csv\n20190319_weibo_CUREL_20190116-20190131_comment.csv\n20190319_weibo_CUREL_20190116-20190131_feed.csv\n20190319_weibo_CUREL_20190201-20190215_comment.csv\n20190319_weibo_CUREL_20190201-20190215_feed.csv\n20190319_weibo_CUREL_20190216-20190228_comment.csv\n20190319_weibo_CUREL_20190216-20190228_feed.csv\n"
     ]
    }
   ],
   "source": [
    "for path in A:\n",
    "    print(path.split('/')[-1])"
   ]
  },
  {
   "cell_type": "code",
   "execution_count": 2,
   "metadata": {},
   "outputs": [],
   "source": []
  },
  {
   "cell_type": "code",
   "execution_count": 38,
   "metadata": {},
   "outputs": [],
   "source": [
    "\"\"\"\n",
    "Weibo\n",
    "df_freeplus_0: 20181201-20181215 comment\n",
    "df_freeplus_1: 20181201-20181215 feed\n",
    "df_freeplus_2: 20181201-20181215 comment\n",
    "df_freeplus_3: \n",
    "\"\"\"\n",
    "\n",
    "freeplus_filepath_list = get_filepath_list('/Users/higashi/PycharmProjects/WebScraping/venv/weibo/'\n",
    "                                        'data/dprogram-CUREL-freeplus_20181201-20190228/'\n",
    "                                        'freeplus_20181201-20190228/*')\n",
    "\n",
    "df_freeplus_0 = load_csv_file(freeplus_filepath_list[0])\n",
    "df_freeplus_1 = load_csv_file(freeplus_filepath_list[1])\n",
    "df_freeplus_2 = load_csv_file(freeplus_filepath_list[2])\n",
    "df_freeplus_3 = load_csv_file(freeplus_filepath_list[3])"
   ]
  },
  {
   "cell_type": "code",
   "execution_count": 47,
   "metadata": {},
   "outputs": [],
   "source": [
    "\"\"\"\n",
    "combining feed\n",
    "\"\"\"\n",
    "\n",
    "\n",
    "df_freeplus_13 = pd.concat([df_freeplus_1, df_freeplus_3])\n",
    "\n",
    "os.chdir('/Users/higashi/PycharmProjects/WebScraping/venv/weibo/data')\n",
    "df_freeplus_13.to_csv('test' + '.csv')"
   ]
  },
  {
   "cell_type": "code",
   "execution_count": 41,
   "metadata": {},
   "outputs": [],
   "source": [
    "\"\"\"\n",
    "combining comment\n",
    "\"\"\"\n",
    "\n",
    "\n",
    "df_freeplus_02 = pd.concat([df_freeplus_0, df_freeplus_2])\n",
    "\n",
    "os.chdir('/Users/higashi/PycharmProjects/WebScraping/venv/weibo/data')\n",
    "df_freeplus_02.to_csv('test' + '.csv')"
   ]
  },
  {
   "cell_type": "code",
   "execution_count": null,
   "metadata": {},
   "outputs": [],
   "source": []
  }
 ],
 "metadata": {
  "kernelspec": {
   "display_name": "Python 2",
   "language": "python",
   "name": "python2"
  },
  "language_info": {
   "codemirror_mode": {
    "name": "ipython",
    "version": 2
   },
   "file_extension": ".py",
   "mimetype": "text/x-python",
   "name": "python",
   "nbconvert_exporter": "python",
   "pygments_lexer": "ipython2",
   "version": "2.7.6"
  }
 },
 "nbformat": 4,
 "nbformat_minor": 0
}
