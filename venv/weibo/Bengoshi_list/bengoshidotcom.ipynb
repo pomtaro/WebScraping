{
 "cells": [
  {
   "cell_type": "code",
   "execution_count": 53,
   "metadata": {
    "collapsed": true
   },
   "outputs": [],
   "source": [
    "import requests\n",
    "from bs4 import BeautifulSoup\n",
    "import pandas as pd\n",
    "import os\n",
    "from datetime import datetime as dt\n",
    "from selenium import webdriver\n",
    "from selenium.webdriver.chrome.options import Options\n",
    "import time"
   ]
  },
  {
   "cell_type": "code",
   "execution_count": 134,
   "metadata": {},
   "outputs": [
    {
     "name": "stderr",
     "output_type": "stream",
     "text": [
      "/Users/higashi/PycharmProjects/WeiboScraping/venv/lib/python3.7/site-packages/ipykernel_launcher.py:7: DeprecationWarning: use setter for headless property instead of set_headless\n  import sys\n"
     ]
    }
   ],
   "source": [
    "\"\"\"\n",
    "Selenium setting\n",
    "\"\"\"\n",
    "\n",
    "options = Options()\n",
    "\n",
    "options.set_headless(True)\n",
    "options.binary_location = \"/Applications/Google Chrome Canary.app/Contents/MacOS/Google Chrome Canary\"\n",
    "options.add_argument(\"--headless\")\n",
    "\n",
    "chromedriver_path = \"/Users/higashi/Desktop/Document/chromedriver/chromedriver\"\n",
    "\n",
    "driver = webdriver.Chrome(options=options,\n",
    "                          executable_path=chromedriver_path)"
   ]
  },
  {
   "cell_type": "code",
   "execution_count": 69,
   "metadata": {},
   "outputs": [],
   "source": [
    "\"\"\"\n",
    "文字化けを防ぐ\n",
    "r.contentをhtml.parserでBeautifulSoup読み込み\n",
    "\"\"\"\n",
    "\n",
    "url = 'https://www.bengo4.com/kanagawa/f_5/?page=2'\n",
    "\n",
    "r = requests.get(url)\n",
    "\n",
    "html_soup = BeautifulSoup(r.content, 'html.parser')"
   ]
  },
  {
   "cell_type": "code",
   "execution_count": 72,
   "metadata": {
    "collapsed": true
   },
   "outputs": [
    {
     "name": "stdout",
     "output_type": "stream",
     "text": [
      "神奈川県横浜市中区相生町1-15第2東商ビル7階\n050-5282-4463\n向川純平\n神奈川県藤沢市湘南台2-17-9スカイパレス湘南203\n050-5289-9786\n佐藤剛\n神奈川県中郡大磯町大磯971片野ビル3階\n050-5282-3420\n大堀昭二\n神奈川県横浜市戸塚区戸塚町4808トヨダビル2階\n050-5223-2189\n西村紀子\n神奈川県横浜市中区山下町252グランベル横浜ビル1階4\n050-5286-9428\n水野博之\n神奈川県横浜市神奈川区金港町5-36東興ビル7階\n050-5282-3581\n小野航平\n神奈川県横浜市神奈川区鶴屋町2-23-2TSプラザビルディング13階\n050-5352-8768\n西内勇介\n神奈川県横浜市中区日本大通17JPR横浜日本大通ビル8階\n050-5286-9422\n後藤愛\n神奈川県相模原市南区相模大野8-10-6ユタカビル6階\n050-5887-8609\n白澤章子\n神奈川県川崎市川崎区砂子1-10-2ソシオ砂子ビル7階\n050-5289-1144\n星野文紀\nnot founded loc\n050-5827-3413\n柳澤直人\n神奈川県横浜市中区常盤町1-2-1関内電子ビル2階C\n050-5887-0872\n青野壽和\n神奈川県大和市大和東2-2-3ライオンズビル大和301\n050-5350-1783\n南木道雄\n神奈川県横浜市中区常盤町1-2-1関内電子ビル10階B号室\n050-5283-0399\n冨田創一\n神奈川県横浜市中区太田町4-55横浜馬車道ビル6階\n050-5286-2003\n岩井知大\n神奈川県川崎市高津区溝口2-17-35タチバナビル301\n050-5287-1863\n村上淳平\n神奈川県川崎市中原区小杉町3-19KWEST3階\n050-5877-0638\n田村啓明\n神奈川県藤沢市鵠沼石上1-7-4 オキビル3階B\n050-5285-8290\n野村俊介\n神奈川県横須賀市大滝町1-25-1横須賀ベイビュービルディング5階\n050-5265-4691\n島武広\n神奈川県川崎市中原区丸子通1-665ファーストヒル605\n050-5257-8007\n安藤愛子\n神奈川県横浜市中区住吉町3-37村山ビル2階\n050-5282-8161\n平井佑治\n神奈川県小田原市浜町１－２－２４平井ビル５階\n050-5877-7165\n町川智康\n神奈川県横浜市神奈川区鶴屋町2-23-2TSプラザビルディング13階\n050-5572-3291\n神足嘉穂\n神奈川県横浜市中区不老町1-1-14関内駅前エスビル4階\n050-5352-9982\n北神英典\n神奈川県藤沢市藤沢551-1日進ビル7階\n050-5283-3470\n小池拓也\n神奈川県横浜市中区弁天通2-28ライオンズマンション関内603\n050-5280-9804\n小宮夏樹\n神奈川県海老名市中央1丁目16-37\n050-5257-9538\n井上和也\n神奈川県横浜市中区南仲通4丁目49番地福久ビル2階\n050-5827-3435\n栗田有介\n神奈川県横浜市西区北幸1-11-20相鉄KSビル6階\n050-5223-3913\n林香里\n神奈川県平塚市代官町9-26M宮代会館3F号室\n050-5346-3298\n大田和磨\n神奈川県相模原市南区相模大野5-29-11 安藤ビル3階B号室\n050-5284-9956\n宮崎英征\n神奈川県横浜市西区北幸１丁目１１−１５横浜STビル7階\n050-5284-5735\n岩﨑崇\n神奈川県川崎市川崎区駅前本町10-5クリエ川崎11階\n050-5285-5316\n味間明徳\n神奈川県横浜市神奈川区金港町7-3金港ビル\n0120-519-116\n山本真司\n神奈川県横浜市神奈川区鶴屋町2丁目22番3号伊藤ビル703号室\n050-5257-8182\n山田良平\n神奈川県川崎市川崎区駅前本町10-5クリエ川崎11階\n050-5834-5190\n林伸彦\n神奈川県川崎市川崎区東田町2-11大谷加工川崎大通りビル5階\n050-5286-5906\n秋葉俊孝\n神奈川県横浜市神奈川区沢渡3-1東興ビル5階A\n050-5286-5518\n齋藤菜摘\n神奈川県平塚市紅谷町2-14\n050-5223-7411\n押谷祐基\n神奈川県横浜市西区北幸1-11-20相鉄KSビル6階\n050-5257-4078\n亀山大樹\n神奈川県川崎市川崎区駅前本町10-5クリエ川崎11階\n050-5284-5569\n棚村隆行\n神奈川県横浜市西区南幸2-19-4南幸折目ビル6階\n050-5827-6801\n塚越文也\n神奈川県横浜市西区岡野1-12-18 ペレネAi 501\n0120-533-284\n青木亮祐\n神奈川県横浜市西区北幸2-3-19日総第8ビル\n050-5346-3290\n松尾雄司\n神奈川県横浜市南区榎町2-41ライオンズマンション202\n050-5346-7222\n平川麻紀\n神奈川県横浜市神奈川区沢渡3-1東興ビル5階A\n050-5223-3830\n花田弘介\n神奈川県藤沢市藤沢551-1日進ビル7階\n050-5289-6850\n山本大地\n神奈川県横浜市中区日本大通17JPR横浜日本大通ビル8階\n050-5285-0881\n清水俊\n神奈川県川崎市川崎区砂子2-11-29平松川崎ビル5階\n050-5356-3241\n梅川久仁\n神奈川県海老名市中央3-2-5ダイエー海老名店2階\n050-5347-0383\n菅原崇\n"
     ]
    }
   ],
   "source": [
    "'''\n",
    "弁護士ドットコムのユーザは、class='profile clearfix special uaLbl_323 uaLbl_336'で管理されている\n",
    "1ユーザごとに、住所、電話番号、名前を取得する\n",
    "'''\n",
    "\n",
    "driver.get(url)\n",
    "time.sleep(5)\n",
    "\n",
    "html = driver.page_source.encode('utf-8')\n",
    "soup = BeautifulSoup(html, 'html.parser')\n",
    "\n",
    "A = soup.find_all('div', {'class': 'profile clearfix special uaLbl_323 uaLbl_336'})\n",
    "for tag in A:\n",
    "    if tag.find_all('span', {'class': 'address__txt'}):\n",
    "        B = tag.find_all('span', {'class': 'address__txt'})\n",
    "        print(B[0].text)\n",
    "    else:\n",
    "        print('not founded loc')\n",
    "    if tag.find_all('span', {'class': 'tel__txt'}):\n",
    "        C = tag.find_all('span', {'class': 'tel__txt'})\n",
    "        print(C[0].text)\n",
    "    else:\n",
    "        print('not founded tel')\n",
    "        \n",
    "    if tag.find_all('span', {'class': 'profile__name'}):\n",
    "        D = tag.find_all('span', {'class': 'profile__name'})\n",
    "        print(D[0].text.split()[0]+D[0].text.split()[1])\n",
    "    else:\n",
    "        print('not founded name')\n",
    "    "
   ]
  },
  {
   "cell_type": "code",
   "execution_count": 2,
   "metadata": {},
   "outputs": [],
   "source": [
    "\n"
   ]
  },
  {
   "cell_type": "code",
   "execution_count": 61,
   "metadata": {},
   "outputs": [],
   "source": [
    ""
   ]
  },
  {
   "cell_type": "code",
   "execution_count": 61,
   "metadata": {},
   "outputs": [],
   "source": [
    ""
   ]
  },
  {
   "cell_type": "code",
   "execution_count": 136,
   "metadata": {
    "collapsed": true
   },
   "outputs": [
    {
     "name": "stdout",
     "output_type": "stream",
     "text": [
      "tokyo f_1 0\n"
     ]
    },
    {
     "name": "stdout",
     "output_type": "stream",
     "text": [
      "tokyo f_1 1\n"
     ]
    },
    {
     "name": "stdout",
     "output_type": "stream",
     "text": [
      "url is founded\n"
     ]
    },
    {
     "name": "stdout",
     "output_type": "stream",
     "text": [
      "tokyo f_1 2\n"
     ]
    },
    {
     "name": "stdout",
     "output_type": "stream",
     "text": [
      "url is founded\n"
     ]
    },
    {
     "name": "stdout",
     "output_type": "stream",
     "text": [
      "tokyo f_1 3\n"
     ]
    },
    {
     "name": "stdout",
     "output_type": "stream",
     "text": [
      "url is founded\n"
     ]
    },
    {
     "name": "stdout",
     "output_type": "stream",
     "text": [
      "tokyo f_1 4\n"
     ]
    },
    {
     "name": "stdout",
     "output_type": "stream",
     "text": [
      "url is founded\n"
     ]
    },
    {
     "name": "stdout",
     "output_type": "stream",
     "text": [
      "tokyo f_1 5\n"
     ]
    },
    {
     "name": "stdout",
     "output_type": "stream",
     "text": [
      "url is founded\n"
     ]
    },
    {
     "name": "stdout",
     "output_type": "stream",
     "text": [
      "tokyo f_1 6\n"
     ]
    },
    {
     "name": "stdout",
     "output_type": "stream",
     "text": [
      "url is founded\n"
     ]
    },
    {
     "name": "stdout",
     "output_type": "stream",
     "text": [
      "tokyo f_1 7\n"
     ]
    },
    {
     "name": "stdout",
     "output_type": "stream",
     "text": [
      "url is founded\n"
     ]
    },
    {
     "name": "stdout",
     "output_type": "stream",
     "text": [
      "tokyo f_1 8\n"
     ]
    },
    {
     "name": "stdout",
     "output_type": "stream",
     "text": [
      "url is founded\n"
     ]
    },
    {
     "name": "stdout",
     "output_type": "stream",
     "text": [
      "tokyo f_1 9\n"
     ]
    },
    {
     "name": "stdout",
     "output_type": "stream",
     "text": [
      "url is founded\n"
     ]
    },
    {
     "name": "stdout",
     "output_type": "stream",
     "text": [
      "tokyo f_1 10\n"
     ]
    },
    {
     "name": "stdout",
     "output_type": "stream",
     "text": [
      "url is founded\n"
     ]
    },
    {
     "name": "stdout",
     "output_type": "stream",
     "text": [
      "tokyo f_1 11\n"
     ]
    },
    {
     "name": "stdout",
     "output_type": "stream",
     "text": [
      "url is founded\n"
     ]
    },
    {
     "name": "stdout",
     "output_type": "stream",
     "text": [
      "tokyo f_1 12\n"
     ]
    },
    {
     "name": "stdout",
     "output_type": "stream",
     "text": [
      "url is founded\n"
     ]
    },
    {
     "name": "stdout",
     "output_type": "stream",
     "text": [
      "tokyo f_1 13\n"
     ]
    },
    {
     "name": "stdout",
     "output_type": "stream",
     "text": [
      "url is founded\n"
     ]
    },
    {
     "name": "stdout",
     "output_type": "stream",
     "text": [
      "tokyo f_1 14\n"
     ]
    },
    {
     "name": "stdout",
     "output_type": "stream",
     "text": [
      "url is founded\n"
     ]
    },
    {
     "name": "stdout",
     "output_type": "stream",
     "text": [
      "tokyo f_1 15\n"
     ]
    },
    {
     "name": "stdout",
     "output_type": "stream",
     "text": [
      "url is founded\n"
     ]
    },
    {
     "name": "stdout",
     "output_type": "stream",
     "text": [
      "tokyo f_1 16\n"
     ]
    },
    {
     "name": "stdout",
     "output_type": "stream",
     "text": [
      "url is founded\n"
     ]
    },
    {
     "name": "stdout",
     "output_type": "stream",
     "text": [
      "tokyo f_1 17\n"
     ]
    },
    {
     "name": "stdout",
     "output_type": "stream",
     "text": [
      "url is founded\n"
     ]
    },
    {
     "name": "stdout",
     "output_type": "stream",
     "text": [
      "tokyo f_1 18\n"
     ]
    },
    {
     "name": "stdout",
     "output_type": "stream",
     "text": [
      "url is founded\n"
     ]
    },
    {
     "name": "stdout",
     "output_type": "stream",
     "text": [
      "tokyo f_1 19\n"
     ]
    },
    {
     "name": "stdout",
     "output_type": "stream",
     "text": [
      "url is founded\n"
     ]
    },
    {
     "name": "stdout",
     "output_type": "stream",
     "text": [
      "tokyo f_1 20\n"
     ]
    },
    {
     "name": "stdout",
     "output_type": "stream",
     "text": [
      "url is founded\n"
     ]
    },
    {
     "name": "stdout",
     "output_type": "stream",
     "text": [
      "tokyo f_1 21\n"
     ]
    },
    {
     "name": "stdout",
     "output_type": "stream",
     "text": [
      "url is founded\n"
     ]
    },
    {
     "name": "stdout",
     "output_type": "stream",
     "text": [
      "tokyo f_1 22\n"
     ]
    },
    {
     "name": "stdout",
     "output_type": "stream",
     "text": [
      "url is founded\n"
     ]
    },
    {
     "name": "stdout",
     "output_type": "stream",
     "text": [
      "tokyo f_1 23\n"
     ]
    },
    {
     "name": "stdout",
     "output_type": "stream",
     "text": [
      "url is founded\n"
     ]
    },
    {
     "name": "stdout",
     "output_type": "stream",
     "text": [
      "tokyo f_1 24\n"
     ]
    },
    {
     "name": "stdout",
     "output_type": "stream",
     "text": [
      "url is founded\n"
     ]
    },
    {
     "name": "stdout",
     "output_type": "stream",
     "text": [
      "tokyo f_1 25\n"
     ]
    },
    {
     "name": "stdout",
     "output_type": "stream",
     "text": [
      "url is founded\n"
     ]
    },
    {
     "name": "stdout",
     "output_type": "stream",
     "text": [
      "tokyo f_1 26\n"
     ]
    },
    {
     "name": "stdout",
     "output_type": "stream",
     "text": [
      "url is founded\n"
     ]
    },
    {
     "name": "stdout",
     "output_type": "stream",
     "text": [
      "tokyo f_1 27\n"
     ]
    },
    {
     "name": "stdout",
     "output_type": "stream",
     "text": [
      "url is founded\n"
     ]
    },
    {
     "name": "stdout",
     "output_type": "stream",
     "text": [
      "tokyo f_1 28\n"
     ]
    },
    {
     "name": "stdout",
     "output_type": "stream",
     "text": [
      "url is founded\n"
     ]
    },
    {
     "name": "stdout",
     "output_type": "stream",
     "text": [
      "tokyo f_1 29\n"
     ]
    },
    {
     "name": "stdout",
     "output_type": "stream",
     "text": [
      "url is not founded\ntokyo f_3 0\n"
     ]
    },
    {
     "name": "stdout",
     "output_type": "stream",
     "text": [
      "tokyo f_3 1\n"
     ]
    },
    {
     "name": "stdout",
     "output_type": "stream",
     "text": [
      "url is founded\n"
     ]
    },
    {
     "name": "stdout",
     "output_type": "stream",
     "text": [
      "tokyo f_3 2\n"
     ]
    },
    {
     "name": "stdout",
     "output_type": "stream",
     "text": [
      "url is founded\n"
     ]
    },
    {
     "name": "stdout",
     "output_type": "stream",
     "text": [
      "tokyo f_3 3\n"
     ]
    },
    {
     "name": "stdout",
     "output_type": "stream",
     "text": [
      "url is founded\n"
     ]
    },
    {
     "name": "stdout",
     "output_type": "stream",
     "text": [
      "tokyo f_3 4\n"
     ]
    },
    {
     "name": "stdout",
     "output_type": "stream",
     "text": [
      "url is founded\n"
     ]
    },
    {
     "name": "stdout",
     "output_type": "stream",
     "text": [
      "tokyo f_3 5\n"
     ]
    },
    {
     "name": "stdout",
     "output_type": "stream",
     "text": [
      "url is founded\n"
     ]
    },
    {
     "name": "stdout",
     "output_type": "stream",
     "text": [
      "tokyo f_3 6\n"
     ]
    },
    {
     "name": "stdout",
     "output_type": "stream",
     "text": [
      "url is founded\n"
     ]
    },
    {
     "name": "stdout",
     "output_type": "stream",
     "text": [
      "tokyo f_3 7\n"
     ]
    },
    {
     "name": "stdout",
     "output_type": "stream",
     "text": [
      "url is founded\n"
     ]
    },
    {
     "name": "stdout",
     "output_type": "stream",
     "text": [
      "tokyo f_3 8\n"
     ]
    },
    {
     "name": "stdout",
     "output_type": "stream",
     "text": [
      "url is founded\n"
     ]
    },
    {
     "name": "stdout",
     "output_type": "stream",
     "text": [
      "tokyo f_3 9\n"
     ]
    },
    {
     "name": "stdout",
     "output_type": "stream",
     "text": [
      "url is founded\n"
     ]
    },
    {
     "name": "stdout",
     "output_type": "stream",
     "text": [
      "tokyo f_3 10\n"
     ]
    },
    {
     "name": "stdout",
     "output_type": "stream",
     "text": [
      "url is founded\n"
     ]
    },
    {
     "name": "stdout",
     "output_type": "stream",
     "text": [
      "tokyo f_3 11\n"
     ]
    },
    {
     "name": "stdout",
     "output_type": "stream",
     "text": [
      "url is founded\n"
     ]
    },
    {
     "name": "stdout",
     "output_type": "stream",
     "text": [
      "tokyo f_3 12\n"
     ]
    },
    {
     "name": "stdout",
     "output_type": "stream",
     "text": [
      "url is founded\n"
     ]
    },
    {
     "name": "stdout",
     "output_type": "stream",
     "text": [
      "tokyo f_3 13\n"
     ]
    },
    {
     "name": "stdout",
     "output_type": "stream",
     "text": [
      "url is founded\n"
     ]
    },
    {
     "name": "stdout",
     "output_type": "stream",
     "text": [
      "tokyo f_3 14\n"
     ]
    },
    {
     "name": "stdout",
     "output_type": "stream",
     "text": [
      "url is founded\n"
     ]
    },
    {
     "name": "stdout",
     "output_type": "stream",
     "text": [
      "tokyo f_3 15\n"
     ]
    },
    {
     "name": "stdout",
     "output_type": "stream",
     "text": [
      "url is founded\n"
     ]
    },
    {
     "name": "stdout",
     "output_type": "stream",
     "text": [
      "tokyo f_3 16\n"
     ]
    },
    {
     "name": "stdout",
     "output_type": "stream",
     "text": [
      "url is founded\n"
     ]
    },
    {
     "name": "stdout",
     "output_type": "stream",
     "text": [
      "tokyo f_3 17\n"
     ]
    },
    {
     "name": "stdout",
     "output_type": "stream",
     "text": [
      "url is founded\n"
     ]
    },
    {
     "name": "stdout",
     "output_type": "stream",
     "text": [
      "tokyo f_3 18\n"
     ]
    },
    {
     "name": "stdout",
     "output_type": "stream",
     "text": [
      "url is founded\n"
     ]
    },
    {
     "name": "stdout",
     "output_type": "stream",
     "text": [
      "tokyo f_3 19\n"
     ]
    },
    {
     "name": "stdout",
     "output_type": "stream",
     "text": [
      "url is founded\n"
     ]
    },
    {
     "name": "stdout",
     "output_type": "stream",
     "text": [
      "tokyo f_3 20\n"
     ]
    },
    {
     "name": "stdout",
     "output_type": "stream",
     "text": [
      "url is founded\n"
     ]
    },
    {
     "name": "stdout",
     "output_type": "stream",
     "text": [
      "tokyo f_3 21\n"
     ]
    },
    {
     "name": "stdout",
     "output_type": "stream",
     "text": [
      "url is founded\n"
     ]
    },
    {
     "name": "stdout",
     "output_type": "stream",
     "text": [
      "tokyo f_3 22\n"
     ]
    },
    {
     "name": "stdout",
     "output_type": "stream",
     "text": [
      "url is founded\n"
     ]
    },
    {
     "name": "stdout",
     "output_type": "stream",
     "text": [
      "tokyo f_3 23\n"
     ]
    },
    {
     "name": "stdout",
     "output_type": "stream",
     "text": [
      "url is founded\n"
     ]
    },
    {
     "name": "stdout",
     "output_type": "stream",
     "text": [
      "tokyo f_3 24\n"
     ]
    },
    {
     "name": "stdout",
     "output_type": "stream",
     "text": [
      "url is founded\n"
     ]
    },
    {
     "name": "stdout",
     "output_type": "stream",
     "text": [
      "tokyo f_3 25\n"
     ]
    },
    {
     "name": "stdout",
     "output_type": "stream",
     "text": [
      "url is founded\n"
     ]
    },
    {
     "name": "stdout",
     "output_type": "stream",
     "text": [
      "tokyo f_3 26\n"
     ]
    },
    {
     "name": "stdout",
     "output_type": "stream",
     "text": [
      "url is founded\n"
     ]
    },
    {
     "name": "stdout",
     "output_type": "stream",
     "text": [
      "tokyo f_3 27\n"
     ]
    },
    {
     "name": "stdout",
     "output_type": "stream",
     "text": [
      "url is founded\n"
     ]
    },
    {
     "name": "stdout",
     "output_type": "stream",
     "text": [
      "tokyo f_3 28\n"
     ]
    },
    {
     "name": "stdout",
     "output_type": "stream",
     "text": [
      "url is founded\n"
     ]
    },
    {
     "name": "stdout",
     "output_type": "stream",
     "text": [
      "tokyo f_3 29\n"
     ]
    },
    {
     "name": "stdout",
     "output_type": "stream",
     "text": [
      "url is founded\n"
     ]
    },
    {
     "name": "stdout",
     "output_type": "stream",
     "text": [
      "tokyo f_3 30\n"
     ]
    },
    {
     "name": "stdout",
     "output_type": "stream",
     "text": [
      "url is founded\n"
     ]
    },
    {
     "name": "stdout",
     "output_type": "stream",
     "text": [
      "tokyo f_3 31\n"
     ]
    },
    {
     "name": "stdout",
     "output_type": "stream",
     "text": [
      "url is founded\n"
     ]
    },
    {
     "name": "stdout",
     "output_type": "stream",
     "text": [
      "tokyo f_3 32\n"
     ]
    },
    {
     "name": "stdout",
     "output_type": "stream",
     "text": [
      "url is founded\n"
     ]
    },
    {
     "name": "stdout",
     "output_type": "stream",
     "text": [
      "tokyo f_3 33\n"
     ]
    },
    {
     "name": "stdout",
     "output_type": "stream",
     "text": [
      "url is founded\n"
     ]
    },
    {
     "name": "stdout",
     "output_type": "stream",
     "text": [
      "tokyo f_3 34\n"
     ]
    },
    {
     "name": "stdout",
     "output_type": "stream",
     "text": [
      "url is not founded\ntokyo f_5 0\n"
     ]
    },
    {
     "name": "stdout",
     "output_type": "stream",
     "text": [
      "tokyo f_5 1\n"
     ]
    },
    {
     "name": "stdout",
     "output_type": "stream",
     "text": [
      "url is founded\n"
     ]
    },
    {
     "name": "stdout",
     "output_type": "stream",
     "text": [
      "tokyo f_5 2\n"
     ]
    },
    {
     "name": "stdout",
     "output_type": "stream",
     "text": [
      "url is founded\n"
     ]
    },
    {
     "name": "stdout",
     "output_type": "stream",
     "text": [
      "tokyo f_5 3\n"
     ]
    },
    {
     "name": "stdout",
     "output_type": "stream",
     "text": [
      "url is founded\n"
     ]
    },
    {
     "name": "stdout",
     "output_type": "stream",
     "text": [
      "tokyo f_5 4\n"
     ]
    },
    {
     "name": "stdout",
     "output_type": "stream",
     "text": [
      "url is founded\n"
     ]
    },
    {
     "name": "stdout",
     "output_type": "stream",
     "text": [
      "tokyo f_5 5\n"
     ]
    },
    {
     "name": "stdout",
     "output_type": "stream",
     "text": [
      "url is founded\n"
     ]
    },
    {
     "name": "stdout",
     "output_type": "stream",
     "text": [
      "tokyo f_5 6\n"
     ]
    },
    {
     "name": "stdout",
     "output_type": "stream",
     "text": [
      "url is founded\n"
     ]
    },
    {
     "name": "stdout",
     "output_type": "stream",
     "text": [
      "tokyo f_5 7\n"
     ]
    },
    {
     "name": "stdout",
     "output_type": "stream",
     "text": [
      "url is founded\n"
     ]
    },
    {
     "name": "stdout",
     "output_type": "stream",
     "text": [
      "tokyo f_5 8\n"
     ]
    },
    {
     "name": "stdout",
     "output_type": "stream",
     "text": [
      "url is founded\n"
     ]
    },
    {
     "name": "stdout",
     "output_type": "stream",
     "text": [
      "tokyo f_5 9\n"
     ]
    },
    {
     "name": "stdout",
     "output_type": "stream",
     "text": [
      "url is founded\n"
     ]
    },
    {
     "name": "stdout",
     "output_type": "stream",
     "text": [
      "tokyo f_5 10\n"
     ]
    },
    {
     "name": "stdout",
     "output_type": "stream",
     "text": [
      "url is founded\n"
     ]
    },
    {
     "name": "stdout",
     "output_type": "stream",
     "text": [
      "tokyo f_5 11\n"
     ]
    },
    {
     "name": "stdout",
     "output_type": "stream",
     "text": [
      "url is founded\n"
     ]
    },
    {
     "name": "stdout",
     "output_type": "stream",
     "text": [
      "tokyo f_5 12\n"
     ]
    },
    {
     "name": "stdout",
     "output_type": "stream",
     "text": [
      "url is founded\n"
     ]
    },
    {
     "name": "stdout",
     "output_type": "stream",
     "text": [
      "tokyo f_5 13\n"
     ]
    },
    {
     "name": "stdout",
     "output_type": "stream",
     "text": [
      "url is founded\n"
     ]
    },
    {
     "name": "stdout",
     "output_type": "stream",
     "text": [
      "tokyo f_5 14\n"
     ]
    },
    {
     "name": "stdout",
     "output_type": "stream",
     "text": [
      "url is founded\n"
     ]
    },
    {
     "name": "stdout",
     "output_type": "stream",
     "text": [
      "tokyo f_5 15\n"
     ]
    },
    {
     "name": "stdout",
     "output_type": "stream",
     "text": [
      "url is founded\n"
     ]
    },
    {
     "name": "stdout",
     "output_type": "stream",
     "text": [
      "tokyo f_5 16\n"
     ]
    },
    {
     "name": "stdout",
     "output_type": "stream",
     "text": [
      "url is founded\n"
     ]
    },
    {
     "name": "stdout",
     "output_type": "stream",
     "text": [
      "tokyo f_5 17\n"
     ]
    },
    {
     "name": "stdout",
     "output_type": "stream",
     "text": [
      "url is founded\n"
     ]
    },
    {
     "name": "stdout",
     "output_type": "stream",
     "text": [
      "tokyo f_5 18\n"
     ]
    },
    {
     "name": "stdout",
     "output_type": "stream",
     "text": [
      "url is founded\n"
     ]
    },
    {
     "name": "stdout",
     "output_type": "stream",
     "text": [
      "tokyo f_5 19\n"
     ]
    },
    {
     "name": "stdout",
     "output_type": "stream",
     "text": [
      "url is founded\n"
     ]
    },
    {
     "name": "stdout",
     "output_type": "stream",
     "text": [
      "tokyo f_5 20\n"
     ]
    },
    {
     "name": "stdout",
     "output_type": "stream",
     "text": [
      "url is founded\n"
     ]
    },
    {
     "name": "stdout",
     "output_type": "stream",
     "text": [
      "tokyo f_5 21\n"
     ]
    },
    {
     "name": "stdout",
     "output_type": "stream",
     "text": [
      "url is founded\n"
     ]
    },
    {
     "name": "stdout",
     "output_type": "stream",
     "text": [
      "tokyo f_5 22\n"
     ]
    },
    {
     "name": "stdout",
     "output_type": "stream",
     "text": [
      "url is founded\n"
     ]
    },
    {
     "name": "stdout",
     "output_type": "stream",
     "text": [
      "tokyo f_5 23\n"
     ]
    },
    {
     "name": "stdout",
     "output_type": "stream",
     "text": [
      "url is founded\n"
     ]
    },
    {
     "name": "stdout",
     "output_type": "stream",
     "text": [
      "tokyo f_5 24\n"
     ]
    },
    {
     "name": "stdout",
     "output_type": "stream",
     "text": [
      "url is founded\n"
     ]
    },
    {
     "name": "stdout",
     "output_type": "stream",
     "text": [
      "tokyo f_5 25\n"
     ]
    },
    {
     "name": "stdout",
     "output_type": "stream",
     "text": [
      "url is founded\n"
     ]
    },
    {
     "name": "stdout",
     "output_type": "stream",
     "text": [
      "tokyo f_5 26\n"
     ]
    },
    {
     "name": "stdout",
     "output_type": "stream",
     "text": [
      "url is founded\n"
     ]
    },
    {
     "name": "stdout",
     "output_type": "stream",
     "text": [
      "tokyo f_5 27\n"
     ]
    },
    {
     "name": "stdout",
     "output_type": "stream",
     "text": [
      "url is founded\n"
     ]
    },
    {
     "name": "stdout",
     "output_type": "stream",
     "text": [
      "tokyo f_5 28\n"
     ]
    },
    {
     "name": "stdout",
     "output_type": "stream",
     "text": [
      "url is founded\n"
     ]
    },
    {
     "name": "stdout",
     "output_type": "stream",
     "text": [
      "tokyo f_5 29\n"
     ]
    },
    {
     "name": "stdout",
     "output_type": "stream",
     "text": [
      "url is founded\n"
     ]
    },
    {
     "name": "stdout",
     "output_type": "stream",
     "text": [
      "tokyo f_5 30\n"
     ]
    },
    {
     "name": "stdout",
     "output_type": "stream",
     "text": [
      "url is founded\n"
     ]
    },
    {
     "name": "stdout",
     "output_type": "stream",
     "text": [
      "tokyo f_5 31\n"
     ]
    },
    {
     "name": "stdout",
     "output_type": "stream",
     "text": [
      "url is not founded\nkanagawa f_1 0\n"
     ]
    },
    {
     "ename": "TimeoutException",
     "evalue": "Message: timeout\n  (Session info: headless chrome=73.0.3632.0)\n  (Driver info: chromedriver=2.44.609545 (c2f88692e98ce7233d2df7c724465ecacfe74df5),platform=Mac OS X 10.14.1 x86_64)\n",
     "traceback": [
      "\u001b[0;31m---------------------------------------------------------------------------\u001b[0m",
      "\u001b[0;31mTimeoutException\u001b[0m                          Traceback (most recent call last)",
      "\u001b[0;32m<ipython-input-136-cde7d40fbda1>\u001b[0m in \u001b[0;36m<module>\u001b[0;34m()\u001b[0m\n\u001b[1;32m     52\u001b[0m                 \u001b[0murl\u001b[0m \u001b[0;34m=\u001b[0m \u001b[0;34m'https://www.bengo4.com/'\u001b[0m \u001b[0;34m+\u001b[0m \u001b[0mprefecture\u001b[0m \u001b[0;34m+\u001b[0m \u001b[0;34m'/'\u001b[0m \u001b[0;34m+\u001b[0m \u001b[0mgenre\u001b[0m \u001b[0;34m+\u001b[0m \u001b[0;34m'/'\u001b[0m\u001b[0;34m\u001b[0m\u001b[0;34m\u001b[0m\u001b[0m\n\u001b[1;32m     53\u001b[0m \u001b[0;34m\u001b[0m\u001b[0m\n\u001b[0;32m---> 54\u001b[0;31m                 \u001b[0mdriver\u001b[0m\u001b[0;34m.\u001b[0m\u001b[0mget\u001b[0m\u001b[0;34m(\u001b[0m\u001b[0murl\u001b[0m\u001b[0;34m)\u001b[0m\u001b[0;34m\u001b[0m\u001b[0;34m\u001b[0m\u001b[0m\n\u001b[0m\u001b[1;32m     55\u001b[0m                 \u001b[0mtime\u001b[0m\u001b[0;34m.\u001b[0m\u001b[0msleep\u001b[0m\u001b[0;34m(\u001b[0m\u001b[0;36m5\u001b[0m\u001b[0;34m)\u001b[0m\u001b[0;34m\u001b[0m\u001b[0;34m\u001b[0m\u001b[0m\n\u001b[1;32m     56\u001b[0m \u001b[0;34m\u001b[0m\u001b[0m\n",
      "\u001b[0;32m/Users/higashi/PycharmProjects/WeiboScraping/venv/lib/python3.7/site-packages/selenium/webdriver/remote/webdriver.py\u001b[0m in \u001b[0;36mget\u001b[0;34m(self, url)\u001b[0m\n\u001b[1;32m    331\u001b[0m         \u001b[0mLoads\u001b[0m \u001b[0ma\u001b[0m \u001b[0mweb\u001b[0m \u001b[0mpage\u001b[0m \u001b[0;32min\u001b[0m \u001b[0mthe\u001b[0m \u001b[0mcurrent\u001b[0m \u001b[0mbrowser\u001b[0m \u001b[0msession\u001b[0m\u001b[0;34m.\u001b[0m\u001b[0;34m\u001b[0m\u001b[0;34m\u001b[0m\u001b[0m\n\u001b[1;32m    332\u001b[0m         \"\"\"\n\u001b[0;32m--> 333\u001b[0;31m         \u001b[0mself\u001b[0m\u001b[0;34m.\u001b[0m\u001b[0mexecute\u001b[0m\u001b[0;34m(\u001b[0m\u001b[0mCommand\u001b[0m\u001b[0;34m.\u001b[0m\u001b[0mGET\u001b[0m\u001b[0;34m,\u001b[0m \u001b[0;34m{\u001b[0m\u001b[0;34m'url'\u001b[0m\u001b[0;34m:\u001b[0m \u001b[0murl\u001b[0m\u001b[0;34m}\u001b[0m\u001b[0;34m)\u001b[0m\u001b[0;34m\u001b[0m\u001b[0;34m\u001b[0m\u001b[0m\n\u001b[0m\u001b[1;32m    334\u001b[0m \u001b[0;34m\u001b[0m\u001b[0m\n\u001b[1;32m    335\u001b[0m     \u001b[0;34m@\u001b[0m\u001b[0mproperty\u001b[0m\u001b[0;34m\u001b[0m\u001b[0;34m\u001b[0m\u001b[0m\n",
      "\u001b[0;32m/Users/higashi/PycharmProjects/WeiboScraping/venv/lib/python3.7/site-packages/selenium/webdriver/remote/webdriver.py\u001b[0m in \u001b[0;36mexecute\u001b[0;34m(self, driver_command, params)\u001b[0m\n\u001b[1;32m    319\u001b[0m         \u001b[0mresponse\u001b[0m \u001b[0;34m=\u001b[0m \u001b[0mself\u001b[0m\u001b[0;34m.\u001b[0m\u001b[0mcommand_executor\u001b[0m\u001b[0;34m.\u001b[0m\u001b[0mexecute\u001b[0m\u001b[0;34m(\u001b[0m\u001b[0mdriver_command\u001b[0m\u001b[0;34m,\u001b[0m \u001b[0mparams\u001b[0m\u001b[0;34m)\u001b[0m\u001b[0;34m\u001b[0m\u001b[0;34m\u001b[0m\u001b[0m\n\u001b[1;32m    320\u001b[0m         \u001b[0;32mif\u001b[0m \u001b[0mresponse\u001b[0m\u001b[0;34m:\u001b[0m\u001b[0;34m\u001b[0m\u001b[0;34m\u001b[0m\u001b[0m\n\u001b[0;32m--> 321\u001b[0;31m             \u001b[0mself\u001b[0m\u001b[0;34m.\u001b[0m\u001b[0merror_handler\u001b[0m\u001b[0;34m.\u001b[0m\u001b[0mcheck_response\u001b[0m\u001b[0;34m(\u001b[0m\u001b[0mresponse\u001b[0m\u001b[0;34m)\u001b[0m\u001b[0;34m\u001b[0m\u001b[0;34m\u001b[0m\u001b[0m\n\u001b[0m\u001b[1;32m    322\u001b[0m             response['value'] = self._unwrap_value(\n\u001b[1;32m    323\u001b[0m                 response.get('value', None))\n",
      "\u001b[0;32m/Users/higashi/PycharmProjects/WeiboScraping/venv/lib/python3.7/site-packages/selenium/webdriver/remote/errorhandler.py\u001b[0m in \u001b[0;36mcheck_response\u001b[0;34m(self, response)\u001b[0m\n\u001b[1;32m    240\u001b[0m                 \u001b[0malert_text\u001b[0m \u001b[0;34m=\u001b[0m \u001b[0mvalue\u001b[0m\u001b[0;34m[\u001b[0m\u001b[0;34m'alert'\u001b[0m\u001b[0;34m]\u001b[0m\u001b[0;34m.\u001b[0m\u001b[0mget\u001b[0m\u001b[0;34m(\u001b[0m\u001b[0;34m'text'\u001b[0m\u001b[0;34m)\u001b[0m\u001b[0;34m\u001b[0m\u001b[0;34m\u001b[0m\u001b[0m\n\u001b[1;32m    241\u001b[0m             \u001b[0;32mraise\u001b[0m \u001b[0mexception_class\u001b[0m\u001b[0;34m(\u001b[0m\u001b[0mmessage\u001b[0m\u001b[0;34m,\u001b[0m \u001b[0mscreen\u001b[0m\u001b[0;34m,\u001b[0m \u001b[0mstacktrace\u001b[0m\u001b[0;34m,\u001b[0m \u001b[0malert_text\u001b[0m\u001b[0;34m)\u001b[0m\u001b[0;34m\u001b[0m\u001b[0;34m\u001b[0m\u001b[0m\n\u001b[0;32m--> 242\u001b[0;31m         \u001b[0;32mraise\u001b[0m \u001b[0mexception_class\u001b[0m\u001b[0;34m(\u001b[0m\u001b[0mmessage\u001b[0m\u001b[0;34m,\u001b[0m \u001b[0mscreen\u001b[0m\u001b[0;34m,\u001b[0m \u001b[0mstacktrace\u001b[0m\u001b[0;34m)\u001b[0m\u001b[0;34m\u001b[0m\u001b[0;34m\u001b[0m\u001b[0m\n\u001b[0m\u001b[1;32m    243\u001b[0m \u001b[0;34m\u001b[0m\u001b[0m\n\u001b[1;32m    244\u001b[0m     \u001b[0;32mdef\u001b[0m \u001b[0m_value_or_default\u001b[0m\u001b[0;34m(\u001b[0m\u001b[0mself\u001b[0m\u001b[0;34m,\u001b[0m \u001b[0mobj\u001b[0m\u001b[0;34m,\u001b[0m \u001b[0mkey\u001b[0m\u001b[0;34m,\u001b[0m \u001b[0mdefault\u001b[0m\u001b[0;34m)\u001b[0m\u001b[0;34m:\u001b[0m\u001b[0;34m\u001b[0m\u001b[0;34m\u001b[0m\u001b[0m\n",
      "\u001b[0;31mTimeoutException\u001b[0m: Message: timeout\n  (Session info: headless chrome=73.0.3632.0)\n  (Driver info: chromedriver=2.44.609545 (c2f88692e98ce7233d2df7c724465ecacfe74df5),platform=Mac OS X 10.14.1 x86_64)\n"
     ],
     "output_type": "error"
    }
   ],
   "source": [
    "\"\"\"\n",
    "ここからが本番\n",
    "弁護士ドットコムに登録されている東京、神奈川、埼玉の弁護士をすべて取得する\n",
    "分野は、離婚/借金/労働\n",
    "すべて取得したのち、3分野すべてに登録されている弁護士名を抽出する\n",
    "\"\"\"\n",
    "\n",
    "prefectures = ['tokyo', 'kanagawa', 'saitama']\n",
    "genres = ['f_1', 'f_3', 'f_5']\n",
    "\n",
    "names_tokyo_f1 = []\n",
    "locs_tokyo_f1 = []\n",
    "tels_tokyo_f1 = []\n",
    "\n",
    "names_tokyo_f3 = []\n",
    "locs_tokyo_f3 = []\n",
    "tels_tokyo_f3 = []\n",
    "\n",
    "names_tokyo_f5 = []\n",
    "locs_tokyo_f5 = []\n",
    "tels_tokyo_f5 = []\n",
    "\n",
    "names_kanagawa_f1 = []\n",
    "locs_kanagawa_f1 = []\n",
    "tels_kanagawa_f1 = []\n",
    "\n",
    "names_kanagawa_f3 = []\n",
    "locs_kanagawa_f3 = []\n",
    "tels_kanagawa_f3 = []\n",
    "\n",
    "names_kanagawa_f5 = []\n",
    "locs_kanagawa_f5 = []\n",
    "tels_kanagawa_f5 = []\n",
    "\n",
    "names_saitama_f1 = []\n",
    "locs_saitama_f1 = []\n",
    "tels_saitama_f1 = []\n",
    "\n",
    "names_saitama_f3 = []\n",
    "locs_saitama_f3 = []\n",
    "tels_saitama_f3 = []\n",
    "\n",
    "names_saitama_f5 = []\n",
    "locs_saitama_f5 = []\n",
    "tels_saitama_f5 = []\n",
    "\n",
    "for prefecture in prefectures:\n",
    "    for genre in genres:\n",
    "        for page in range(100):\n",
    "            print(prefecture, genre, page)\n",
    "            if page == 0:\n",
    "                url = 'https://www.bengo4.com/' + prefecture + '/' + genre + '/'\n",
    "                \n",
    "                driver.get(url)\n",
    "                time.sleep(5)\n",
    "                \n",
    "                html = driver.page_source.encode('utf-8')\n",
    "                soup = BeautifulSoup(html, 'html.parser')\n",
    "                \n",
    "                users = soup.find_all('div', {'class': 'profile clearfix special uaLbl_323 uaLbl_336'})  # 注力分野に該当する弁護士は323、取り扱いは325\n",
    "                \n",
    "                for tag in users:\n",
    "                    if tag.find_all('span', {'class': 'address__txt'}):\n",
    "                        loc = tag.find_all('span', {'class': 'address__txt'})[0].text\n",
    "                    else:\n",
    "                        loc = 'not founded loc'\n",
    "                    if tag.find_all('span', {'class': 'tel__txt'}):\n",
    "                        tel = tag.find_all('span', {'class': 'tel__txt'})[0].text\n",
    "                        tel = tel.split()[0]\n",
    "                    else:\n",
    "                        tel = 'not founded tel'\n",
    "                    if tag.find_all('span', {'class': 'profile__name'}):\n",
    "                        name_tmp = tag.find_all('span', {'class': 'profile__name'})\n",
    "                        name = name_tmp[0].text.split()[0]+name_tmp[0].text.split()[1]\n",
    "                    else:\n",
    "                        name = 'not founded name'\n",
    "                    \n",
    "                    if prefecture == 'tokyo':\n",
    "                        if genre == 'f_1':\n",
    "                            names_tokyo_f1.append(name)\n",
    "                            locs_tokyo_f1.append(loc)\n",
    "                            tels_tokyo_f1.append(tel)\n",
    "                        elif genre == 'f_3':\n",
    "                            names_tokyo_f3.append(name)\n",
    "                            locs_tokyo_f3.append(loc)\n",
    "                            tels_tokyo_f3.append(tel)\n",
    "                        elif genre == 'f_5':\n",
    "                            names_tokyo_f5.append(name)\n",
    "                            locs_tokyo_f5.append(loc)\n",
    "                            tels_tokyo_f5.append(tel)\n",
    "                    elif prefecture == 'kanagawa':\n",
    "                        if genre == 'f_1':\n",
    "                            names_kanagawa_f1.append(name)\n",
    "                            locs_kanagawa_f1.append(loc)\n",
    "                            tels_kanagawa_f1.append(tel)\n",
    "                        elif genre == 'f_3':\n",
    "                            names_kanagawa_f3.append(name)\n",
    "                            locs_kanagawa_f3.append(loc)\n",
    "                            tels_kanagawa_f3.append(tel)\n",
    "                        elif genre == 'f_5':\n",
    "                            names_kanagawa_f5.append(name)\n",
    "                            locs_kanagawa_f5.append(loc)\n",
    "                            tels_kanagawa_f5.append(tel)\n",
    "                    elif prefecture == 'saitama':\n",
    "                        if genre == 'f_1':\n",
    "                            names_saitama_f1.append(name)\n",
    "                            locs_saitama_f1.append(loc)\n",
    "                            tels_saitama_f1.append(tel)\n",
    "                        elif genre == 'f_3':\n",
    "                            names_saitama_f3.append(name)\n",
    "                            locs_saitama_f3.append(loc)\n",
    "                            tels_saitama_f3.append(tel)\n",
    "                        elif genre == 'f_5':\n",
    "                            names_saitama_f5.append(name)\n",
    "                            locs_saitama_f5.append(loc)\n",
    "                            tels_saitama_f5.append(tel)\n",
    "                          \n",
    "                    \n",
    "            else:\n",
    "                url_f = 'https://www.bengo4.com/' + prefecture + '/' + genre + '/'\n",
    "                url = 'https://www.bengo4.com/' + prefecture + '/' + genre + '/' + '?page={}'.format(page+1)\n",
    "                r = requests.get(url)\n",
    "                if not r.url == url_f:\n",
    "                    print('url is founded')\n",
    "                    \n",
    "                    driver.get(url)\n",
    "                    time.sleep(5)\n",
    "                    \n",
    "                    html = driver.page_source.encode('utf-8')\n",
    "                    soup = BeautifulSoup(html, 'html.parser')\n",
    "                \n",
    "                    users = soup.find_all('div', {'class': 'profile clearfix special uaLbl_323 uaLbl_336'})\n",
    "                    for tag in users:\n",
    "                        if tag.find_all('span', {'class': 'address__txt'}):\n",
    "                            loc = tag.find_all('span', {'class': 'address__txt'})[0].text\n",
    "                        else:\n",
    "                            loc = 'not founded loc'\n",
    "                        if tag.find_all('span', {'class': 'tel__txt'}):\n",
    "                            tel = tag.find_all('span', {'class': 'tel__txt'})[0].text\n",
    "                            tel = tel.split()[0]\n",
    "                        else:\n",
    "                            tel = 'not founded tel'\n",
    "                        if tag.find_all('span', {'class': 'profile__name'}):\n",
    "                            name_tmp = tag.find_all('span', {'class': 'profile__name'})\n",
    "                            name = name_tmp[0].text.split()[0]+name_tmp[0].text.split()[1]\n",
    "                        else:\n",
    "                            name = 'not founded name'\n",
    "                        \n",
    "                        if prefecture == 'tokyo':\n",
    "                            if genre == 'f_1':\n",
    "                                names_tokyo_f1.append(name)\n",
    "                                locs_tokyo_f1.append(loc)\n",
    "                                tels_tokyo_f1.append(tel)\n",
    "                            elif genre == 'f_3':\n",
    "                                names_tokyo_f3.append(name)\n",
    "                                locs_tokyo_f3.append(loc)\n",
    "                                tels_tokyo_f3.append(tel)\n",
    "                            elif genre == 'f_5':\n",
    "                                names_tokyo_f5.append(name)\n",
    "                                locs_tokyo_f5.append(loc)\n",
    "                                tels_tokyo_f5.append(tel)\n",
    "                        elif prefecture == 'kanagawa':\n",
    "                            if genre == 'f_1':\n",
    "                                names_kanagawa_f1.append(name)\n",
    "                                locs_kanagawa_f1.append(loc)\n",
    "                                tels_kanagawa_f1.append(tel)\n",
    "                            elif genre == 'f_3':\n",
    "                                names_kanagawa_f3.append(name)\n",
    "                                locs_kanagawa_f3.append(loc)\n",
    "                                tels_kanagawa_f3.append(tel)\n",
    "                            elif genre == 'f_5':\n",
    "                                names_kanagawa_f5.append(name)\n",
    "                                locs_kanagawa_f5.append(loc)\n",
    "                                tels_kanagawa_f5.append(tel)\n",
    "                        elif prefecture == 'saitama':\n",
    "                            if genre == 'f_1':\n",
    "                                names_saitama_f1.append(name)\n",
    "                                locs_saitama_f1.append(loc)\n",
    "                                tels_saitama_f1.append(tel)\n",
    "                            elif genre == 'f_3':\n",
    "                                names_saitama_f3.append(name)\n",
    "                                locs_saitama_f3.append(loc)\n",
    "                                tels_saitama_f3.append(tel)\n",
    "                            elif genre == 'f_5':\n",
    "                                names_saitama_f5.append(name)\n",
    "                                locs_saitama_f5.append(loc)\n",
    "                                tels_saitama_f5.append(tel)\n",
    "\n",
    "                    \n",
    "\n",
    "                elif r.url == url_f:\n",
    "                    print('url is not founded')\n",
    "                    break\n",
    "                            \n",
    "names_tokyo_debt_dotc = names_tokyo_f1\n",
    "locs_tokyo_debt_dotc = locs_tokyo_f1\n",
    "tels_tokyo_debt_dotc = tels_tokyo_f1\n",
    "\n",
    "names_tokyo_divorce_dotc = names_tokyo_f3\n",
    "locs_tokyo_divorce_dotc = locs_tokyo_f3\n",
    "tels_tokyo_divorce_dotc = tels_tokyo_f3\n",
    "\n",
    "names_tokyo_labor_dotc = names_tokyo_f5\n",
    "locs_tokyo_labor_dotc = locs_tokyo_f5\n",
    "tels_tokyo_labor_dotc = tels_tokyo_f5\n",
    "\n",
    "names_kanagawa_debt_dotc = names_kanagawa_f1\n",
    "locs_kanagawa_debt_dotc = locs_kanagawa_f1\n",
    "tels_kanagawa_debt_dotc = tels_kanagawa_f1\n",
    "\n",
    "names_kanagawa_divorce_dotc = names_kanagawa_f3\n",
    "locs_kanagawa_divorce_dotc = locs_kanagawa_f3\n",
    "tels_kanagawa_divorce_dotc = tels_kanagawa_f3\n",
    "\n",
    "names_kanagawa_labor_dotc = names_kanagawa_f5\n",
    "locs_kanagawa_labor_dotc = locs_kanagawa_f5\n",
    "tels_kanagawa_labor_dotc = tels_kanagawa_f5\n",
    "\n",
    "names_saitama_debt_dotc = names_saitama_f1\n",
    "locs_saitama_debt_dotc = locs_saitama_f1\n",
    "tels_saitama_debt_dotc = tels_saitama_f1\n",
    "\n",
    "names_saitama_divorce_dotc = names_saitama_f3\n",
    "locs_saitama_divorce_dotc = locs_saitama_f3\n",
    "tels_saitama_divorce_dotc = tels_saitama_f3\n",
    "\n",
    "names_saitama_labor_dotc = names_saitama_f5\n",
    "locs_saitama_labor_dotc = locs_saitama_f5\n",
    "tels_saitama_labor_dotc = tels_saitama_f5\n"
   ]
  },
  {
   "cell_type": "code",
   "execution_count": 76,
   "metadata": {
    "collapsed": true
   },
   "outputs": [
    {
     "name": "stdout",
     "output_type": "stream",
     "text": [
      "      name                                   locs           tels\n0     塚越文也              神奈川県横浜市西区南幸2-19-4南幸折目ビル6階  050-5257-9458\n1     押谷祐基                         神奈川県平塚市紅谷町2-14  050-5257-9458\n2      菅原崇              神奈川県海老名市中央3-2-5ダイエー海老名店2階  050-5257-9458\n3     葛山直行             神奈川県川崎市川崎区駅前本町10-5クリエ川崎11階  050-5257-9458\n4    川邉賢一郎             神奈川県横浜市西区高島2-19-12スカイビル20階  050-5257-9458\n5     我妻耕平             神奈川県川崎市川崎区南町16-1朝日生命川崎ビル9階  050-5257-9458\n6     松永直之                神奈川県横浜市戸塚区矢部町29カイビル本館4階  050-5257-9458\n7     山口充史               神奈川県横浜市西区南幸2-20-2 共栄ビル6階  050-5257-9458\n8     村上裕一            神奈川県川崎市宮前区鷺沼3-5-18鷺坂第一ビル1階西  050-5257-9458\n9     柴田直哉                神奈川県横浜市神奈川区沢渡3-1東興ビル5階A  050-5257-9458\n10    田島宏峰                神奈川県藤沢市藤沢973相模プラザ第3ビル2階  050-5257-9458\n11    眞木康州  神奈川県相模原市南区相模大野6-7-9サーティーフォー相模大野ビル5階5B  050-5257-9458\n12    稲垣孝宣                 神奈川県平塚市宝町11-2フォーラムビル3階  050-5257-9458\n13    横江利保              神奈川県厚木市中町2-6-24ほていや第二ビル4階  050-5257-9458\n14     久貝仁      神奈川県川崎市川崎区東田町8パレール三井ビルディング11階1101  050-5257-9458\n15   鈴木兼一郎           神奈川県横浜市中区日本大通17JPR横浜日本大通ビル8階  050-5257-9458\n16    宿城健太                  神奈川県横須賀市若松町1-1野上屋ビル6階  050-5257-9458\n17    角田健典                         神奈川県平塚市紅谷町2-14  050-5257-9458\n18    花田弘介                神奈川県横浜市神奈川区沢渡3-1東興ビル5階A  050-5257-9458\n19     徳田暁          神奈川県横浜市中区本町1-4プライムメゾン横濱日本大通3階  050-5257-9458\n20    細江智洋              神奈川県横浜市中区日本大通14KN日本大通ビル4階  050-5257-9458\n21    齋藤菜摘                神奈川県横浜市神奈川区沢渡3-1東興ビル5階A  050-5257-9458\n22    秋葉俊孝         神奈川県川崎市川崎区東田町2-11大谷加工川崎大通りビル5階  050-5257-9458\n23   山本新一郎              神奈川県横浜市西区南幸2-19-4南幸折目ビル6階  050-5257-9458\n24    鈴木義仁               神奈川県横浜市神奈川区金港町5-36東興ビル7階  050-5257-9458\n25    植原健一           神奈川県川崎市川崎区駅前本町3-1NMF川崎東口ビル4階  050-5257-9458\n26    狩野直哉                神奈川県川崎市川崎区榎町1-8ニッコービル3階  050-5257-9458\n27    平井佑治                 神奈川県横浜市中区住吉町3-37村山ビル2階  050-5257-9458\n28    岩永和大     神奈川県川崎市川崎区駅前本町11-1パシフィックマークス川崎ビル6階  050-5257-9458\n29    田口博貴        神奈川県横浜市青葉区青葉台1-6-12カンゼームビル5階A-2  050-5257-9458\n..     ...                                    ...            ...\n223    松浦薫            神奈川県相模原市南区相模大野8-10-6ユタカビル6階  050-5257-9458\n224    齋藤毅     神奈川県川崎市川崎区駅前本町11-1パシフィックマークス川崎ビル6階  050-5257-9458\n225    佐藤剛            神奈川県藤沢市湘南台2-17-9スカイパレス湘南203  050-5257-9458\n226   小林理英              神奈川県横浜市中区尾上町5-69KIT関内ビル5階  050-5257-9458\n227    種村求     神奈川県川崎市川崎区駅前本町11-1パシフィックマークス川崎ビル6階  050-5257-9458\n228   小野航平               神奈川県横浜市神奈川区金港町5-36東興ビル7階  050-5257-9458\n229  椋尾ゆう子             神奈川県川崎市川崎区駅前本町10-5クリエ川崎11階  050-5257-9458\n230   山本勝哉          神奈川県川崎市川崎区宮前町8-15パールビルディング501  050-5257-9458\n231    赤沼洋                 神奈川県小田原市栄町2-1-27山正ビル4階  050-5257-9458\n232   楠瀬健太           神奈川県横浜市中区日本大通11横浜情報文化センター11階  050-5257-9458\n233    森洋介             神奈川県横浜市港南区港南中央通8-41杉本ビル301  050-5257-9458\n234    大崎徹            神奈川県横浜市中区山下町252グランベル横浜ビル1階4  050-5257-9458\n235    伊藤諭                神奈川県川崎市川崎区東田町5-3ホンマビル4階  050-5257-9458\n236  水口かれん    神奈川県横浜市港南区上大岡西1-6-1ゆめおおおかオフィスタワー22階  050-5257-9458\n237   妻鹿琢生       神奈川県川崎市中原区新丸子東3-946-3MKファーストビル3B  050-5257-9458\n238  根岸小百合         神奈川県相模原市中央区矢部4-17-8相模中央マンション2F  050-5257-9458\n239   渡辺康年          神奈川県川崎市川崎区砂子1-5-1ケイ・ジェイ砂子ビル3B  050-5257-9458\n240  高木小太郎               神奈川県横浜市中区日本大通18KRCビル403B  050-5257-9458\n241    吉岡津           神奈川県横浜市旭区二俣川2-50-14コプレ二俣川902  050-5257-9458\n242   田村啓明               神奈川県川崎市中原区小杉町3-19KWEST3階  050-5257-9458\n243   藤澤玲央           神奈川県横浜市旭区二俣川2-50-14コプレ二俣川902  050-5257-9458\n244   星原正明             神奈川県横浜市中区常盤町1-2-1関内電子ビル2階B  050-5257-9458\n245   中野憲司              神奈川県横浜市中区南仲通4丁目49番地福久ビル2階  050-5257-9458\n246   広瀬正晴          神奈川県横浜市中区太田町3-36クリオ横浜関内壱番館702  050-5257-9458\n247   添田樹一             神奈川県川崎市川崎区駅前本町10-5クリエ川崎11階  050-5257-9458\n248   神前吾郎         神奈川県横浜市神奈川区台町9-13ルックハイツ横浜台町608  050-5257-9458\n249    杉本朗               神奈川県横浜市中区相生町1-15第2東商ビル7階  050-5257-9458\n250   山根大輔       神奈川県川崎市麻生区上麻生一丁目６番１号かわしん新百合丘ビル４階  050-5257-9458\n251   石山晃成              神奈川県横浜市中区不老町1-1-5横浜東芝ビル6階  050-5257-9458\n252   山崎夏彦            神奈川県小田原市栄町1-14-10HM-小田原ビル2階  050-5257-9458\n\n[253 rows x 3 columns]\n"
     ]
    }
   ],
   "source": [
    "\"\"\"\n",
    "この段階では保存しない\n",
    "\"\"\"\n",
    "\n",
    "df = pd.DataFrame({\n",
    "    'name': names_kanagawa_f1,\n",
    "    'locs': locs_kanagawa_f1,\n",
    "    'tels': tels_kanagawa_f1\n",
    "})\n",
    "\n",
    "\n",
    "os.chdir('/Users/higashi/PycharmProjects/WeiboScraping/venv/sourcecode/Bengoshi_list/data')\n",
    "df.to_csv('test' + '.csv')\n",
    "\n",
    "print(df)"
   ]
  },
  {
   "cell_type": "code",
   "execution_count": null,
   "metadata": {},
   "outputs": [],
   "source": []
  },
  {
   "cell_type": "code",
   "execution_count": null,
   "metadata": {},
   "outputs": [],
   "source": []
  },
  {
   "cell_type": "code",
   "execution_count": 109,
   "metadata": {
    "collapsed": true
   },
   "outputs": [],
   "source": [
    ""
   ]
  },
  {
   "cell_type": "code",
   "execution_count": 44,
   "metadata": {},
   "outputs": [
    {
     "name": "stdout",
     "output_type": "stream",
     "text": [
      "0\n0\n0\n0\n===============================\n391\n345\n315\n277\n===============================\n0\n0\n0\n0\n===============================\n['村上裕一', '原田裕也', '若井公志', '植月沙知', '石山晃成', '平賀大樹', '坂本結', '山口毅大', '永井未希', '籾山善臣', '赤沼洋', '楠瀬健太', '山本真司', '山本新一郎', '佐々木博征', '柴田直哉', '菅野秀幸', '添田樹一', '岩井知大', '大森望', '松浦光明', '吉村浩太', '遠藤秀幸', '木ノ切隆行', '眞木康州', '栗田道匡', '松浦薫', '松尾雄司', '西井伸顕', '和田陽介', '我妻耕平', '菊地哲也', '平川麻紀', '毛塚衛', '西村隆雄', '佐藤剛', '鈴川祐基', '細貝嘉満', '花田弘介', '妻鹿琢生', '根岸小百合', '川島邦文', '林宏子', '海老名毅', '水野博之', '畑中優宏', '金川昌平', '島武広', '大橋賢也', '二見宏史', '小谷馨', '阿部泰典', '渡辺康年', '増井史彰', '稲村育雄', '戸谷彰吾', '櫻井良一', '小松賢介', '奥園龍太郎', '細江智洋', '久貝仁', '永田亮', '山下芳織', '植原健一', '多湖翔', '山根大輔', '豊田進士', '中山善太郎', '中瀬奈都子', '葛山直行', '西村誠', '町川智康', '長谷川洋一', '山本大地', '松本麻里', '米積直樹', '西雄一郎', '石井琢磨', '庄司宗弘', '白鳥佑記', '佐藤美由紀', '岩﨑崇', '齋藤菜摘', '梅川久仁', '野村俊介', '川邉賢一郎', '三川真由美', '坪井廣行', '小西誠', '福井俊介', '栗田有介', '長田誠', '川口彩子', '白澤章子', '井田翔太', '竹中啓介', '椋尾ゆう子', '嶋村哲', '岩田恭子', '塚越文也', '秋葉俊孝', '田村啓明', '木下正信', '橋本信行', '松尾祐美子', '鈴木兼一郎', '石井誠', '狩野直哉', '山田良平', '小林芳郎', '北神英典', '笠間圭一郎', '平井佑治', '味間明徳', '近藤俊之', '松永大希', '大崎徹', '松岡義久', '桐生励', '高岡輝征', '原藤達也', '杉本朗', '小川佳子', '福田翔', '滝沢章', '後藤愛', '森洋介', '藤原大輔', '中山隆弘', '高木小太郎', '種村求', '岡崎真大', '林伸彦', '冨田創一', '細貝惟大', '安藤愛子', '毛呂将一', '廣瀬和之', '小林理英', '押谷祐基', '大川雄矢', '川添啓明', '米山安則', '岡村貴之', '棚村隆行', '水口かれん', '神前吾郎', '神足嘉穂', '西村紀子', '佐藤武晴', '宮崎英征', '柳下明生', '榊研司', '菅原崇', '森山憲太郎', '太田啓子', '黒江卓郎', '清水俊', '吉岡津', '中田剛史', '鈴木真', '小野航平', '仲井浩嗣', '飯島俊', '藤澤玲央', '井上和也', '高橋賢司', '馬奈木幹', '石坂想', '黒田清彰', '山崎夏彦', '小宮夏樹', '折本和司', '川岸卓哉', '関戸淳平', '伴広樹', '村上淳平', '前島憲司', '青野壽和', '野澤哲也', '笠間哲史', '松原雄輝', '星原正明', '小池拓也', '鈴木軌士', '山本友也', '中野憲司', '木村悠', '井上数規', '高瀬芳明', '大田和磨', '山本勝哉', '奥山寿', '北村亮典', '佐藤和也', '菅野善夫', '徳田暁', '岩永和大', '髙橋俊太', '神原元', '西大良', '伊藤諭', '久保豊', '石畑晶彦', '星野文紀', '中野智仁', '向川純平', '市野裕明', '雫田直輝', '内田和利', '稲葉翔', '青山良治', '糸井淳一', '海江田誠', '林裕介', '山森良一', '勝本広太', '高宮隆吉', '古屋儒', '穂積匡史', '小池翼', '片山里美', '粟谷布由実', '権田理司', '松原範之', '川野義典', '伊藤暢章', '鈴木渉', '山田英男', '出光恭介', '氏家悠', '角井駿輔', '村上昌弘', '小川文子', '田中治', '関口英紀', '太田香清', '松田道佐', '佐藤栄晃', '山際康太郎', '石橋輝之', '森崎正行', '下田和宏', '原田雅紀', '長谷山尚城', '湯山薫', '布施正樹', '柿元淳', '田沢剛', '根本高宗', '松岡宏祐', '小林賢一', '仲戸川優樹', '中川広夢', '海野千宏', '村澤良', '仲野浩章', '野口勇', '高藤杏花', '佐藤直', '黒田巌', '田中清', '村井淳也', '浦西洋行', '國方実', '小豆澤史絵', '岩井勝弘', '名取孝浩', '外村亮介', '青木敦子', '木村俊春', '石井真奈美', '山本悟', '黒木勉', '齋藤佐知子', '田口裕樹', '青木一愛']\n231\n90\n76\n24\n===============================\n村上裕一\n平賀大樹\n松浦光明\n遠藤秀幸\n眞木康州\n我妻耕平\n水野博之\n島武広\n増井史彰\n細江智洋\n久貝仁\n多湖翔\n葛山直行\n庄司宗弘\n川邉賢一郎\n川口彩子\n白澤章子\n鈴木兼一郎\n平井佑治\n福田翔\n藤原大輔\n大川雄矢\n仲井浩嗣\n小宮夏樹\n"
     ]
    }
   ],
   "source": [
    "\"\"\"\n",
    "20190204\n",
    "弁護士ドットコムにまず限定して、弁護士リストを作成\n",
    "\"\"\"\n",
    "\"\"\"\n",
    "print(names_tokyo_divorce_dotc)\n",
    "print(names_tokyo_debt_dotc)\n",
    "print(names_tokyo_labor_dotc)\n",
    "print(names_kanagawa_divorce_dotc)\n",
    "print(names_kanagawa_debt_dotc)\n",
    "print(names_kanagawa_labor_dotc)\n",
    "print(names_saitama_divorce_dotc)\n",
    "print(names_saitama_debt_dotc)\n",
    "print(names_saitama_labor_dotc)\n",
    "\"\"\"\n",
    "\n",
    "names_tokyo_3genre_dotc = []\n",
    "for name in names_tokyo_divorce_dotc:\n",
    "    if name in names_tokyo_debt_dotc:\n",
    "        if name in names_tokyo_labor_dotc:\n",
    "            names_tokyo_3genre_dotc.append(name)\n",
    "\n",
    "\n",
    "print(len(names_tokyo_divorce_dotc))\n",
    "print(len(names_tokyo_debt_dotc))\n",
    "print(len(names_tokyo_labor_dotc))\n",
    "print(len(names_tokyo_3genre_dotc))\n",
    "print('===============================')\n",
    "\n",
    "names_kanagawa_3genre_dotc = []\n",
    "for name in names_kanagawa_divorce_dotc:\n",
    "    if name in names_kanagawa_debt_dotc:\n",
    "        if name in names_kanagawa_labor_dotc:\n",
    "            names_kanagawa_3genre_dotc.append(name)\n",
    "    else:\n",
    "        continue\n",
    "\n",
    "print(len(names_kanagawa_divorce_dotc))\n",
    "print(len(names_kanagawa_debt_dotc))\n",
    "print(len(names_kanagawa_labor_dotc))\n",
    "print(len(names_kanagawa_3genre_dotc))\n",
    "print('===============================')\n",
    "\n",
    "names_saitama_3genre_dotc = []\n",
    "for name in names_saitama_divorce_dotc:\n",
    "    if name in names_saitama_debt_dotc:\n",
    "        if name in names_saitama_labor_dotc:\n",
    "            names_saitama_3genre_dotc.append(name)\n",
    "\n",
    "\n",
    "print(len(names_saitama_divorce_dotc))\n",
    "print(len(names_saitama_debt_dotc))\n",
    "print(len(names_saitama_labor_dotc))\n",
    "print(len(names_saitama_3genre_dotc))\n",
    "print('===============================')\n",
    "\n",
    "\n",
    "print(names_kanagawa_3genre_dotc)\n",
    "\n",
    "names_kanagawa_divorce_dotc_power = names_kanagawa_divorce_dotc[:231]\n",
    "names_kanagawa_debt_dotc_power = names_kanagawa_debt_dotc[:90]\n",
    "names_kanagawa_labor_dotc_power = names_kanagawa_labor_dotc[:76]\n",
    "\n",
    "names_kanagawa_3genre_dotc_A = []\n",
    "for name in A:\n",
    "    if name in B:\n",
    "        if name in C:\n",
    "            names_kanagawa_3genre_dotc_A.append(name)\n",
    "    else:\n",
    "        continue\n",
    "\n",
    "print(len(A))\n",
    "print(len(B))\n",
    "print(len(C))\n",
    "print(len(names_kanagawa_3genre_dotc_A))\n",
    "print('===============================')\n",
    "\n",
    "for name in names_kanagawa_3genre_dotc_A:\n",
    "    print(name)\n"
   ]
  },
  {
   "cell_type": "code",
   "execution_count": 33,
   "metadata": {},
   "outputs": [
    {
     "data": {
      "text/plain": [
       "True"
      ]
     },
     "execution_count": 33,
     "metadata": {},
     "output_type": "execute_result"
    }
   ],
   "source": [
    "'原田裕也' in names_kanagawa_labor_dotc"
   ]
  },
  {
   "cell_type": "code",
   "execution_count": null,
   "metadata": {},
   "outputs": [],
   "source": []
  },
  {
   "cell_type": "code",
   "execution_count": null,
   "metadata": {},
   "outputs": [],
   "source": []
  },
  {
   "cell_type": "code",
   "execution_count": null,
   "metadata": {},
   "outputs": [],
   "source": []
  },
  {
   "cell_type": "code",
   "execution_count": null,
   "metadata": {},
   "outputs": [],
   "source": []
  },
  {
   "cell_type": "code",
   "execution_count": null,
   "metadata": {},
   "outputs": [],
   "source": []
  },
  {
   "cell_type": "code",
   "execution_count": null,
   "metadata": {},
   "outputs": [],
   "source": []
  },
  {
   "cell_type": "code",
   "execution_count": null,
   "metadata": {},
   "outputs": [],
   "source": []
  },
  {
   "cell_type": "code",
   "execution_count": 71,
   "metadata": {},
   "outputs": [],
   "source": [
    "\"\"\"\n",
    "離婚、借金、労働の3分野すべてに登録している弁護士を列挙する\n",
    "\"\"\"\n",
    "\n",
    "\n",
    "overlaps_tokyo = []\n",
    "overlaps_kanagawa = []\n",
    "overlaps_saitama = []\n",
    "\n",
    "for name_f1 in names_tokyo_f1:\n",
    "    if name_f1 in names_tokyo_f3 and name_f1 in names_tokyo_f5:\n",
    "        overlaps_tokyo.append(name_f1)\n",
    "\n",
    "for name_f1 in names_kanagawa_f1:\n",
    "    if name_f1 in names_kanagawa_f3 and name_f1 in names_kanagawa_f5:\n",
    "        overlaps_kanagawa.append(name_f1)\n",
    "\n",
    "for name_f1 in names_saitama_f1:\n",
    "    if name_f1 in names_saitama_f3 and name_f1 in names_saitama_f5:\n",
    "        overlaps_saitama.append(name_f1)\n"
   ]
  },
  {
   "cell_type": "code",
   "execution_count": 75,
   "metadata": {},
   "outputs": [
    {
     "name": "stdout",
     "output_type": "stream",
     "text": [
      "----- tokyo -----\n1413\n1657\n1499\n----- overlaps_tokyo -----\n1136\n----- kanagawa -----\n345\n392\n316\n----- overlaps_kanagawa -----\n277\n----- saitama -----\n257\n276\n217\n----- overlaps_saitama -----\n202\n"
     ]
    }
   ],
   "source": [
    "\"\"\"\n",
    "取得したデータ数の確認\n",
    "\"\"\"\n",
    "\n",
    "print('----- tokyo -----')\n",
    "print(len(names_tokyo_f1))\n",
    "print(len(names_tokyo_f3))\n",
    "print(len(names_tokyo_f5))\n",
    "print('----- overlaps_tokyo -----')\n",
    "print(len(overlaps_tokyo))\n",
    "\n",
    "print('----- kanagawa -----')\n",
    "print(len(names_kanagawa_f1))\n",
    "print(len(names_kanagawa_f3))\n",
    "print(len(names_kanagawa_f5))\n",
    "print('----- overlaps_kanagawa -----')\n",
    "print(len(overlaps_kanagawa))\n",
    "\n",
    "print('----- saitama -----')\n",
    "print(len(names_saitama_f1))\n",
    "print(len(names_saitama_f3))\n",
    "print(len(names_saitama_f5))\n",
    "print('----- overlaps_saitama -----')\n",
    "print(len(overlaps_saitama))"
   ]
  },
  {
   "cell_type": "code",
   "execution_count": 7,
   "metadata": {},
   "outputs": [
    {
     "ename": "NameError",
     "evalue": "name 'overlaps_tokyo' is not defined",
     "traceback": [
      "\u001b[0;31m---------------------------------------------------------------------------\u001b[0m",
      "\u001b[0;31mNameError\u001b[0m                                 Traceback (most recent call last)",
      "\u001b[0;32m<ipython-input-7-706a587f0aed>\u001b[0m in \u001b[0;36m<module>\u001b[0;34m()\u001b[0m\n\u001b[1;32m      3\u001b[0m \"\"\"\n\u001b[1;32m      4\u001b[0m \u001b[0;34m\u001b[0m\u001b[0m\n\u001b[0;32m----> 5\u001b[0;31m \u001b[0mprint\u001b[0m\u001b[0;34m(\u001b[0m\u001b[0moverlaps_tokyo\u001b[0m\u001b[0;34m)\u001b[0m\u001b[0;34m\u001b[0m\u001b[0;34m\u001b[0m\u001b[0m\n\u001b[0m\u001b[1;32m      6\u001b[0m \u001b[0mprint\u001b[0m\u001b[0;34m(\u001b[0m\u001b[0moverlaps_kanagawa\u001b[0m\u001b[0;34m)\u001b[0m\u001b[0;34m\u001b[0m\u001b[0;34m\u001b[0m\u001b[0m\n\u001b[1;32m      7\u001b[0m \u001b[0mprint\u001b[0m\u001b[0;34m(\u001b[0m\u001b[0moverlaps_saitama\u001b[0m\u001b[0;34m)\u001b[0m\u001b[0;34m\u001b[0m\u001b[0;34m\u001b[0m\u001b[0m\n",
      "\u001b[0;31mNameError\u001b[0m: name 'overlaps_tokyo' is not defined"
     ],
     "output_type": "error"
    }
   ],
   "source": [
    "\"\"\"\n",
    "3分野すべてに登録されている弁護士の名前一覧\n",
    "\"\"\"\n",
    "\n",
    "print(overlaps_tokyo)\n",
    "print(overlaps_kanagawa)\n",
    "print(overlaps_saitama)"
   ]
  },
  {
   "cell_type": "code",
   "execution_count": 73,
   "metadata": {},
   "outputs": [],
   "source": [
    ""
   ]
  },
  {
   "cell_type": "code",
   "execution_count": 111,
   "metadata": {
    "collapsed": true
   },
   "outputs": [
    {
     "name": "stderr",
     "output_type": "stream",
     "text": [
      "/Users/higashi/PycharmProjects/WeiboScraping/venv/lib/python3.7/site-packages/ipykernel_launcher.py:14: DeprecationWarning: use setter for headless property instead of set_headless\n  \n"
     ]
    },
    {
     "name": "stdout",
     "output_type": "stream",
     "text": [
      "tokyo divorce 0\n"
     ]
    },
    {
     "name": "stdout",
     "output_type": "stream",
     "text": [
      "tokyo divorce 1\n"
     ]
    },
    {
     "name": "stdout",
     "output_type": "stream",
     "text": [
      "url is founded\n"
     ]
    },
    {
     "name": "stdout",
     "output_type": "stream",
     "text": [
      "tokyo divorce 2\n"
     ]
    },
    {
     "name": "stdout",
     "output_type": "stream",
     "text": [
      "url is founded\n"
     ]
    },
    {
     "name": "stdout",
     "output_type": "stream",
     "text": [
      "tokyo divorce 3\n"
     ]
    },
    {
     "name": "stdout",
     "output_type": "stream",
     "text": [
      "url is founded\n"
     ]
    },
    {
     "name": "stdout",
     "output_type": "stream",
     "text": [
      "tokyo divorce 4\n"
     ]
    },
    {
     "name": "stdout",
     "output_type": "stream",
     "text": [
      "url is founded\n"
     ]
    },
    {
     "name": "stdout",
     "output_type": "stream",
     "text": [
      "tokyo divorce 5\n"
     ]
    },
    {
     "name": "stdout",
     "output_type": "stream",
     "text": [
      "url is founded\n"
     ]
    },
    {
     "name": "stdout",
     "output_type": "stream",
     "text": [
      "tokyo divorce 6\n"
     ]
    },
    {
     "name": "stdout",
     "output_type": "stream",
     "text": [
      "url is founded\n"
     ]
    },
    {
     "name": "stdout",
     "output_type": "stream",
     "text": [
      "tokyo divorce 7\n"
     ]
    },
    {
     "name": "stdout",
     "output_type": "stream",
     "text": [
      "url is founded\n"
     ]
    },
    {
     "name": "stdout",
     "output_type": "stream",
     "text": [
      "tokyo divorce 8\n"
     ]
    },
    {
     "name": "stdout",
     "output_type": "stream",
     "text": [
      "url is founded\n"
     ]
    },
    {
     "name": "stdout",
     "output_type": "stream",
     "text": [
      "tokyo divorce 9\n"
     ]
    },
    {
     "name": "stdout",
     "output_type": "stream",
     "text": [
      "url is founded\n"
     ]
    },
    {
     "name": "stdout",
     "output_type": "stream",
     "text": [
      "tokyo divorce 10\n"
     ]
    },
    {
     "name": "stdout",
     "output_type": "stream",
     "text": [
      "url is founded\n"
     ]
    },
    {
     "name": "stdout",
     "output_type": "stream",
     "text": [
      "tokyo divorce 11\n"
     ]
    },
    {
     "name": "stdout",
     "output_type": "stream",
     "text": [
      "url is founded\n"
     ]
    },
    {
     "name": "stdout",
     "output_type": "stream",
     "text": [
      "tokyo divorce 12\n"
     ]
    },
    {
     "name": "stdout",
     "output_type": "stream",
     "text": [
      "url is founded\n"
     ]
    },
    {
     "name": "stdout",
     "output_type": "stream",
     "text": [
      "tokyo divorce 13\n"
     ]
    },
    {
     "name": "stdout",
     "output_type": "stream",
     "text": [
      "url is founded\n"
     ]
    },
    {
     "name": "stdout",
     "output_type": "stream",
     "text": [
      "tokyo divorce 14\n"
     ]
    },
    {
     "name": "stdout",
     "output_type": "stream",
     "text": [
      "url is founded\n"
     ]
    },
    {
     "name": "stdout",
     "output_type": "stream",
     "text": [
      "tokyo divorce 15\n"
     ]
    },
    {
     "name": "stdout",
     "output_type": "stream",
     "text": [
      "url is founded\n"
     ]
    },
    {
     "name": "stdout",
     "output_type": "stream",
     "text": [
      "tokyo divorce 16\n"
     ]
    },
    {
     "name": "stdout",
     "output_type": "stream",
     "text": [
      "url is founded\n"
     ]
    },
    {
     "name": "stdout",
     "output_type": "stream",
     "text": [
      "tokyo divorce 17\n"
     ]
    },
    {
     "name": "stdout",
     "output_type": "stream",
     "text": [
      "url is founded\n"
     ]
    },
    {
     "name": "stdout",
     "output_type": "stream",
     "text": [
      "tokyo divorce 18\n"
     ]
    },
    {
     "name": "stdout",
     "output_type": "stream",
     "text": [
      "url is founded\n"
     ]
    },
    {
     "name": "stdout",
     "output_type": "stream",
     "text": [
      "tokyo divorce 19\n"
     ]
    },
    {
     "name": "stdout",
     "output_type": "stream",
     "text": [
      "url is founded\n"
     ]
    },
    {
     "name": "stdout",
     "output_type": "stream",
     "text": [
      "tokyo divorce 20\n"
     ]
    },
    {
     "name": "stdout",
     "output_type": "stream",
     "text": [
      "url is founded\n"
     ]
    },
    {
     "name": "stdout",
     "output_type": "stream",
     "text": [
      "tokyo divorce 21\n"
     ]
    },
    {
     "name": "stdout",
     "output_type": "stream",
     "text": [
      "url is founded\n"
     ]
    },
    {
     "name": "stdout",
     "output_type": "stream",
     "text": [
      "tokyo divorce 22\n"
     ]
    },
    {
     "name": "stdout",
     "output_type": "stream",
     "text": [
      "url is founded\n"
     ]
    },
    {
     "name": "stdout",
     "output_type": "stream",
     "text": [
      "tokyo divorce 23\n"
     ]
    },
    {
     "name": "stdout",
     "output_type": "stream",
     "text": [
      "url is not founded\ntokyo debt 0\n"
     ]
    },
    {
     "name": "stdout",
     "output_type": "stream",
     "text": [
      "tokyo debt 1\n"
     ]
    },
    {
     "name": "stdout",
     "output_type": "stream",
     "text": [
      "url is founded\n"
     ]
    },
    {
     "name": "stdout",
     "output_type": "stream",
     "text": [
      "tokyo debt 2\n"
     ]
    },
    {
     "name": "stdout",
     "output_type": "stream",
     "text": [
      "url is founded\n"
     ]
    },
    {
     "name": "stdout",
     "output_type": "stream",
     "text": [
      "tokyo debt 3\n"
     ]
    },
    {
     "name": "stdout",
     "output_type": "stream",
     "text": [
      "url is founded\n"
     ]
    },
    {
     "name": "stdout",
     "output_type": "stream",
     "text": [
      "tokyo debt 4\n"
     ]
    },
    {
     "name": "stdout",
     "output_type": "stream",
     "text": [
      "url is founded\n"
     ]
    },
    {
     "name": "stdout",
     "output_type": "stream",
     "text": [
      "tokyo debt 5\n"
     ]
    },
    {
     "name": "stdout",
     "output_type": "stream",
     "text": [
      "url is founded\n"
     ]
    },
    {
     "name": "stdout",
     "output_type": "stream",
     "text": [
      "tokyo debt 6\n"
     ]
    },
    {
     "name": "stdout",
     "output_type": "stream",
     "text": [
      "url is founded\n"
     ]
    },
    {
     "name": "stdout",
     "output_type": "stream",
     "text": [
      "tokyo debt 7\n"
     ]
    },
    {
     "name": "stdout",
     "output_type": "stream",
     "text": [
      "url is founded\n"
     ]
    },
    {
     "name": "stdout",
     "output_type": "stream",
     "text": [
      "tokyo debt 8\n"
     ]
    },
    {
     "name": "stdout",
     "output_type": "stream",
     "text": [
      "url is founded\n"
     ]
    },
    {
     "name": "stdout",
     "output_type": "stream",
     "text": [
      "tokyo debt 9\n"
     ]
    },
    {
     "name": "stdout",
     "output_type": "stream",
     "text": [
      "url is founded\n"
     ]
    },
    {
     "name": "stdout",
     "output_type": "stream",
     "text": [
      "tokyo debt 10\n"
     ]
    },
    {
     "name": "stdout",
     "output_type": "stream",
     "text": [
      "url is not founded\ntokyo labor  0\n"
     ]
    },
    {
     "name": "stdout",
     "output_type": "stream",
     "text": [
      "tokyo labor  1\n"
     ]
    },
    {
     "name": "stdout",
     "output_type": "stream",
     "text": [
      "url is founded\n"
     ]
    },
    {
     "name": "stdout",
     "output_type": "stream",
     "text": [
      "tokyo labor  2\n"
     ]
    },
    {
     "name": "stdout",
     "output_type": "stream",
     "text": [
      "url is founded\n"
     ]
    },
    {
     "name": "stdout",
     "output_type": "stream",
     "text": [
      "tokyo labor  3\n"
     ]
    },
    {
     "name": "stdout",
     "output_type": "stream",
     "text": [
      "url is founded\n"
     ]
    },
    {
     "name": "stdout",
     "output_type": "stream",
     "text": [
      "tokyo labor  4\n"
     ]
    },
    {
     "name": "stdout",
     "output_type": "stream",
     "text": [
      "url is founded\n"
     ]
    },
    {
     "name": "stdout",
     "output_type": "stream",
     "text": [
      "tokyo labor  5\n"
     ]
    },
    {
     "name": "stdout",
     "output_type": "stream",
     "text": [
      "url is not founded\nkanagawa divorce 0\n"
     ]
    },
    {
     "name": "stdout",
     "output_type": "stream",
     "text": [
      "kanagawa divorce 1\n"
     ]
    },
    {
     "name": "stdout",
     "output_type": "stream",
     "text": [
      "url is founded\n"
     ]
    },
    {
     "name": "stdout",
     "output_type": "stream",
     "text": [
      "kanagawa divorce 2\n"
     ]
    },
    {
     "name": "stdout",
     "output_type": "stream",
     "text": [
      "url is founded\n"
     ]
    },
    {
     "name": "stdout",
     "output_type": "stream",
     "text": [
      "kanagawa divorce 3\n"
     ]
    },
    {
     "name": "stdout",
     "output_type": "stream",
     "text": [
      "url is founded\n"
     ]
    },
    {
     "name": "stdout",
     "output_type": "stream",
     "text": [
      "kanagawa divorce 4\n"
     ]
    },
    {
     "name": "stdout",
     "output_type": "stream",
     "text": [
      "url is founded\n"
     ]
    },
    {
     "name": "stdout",
     "output_type": "stream",
     "text": [
      "kanagawa divorce 5\n"
     ]
    },
    {
     "name": "stdout",
     "output_type": "stream",
     "text": [
      "url is founded\n"
     ]
    },
    {
     "name": "stdout",
     "output_type": "stream",
     "text": [
      "kanagawa divorce 6\n"
     ]
    },
    {
     "name": "stdout",
     "output_type": "stream",
     "text": [
      "url is founded\n"
     ]
    },
    {
     "name": "stdout",
     "output_type": "stream",
     "text": [
      "kanagawa divorce 7\n"
     ]
    },
    {
     "name": "stdout",
     "output_type": "stream",
     "text": [
      "url is founded\n"
     ]
    },
    {
     "name": "stdout",
     "output_type": "stream",
     "text": [
      "kanagawa divorce 8\n"
     ]
    },
    {
     "name": "stdout",
     "output_type": "stream",
     "text": [
      "url is not founded\nkanagawa debt 0\n"
     ]
    },
    {
     "name": "stdout",
     "output_type": "stream",
     "text": [
      "kanagawa debt 1\n"
     ]
    },
    {
     "name": "stdout",
     "output_type": "stream",
     "text": [
      "url is founded\n"
     ]
    },
    {
     "name": "stdout",
     "output_type": "stream",
     "text": [
      "kanagawa debt 2\n"
     ]
    },
    {
     "name": "stdout",
     "output_type": "stream",
     "text": [
      "url is founded\n"
     ]
    },
    {
     "name": "stdout",
     "output_type": "stream",
     "text": [
      "kanagawa debt 3\n"
     ]
    },
    {
     "name": "stdout",
     "output_type": "stream",
     "text": [
      "url is not founded\nkanagawa labor  0\n"
     ]
    },
    {
     "name": "stdout",
     "output_type": "stream",
     "text": [
      "kanagawa labor  1\n"
     ]
    },
    {
     "name": "stdout",
     "output_type": "stream",
     "text": [
      "url is not founded\nsaitama divorce 0\n"
     ]
    },
    {
     "name": "stdout",
     "output_type": "stream",
     "text": [
      "saitama divorce 1\n"
     ]
    },
    {
     "name": "stdout",
     "output_type": "stream",
     "text": [
      "url is founded\n"
     ]
    },
    {
     "name": "stdout",
     "output_type": "stream",
     "text": [
      "saitama divorce 2\n"
     ]
    },
    {
     "name": "stdout",
     "output_type": "stream",
     "text": [
      "url is founded\n"
     ]
    },
    {
     "name": "stdout",
     "output_type": "stream",
     "text": [
      "saitama divorce 3\n"
     ]
    },
    {
     "name": "stdout",
     "output_type": "stream",
     "text": [
      "url is founded\n"
     ]
    },
    {
     "name": "stdout",
     "output_type": "stream",
     "text": [
      "saitama divorce 4\n"
     ]
    },
    {
     "name": "stdout",
     "output_type": "stream",
     "text": [
      "url is not founded\nsaitama debt 0\n"
     ]
    },
    {
     "name": "stdout",
     "output_type": "stream",
     "text": [
      "saitama debt 1\n"
     ]
    },
    {
     "name": "stdout",
     "output_type": "stream",
     "text": [
      "url is founded\n"
     ]
    },
    {
     "name": "stdout",
     "output_type": "stream",
     "text": [
      "saitama debt 2\n"
     ]
    },
    {
     "name": "stdout",
     "output_type": "stream",
     "text": [
      "url is not founded\nsaitama labor  0\n"
     ]
    },
    {
     "name": "stdout",
     "output_type": "stream",
     "text": [
      "saitama labor  1\n"
     ]
    },
    {
     "name": "stdout",
     "output_type": "stream",
     "text": [
      "url is not founded\n"
     ]
    }
   ],
   "source": [
    "\"\"\"\n",
    "ここからが本番\n",
    "リーガラスに登録されている東京、神奈川、埼玉の弁護士をすべて取得する\n",
    "分野は、離婚/借金/労働\n",
    "すべて取得したのち、3分野すべてに登録されている弁護士名を抽出する\n",
    "\"\"\"\n",
    "\n",
    "\"\"\"\n",
    "Selenium setting\n",
    "\"\"\"\n",
    "\n",
    "options = Options()\n",
    "\n",
    "options.set_headless(True)\n",
    "options.binary_location = \"/Applications/Google Chrome Canary.app/Contents/MacOS/Google Chrome Canary\"\n",
    "options.add_argument(\"--headless\")\n",
    "\n",
    "chromedriver_path = \"/Users/higashi/Desktop/Document/chromedriver/chromedriver\"\n",
    "\n",
    "driver = webdriver.Chrome(options=options,\n",
    "                          executable_path=chromedriver_path)\n",
    "\n",
    "\n",
    "prefectures = ['tokyo', 'kanagawa', 'saitama']\n",
    "genres = ['divorce', 'debt', 'labor']\n",
    "\n",
    "names_tokyo_f1 = []\n",
    "locs_tokyo_f1 = []\n",
    "tels_tokyo_f1 = []\n",
    "names_tokyo_f3 = []\n",
    "locs_tokyo_f3  = []\n",
    "tels_tokyo_f3 = []\n",
    "names_tokyo_f5 = []\n",
    "locs_tokyo_f5 = []\n",
    "tels_tokyo_f5 = []\n",
    "\n",
    "names_kanagawa_f1 = []\n",
    "locs_kanagawa_f1 = []\n",
    "tels_kanagawa_f1 = []\n",
    "names_kanagawa_f3 = []\n",
    "locs_kanagawa_f3  = []\n",
    "tels_kanagawa_f3 = []\n",
    "names_kanagawa_f5 = []\n",
    "locs_kanagawa_f5 = []\n",
    "tels_kanagawa_f5 = []\n",
    "\n",
    "names_saitama_f1 = []\n",
    "locs_saitama_f1 = []\n",
    "tels_saitama_f1 = []\n",
    "names_saitama_f3 = []\n",
    "locs_saitama_f3  = []\n",
    "tels_saitama_f3 = []\n",
    "names_saitama_f5 = []\n",
    "locs_saitama_f5 = []\n",
    "tels_saitama_f5 = []\n",
    "\n",
    "\n",
    "for prefecture in prefectures:\n",
    "    for genre in genres:\n",
    "        for page in range(100):\n",
    "            print(prefecture, genre, page)\n",
    "            if page == 0:\n",
    "                url = 'https://legalus.jp/' + prefecture + '/' + genre + '/'\n",
    "                \n",
    "                driver.get(url)\n",
    "                time.sleep(3)\n",
    "                \n",
    "                html = driver.page_source.encode('utf-8')\n",
    "                soup = BeautifulSoup(html, 'html.parser')\n",
    "                \n",
    "                users = soup.find_all('div', {'class': 'module-section module-profile-free'})  # 注力分野に該当する弁護士は323、取り扱いは325\n",
    "                companies = soup.find_all('div', {'class': 'module-section module-company'})\n",
    "                companies_sub = soup.find_all('div', {'class': 'module-section module-company module-company-sub free-law'})\n",
    "                \n",
    "                for tag in users:\n",
    "                    if tag.find_all('a', {'style': 'color: #6d57a5'}):\n",
    "                        name = tag.find_all('a', {'style': 'color: #6d57a5'})[0].text\n",
    "                        name = name.split()[0] + name.split()[1]\n",
    "                        \n",
    "                    else:\n",
    "                        name = 'not founded name'\n",
    "                        \n",
    "                    if prefecture == 'tokyo':\n",
    "                        if genre == 'debt':\n",
    "                            names_tokyo_f1.append(name)\n",
    "                        elif genre == 'divorce':\n",
    "                            names_tokyo_f3.append(name)\n",
    "                        elif genre == 'labor':\n",
    "                            names_tokyo_f5.append(name)\n",
    "                    elif prefecture == 'kanagawa':\n",
    "                        if genre == 'debt':\n",
    "                            names_kanagawa_f1.append(name)\n",
    "                            \n",
    "                        elif genre == 'divorce':\n",
    "                            names_kanagawa_f3.append(name)\n",
    "                            \n",
    "                        elif genre == 'labor':\n",
    "                            names_kanagawa_f5.append(name)\n",
    "                            \n",
    "                    elif prefecture == 'saitama':\n",
    "                        if genre == 'debt':\n",
    "                            names_saitama_f1.append(name)\n",
    "                        elif genre == 'divorce':\n",
    "                            names_saitama_f3.append(name)\n",
    "                        elif genre == 'labor':\n",
    "                            names_saitama_f5.append(name)\n",
    "                    \n",
    "                        \n",
    "                for tag in companies:\n",
    "                    if tag.find_all('span', {'class': 'location clearfix'}):\n",
    "                        loc = tag.find_all('span', {'class': 'location clearfix'})[0].text\n",
    "                        loc = loc.split()[1]\n",
    "                    else:\n",
    "                        loc = 'not founded loc'\n",
    "                        \n",
    "                    if tag.find_all('span', {'class': 'phone'}):\n",
    "                        tel = tag.find_all('span', {'class': 'phone'})[0].text\n",
    "                        tel = tel.split()[0]\n",
    "                        \n",
    "                    else:\n",
    "                        tel = 'not founded tel'\n",
    "                \n",
    "                    if prefecture == 'tokyo':\n",
    "                        if genre == 'debt':\n",
    "                            locs_tokyo_f1.append(loc)\n",
    "                            tels_tokyo_f1.append(tel)\n",
    "                        elif genre == 'divorce':\n",
    "                            locs_tokyo_f3.append(loc)\n",
    "                            tels_tokyo_f3.append(tel)\n",
    "                        elif genre == 'labor':\n",
    "                            locs_tokyo_f5.append(loc)\n",
    "                            tels_tokyo_f5.append(tel)\n",
    "                    elif prefecture == 'kanagawa':\n",
    "                        if genre == 'debt':\n",
    "                            locs_kanagawa_f1.append(loc)\n",
    "                            tels_kanagawa_f1.append(tel)\n",
    "                        elif genre == 'divorce':\n",
    "                            locs_kanagawa_f3.append(loc)\n",
    "                            tels_kanagawa_f3.append(tel)\n",
    "                        elif genre == 'labor':\n",
    "                            locs_kanagawa_f5.append(loc)\n",
    "                            tels_kanagawa_f5.append(tel)\n",
    "                    elif prefecture == 'saitama':\n",
    "                        if genre == 'debt':\n",
    "                            locs_saitama_f1.append(loc)\n",
    "                            tels_saitama_f1.append(tel)\n",
    "                        elif genre == 'divorce':\n",
    "                            locs_saitama_f3.append(loc)\n",
    "                            tels_saitama_f3.append(tel)\n",
    "                        elif genre == 'labor':\n",
    "                            locs_saitama_f5.append(loc)\n",
    "                            tels_saitama_f5.append(tel)\n",
    "                \n",
    "                for tag in companies_sub:\n",
    "                    if tag.find_all('span', {'class': 'location clearfix'}):\n",
    "                        loc = tag.find_all('span', {'class': 'location clearfix'})[0].text\n",
    "                        loc = loc.split()[1]\n",
    "                    else:\n",
    "                        loc = 'not founded loc'\n",
    "                        \n",
    "                    if tag.find_all('span', {'class': 'phone'}):\n",
    "                        tel = tag.find_all('span', {'class': 'phone'})[0].text\n",
    "                        tel = tel.split()[0]\n",
    "                        \n",
    "                    else:\n",
    "                        tel = 'not founded tel'\n",
    "                \n",
    "                    if prefecture == 'tokyo':\n",
    "                        if genre == 'debt':\n",
    "                            locs_tokyo_f1.append(loc)\n",
    "                            tels_tokyo_f1.append(tel)\n",
    "                        elif genre == 'divorce':\n",
    "                            locs_tokyo_f3.append(loc)\n",
    "                            tels_tokyo_f3.append(tel)\n",
    "                        elif genre == 'labor':\n",
    "                            locs_tokyo_f5.append(loc)\n",
    "                            tels_tokyo_f5.append(tel)\n",
    "                    elif prefecture == 'kanagawa':\n",
    "                        if genre == 'debt':\n",
    "                            locs_kanagawa_f1.append(loc)\n",
    "                            tels_kanagawa_f1.append(tel)\n",
    "                        elif genre == 'divorce':\n",
    "                            locs_kanagawa_f3.append(loc)\n",
    "                            tels_kanagawa_f3.append(tel)\n",
    "                        elif genre == 'labor':\n",
    "                            locs_kanagawa_f5.append(loc)\n",
    "                            tels_kanagawa_f5.append(tel)\n",
    "                    elif prefecture == 'saitama':\n",
    "                        if genre == 'debt':\n",
    "                            locs_saitama_f1.append(loc)\n",
    "                            tels_saitama_f1.append(tel)\n",
    "                        elif genre == 'divorce':\n",
    "                            locs_saitama_f3.append(loc)\n",
    "                            tels_saitama_f3.append(tel)\n",
    "                        elif genre == 'labor':\n",
    "                            locs_saitama_f5.append(loc)\n",
    "                            tels_saitama_f5.append(tel)\n",
    "                 \n",
    "            else:\n",
    "                break_counter = 0\n",
    "                url_f = 'https://legalus.jp/' + prefecture + '/' + genre + '/'\n",
    "                url = 'https://legalus.jp/' + prefecture + '/' + genre + '/' + 'pg_{}'.format(page+1)\n",
    "                r = requests.get(url)\n",
    "                html_soup = BeautifulSoup(r.content, 'html.parser')\n",
    "                apologize_search = html_soup.find_all('span')\n",
    "                for tag in apologize_search:\n",
    "                    if '申し訳ございませんが結果が見つかりませんでした。' == tag.text:\n",
    "                        break_counter = 1\n",
    "                if not break_counter == 1:\n",
    "                    print('url is founded')\n",
    "\n",
    "                    driver.get(url)\n",
    "                    time.sleep(3)\n",
    "                    \n",
    "                    html = driver.page_source.encode('utf-8')\n",
    "                    soup = BeautifulSoup(html, 'html.parser')\n",
    "                \n",
    "                    users = soup.find_all('div', {'class': 'module-section module-profile-free'})  # 注力分野に該当する弁護士は323、取り扱いは325\n",
    "                    companies = soup.find_all('div', {'class': 'module-section module-company'})\n",
    "                    companies_sub = soup.find_all('div', {'class': 'module-section module-company module-company-sub free-law'})\n",
    "                    \n",
    "                    for tag in users:\n",
    "                        if tag.find_all('a', {'style': 'color: #6d57a5'}):\n",
    "                            name = tag.find_all('a', {'style': 'color: #6d57a5'})[0].text\n",
    "                            name = name.split()[0] + name.split()[1]\n",
    "                        else:\n",
    "                            name = 'not founded name'\n",
    "                            \n",
    "                        if prefecture == 'tokyo':\n",
    "                            if genre == 'debt':\n",
    "                                names_tokyo_f1.append(name)\n",
    "                            elif genre == 'divorce':\n",
    "                                names_tokyo_f3.append(name)\n",
    "                            elif genre == 'labor':\n",
    "                                names_tokyo_f5.append(name)\n",
    "                        elif prefecture == 'kanagawa':\n",
    "                            if genre == 'debt':\n",
    "                                names_kanagawa_f1.append(name)\n",
    "                                \n",
    "                            elif genre == 'divorce':\n",
    "                                names_kanagawa_f3.append(name)\n",
    "                            \n",
    "                            elif genre == 'labor':\n",
    "                                names_kanagawa_f5.append(name)\n",
    "                                \n",
    "                        elif prefecture == 'saitama':\n",
    "                            if genre == 'debt':\n",
    "                                names_saitama_f1.append(name)\n",
    "                            elif genre == 'divorce':\n",
    "                                names_saitama_f3.append(name)\n",
    "                            elif genre == 'labor':\n",
    "                                names_saitama_f5.append(name)\n",
    "                    \n",
    "                        \n",
    "                    for tag in companies:\n",
    "                        if tag.find_all('span', {'class': 'location clearfix'}):\n",
    "                            loc = tag.find_all('span', {'class': 'location clearfix'})[0].text\n",
    "                            loc = loc.split()[1]\n",
    "                        else:\n",
    "                            loc = 'not founded loc'\n",
    "                        \n",
    "                        if tag.find_all('span', {'class': 'phone'}):\n",
    "                            tel = tag.find_all('span', {'class': 'phone'})[0].text\n",
    "                            te; = tel.split()[0]\n",
    "                        else:\n",
    "                            tel = 'not founded tel'\n",
    "                \n",
    "                        if prefecture == 'tokyo':\n",
    "                            if genre == 'debt':\n",
    "                                locs_tokyo_f1.append(loc)\n",
    "                                tels_tokyo_f1.append(tel)\n",
    "                            elif genre == 'divorce':\n",
    "                                locs_tokyo_f3.append(loc)\n",
    "                                tels_tokyo_f3.append(tel)\n",
    "                            elif genre == 'labor':\n",
    "                                locs_tokyo_f5.append(loc)\n",
    "                                tels_tokyo_f5.append(tel)\n",
    "                        elif prefecture == 'kanagawa':\n",
    "                            if genre == 'debt':\n",
    "                                locs_kanagawa_f1.append(loc)\n",
    "                                tels_kanagawa_f1.append(tel)\n",
    "                            elif genre == 'divorce':\n",
    "                                locs_kanagawa_f3.append(loc)\n",
    "                                tels_kanagawa_f3.append(tel)\n",
    "                            elif genre == 'labor':\n",
    "                                locs_kanagawa_f5.append(loc)\n",
    "                                tels_kanagawa_f5.append(tel)\n",
    "                        elif prefecture == 'saitama':\n",
    "                            if genre == 'debt':\n",
    "                                locs_saitama_f1.append(loc)\n",
    "                                tels_saitama_f1.append(tel)\n",
    "                            elif genre == 'divorce':\n",
    "                                locs_saitama_f3.append(loc)\n",
    "                                tels_saitama_f3.append(tel)\n",
    "                            elif genre == 'labor':\n",
    "                                locs_saitama_f5.append(loc)\n",
    "                                tels_saitama_f5.append(tel)\n",
    "  \n",
    "                    for tag in companies_sub:\n",
    "                        if tag.find_all('span', {'class': 'location clearfix'}):\n",
    "                            loc = tag.find_all('span', {'class': 'location clearfix'})[0].text\n",
    "                            loc = loc.split()[1]\n",
    "                        else:\n",
    "                            loc = 'not founded loc'\n",
    "                        \n",
    "                        if tag.find_all('span', {'class': 'phone'}):\n",
    "                            tel = tag.find_all('span', {'class': 'phone'})[0].text\n",
    "                            tel = tel.split()[0]\n",
    "                            \n",
    "                        else:\n",
    "                            tel = 'not founded tel'\n",
    "                \n",
    "                        if prefecture == 'tokyo':\n",
    "                            if genre == 'debt':\n",
    "                                locs_tokyo_f1.append(loc)\n",
    "                                tels_tokyo_f1.append(tel)\n",
    "                            elif genre == 'divorce':\n",
    "                                locs_tokyo_f3.append(loc)\n",
    "                                tels_tokyo_f3.append(tel)\n",
    "                            elif genre == 'labor':\n",
    "                                locs_tokyo_f5.append(loc)\n",
    "                                tels_tokyo_f5.append(tel)\n",
    "                        elif prefecture == 'kanagawa':\n",
    "                            if genre == 'debt':\n",
    "                                locs_kanagawa_f1.append(loc)\n",
    "                                tels_kanagawa_f1.append(tel)\n",
    "                            elif genre == 'divorce':\n",
    "                                locs_kanagawa_f3.append(loc)\n",
    "                                tels_kanagawa_f3.append(tel)\n",
    "                            elif genre == 'labor':\n",
    "                                locs_kanagawa_f5.append(loc)\n",
    "                                tels_kanagawa_f5.append(tel)\n",
    "                        elif prefecture == 'saitama':\n",
    "                            if genre == 'debt':\n",
    "                                locs_saitama_f1.append(loc)\n",
    "                                tels_saitama_f1.append(tel)\n",
    "                            elif genre == 'divorce':\n",
    "                                locs_saitama_f3.append(loc)\n",
    "                                tels_saitama_f3.append(tel)\n",
    "                            elif genre == 'labor':\n",
    "                                locs_saitama_f5.append(loc)\n",
    "                                tels_saitama_f5.append(tel)\n",
    "                  \n",
    "  \n",
    "                elif break_counter == 1:\n",
    "                    print('url is not founded')\n",
    "                    break\n",
    "                            \n",
    "names_tokyo_debt_leg = names_tokyo_f1\n",
    "locs_tokyo_debt_leg = locs_tokyo_f1\n",
    "tels_tokyo_debt_leg = tels_tokyo_f1\n",
    "\n",
    "names_tokyo_divorce_leg = names_tokyo_f3\n",
    "locs_tokyo_divorce_leg = locs_tokyo_f3\n",
    "tels_tokyo_divorce_leg = tels_tokyo_f3\n",
    "\n",
    "names_tokyo_labor_leg = names_tokyo_f5\n",
    "locs_tokyo_labor_leg = locs_tokyo_f5\n",
    "tels_tokyo_labor_leg = tels_tokyo_f5\n",
    "\n",
    "names_kanagawa_debt_leg = names_kanagawa_f1\n",
    "locs_kanagawa_debt_leg = locs_kanagawa_f1\n",
    "tels_kanagawa_debt_leg = tels_kanagawa_f1\n",
    "\n",
    "names_kanagawa_divorce_leg = names_kanagawa_f3\n",
    "locs_kanagawa_divorce_leg = locs_kanagawa_f3\n",
    "tels_kanagawa_divorce_leg = tels_kanagawa_f3\n",
    "\n",
    "names_kanagawa_labor_leg = names_kanagawa_f5\n",
    "locs_kanagawa_labor_leg = locs_kanagawa_f5\n",
    "tels_kanagawa_labor_leg = tels_kanagawa_f5\n",
    "\n",
    "names_saitama_debt_leg = names_saitama_f1\n",
    "locs_saitama_debt_leg = locs_saitama_f1\n",
    "tels_saitama_debt_leg = tels_saitama_f1\n",
    "\n",
    "names_saitama_divorce_leg = names_saitama_f3\n",
    "locs_saitama_divorce_leg = locs_saitama_f3\n",
    "tels_saitama_divorce_leg = tels_saitama_f3\n",
    "\n",
    "names_saitama_labor_leg = names_saitama_f5\n",
    "locs_saitama_labor_leg = locs_saitama_f5\n",
    "tels_saitama_labor_leg = tels_saitama_f5"
   ]
  },
  {
   "cell_type": "code",
   "execution_count": 109,
   "metadata": {},
   "outputs": [],
   "source": [
    ""
   ]
  },
  {
   "cell_type": "code",
   "execution_count": null,
   "metadata": {},
   "outputs": [],
   "source": []
  },
  {
   "cell_type": "code",
   "execution_count": null,
   "metadata": {},
   "outputs": [],
   "source": []
  },
  {
   "cell_type": "code",
   "execution_count": 41,
   "metadata": {
    "collapsed": true
   },
   "outputs": [
    {
     "name": "stdout",
     "output_type": "stream",
     "text": [
      "0\n0\n0\n0\n===============================\n141\n41\n18\n5\n===============================\n0\n0\n0\n0\n===============================\n飯島俊\n満松和憲\n山本友也\n氏家悠\n種村求\n"
     ]
    }
   ],
   "source": [
    "names_tokyo_3genre_legalus = []\n",
    "for name in names_tokyo_divorce_legalus:\n",
    "    if name in names_tokyo_debt_legalus:\n",
    "        if name in names_tokyo_labor_legalus:\n",
    "            names_tokyo_3genre_legalus.append(name)\n",
    "\n",
    "\n",
    "print(len(names_tokyo_divorce_legalus))\n",
    "print(len(names_tokyo_debt_legalus))\n",
    "print(len(names_tokyo_labor_legalus))\n",
    "print(len(names_tokyo_3genre_legalus))\n",
    "print('===============================')\n",
    "\n",
    "names_kanagawa_3genre_legalus = []\n",
    "for name in names_kanagawa_divorce_legalus:\n",
    "    if name in names_kanagawa_debt_legalus:\n",
    "        if name in names_kanagawa_labor_legalus:\n",
    "            names_kanagawa_3genre_legalus.append(name)\n",
    "\n",
    "\n",
    "print(len(names_kanagawa_divorce_legalus))\n",
    "print(len(names_kanagawa_debt_legalus))\n",
    "print(len(names_kanagawa_labor_legalus))\n",
    "print(len(names_kanagawa_3genre_legalus))\n",
    "print('===============================')\n",
    "\n",
    "names_saitama_3genre_legalus = []\n",
    "for name in names_saitama_divorce_legalus:\n",
    "    if name in names_saitama_debt_legalus:\n",
    "        if name in names_saitama_labor_legalus:\n",
    "            names_saitama_3genre_legalus.append(name)\n",
    "\n",
    "\n",
    "print(len(names_saitama_divorce_legalus))\n",
    "print(len(names_saitama_debt_legalus))\n",
    "print(len(names_saitama_labor_legalus))\n",
    "print(len(names_saitama_3genre_legalus))\n",
    "print('===============================')\n",
    "\n",
    "for name in names_kanagawa_3genre_legalus:\n",
    "    print(name)\n"
   ]
  },
  {
   "cell_type": "code",
   "execution_count": 45,
   "metadata": {},
   "outputs": [],
   "source": [
    "names_kanagawa_divorce_dotc_legalus = []\n",
    "\n",
    "for name in names_kanagawa_divorce_dotc_power:\n",
    "    if name in names_kanagawa_divorce_legalus:\n",
    "        names_kanagawa_divorce_dotc_legalus.append(name)"
   ]
  },
  {
   "cell_type": "code",
   "execution_count": 48,
   "metadata": {},
   "outputs": [
    {
     "name": "stdout",
     "output_type": "stream",
     "text": [
      "43\n['村上裕一', '若井公志', '平賀大樹', '赤沼洋', '山本新一郎', '佐々木博征', '大森望', '吉村浩太', '中間隼人', '鈴木義仁', '西井伸顕', '畔柳秀勝', '西村隆雄', '畑中優宏', '大橋賢也', '二見宏史', '小谷馨', '阿部泰典', '田島宏峰', '細江智洋', '土屋健志', '風間喬平', '植田薫', '庄司宗弘', '佐藤美由紀', '川邉賢一郎', '福井俊介', '川口彩子', '白澤章子', '塚越文也', '石井誠', '笠間圭一郎', '尾崎隆', '向井邦生', '滝井聡', '藤原大輔', '種村求', '岡村貴之', '柳下明生', '小野航平', '飯島俊', '高橋賢司', '石坂想']\n"
     ]
    }
   ],
   "source": [
    "'''\n",
    "神奈川に限定し、\n",
    "離婚・男女問題に限定し、\n",
    "弁護士ドットコム and リーガラスをとる\n",
    "'''\n",
    "\n",
    "print(len(names_kanagawa_divorce_dotc_legalus))\n",
    "print(names_kanagawa_divorce_dotc_legalus)"
   ]
  },
  {
   "cell_type": "code",
   "execution_count": 51,
   "metadata": {},
   "outputs": [],
   "source": [
    "df = pd.DataFrame({\n",
    "    'kanagawa_divorce_dotc_legalus': names_kanagawa_divorce_dotc_legalus\n",
    "})\n",
    "\n",
    "os.chdir('/Users/higashi/PycharmProjects/WeiboScraping/venv/sourcecode/Bengoshi_list/data')\n",
    "df.to_csv('kanagawa_divorce_dotc_legalus' + '.csv')"
   ]
  },
  {
   "cell_type": "code",
   "execution_count": 42,
   "metadata": {},
   "outputs": [],
   "source": [
    "\"\"\"\n",
    "離婚、借金、労働の3分野すべてに登録している弁護士を列挙する\n",
    "\"\"\"\n",
    "\n",
    "\n",
    "overlaps_tokyo = []\n",
    "overlaps_kanagawa = []\n",
    "overlaps_saitama = []\n",
    "\n",
    "for name_f1 in names_tokyo_f1:\n",
    "    if name_f1 in names_tokyo_f3 and name_f1 in names_tokyo_f5:\n",
    "        overlaps_tokyo.append(name_f1)\n",
    "\n",
    "for name_f1 in names_kanagawa_f1:\n",
    "    if name_f1 in names_kanagawa_f3 and name_f1 in names_kanagawa_f5:\n",
    "        overlaps_kanagawa.append(name_f1)\n",
    "\n",
    "for name_f1 in names_saitama_f1:\n",
    "    if name_f1 in names_saitama_f3 and name_f1 in names_saitama_f5:\n",
    "        overlaps_saitama.append(name_f1)\n"
   ]
  },
  {
   "cell_type": "code",
   "execution_count": 43,
   "metadata": {
    "collapsed": true
   },
   "outputs": [
    {
     "name": "stdout",
     "output_type": "stream",
     "text": [
      "----- tokyo -----\n182\n455\n86\n----- overlaps_tokyo -----\n4\n----- kanagawa -----\n41\n142\n17\n----- overlaps_kanagawa -----\n5\n----- saitama -----\n23\n67\n7\n----- overlaps_saitama -----\n2\n"
     ]
    }
   ],
   "source": [
    "print('----- tokyo -----')\n",
    "print(len(names_tokyo_f1))\n",
    "print(len(names_tokyo_f3))\n",
    "print(len(names_tokyo_f5))\n",
    "print('----- overlaps_tokyo -----')\n",
    "print(len(overlaps_tokyo))\n",
    "\n",
    "print('----- kanagawa -----')\n",
    "print(len(names_kanagawa_f1))\n",
    "print(len(names_kanagawa_f3))\n",
    "print(len(names_kanagawa_f5))\n",
    "print('----- overlaps_kanagawa -----')\n",
    "print(len(overlaps_kanagawa))\n",
    "\n",
    "print('----- saitama -----')\n",
    "print(len(names_saitama_f1))\n",
    "print(len(names_saitama_f3))\n",
    "print(len(names_saitama_f5))\n",
    "print('----- overlaps_saitama -----')\n",
    "print(len(overlaps_saitama))"
   ]
  },
  {
   "cell_type": "code",
   "execution_count": 44,
   "metadata": {},
   "outputs": [
    {
     "name": "stdout",
     "output_type": "stream",
     "text": [
      "['\\n  中川 浩秀\\n  弁護士\\n', '\\n  渡邉 祐介\\n  弁護士\\n', '\\n  若井 亮\\n  弁護士\\n', '\\n  井口 多喜男\\n  弁護士\\n']\n['\\n  種村 求\\n  弁護士\\n', '\\n  飯島 俊\\n  弁護士\\n', '\\n  満松 和憲\\n  弁護士\\n', '\\n  氏家 悠\\n  弁護士\\n', '\\n  山本 友也\\n  弁護士\\n']\n['\\n  伊東 結子\\n  弁護士\\n', '\\n  佐藤 智宏\\n  弁護士\\n']\n"
     ]
    }
   ],
   "source": [
    "\"\"\"\n",
    "3分野すべてに登録されている弁護士の名前一覧\n",
    "「弁護士」が抜けるように修正必要\n",
    "\"\"\"\n",
    "\n",
    "print(overlaps_tokyo)\n",
    "print(overlaps_kanagawa)\n",
    "print(overlaps_saitama)"
   ]
  },
  {
   "cell_type": "code",
   "execution_count": 22,
   "metadata": {
    "collapsed": true
   },
   "outputs": [
    {
     "name": "stdout",
     "output_type": "stream",
     "text": [
      "a13 pa73 0\n"
     ]
    },
    {
     "name": "stdout",
     "output_type": "stream",
     "text": [
      "a13 pa73 1\n"
     ]
    },
    {
     "name": "stdout",
     "output_type": "stream",
     "text": [
      "url is founded\na13 pa73 2\n"
     ]
    },
    {
     "name": "stdout",
     "output_type": "stream",
     "text": [
      "url is founded\na13 pa73 3\n"
     ]
    },
    {
     "name": "stdout",
     "output_type": "stream",
     "text": [
      "url is founded\na13 pa73 4\n"
     ]
    },
    {
     "name": "stdout",
     "output_type": "stream",
     "text": [
      "url is founded\na13 pa73 5\n"
     ]
    },
    {
     "name": "stdout",
     "output_type": "stream",
     "text": [
      "url is founded\na13 pa73 6\n"
     ]
    },
    {
     "name": "stdout",
     "output_type": "stream",
     "text": [
      "url is founded\na13 pa73 7\n"
     ]
    },
    {
     "name": "stdout",
     "output_type": "stream",
     "text": [
      "url is founded\na13 pa73 8\n"
     ]
    },
    {
     "name": "stdout",
     "output_type": "stream",
     "text": [
      "url is founded\na13 pa73 9\n"
     ]
    },
    {
     "name": "stdout",
     "output_type": "stream",
     "text": [
      "url is founded\na13 pa73 10\n"
     ]
    },
    {
     "name": "stdout",
     "output_type": "stream",
     "text": [
      "url is founded\na13 pa73 11\n"
     ]
    },
    {
     "name": "stdout",
     "output_type": "stream",
     "text": [
      "url is founded\na13 pa73 12\n"
     ]
    },
    {
     "name": "stdout",
     "output_type": "stream",
     "text": [
      "url is founded\na13 pa73 13\n"
     ]
    },
    {
     "name": "stdout",
     "output_type": "stream",
     "text": [
      "url is founded\na13 pa73 14\n"
     ]
    },
    {
     "name": "stdout",
     "output_type": "stream",
     "text": [
      "url is founded\na13 pa73 15\n"
     ]
    },
    {
     "name": "stdout",
     "output_type": "stream",
     "text": [
      "url is founded\na13 pa73 16\n"
     ]
    },
    {
     "name": "stdout",
     "output_type": "stream",
     "text": [
      "url is founded\na13 pa73 17\n"
     ]
    },
    {
     "name": "stdout",
     "output_type": "stream",
     "text": [
      "url is founded\na13 pa73 18\n"
     ]
    },
    {
     "name": "stdout",
     "output_type": "stream",
     "text": [
      "url is founded\na13 pa73 19\n"
     ]
    },
    {
     "name": "stdout",
     "output_type": "stream",
     "text": [
      "url is founded\na13 pa73 20\n"
     ]
    },
    {
     "name": "stdout",
     "output_type": "stream",
     "text": [
      "url is founded\na13 pa73 21\n"
     ]
    },
    {
     "name": "stdout",
     "output_type": "stream",
     "text": [
      "url is founded\na13 pa73 22\n"
     ]
    },
    {
     "name": "stdout",
     "output_type": "stream",
     "text": [
      "url is founded\na13 pa73 23\n"
     ]
    },
    {
     "name": "stdout",
     "output_type": "stream",
     "text": [
      "url is founded\na13 pa73 24\n"
     ]
    },
    {
     "name": "stdout",
     "output_type": "stream",
     "text": [
      "url is founded\na13 pa73 25\n"
     ]
    },
    {
     "name": "stdout",
     "output_type": "stream",
     "text": [
      "url is founded\na13 pa73 26\n"
     ]
    },
    {
     "name": "stdout",
     "output_type": "stream",
     "text": [
      "url is founded\na13 pa73 27\n"
     ]
    },
    {
     "name": "stdout",
     "output_type": "stream",
     "text": [
      "url is founded\na13 pa73 28\n"
     ]
    },
    {
     "name": "stdout",
     "output_type": "stream",
     "text": [
      "url is founded\na13 pa73 29\n"
     ]
    },
    {
     "name": "stdout",
     "output_type": "stream",
     "text": [
      "url is founded\na13 pa73 30\n"
     ]
    },
    {
     "name": "stdout",
     "output_type": "stream",
     "text": [
      "url is founded\na13 pa73 31\n"
     ]
    },
    {
     "name": "stdout",
     "output_type": "stream",
     "text": [
      "url is founded\na13 pa73 32\n"
     ]
    },
    {
     "name": "stdout",
     "output_type": "stream",
     "text": [
      "url is founded\na13 pa73 33\n"
     ]
    },
    {
     "name": "stdout",
     "output_type": "stream",
     "text": [
      "url is founded\na13 pa73 34\n"
     ]
    },
    {
     "name": "stdout",
     "output_type": "stream",
     "text": [
      "url is founded\na13 pa73 35\n"
     ]
    },
    {
     "name": "stdout",
     "output_type": "stream",
     "text": [
      "url is founded\na13 pa73 36\n"
     ]
    },
    {
     "name": "stdout",
     "output_type": "stream",
     "text": [
      "url is founded\na13 pa73 37\n"
     ]
    },
    {
     "name": "stdout",
     "output_type": "stream",
     "text": [
      "url is founded\na13 pa73 38\n"
     ]
    },
    {
     "name": "stdout",
     "output_type": "stream",
     "text": [
      "url is founded\na13 pa73 39\n"
     ]
    },
    {
     "name": "stdout",
     "output_type": "stream",
     "text": [
      "url is founded\na13 pa73 40\n"
     ]
    },
    {
     "name": "stdout",
     "output_type": "stream",
     "text": [
      "url is founded\na13 pa73 41\n"
     ]
    },
    {
     "name": "stdout",
     "output_type": "stream",
     "text": [
      "url is founded\na13 pa73 42\n"
     ]
    },
    {
     "name": "stdout",
     "output_type": "stream",
     "text": [
      "url is founded\na13 pa73 43\n"
     ]
    },
    {
     "name": "stdout",
     "output_type": "stream",
     "text": [
      "url is founded\na13 pa73 44\n"
     ]
    },
    {
     "name": "stdout",
     "output_type": "stream",
     "text": [
      "url is founded\na13 pa73 45\n"
     ]
    },
    {
     "name": "stdout",
     "output_type": "stream",
     "text": [
      "url is founded\na13 pa73 46\n"
     ]
    },
    {
     "name": "stdout",
     "output_type": "stream",
     "text": [
      "url is founded\na13 pa73 47\n"
     ]
    },
    {
     "name": "stdout",
     "output_type": "stream",
     "text": [
      "url is founded\na13 pa73 48\n"
     ]
    },
    {
     "name": "stdout",
     "output_type": "stream",
     "text": [
      "url is founded\na13 pa73 49\n"
     ]
    },
    {
     "name": "stdout",
     "output_type": "stream",
     "text": [
      "url is founded\na13 pa73 50\n"
     ]
    },
    {
     "name": "stdout",
     "output_type": "stream",
     "text": [
      "url is founded\na13 pa73 51\n"
     ]
    },
    {
     "name": "stdout",
     "output_type": "stream",
     "text": [
      "url is founded\na13 pa73 52\n"
     ]
    },
    {
     "name": "stdout",
     "output_type": "stream",
     "text": [
      "url is founded\na13 pa73 53\n"
     ]
    },
    {
     "name": "stdout",
     "output_type": "stream",
     "text": [
      "url is founded\na13 pa73 54\n"
     ]
    },
    {
     "name": "stdout",
     "output_type": "stream",
     "text": [
      "url is founded\na13 pa73 55\n"
     ]
    },
    {
     "name": "stdout",
     "output_type": "stream",
     "text": [
      "url is founded\na13 pa73 56\n"
     ]
    },
    {
     "name": "stdout",
     "output_type": "stream",
     "text": [
      "url is founded\na13 pa73 57\n"
     ]
    },
    {
     "name": "stdout",
     "output_type": "stream",
     "text": [
      "url is founded\na13 pa73 58\n"
     ]
    },
    {
     "name": "stdout",
     "output_type": "stream",
     "text": [
      "url is founded\na13 pa73 59\n"
     ]
    },
    {
     "name": "stdout",
     "output_type": "stream",
     "text": [
      "url is founded\na13 pa73 60\n"
     ]
    },
    {
     "name": "stdout",
     "output_type": "stream",
     "text": [
      "url is founded\na13 pa73 61\n"
     ]
    },
    {
     "name": "stdout",
     "output_type": "stream",
     "text": [
      "url is founded\na13 pa73 62\n"
     ]
    },
    {
     "name": "stdout",
     "output_type": "stream",
     "text": [
      "url is founded\na13 pa73 63\n"
     ]
    },
    {
     "name": "stdout",
     "output_type": "stream",
     "text": [
      "url is founded\na13 pa73 64\n"
     ]
    },
    {
     "name": "stdout",
     "output_type": "stream",
     "text": [
      "url is founded\na13 pa73 65\n"
     ]
    },
    {
     "name": "stdout",
     "output_type": "stream",
     "text": [
      "url is founded\na13 pa73 66\n"
     ]
    },
    {
     "name": "stdout",
     "output_type": "stream",
     "text": [
      "url is founded\na13 pa73 67\n"
     ]
    },
    {
     "name": "stdout",
     "output_type": "stream",
     "text": [
      "url is founded\na13 pa73 68\n"
     ]
    },
    {
     "name": "stdout",
     "output_type": "stream",
     "text": [
      "url is founded\na13 pa73 69\n"
     ]
    },
    {
     "name": "stdout",
     "output_type": "stream",
     "text": [
      "url is founded\na13 pa73 70\n"
     ]
    },
    {
     "name": "stdout",
     "output_type": "stream",
     "text": [
      "url is founded\na13 pa73 71\n"
     ]
    },
    {
     "name": "stdout",
     "output_type": "stream",
     "text": [
      "url is founded\na13 pa73 72\n"
     ]
    },
    {
     "name": "stdout",
     "output_type": "stream",
     "text": [
      "url is founded\na13 pa73 73\n"
     ]
    },
    {
     "name": "stdout",
     "output_type": "stream",
     "text": [
      "url is founded\na13 pa73 74\n"
     ]
    },
    {
     "name": "stdout",
     "output_type": "stream",
     "text": [
      "url is founded\na13 pa73 75\n"
     ]
    },
    {
     "name": "stdout",
     "output_type": "stream",
     "text": [
      "url is founded\na13 pa73 76\n"
     ]
    },
    {
     "name": "stdout",
     "output_type": "stream",
     "text": [
      "url is founded\na13 pa73 77\n"
     ]
    },
    {
     "name": "stdout",
     "output_type": "stream",
     "text": [
      "url is founded\na13 pa73 78\n"
     ]
    },
    {
     "name": "stdout",
     "output_type": "stream",
     "text": [
      "url is founded\na13 pa73 79\n"
     ]
    },
    {
     "name": "stdout",
     "output_type": "stream",
     "text": [
      "url is founded\na13 pa73 80\n"
     ]
    },
    {
     "name": "stdout",
     "output_type": "stream",
     "text": [
      "url is founded\na13 pa73 81\n"
     ]
    },
    {
     "name": "stdout",
     "output_type": "stream",
     "text": [
      "url is founded\na13 pa73 82\n"
     ]
    },
    {
     "name": "stdout",
     "output_type": "stream",
     "text": [
      "url is founded\na13 pa73 83\n"
     ]
    },
    {
     "name": "stdout",
     "output_type": "stream",
     "text": [
      "url is founded\na13 pa73 84\n"
     ]
    },
    {
     "name": "stdout",
     "output_type": "stream",
     "text": [
      "url is founded\na13 pa73 85\n"
     ]
    },
    {
     "name": "stdout",
     "output_type": "stream",
     "text": [
      "url is founded\na13 pa73 86\n"
     ]
    },
    {
     "name": "stdout",
     "output_type": "stream",
     "text": [
      "url is founded\na13 pa73 87\nurl is not founded\na13 pa82 0\n"
     ]
    },
    {
     "name": "stdout",
     "output_type": "stream",
     "text": [
      "a13 pa82 1\n"
     ]
    },
    {
     "name": "stdout",
     "output_type": "stream",
     "text": [
      "url is founded\na13 pa82 2\n"
     ]
    },
    {
     "name": "stdout",
     "output_type": "stream",
     "text": [
      "url is founded\na13 pa82 3\n"
     ]
    },
    {
     "name": "stdout",
     "output_type": "stream",
     "text": [
      "url is founded\na13 pa82 4\n"
     ]
    },
    {
     "name": "stdout",
     "output_type": "stream",
     "text": [
      "url is founded\na13 pa82 5\n"
     ]
    },
    {
     "name": "stdout",
     "output_type": "stream",
     "text": [
      "url is founded\na13 pa82 6\n"
     ]
    },
    {
     "name": "stdout",
     "output_type": "stream",
     "text": [
      "url is founded\na13 pa82 7\n"
     ]
    },
    {
     "name": "stdout",
     "output_type": "stream",
     "text": [
      "url is founded\na13 pa82 8\n"
     ]
    },
    {
     "name": "stdout",
     "output_type": "stream",
     "text": [
      "url is founded\na13 pa82 9\n"
     ]
    },
    {
     "name": "stdout",
     "output_type": "stream",
     "text": [
      "url is founded\na13 pa82 10\n"
     ]
    },
    {
     "name": "stdout",
     "output_type": "stream",
     "text": [
      "url is founded\na13 pa82 11\n"
     ]
    },
    {
     "name": "stdout",
     "output_type": "stream",
     "text": [
      "url is founded\na13 pa82 12\n"
     ]
    },
    {
     "name": "stdout",
     "output_type": "stream",
     "text": [
      "url is founded\na13 pa82 13\n"
     ]
    },
    {
     "name": "stdout",
     "output_type": "stream",
     "text": [
      "url is founded\na13 pa82 14\n"
     ]
    },
    {
     "name": "stdout",
     "output_type": "stream",
     "text": [
      "url is founded\na13 pa82 15\n"
     ]
    },
    {
     "name": "stdout",
     "output_type": "stream",
     "text": [
      "url is founded\na13 pa82 16\n"
     ]
    },
    {
     "name": "stdout",
     "output_type": "stream",
     "text": [
      "url is founded\na13 pa82 17\n"
     ]
    },
    {
     "name": "stdout",
     "output_type": "stream",
     "text": [
      "url is founded\na13 pa82 18\n"
     ]
    },
    {
     "name": "stdout",
     "output_type": "stream",
     "text": [
      "url is founded\na13 pa82 19\n"
     ]
    },
    {
     "name": "stdout",
     "output_type": "stream",
     "text": [
      "url is founded\na13 pa82 20\n"
     ]
    },
    {
     "name": "stdout",
     "output_type": "stream",
     "text": [
      "url is founded\na13 pa82 21\n"
     ]
    },
    {
     "name": "stdout",
     "output_type": "stream",
     "text": [
      "url is founded\na13 pa82 22\n"
     ]
    },
    {
     "name": "stdout",
     "output_type": "stream",
     "text": [
      "url is founded\na13 pa82 23\n"
     ]
    },
    {
     "name": "stdout",
     "output_type": "stream",
     "text": [
      "url is founded\na13 pa82 24\n"
     ]
    },
    {
     "name": "stdout",
     "output_type": "stream",
     "text": [
      "url is founded\na13 pa82 25\n"
     ]
    },
    {
     "name": "stdout",
     "output_type": "stream",
     "text": [
      "url is founded\na13 pa82 26\n"
     ]
    },
    {
     "name": "stdout",
     "output_type": "stream",
     "text": [
      "url is founded\na13 pa82 27\n"
     ]
    },
    {
     "name": "stdout",
     "output_type": "stream",
     "text": [
      "url is founded\na13 pa82 28\n"
     ]
    },
    {
     "name": "stdout",
     "output_type": "stream",
     "text": [
      "url is founded\na13 pa82 29\n"
     ]
    },
    {
     "name": "stdout",
     "output_type": "stream",
     "text": [
      "url is founded\na13 pa82 30\n"
     ]
    },
    {
     "name": "stdout",
     "output_type": "stream",
     "text": [
      "url is founded\na13 pa82 31\n"
     ]
    },
    {
     "name": "stdout",
     "output_type": "stream",
     "text": [
      "url is founded\na13 pa82 32\n"
     ]
    },
    {
     "name": "stdout",
     "output_type": "stream",
     "text": [
      "url is founded\na13 pa82 33\n"
     ]
    },
    {
     "name": "stdout",
     "output_type": "stream",
     "text": [
      "url is founded\na13 pa82 34\n"
     ]
    },
    {
     "name": "stdout",
     "output_type": "stream",
     "text": [
      "url is founded\na13 pa82 35\n"
     ]
    },
    {
     "name": "stdout",
     "output_type": "stream",
     "text": [
      "url is founded\na13 pa82 36\n"
     ]
    },
    {
     "name": "stdout",
     "output_type": "stream",
     "text": [
      "url is founded\na13 pa82 37\n"
     ]
    },
    {
     "name": "stdout",
     "output_type": "stream",
     "text": [
      "url is founded\na13 pa82 38\n"
     ]
    },
    {
     "name": "stdout",
     "output_type": "stream",
     "text": [
      "url is founded\na13 pa82 39\n"
     ]
    },
    {
     "name": "stdout",
     "output_type": "stream",
     "text": [
      "url is founded\na13 pa82 40\n"
     ]
    },
    {
     "name": "stdout",
     "output_type": "stream",
     "text": [
      "url is founded\na13 pa82 41\n"
     ]
    },
    {
     "name": "stdout",
     "output_type": "stream",
     "text": [
      "url is founded\na13 pa82 42\n"
     ]
    },
    {
     "name": "stdout",
     "output_type": "stream",
     "text": [
      "url is founded\na13 pa82 43\n"
     ]
    },
    {
     "name": "stdout",
     "output_type": "stream",
     "text": [
      "url is founded\na13 pa82 44\n"
     ]
    },
    {
     "name": "stdout",
     "output_type": "stream",
     "text": [
      "url is founded\na13 pa82 45\n"
     ]
    },
    {
     "name": "stdout",
     "output_type": "stream",
     "text": [
      "url is founded\na13 pa82 46\n"
     ]
    },
    {
     "name": "stdout",
     "output_type": "stream",
     "text": [
      "url is founded\na13 pa82 47\n"
     ]
    },
    {
     "name": "stdout",
     "output_type": "stream",
     "text": [
      "url is founded\na13 pa82 48\n"
     ]
    },
    {
     "name": "stdout",
     "output_type": "stream",
     "text": [
      "url is founded\na13 pa82 49\n"
     ]
    },
    {
     "name": "stdout",
     "output_type": "stream",
     "text": [
      "url is founded\na13 pa82 50\n"
     ]
    },
    {
     "name": "stdout",
     "output_type": "stream",
     "text": [
      "url is founded\na13 pa82 51\n"
     ]
    },
    {
     "name": "stdout",
     "output_type": "stream",
     "text": [
      "url is founded\na13 pa82 52\n"
     ]
    },
    {
     "name": "stdout",
     "output_type": "stream",
     "text": [
      "url is founded\na13 pa82 53\n"
     ]
    },
    {
     "name": "stdout",
     "output_type": "stream",
     "text": [
      "url is founded\na13 pa82 54\n"
     ]
    },
    {
     "name": "stdout",
     "output_type": "stream",
     "text": [
      "url is founded\na13 pa82 55\n"
     ]
    },
    {
     "name": "stdout",
     "output_type": "stream",
     "text": [
      "url is founded\na13 pa82 56\n"
     ]
    },
    {
     "name": "stdout",
     "output_type": "stream",
     "text": [
      "url is founded\na13 pa82 57\n"
     ]
    },
    {
     "name": "stdout",
     "output_type": "stream",
     "text": [
      "url is founded\na13 pa82 58\n"
     ]
    },
    {
     "name": "stdout",
     "output_type": "stream",
     "text": [
      "url is founded\na13 pa82 59\n"
     ]
    },
    {
     "name": "stdout",
     "output_type": "stream",
     "text": [
      "url is founded\na13 pa82 60\n"
     ]
    },
    {
     "name": "stdout",
     "output_type": "stream",
     "text": [
      "url is founded\na13 pa82 61\n"
     ]
    },
    {
     "name": "stdout",
     "output_type": "stream",
     "text": [
      "url is founded\na13 pa82 62\n"
     ]
    },
    {
     "name": "stdout",
     "output_type": "stream",
     "text": [
      "url is founded\na13 pa82 63\n"
     ]
    },
    {
     "name": "stdout",
     "output_type": "stream",
     "text": [
      "url is founded\na13 pa82 64\n"
     ]
    },
    {
     "name": "stdout",
     "output_type": "stream",
     "text": [
      "url is founded\na13 pa82 65\n"
     ]
    },
    {
     "name": "stdout",
     "output_type": "stream",
     "text": [
      "url is founded\na13 pa82 66\n"
     ]
    },
    {
     "name": "stdout",
     "output_type": "stream",
     "text": [
      "url is founded\na13 pa82 67\nurl is not founded\na13 pa119 0\n"
     ]
    },
    {
     "name": "stdout",
     "output_type": "stream",
     "text": [
      "a13 pa119 1\n"
     ]
    },
    {
     "name": "stdout",
     "output_type": "stream",
     "text": [
      "url is founded\na13 pa119 2\n"
     ]
    },
    {
     "name": "stdout",
     "output_type": "stream",
     "text": [
      "url is founded\na13 pa119 3\n"
     ]
    },
    {
     "name": "stdout",
     "output_type": "stream",
     "text": [
      "url is founded\na13 pa119 4\n"
     ]
    },
    {
     "name": "stdout",
     "output_type": "stream",
     "text": [
      "url is founded\na13 pa119 5\n"
     ]
    },
    {
     "name": "stdout",
     "output_type": "stream",
     "text": [
      "url is founded\na13 pa119 6\n"
     ]
    },
    {
     "name": "stdout",
     "output_type": "stream",
     "text": [
      "url is founded\na13 pa119 7\n"
     ]
    },
    {
     "name": "stdout",
     "output_type": "stream",
     "text": [
      "url is founded\na13 pa119 8\n"
     ]
    },
    {
     "name": "stdout",
     "output_type": "stream",
     "text": [
      "url is founded\na13 pa119 9\n"
     ]
    },
    {
     "name": "stdout",
     "output_type": "stream",
     "text": [
      "url is founded\na13 pa119 10\n"
     ]
    },
    {
     "name": "stdout",
     "output_type": "stream",
     "text": [
      "url is founded\na13 pa119 11\n"
     ]
    },
    {
     "name": "stdout",
     "output_type": "stream",
     "text": [
      "url is founded\na13 pa119 12\n"
     ]
    },
    {
     "name": "stdout",
     "output_type": "stream",
     "text": [
      "url is founded\na13 pa119 13\n"
     ]
    },
    {
     "name": "stdout",
     "output_type": "stream",
     "text": [
      "url is founded\na13 pa119 14\n"
     ]
    },
    {
     "name": "stdout",
     "output_type": "stream",
     "text": [
      "url is founded\na13 pa119 15\n"
     ]
    },
    {
     "name": "stdout",
     "output_type": "stream",
     "text": [
      "url is founded\na13 pa119 16\n"
     ]
    },
    {
     "name": "stdout",
     "output_type": "stream",
     "text": [
      "url is founded\na13 pa119 17\n"
     ]
    },
    {
     "name": "stdout",
     "output_type": "stream",
     "text": [
      "url is founded\na13 pa119 18\n"
     ]
    },
    {
     "name": "stdout",
     "output_type": "stream",
     "text": [
      "url is founded\na13 pa119 19\n"
     ]
    },
    {
     "name": "stdout",
     "output_type": "stream",
     "text": [
      "url is founded\na13 pa119 20\n"
     ]
    },
    {
     "name": "stdout",
     "output_type": "stream",
     "text": [
      "url is founded\na13 pa119 21\n"
     ]
    },
    {
     "name": "stdout",
     "output_type": "stream",
     "text": [
      "url is founded\na13 pa119 22\n"
     ]
    },
    {
     "name": "stdout",
     "output_type": "stream",
     "text": [
      "url is founded\na13 pa119 23\n"
     ]
    },
    {
     "name": "stdout",
     "output_type": "stream",
     "text": [
      "url is founded\na13 pa119 24\n"
     ]
    },
    {
     "name": "stdout",
     "output_type": "stream",
     "text": [
      "url is founded\na13 pa119 25\n"
     ]
    },
    {
     "name": "stdout",
     "output_type": "stream",
     "text": [
      "url is founded\na13 pa119 26\n"
     ]
    },
    {
     "name": "stdout",
     "output_type": "stream",
     "text": [
      "url is founded\na13 pa119 27\n"
     ]
    },
    {
     "name": "stdout",
     "output_type": "stream",
     "text": [
      "url is founded\na13 pa119 28\n"
     ]
    },
    {
     "name": "stdout",
     "output_type": "stream",
     "text": [
      "url is founded\na13 pa119 29\n"
     ]
    },
    {
     "name": "stdout",
     "output_type": "stream",
     "text": [
      "url is founded\na13 pa119 30\n"
     ]
    },
    {
     "name": "stdout",
     "output_type": "stream",
     "text": [
      "url is founded\na13 pa119 31\n"
     ]
    },
    {
     "name": "stdout",
     "output_type": "stream",
     "text": [
      "url is founded\na13 pa119 32\n"
     ]
    },
    {
     "name": "stdout",
     "output_type": "stream",
     "text": [
      "url is founded\na13 pa119 33\n"
     ]
    },
    {
     "name": "stdout",
     "output_type": "stream",
     "text": [
      "url is founded\na13 pa119 34\n"
     ]
    },
    {
     "name": "stdout",
     "output_type": "stream",
     "text": [
      "url is founded\na13 pa119 35\n"
     ]
    },
    {
     "name": "stdout",
     "output_type": "stream",
     "text": [
      "url is founded\na13 pa119 36\n"
     ]
    },
    {
     "name": "stdout",
     "output_type": "stream",
     "text": [
      "url is founded\na13 pa119 37\n"
     ]
    },
    {
     "name": "stdout",
     "output_type": "stream",
     "text": [
      "url is founded\na13 pa119 38\n"
     ]
    },
    {
     "name": "stdout",
     "output_type": "stream",
     "text": [
      "url is founded\na13 pa119 39\n"
     ]
    },
    {
     "name": "stdout",
     "output_type": "stream",
     "text": [
      "url is founded\na13 pa119 40\n"
     ]
    },
    {
     "name": "stdout",
     "output_type": "stream",
     "text": [
      "url is founded\na13 pa119 41\n"
     ]
    },
    {
     "name": "stdout",
     "output_type": "stream",
     "text": [
      "url is founded\na13 pa119 42\n"
     ]
    },
    {
     "name": "stdout",
     "output_type": "stream",
     "text": [
      "url is founded\na13 pa119 43\n"
     ]
    },
    {
     "name": "stdout",
     "output_type": "stream",
     "text": [
      "url is founded\na13 pa119 44\n"
     ]
    },
    {
     "name": "stdout",
     "output_type": "stream",
     "text": [
      "url is founded\na13 pa119 45\n"
     ]
    },
    {
     "name": "stdout",
     "output_type": "stream",
     "text": [
      "url is founded\na13 pa119 46\n"
     ]
    },
    {
     "name": "stdout",
     "output_type": "stream",
     "text": [
      "url is founded\na13 pa119 47\n"
     ]
    },
    {
     "name": "stdout",
     "output_type": "stream",
     "text": [
      "url is founded\na13 pa119 48\n"
     ]
    },
    {
     "name": "stdout",
     "output_type": "stream",
     "text": [
      "url is founded\na13 pa119 49\n"
     ]
    },
    {
     "name": "stdout",
     "output_type": "stream",
     "text": [
      "url is founded\na13 pa119 50\n"
     ]
    },
    {
     "name": "stdout",
     "output_type": "stream",
     "text": [
      "url is founded\na13 pa119 51\n"
     ]
    },
    {
     "name": "stdout",
     "output_type": "stream",
     "text": [
      "url is founded\na13 pa119 52\n"
     ]
    },
    {
     "name": "stdout",
     "output_type": "stream",
     "text": [
      "url is not founded\na14 pa73 0\n"
     ]
    },
    {
     "name": "stdout",
     "output_type": "stream",
     "text": [
      "a14 pa73 1\n"
     ]
    },
    {
     "name": "stdout",
     "output_type": "stream",
     "text": [
      "url is founded\na14 pa73 2\n"
     ]
    },
    {
     "name": "stdout",
     "output_type": "stream",
     "text": [
      "url is founded\na14 pa73 3\n"
     ]
    },
    {
     "name": "stdout",
     "output_type": "stream",
     "text": [
      "url is founded\na14 pa73 4\n"
     ]
    },
    {
     "name": "stdout",
     "output_type": "stream",
     "text": [
      "url is founded\na14 pa73 5\n"
     ]
    },
    {
     "name": "stdout",
     "output_type": "stream",
     "text": [
      "url is founded\na14 pa73 6\n"
     ]
    },
    {
     "name": "stdout",
     "output_type": "stream",
     "text": [
      "url is founded\na14 pa73 7\n"
     ]
    },
    {
     "name": "stdout",
     "output_type": "stream",
     "text": [
      "url is founded\na14 pa73 8\n"
     ]
    },
    {
     "name": "stdout",
     "output_type": "stream",
     "text": [
      "url is founded\na14 pa73 9\n"
     ]
    },
    {
     "name": "stdout",
     "output_type": "stream",
     "text": [
      "url is founded\na14 pa73 10\n"
     ]
    },
    {
     "name": "stdout",
     "output_type": "stream",
     "text": [
      "url is founded\na14 pa73 11\n"
     ]
    },
    {
     "name": "stdout",
     "output_type": "stream",
     "text": [
      "url is founded\na14 pa73 12\n"
     ]
    },
    {
     "name": "stdout",
     "output_type": "stream",
     "text": [
      "url is founded\na14 pa73 13\n"
     ]
    },
    {
     "name": "stdout",
     "output_type": "stream",
     "text": [
      "url is founded\na14 pa73 14\n"
     ]
    },
    {
     "name": "stdout",
     "output_type": "stream",
     "text": [
      "url is founded\na14 pa73 15\n"
     ]
    },
    {
     "name": "stdout",
     "output_type": "stream",
     "text": [
      "url is founded\na14 pa73 16\nurl is not founded\na14 pa82 0\n"
     ]
    },
    {
     "name": "stdout",
     "output_type": "stream",
     "text": [
      "a14 pa82 1\n"
     ]
    },
    {
     "name": "stdout",
     "output_type": "stream",
     "text": [
      "url is founded\na14 pa82 2\n"
     ]
    },
    {
     "name": "stdout",
     "output_type": "stream",
     "text": [
      "url is founded\na14 pa82 3\n"
     ]
    },
    {
     "name": "stdout",
     "output_type": "stream",
     "text": [
      "url is founded\na14 pa82 4\n"
     ]
    },
    {
     "name": "stdout",
     "output_type": "stream",
     "text": [
      "url is founded\na14 pa82 5\n"
     ]
    },
    {
     "name": "stdout",
     "output_type": "stream",
     "text": [
      "url is founded\na14 pa82 6\n"
     ]
    },
    {
     "name": "stdout",
     "output_type": "stream",
     "text": [
      "url is founded\na14 pa82 7\n"
     ]
    },
    {
     "name": "stdout",
     "output_type": "stream",
     "text": [
      "url is founded\na14 pa82 8\n"
     ]
    },
    {
     "name": "stdout",
     "output_type": "stream",
     "text": [
      "url is founded\na14 pa82 9\n"
     ]
    },
    {
     "name": "stdout",
     "output_type": "stream",
     "text": [
      "url is founded\na14 pa82 10\n"
     ]
    },
    {
     "name": "stdout",
     "output_type": "stream",
     "text": [
      "url is founded\na14 pa82 11\n"
     ]
    },
    {
     "name": "stdout",
     "output_type": "stream",
     "text": [
      "url is founded\na14 pa82 12\n"
     ]
    },
    {
     "name": "stdout",
     "output_type": "stream",
     "text": [
      "url is founded\na14 pa82 13\n"
     ]
    },
    {
     "name": "stdout",
     "output_type": "stream",
     "text": [
      "url is founded\na14 pa82 14\n"
     ]
    },
    {
     "name": "stdout",
     "output_type": "stream",
     "text": [
      "url is founded\na14 pa82 15\nurl is not founded\na14 pa119 0\n"
     ]
    },
    {
     "name": "stdout",
     "output_type": "stream",
     "text": [
      "a14 pa119 1\n"
     ]
    },
    {
     "name": "stdout",
     "output_type": "stream",
     "text": [
      "url is founded\na14 pa119 2\n"
     ]
    },
    {
     "name": "stdout",
     "output_type": "stream",
     "text": [
      "url is founded\na14 pa119 3\n"
     ]
    },
    {
     "name": "stdout",
     "output_type": "stream",
     "text": [
      "url is founded\na14 pa119 4\n"
     ]
    },
    {
     "name": "stdout",
     "output_type": "stream",
     "text": [
      "url is founded\na14 pa119 5\n"
     ]
    },
    {
     "name": "stdout",
     "output_type": "stream",
     "text": [
      "url is founded\na14 pa119 6\n"
     ]
    },
    {
     "name": "stdout",
     "output_type": "stream",
     "text": [
      "url is founded\na14 pa119 7\n"
     ]
    },
    {
     "name": "stdout",
     "output_type": "stream",
     "text": [
      "url is founded\na14 pa119 8\n"
     ]
    },
    {
     "name": "stdout",
     "output_type": "stream",
     "text": [
      "url is founded\na14 pa119 9\n"
     ]
    },
    {
     "name": "stdout",
     "output_type": "stream",
     "text": [
      "url is founded\na14 pa119 10\n"
     ]
    },
    {
     "name": "stdout",
     "output_type": "stream",
     "text": [
      "url is founded\na14 pa119 11\nurl is not founded\na11 pa73 0\n"
     ]
    },
    {
     "name": "stdout",
     "output_type": "stream",
     "text": [
      "a11 pa73 1\n"
     ]
    },
    {
     "name": "stdout",
     "output_type": "stream",
     "text": [
      "url is founded\na11 pa73 2\n"
     ]
    },
    {
     "name": "stdout",
     "output_type": "stream",
     "text": [
      "url is founded\na11 pa73 3\n"
     ]
    },
    {
     "name": "stdout",
     "output_type": "stream",
     "text": [
      "url is founded\na11 pa73 4\n"
     ]
    },
    {
     "name": "stdout",
     "output_type": "stream",
     "text": [
      "url is founded\na11 pa73 5\n"
     ]
    },
    {
     "name": "stdout",
     "output_type": "stream",
     "text": [
      "url is founded\na11 pa73 6\n"
     ]
    },
    {
     "name": "stdout",
     "output_type": "stream",
     "text": [
      "url is founded\na11 pa73 7\n"
     ]
    },
    {
     "name": "stdout",
     "output_type": "stream",
     "text": [
      "url is founded\na11 pa73 8\n"
     ]
    },
    {
     "name": "stdout",
     "output_type": "stream",
     "text": [
      "url is founded\na11 pa73 9\nurl is not founded\na11 pa82 0\n"
     ]
    },
    {
     "name": "stdout",
     "output_type": "stream",
     "text": [
      "a11 pa82 1\n"
     ]
    },
    {
     "name": "stdout",
     "output_type": "stream",
     "text": [
      "url is founded\na11 pa82 2\n"
     ]
    },
    {
     "name": "stdout",
     "output_type": "stream",
     "text": [
      "url is founded\na11 pa82 3\n"
     ]
    },
    {
     "name": "stdout",
     "output_type": "stream",
     "text": [
      "url is founded\na11 pa82 4\n"
     ]
    },
    {
     "name": "stdout",
     "output_type": "stream",
     "text": [
      "url is founded\na11 pa82 5\n"
     ]
    },
    {
     "name": "stdout",
     "output_type": "stream",
     "text": [
      "url is founded\na11 pa82 6\n"
     ]
    },
    {
     "name": "stdout",
     "output_type": "stream",
     "text": [
      "url is founded\na11 pa82 7\n"
     ]
    },
    {
     "name": "stdout",
     "output_type": "stream",
     "text": [
      "url is founded\na11 pa82 8\nurl is not founded\na11 pa119 0\n"
     ]
    },
    {
     "name": "stdout",
     "output_type": "stream",
     "text": [
      "a11 pa119 1\n"
     ]
    },
    {
     "name": "stdout",
     "output_type": "stream",
     "text": [
      "url is founded\na11 pa119 2\n"
     ]
    },
    {
     "name": "stdout",
     "output_type": "stream",
     "text": [
      "url is founded\na11 pa119 3\n"
     ]
    },
    {
     "name": "stdout",
     "output_type": "stream",
     "text": [
      "url is founded\na11 pa119 4\n"
     ]
    },
    {
     "name": "stdout",
     "output_type": "stream",
     "text": [
      "url is founded\na11 pa119 5\n"
     ]
    },
    {
     "name": "stdout",
     "output_type": "stream",
     "text": [
      "url is founded\na11 pa119 6\n"
     ]
    },
    {
     "name": "stdout",
     "output_type": "stream",
     "text": [
      "url is founded\na11 pa119 7\nurl is not founded\n"
     ]
    }
   ],
   "source": [
    "\"\"\"\n",
    "ここからが本番\n",
    "弁護士ジャパンに登録されている東京、神奈川、埼玉の弁護士をすべて取得する\n",
    "分野は、離婚/借金/労働\n",
    "すべて取得したのち、3分野すべてに登録されている弁護士名を抽出する\n",
    "\"\"\"\n",
    "\n",
    "prefectures = ['a13', 'a14', 'a11']\n",
    "genres = ['pa73', 'pa82', 'pa119']\n",
    "\n",
    "names_tokyo_f1 = [] # debt\n",
    "names_tokyo_f3 = [] # divorce\n",
    "names_tokyo_f5 = [] # labor\n",
    "names_kanagawa_f1 = []\n",
    "names_kanagawa_f3 = []\n",
    "names_kanagawa_f5 = []\n",
    "names_saitama_f1 = []\n",
    "names_saitama_f3 = []\n",
    "names_saitama_f5 = []\n",
    "\n",
    "for prefecture in prefectures:\n",
    "    for genre in genres:\n",
    "        for page in range(100):\n",
    "            print(prefecture, genre, page)\n",
    "            if page == 0:\n",
    "                url = 'https://bengoshi-japan.com/search/lawyer/' + prefecture + '/' + genre + '/'\n",
    "                r = requests.get(url)\n",
    "                html_soup = BeautifulSoup(r.content, 'html.parser')\n",
    "                lawyer_names = html_soup.find_all('a', {'class': 'lawyer-name hover-line'})\n",
    "                for tag in lawyer_names:\n",
    "                    name = tag.text.split(' ')[0]\n",
    "                    if prefecture == 'a13':\n",
    "                        if genre == 'pa82':\n",
    "                            names_tokyo_f1.append(name)\n",
    "                        elif genre == 'pa73':\n",
    "                            names_tokyo_f3.append(name)\n",
    "                        elif genre == 'pa119':\n",
    "                            names_tokyo_f5.append(name)\n",
    "                    elif prefecture == 'a14':\n",
    "                        if genre == 'pa82':\n",
    "                            names_kanagawa_f1.append(name)\n",
    "                        elif genre == 'pa73':\n",
    "                            names_kanagawa_f3.append(name)\n",
    "                        elif genre == 'pa119':\n",
    "                            names_kanagawa_f5.append(name)\n",
    "                    elif prefecture == 'a11':\n",
    "                        if genre == 'pa82':\n",
    "                            names_saitama_f1.append(name)\n",
    "                        elif genre == 'pa73':\n",
    "                            names_saitama_f3.append(name)\n",
    "                        elif genre == 'pa119':\n",
    "                            names_saitama_f5.append(name)\n",
    "                    \n",
    "            else:\n",
    "                break_counter = 0\n",
    "                url_f = 'https://bengoshi-japan.com/search/lawyer/' + prefecture + '/' + genre + '/'\n",
    "                url = 'https://bengoshi-japan.com/search/lawyer/' + prefecture + '/' + genre + '/' + 'p{}/?'.format(page+1)\n",
    "                r = requests.get(url)\n",
    "                html_soup = BeautifulSoup(r.content, 'html.parser')\n",
    "                if html_soup.find('title').text == 'お探しのページが見つかりません | 弁護士ジャパン':\n",
    "                    break_counter = 1\n",
    "                        \n",
    "                if not break_counter == 1:\n",
    "                    print('url is founded')\n",
    "                    \n",
    "                    lawyer_names = html_soup.find_all('a', {'class': 'lawyer-name hover-line'})\n",
    "                    for tag in lawyer_names:\n",
    "                        name = tag.text.split(' ')[0]\n",
    "                        if prefecture == 'a13':\n",
    "                            if genre == 'pa82':\n",
    "                                names_tokyo_f1.append(name)\n",
    "                            elif genre == 'pa73':\n",
    "                                names_tokyo_f3.append(name)\n",
    "                            elif genre == 'pa119':\n",
    "                                names_tokyo_f5.append(name)\n",
    "                        elif prefecture == 'a14':\n",
    "                            if genre == 'pa82':\n",
    "                                names_kanagawa_f1.append(name)\n",
    "                            elif genre == 'pa73':\n",
    "                                names_kanagawa_f3.append(name)\n",
    "                            elif genre == 'pa119':\n",
    "                                names_kanagawa_f5.append(name)\n",
    "                        elif prefecture == 'a11':\n",
    "                            if genre == 'pa82':\n",
    "                                names_saitama_f1.append(name)\n",
    "                            elif genre == 'pa73':\n",
    "                                names_saitama_f3.append(name)\n",
    "                            elif genre == 'pa119':\n",
    "                                names_saitama_f5.append(name)\n",
    "                elif break_counter == 1:\n",
    "                    print('url is not founded')\n",
    "                    break\n",
    "                            \n",
    "names_tokyo_debt_bj = names_tokyo_f1\n",
    "names_tokyo_divorce_bj = names_tokyo_f3\n",
    "names_tokyo_labor_bj = names_tokyo_f5\n",
    "names_kanagawa_debt_bj = names_kanagawa_f1\n",
    "names_kanagawa_divorce_bj = names_kanagawa_f3\n",
    "names_kanagawa_labor_bj = names_kanagawa_f5\n",
    "names_saitama_debt_bj = names_saitama_f1\n",
    "names_saitama_divorce_bj = names_saitama_f3\n",
    "names_saitama_labor_bj = names_saitama_f5"
   ]
  },
  {
   "cell_type": "code",
   "execution_count": 24,
   "metadata": {
    "collapsed": true
   },
   "outputs": [
    {
     "name": "stdout",
     "output_type": "stream",
     "text": [
      "2606\n1981\n1555\n1032\n===============================\n473\n424\n319\n280\n===============================\n261\n230\n190\n159\n===============================\n"
     ]
    }
   ],
   "source": [
    "names_tokyo_3genre_bj = []\n",
    "for name in names_tokyo_divorce_bj:\n",
    "    if name in names_tokyo_debt_bj:\n",
    "        if name in names_tokyo_labor_bj:\n",
    "            names_tokyo_3genre_bj.append(name)\n",
    "\n",
    "\n",
    "print(len(names_tokyo_divorce_bj))\n",
    "print(len(names_tokyo_debt_bj))\n",
    "print(len(names_tokyo_labor_bj))\n",
    "print(len(names_tokyo_3genre_bj))\n",
    "print('===============================')\n",
    "\n",
    "names_kanagawa_3genre_bj = []\n",
    "for name in names_kanagawa_divorce_bj:\n",
    "    if name in names_kanagawa_debt_bj:\n",
    "        if name in names_kanagawa_labor_bj:\n",
    "            names_kanagawa_3genre_bj.append(name)\n",
    "\n",
    "\n",
    "print(len(names_kanagawa_divorce_bj))\n",
    "print(len(names_kanagawa_debt_bj))\n",
    "print(len(names_kanagawa_labor_bj))\n",
    "print(len(names_kanagawa_3genre_bj))\n",
    "print('===============================')\n",
    "\n",
    "names_saitama_3genre_bj = []\n",
    "for name in names_saitama_divorce_bj:\n",
    "    if name in names_saitama_debt_bj:\n",
    "        if name in names_saitama_labor_bj:\n",
    "            names_saitama_3genre_bj.append(name)\n",
    "\n",
    "\n",
    "print(len(names_saitama_divorce_bj))\n",
    "print(len(names_saitama_debt_bj))\n",
    "print(len(names_saitama_labor_bj))\n",
    "print(len(names_saitama_3genre_bj))\n",
    "print('===============================')\n"
   ]
  },
  {
   "cell_type": "code",
   "execution_count": 33,
   "metadata": {},
   "outputs": [
    {
     "name": "stdout",
     "output_type": "stream",
     "text": [
      "5 ['渡邉祐介', '宗本龍一', '若井亮', '中川浩秀', '杜多洋隆']\n4 ['種村求', '飯島俊', '山本友也', '氏家悠']\n2 ['伊東結子', '佐藤智宏']\n"
     ]
    }
   ],
   "source": [
    "\"\"\"\n",
    "弁護士ドットコム、リーガラス、弁護士ジャパンのすべてに登録している弁護士を抽出\n",
    "\"\"\"\n",
    "\n",
    "names_tokyo_3site = []\n",
    "for name in names_tokyo_3genre_dotc:\n",
    "    if name in names_tokyo_3genre_legalus:\n",
    "        if names_tokyo_3genre_bj:\n",
    "            names_tokyo_3site.append(name)\n",
    "\n",
    "names_kanagawa_3site = []\n",
    "for name in names_kanagawa_3genre_dotc:\n",
    "    if name in names_kanagawa_3genre_legalus:\n",
    "        if names_kanagawa_3genre_bj:\n",
    "            names_kanagawa_3site.append(name)\n",
    "\n",
    "names_saitama_3site = []\n",
    "for name in names_saitama_3genre_dotc:\n",
    "    if name in names_saitama_3genre_legalus:\n",
    "        if names_saitama_3genre_bj:\n",
    "            names_saitama_3site.append(name)            \n",
    "\n",
    "print(len(names_tokyo_3site), names_tokyo_3site)\n",
    "print(len(names_kanagawa_3site), names_kanagawa_3site)\n",
    "print(len(names_saitama_3site), names_saitama_3site)"
   ]
  },
  {
   "cell_type": "code",
   "execution_count": 32,
   "metadata": {},
   "outputs": [],
   "source": [
    "df = pd.DataFrame({\n",
    "    'tokyo_dotc_bj': names_tokyo_3site,\n",
    "})\n",
    "\n",
    "os.chdir('/Users/higashi/PycharmProjects/WeiboScraping/venv/sourcecode/Bengoshi_list/data')\n",
    "df.to_csv('tokyo_dotc_bj' + '.csv')\n",
    "\n",
    "df = pd.DataFrame({\n",
    "    'kanagawa_dotc_bj': names_kanagawa_3site,\n",
    "})\n",
    "\n",
    "os.chdir('/Users/higashi/PycharmProjects/WeiboScraping/venv/sourcecode/Bengoshi_list/data')\n",
    "df.to_csv('kanagawa_dotc_bj' + '.csv')\n",
    "\n",
    "df = pd.DataFrame({\n",
    "    'saitama_dotc_bj': names_saitama_3site,\n",
    "})\n",
    "\n",
    "os.chdir('/Users/higashi/PycharmProjects/WeiboScraping/venv/sourcecode/Bengoshi_list/data')\n",
    "df.to_csv('saitama_dotc_bj' + '.csv')\n"
   ]
  },
  {
   "cell_type": "code",
   "execution_count": null,
   "metadata": {},
   "outputs": [],
   "source": []
  },
  {
   "cell_type": "code",
   "execution_count": 51,
   "metadata": {},
   "outputs": [
    {
     "name": "stderr",
     "output_type": "stream",
     "text": [
      "/Users/higashi/PycharmProjects/WeiboScraping/venv/lib/python3.7/site-packages/ipykernel_launcher.py:10: DeprecationWarning: use setter for headless property instead of set_headless\n  # Remove the CWD from sys.path while we load stuff.\n"
     ]
    }
   ],
   "source": [
    "\"\"\"\n",
    "弁護士ドットコム、住所取得\n",
    "javascript？\n",
    "\"\"\"\n",
    "\n",
    "url = 'https://www.bengo4.com/kanagawa/f_1/'\n",
    "\n",
    "options = Options()\n",
    "\n",
    "options.set_headless(True)\n",
    "options.binary_location = \"/Applications/Google Chrome Canary.app/Contents/MacOS/Google Chrome Canary\"\n",
    "options.add_argument(\"--headless\")\n",
    "\n",
    "chromedriver_path = \"/Users/higashi/Desktop/Document/chromedriver/chromedriver\"\n",
    "\n",
    "driver = webdriver.Chrome(options=options,\n",
    "                          executable_path=chromedriver_path)"
   ]
  },
  {
   "cell_type": "code",
   "execution_count": 54,
   "metadata": {},
   "outputs": [],
   "source": [
    "driver.get(url)\n",
    "time.sleep(5)\n",
    "\n",
    "html = driver.page_source.encode('utf-8')\n",
    "soup = BeautifulSoup(html, 'html.parser')"
   ]
  },
  {
   "cell_type": "code",
   "execution_count": 60,
   "metadata": {
    "collapsed": true
   },
   "outputs": [
    {
     "name": "stdout",
     "output_type": "stream",
     "text": [
      "神奈川県横須賀市汐入町2-8-4YSKビル4階\n神奈川県横浜市中区日本大通18KRCビル403B\n神奈川県川崎市川崎区駅前本町11-1パシフィックマークス川崎ビル6階\n神奈川県平塚市紅谷町2-14\n神奈川県横浜市青葉区青葉台1-6-12カンゼームビル5階A-2\n神奈川県相模原市中央区千代田1-6-9共立千代田ビル2階\n神奈川県川崎市川崎区駅前本町11-1パシフィックマークス川崎ビル6階\n神奈川県小田原市栄町1-14-6都築第1ビル3階\n神奈川県相模原市南区相模大野3-13-7YSビル7階\n神奈川県川崎市川崎区駅前本町11-1パシフィックマークス川崎ビル6階\n神奈川県厚木市旭町1-27-1後藤ビル2階\n神奈川県川崎市川崎区駅前本町10-5クリエ川崎11階\n神奈川県横浜市戸塚区矢部町29カイビル本館4階\n神奈川県厚木市旭町1-27-1後藤ビル2階\n神奈川県藤沢市藤沢973相模プラザ第3ビル2階\n神奈川県横浜市中区不老町1-2-1中央第6関内ビル7階\n神奈川県川崎市川崎区東田町2-11大谷加工川崎大通りビル5階\n神奈川県川崎市中原区新丸子東3-946関口組小杉ビル3階\n神奈川県横浜市港北区綱島西1-9-13アクワレル102\n神奈川県藤沢市藤沢484-12セントラルビルディング5階\n神奈川県厚木市旭町1-27-1後藤ビル2階\n神奈川県横浜市中区住吉町1-6MPS関内401\n神奈川県横浜市西区南幸2-20-2 共栄ビル6階\n神奈川県川崎市川崎区駅前本町3-1NMF川崎東口ビル4階\n神奈川県横浜市中区尾上町2-27大洋建設関内ビル8階\n神奈川県横須賀市若松町1-1野上屋ビル6階\n神奈川県平塚市宝町11-2フォーラムビル3階\n神奈川県横浜市中区日本大通11横浜情報文化センター11階\n神奈川県横須賀市大滝町1-25-1横須賀ベイビュービルディング5階\n神奈川県川崎市中原区新丸子東2-925 白誠ビル2階\n神奈川県川崎市川崎区榎町1-8ニッコービル3階\n神奈川県横浜市中区南仲通4丁目49番地福久ビル2階\n神奈川県横浜市中区山下町252グランベル横浜ビル1階4\n神奈川県茅ヶ崎市元町4-1山口ビル2階\n神奈川県藤沢市南藤沢17-14ユニバーサル南藤沢タワー601\n神奈川県相模原市南区相模大野4-5-5相模大野ロビーファイブ2階D棟204\n神奈川県小田原市栄町2-1-27山正ビル4階\n神奈川県川崎市川崎区駅前本町10-5クリエ川崎11階\n神奈川県横浜市中区日本大通14KN日本大通ビル4階\n神奈川県横浜市中区南仲通3-35横浜エクセレントⅢ3階B1\n神奈川県海老名市中央3-2-5ダイエー海老名店2階\n神奈川県横浜市西区高島2-19-12スカイビル20階\n神奈川県横浜市西区南幸2-19-4南幸折目ビル6階\n神奈川県横浜市青葉区青葉台1-6-12カンゼームビル5階A-2\n神奈川県相模原市南区相模大野8-10-6ユタカビル6階\n神奈川県横浜市中区住吉町3-37村山ビル2階\n神奈川県横浜市中区常盤町1-1宮下ビル8階\n神奈川県横浜市神奈川区金港町5-36東興ビル7階\n神奈川県厚木市中町2-6-24ほていや第二ビル4階\n神奈川県横浜市神奈川区沢渡3-1東興ビル5階A\n050-5257-4004\n050-5257-7532\n050-5356-0595\n050-5223-7411\n050-5356-3071\n050-5887-0894\n050-5288-2441\n050-5288-2391\n050-5286-9624\n050-5877-8425\n050-5223-3808\n050-5348-5854\n050-5223-6049\n050-5289-1366\n050-5280-7280\n050-5346-3567\n050-5286-5906\n050-5349-6881\n050-5287-5609\n050-5877-9258\n050-5223-3824\n050-5257-4117\n050-5257-5910\n050-5350-4952\n050-5281-6822\n050-5265-0419\n050-5287-9051\n050-5285-0813\n050-5265-4691\n050-5347-1791\n050-5286-9517\n050-5282-8219\n050-5286-9428\n050-5223-3780\n050-5348-5844\n050-5223-3822\n050-5223-7596\n050-5257-9500\n050-5828-3590\n050-5346-7832\n050-5347-0383\n050-5257-5938\n050-5285-6029\n050-5289-5082\n050-5887-8609\n050-5282-8161\n050-5280-7202\n050-5887-7432\n050-5265-2034\n050-5286-5518\n"
     ]
    }
   ],
   "source": [
    "locs = soup.find_all('span', {'class': 'address__txt'})\n",
    "for tag in locs:\n",
    "    print(tag.text)\n",
    "    \n",
    "tels = soup.find_all('span', {'class': 'tel__txt'})\n",
    "for tag in tels:\n",
    "    print(tag.text)"
   ]
  },
  {
   "cell_type": "code",
   "execution_count": 49,
   "metadata": {
    "collapsed": false
   },
   "outputs": [
    {
     "name": "stdout",
     "output_type": "stream",
     "text": [
      "8\n['村上裕一', '平賀大樹', '細江智洋', '庄司宗弘', '川邉賢一郎', '川口彩子', '白澤章子', '藤原大輔']\n"
     ]
    }
   ],
   "source": [
    "'''\n",
    "弁護士ドットコム3分野かつ、リーガル男女\n",
    "'''\n",
    "\n",
    "A = []\n",
    "\n",
    "for name in names_kanagawa_3genre_dotc_A:\n",
    "    if name in names_kanagawa_divorce_legalus:\n",
    "        A.append(name)\n",
    "        \n",
    "print(len(A))\n",
    "print(A)"
   ]
  },
  {
   "cell_type": "code",
   "execution_count": 45,
   "metadata": {},
   "outputs": [],
   "source": []
  },
  {
   "cell_type": "code",
   "execution_count": 120,
   "metadata": {},
   "outputs": [],
   "source": [
    "'''\n",
    "辞書で保存\n",
    "'''\n",
    "\n",
    "dotcs = {'tokyo': {\n",
    "                'debt': [names_tokyo_debt_dotc, locs_tokyo_debt_dotc, tels_tokyo_debt_dotc],\n",
    "                'divorce': [names_tokyo_divorce_dotc, locs_tokyo_divorce_dotc, tels_tokyo_divorce_dotc],\n",
    "                'labor': [names_tokyo_labor_dotc, locs_tokyo_labor_dotc, tels_tokyo_labor_dotc]\n",
    "                },\n",
    "        'kanagawa': {\n",
    "                'debt': [names_kanagawa_debt_dotc, locs_kanagawa_debt_dotc, tels_kanagawa_debt_dotc],\n",
    "                'divorce': [names_kanagawa_divorce_dotc, locs_kanagawa_divorce_dotc, tels_kanagawa_divorce_dotc],\n",
    "                'labor': [names_kanagawa_labor_dotc, locs_kanagawa_labor_dotc, tels_kanagawa_labor_dotc]\n",
    "                },\n",
    "        'saitama': {\n",
    "                'debt': [names_saitama_debt_dotc, locs_saitama_debt_dotc, tels_saitama_debt_dotc],\n",
    "                'divorce': [names_saitama_divorce_dotc, locs_saitama_divorce_dotc, tels_saitama_divorce_dotc],\n",
    "                'labor':  [names_saitama_labor_dotc, locs_saitama_labor_dotc, tels_saitama_labor_dotc]\n",
    "                }\n",
    "        }\n",
    "\n",
    "\n",
    "\n",
    "legs = {'tokyo': {\n",
    "                'debt': [names_tokyo_debt_leg, locs_tokyo_debt_leg, tels_tokyo_debt_leg],\n",
    "                'divorce': [names_tokyo_divorce_leg, locs_tokyo_divorce_leg, tels_tokyo_divorce_leg],\n",
    "                'labor': [names_tokyo_labor_leg, locs_tokyo_labor_leg, tels_tokyo_labor_leg]\n",
    "                },\n",
    "        'kanagawa': {\n",
    "                'debt': [names_kanagawa_debt_leg, locs_kanagawa_debt_leg, tels_kanagawa_debt_leg],\n",
    "                'divorce': [names_kanagawa_divorce_leg, locs_kanagawa_divorce_leg , tels_kanagawa_divorce_leg],\n",
    "                'labor': [names_kanagawa_labor_leg, locs_kanagawa_labor_leg, tels_kanagawa_labor_leg]\n",
    "                },\n",
    "        'saitama': {\n",
    "                'debt': [names_saitama_debt_leg, locs_saitama_debt_leg, tels_saitama_debt_leg],\n",
    "                'divorce': [names_saitama_divorce_leg, locs_saitama_divorce_leg, tels_saitama_divorce_leg],\n",
    "                'labor':  [names_saitama_labor_leg, locs_saitama_labor_leg, tels_saitama_labor_leg]\n",
    "                }\n",
    "        }\n",
    "\n"
   ]
  },
  {
   "cell_type": "code",
   "execution_count": 128,
   "metadata": {},
   "outputs": [],
   "source": [
    "'''\n",
    "スクレイピング結果をrawdataとして保存\n",
    "'''\n",
    "\n",
    "for prefecture in ['tokyo',  'kanagawa', 'saitama']:\n",
    "    for genre in ['debt', 'divorce', 'labor']:\n",
    "        df = pd.DataFrame({\n",
    "            'names': dotcs[prefecture][genre][0],\n",
    "            'locs': dotcs[prefecture][genre][1],\n",
    "            'tels': dotcs[prefecture][genre][2],\n",
    "        })\n",
    "        os.chdir('/Users/higashi/PycharmProjects/WeiboScraping/venv/sourcecode/Bengoshi_list/data/rawdata')\n",
    "        df.to_csv('dotcs' + '_' + prefecture + '_' + genre + '.csv')\n",
    "        \n",
    "for prefecture in ['tokyo',  'kanagawa', 'saitama']:\n",
    "    for genre in ['debt', 'divorce', 'labor']:\n",
    "        df = pd.DataFrame({\n",
    "            'names': legs[prefecture][genre][0],\n",
    "            'locs': legs[prefecture][genre][1],\n",
    "            'tels': legs[prefecture][genre][2],\n",
    "        })\n",
    "        os.chdir('/Users/higashi/PycharmProjects/WeiboScraping/venv/sourcecode/Bengoshi_list/data/rawdata')\n",
    "        df.to_csv('legs' + '_' + prefecture + '_' + genre + '.csv')"
   ]
  },
  {
   "cell_type": "code",
   "execution_count": 129,
   "metadata": {},
   "outputs": [
    {
     "name": "stdout",
     "output_type": "stream",
     "text": [
      "42 ['尾崎隆', '田島宏峰', '植田薫', '福井俊介', '畔柳秀勝', '藤原大輔', '滝井聡', '中間隼人', '山本新一郎', '高橋賢司', '鈴木義仁', '川口彩子', '風間喬平', '柳下明生', '庄司宗弘', '岡村貴之', '川邉賢一郎', '向井邦生', '塚越文也', '阿部泰典', '平賀大樹', '細江智洋', '西井伸顕', '大森望', '小谷馨', '佐々木博征', '若井公志', '西村隆雄', '大橋賢也', '土屋健志', '飯島俊', '村上裕一', '石坂想', '糸井淳一', '青山良治', '西大良', '山本友也', '稲垣周太朗', '海江田誠', '伊藤諭', '神原元', '青野壽和']\n42 ['神奈川県相模原市南区上鶴間本町3-18-27 グローリア初穂町田1103', '神奈川県藤沢市藤沢973相模プラザ第3ビル2階', '神奈川県横浜市中区不老町1-6-9第1HBビル7階', '神奈川県横浜市西区高島2-10-13横浜東口ビル603号室', '神奈川県横浜市中区太田町4-55横浜馬車道ビル7階', '神奈川県横浜市中区万代町1-2-12VORT横浜関内Ⅲ7階Ａ2', '神奈川県横浜市都筑区茅ケ崎中央42-21第2佐藤ビル304', '神奈川県横浜市中区相生町4丁目69番関内和孝ビル5階', '神奈川県横浜市西区南幸2-19-4南幸折目ビル6階', '神奈川県横浜市神奈川区西神奈川1-7-8ことぶきビル4階-A', '神奈川県横浜市神奈川区金港町5-36東興ビル7階', '神奈川県川崎市川崎区砂子1-10-2ソシオ砂子ビル7階', '神奈川県川崎市中原区新丸子東2-925 白誠ビル2階', '神奈川県横浜市青葉区青葉台1-6-14エキニア青葉台4階', '神奈川県横浜市中区元町5-196-13ウィーズ元町ビル7階', '神奈川県横浜市西区北幸2-3-19日総第8ビル', '神奈川県横浜市西区高島2-19-12スカイビル20階', '神奈川県横浜市中区山下町74-1大和地所ビル9階', '神奈川県横浜市西区南幸2-19-4南幸折目ビル6階', '神奈川県横浜市中区山下町207関内JSビル8階', '神奈川県横浜市神奈川区金港町5-36東興ビル7階', '神奈川県横浜市中区日本大通14KN日本大通ビル4階', '神奈川県川崎市高津区溝口1丁目1番17号MIビル5階', '神奈川県横浜市中区弁天通5-70損保ジャパン日本興亜横浜馬車道ビル3階', '神奈川県相模原市南区相模大野8-10-6ユタカビル6階', '神奈川県横浜市青葉区青葉台1-6-12カンゼームビル5階A-2', '神奈川県横浜市神奈川区栄町8-1ヨコハマポートサイドビル3階', '神奈川県川崎市川崎区砂子1-10-2ソシオ砂子ビル7階', '神奈川県川崎市川崎区砂子1丁目10-2ソシオ砂子302', '神奈川県川崎市川崎区駅前本町10-5クリエ川崎11階', '神奈川県横浜市神奈川区台町7-2ハイツ横浜505', '神奈川県川崎市宮前区鷺沼3-5-18鷺坂第一ビル1階西', '神奈川県川崎市中原区新丸子東3-946関口組小杉ビル3階', '神奈川県横浜市中区日本大通15横浜朝日会館8階', '神奈川県横浜市中区日本大通18KRCビル403B', '神奈川県厚木市中町4-16-18ヤギビル4階', '神奈川県川崎市川崎区東田町6-2ミヤダイビル8階', '神奈川県横浜市戸塚区品濃町548-2東戸塚NSビル3階', '神奈川県横浜市中区弁天通2-21アトム関内ビル2階', '神奈川県川崎市川崎区東田町5-3ホンマビル4階', '神奈川県川崎市中原区新丸子東2-895武蔵小杉ATビル505', '神奈川県横浜市中区常盤町1-2-1関内電子ビル2階C']\n42 ['\\n          049-224-0020', '\\n          049-224-0020', '\\n          049-224-0020', '\\n          049-224-0020', '\\n          049-224-0020', '\\n          049-224-0020', '\\n          049-224-0020', '\\n          049-224-0020', '\\n          049-224-0020', '\\n          049-224-0020', '\\n          049-224-0020', '\\n          049-224-0020', '\\n          049-224-0020', '\\n          049-224-0020', '\\n          049-224-0020', '\\n          049-224-0020', '\\n          049-224-0020', '\\n          049-224-0020', '\\n          049-224-0020', '\\n          049-224-0020', '\\n          049-224-0020', '\\n          049-224-0020', '\\n          049-224-0020', '\\n          049-224-0020', '\\n          049-224-0020', '\\n          049-224-0020', '\\n          049-224-0020', '\\n          049-224-0020', '\\n          049-224-0020', '\\n          049-224-0020', '\\n          049-224-0020', '\\n          049-224-0020', '\\n          049-224-0020', '\\n          049-224-0020', '\\n          049-224-0020', '\\n          049-224-0020', '\\n          049-224-0020', '\\n          049-224-0020', '\\n          049-224-0020', '\\n          049-224-0020', '\\n          049-224-0020', '\\n          049-224-0020']\n"
     ]
    }
   ],
   "source": [
    "\n",
    "\n",
    "names =  []\n",
    "locs = []\n",
    "tels = []\n",
    "\n",
    "for i, name in enumerate(dotcs['kanagawa']['divorce'][0]):\n",
    "    if name in legs['kanagawa']['divorce'][0]:\n",
    "        names.append(name)\n",
    "        locs.append(dotcs['kanagawa']['divorce'][1][i])\n",
    "        tels.append(dotcs['kanagawa']['divorce'][2][i])\n",
    "        \n",
    "print(len(names), names)\n",
    "print(len(locs), locs)\n",
    "print(len(tels),  tels)"
   ]
  },
  {
   "cell_type": "code",
   "execution_count": 130,
   "metadata": {},
   "outputs": [
    {
     "name": "stdout",
     "output_type": "stream",
     "text": [
      "234\n141\n"
     ]
    }
   ],
   "source": [
    "print(len(dotcs['kanagawa']['divorce'][0]))\n",
    "print(len(legs['kanagawa']['divorce'][0]))"
   ]
  },
  {
   "cell_type": "code",
   "execution_count": 131,
   "metadata": {},
   "outputs": [],
   "source": [
    "'''\n",
    "神奈川、離婚に限定\n",
    "ドットコムとリーガラスの両方に登録している弁護士を抽出\n",
    "'''\n",
    "\n",
    "names = []\n",
    "locs = []\n",
    "tels = []\n",
    "\n",
    "for i, name in enumerate(dotcs['kanagawa']['divorce'][0]):\n",
    "    if name in legs['kanagawa']['divorce'][0]:\n",
    "        names.append(name)\n",
    "        locs.append(dotcs['kanagawa']['divorce'][1][i])\n",
    "        tels.append(dotcs['kanagawa']['divorce'][2][i])\n",
    "\n",
    "df = pd.DataFrame({\n",
    "    'names': names,\n",
    "    'locs': locs,\n",
    "    'tels': tels\n",
    "})\n",
    "\n",
    "os.chdir('/Users/higashi/PycharmProjects/WeiboScraping/venv/sourcecode/Bengoshi_list/data')\n",
    "df.to_csv('kanagawa_divorce_dotc_leg'+ '.csv')"
   ]
  },
  {
   "cell_type": "code",
   "execution_count": 132,
   "metadata": {},
   "outputs": [],
   "source": [
    "'''\n",
    "東京、離婚に限定\n",
    "ドットコムとリーガラスの両方に登録している弁護士を抽出\n",
    "'''\n",
    "\n",
    "names = []\n",
    "locs = []\n",
    "tels = []\n",
    "\n",
    "for i, name in enumerate(dotcs['tokyo']['divorce'][0]):\n",
    "    if name in legs['tokyo']['divorce'][0]:\n",
    "        names.append(name)\n",
    "        locs.append(dotcs['tokyo']['divorce'][1][i])\n",
    "        tels.append(dotcs['tokyo']['divorce'][2][i])\n",
    "\n",
    "df = pd.DataFrame({\n",
    "    'names': names,\n",
    "    'locs': locs,\n",
    "    'tels': tels\n",
    "})\n",
    "\n",
    "os.chdir('/Users/higashi/PycharmProjects/WeiboScraping/venv/sourcecode/Bengoshi_list/data')\n",
    "df.to_csv('tokyo_divorce_dotc_leg'+ '.csv')"
   ]
  },
  {
   "cell_type": "code",
   "execution_count": 133,
   "metadata": {},
   "outputs": [],
   "source": [
    "'''\n",
    "埼玉、離婚に限定\n",
    "ドットコムとリーガラスの両方に登録している弁護士を抽出\n",
    "'''\n",
    "\n",
    "names = []\n",
    "locs = []\n",
    "tels = []\n",
    "\n",
    "for i, name in enumerate(dotcs['saitama']['divorce'][0]):\n",
    "    if name in legs['saitama']['divorce'][0]:\n",
    "        names.append(name)\n",
    "        locs.append(dotcs['saitama']['divorce'][1][i])\n",
    "        tels.append(dotcs['saitama']['divorce'][2][i])\n",
    "\n",
    "df = pd.DataFrame({\n",
    "    'names': names,\n",
    "    'locs': locs,\n",
    "    'tels': tels\n",
    "})\n",
    "\n",
    "os.chdir('/Users/higashi/PycharmProjects/WeiboScraping/venv/sourcecode/Bengoshi_list/data')\n",
    "df.to_csv('saitama_divorce_dotc_leg'+ '.csv')"
   ]
  },
  {
   "cell_type": "code",
   "execution_count": 129,
   "metadata": {},
   "outputs": [],
   "source": []
  },
  {
   "cell_type": "code",
   "execution_count": 129,
   "metadata": {},
   "outputs": [],
   "source": []
  },
  {
   "cell_type": "code",
   "execution_count": null,
   "metadata": {},
   "outputs": [],
   "source": []
  }
 ],
 "metadata": {
  "kernelspec": {
   "display_name": "Python 2",
   "language": "python",
   "name": "python2"
  },
  "language_info": {
   "codemirror_mode": {
    "name": "ipython",
    "version": 2
   },
   "file_extension": ".py",
   "mimetype": "text/x-python",
   "name": "python",
   "nbconvert_exporter": "python",
   "pygments_lexer": "ipython2",
   "version": "2.7.6"
  }
 },
 "nbformat": 4,
 "nbformat_minor": 0
}
