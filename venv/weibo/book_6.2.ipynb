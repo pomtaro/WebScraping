{
 "cells": [
  {
   "cell_type": "heading",
   "metadata": {
    "collapsed": true
   },
   "level": 1,
   "source": [
    "==========簡単なクローラー=========="
   ]
  },
  {
   "cell_type": "code",
   "execution_count": null,
   "metadata": {},
   "outputs": [],
   "source": [
    "import requests\n",
    "from bs4 import BeautifulSoup\n",
    "from urllib.parse import urljoin\n",
    "import records"
   ]
  },
  {
   "cell_type": "code",
   "execution_count": 9,
   "metadata": {},
   "outputs": [],
   "source": [
    "links_todo = ['http://www.webscrapingfordatascience.com/crawler/']\n",
    "links_seen = set()"
   ]
  },
  {
   "cell_type": "code",
   "execution_count": 10,
   "metadata": {},
   "outputs": [],
   "source": [
    "\"\"\"\n",
    "arg: url -> アクセスするurlリンク\n",
    "arg: links_seen -> 既にアクセスしたリンク\n",
    "var: new_links -> 新たに見つけたリンクを格納するリスト\n",
    "\"\"\"\n",
    "\n",
    "def visit(url, links_seen):\n",
    "    html = requests.get(url).text\n",
    "    html_soup = BeautifulSoup(html, 'html.parser')\n",
    "    \n",
    "    new_links = []\n",
    "    \n",
    "    for link in html_soup.find_all(\"a\"):\n",
    "        link_url = link.get('href')\n",
    "        \n",
    "        if link_url is None:\n",
    "            continue\n",
    "        full_url = urljoin(url, link_url)\n",
    "        \n",
    "        if full_url in links_seen:\n",
    "            continue\n",
    "        \n",
    "        new_links.append(full_url)\n",
    "    \n",
    "    return new_links"
   ]
  },
  {
   "cell_type": "code",
   "execution_count": 22,
   "metadata": {
    "collapsed": true
   },
   "outputs": [
    {
     "name": "stdout",
     "output_type": "stream",
     "text": [
      "Now visiting: http://www.webscrapingfordatascience.com/crawler/\n"
     ]
    },
    {
     "name": "stdout",
     "output_type": "stream",
     "text": [
      "5 new link(s) found\nNow visiting: http://www.webscrapingfordatascience.com/crawler/?r=2e07a2c63fcc0240f7cfd3eef1d8bf53\n"
     ]
    },
    {
     "name": "stdout",
     "output_type": "stream",
     "text": [
      "5 new link(s) found\nNow visiting: http://www.webscrapingfordatascience.com/crawler/?r=65ca53d1e92fca1284080853d48c0e06\n"
     ]
    },
    {
     "name": "stdout",
     "output_type": "stream",
     "text": [
      "5 new link(s) found\nNow visiting: http://www.webscrapingfordatascience.com/crawler/?r=842f60640c066e78074f6f4190f879e3\n"
     ]
    },
    {
     "name": "stdout",
     "output_type": "stream",
     "text": [
      "5 new link(s) found\nNow visiting: http://www.webscrapingfordatascience.com/crawler/?r=fb2eddd1edf0e814aed11d30f5fa5613\n"
     ]
    },
    {
     "name": "stdout",
     "output_type": "stream",
     "text": [
      "5 new link(s) found\nNow visiting: http://www.webscrapingfordatascience.com/crawler/?r=2307a2ec615395eb19837e8b319acb63\n"
     ]
    },
    {
     "name": "stdout",
     "output_type": "stream",
     "text": [
      "5 new link(s) found\nNow visiting: http://www.webscrapingfordatascience.com/crawler/?r=42ecf49de07b526a4f8f95a81c30c893\n"
     ]
    },
    {
     "name": "stdout",
     "output_type": "stream",
     "text": [
      "5 new link(s) found\nNow visiting: http://www.webscrapingfordatascience.com/crawler/?r=422fad19e7e045283b4e07fa86e950d0\n"
     ]
    },
    {
     "name": "stdout",
     "output_type": "stream",
     "text": [
      "5 new link(s) found\nNow visiting: http://www.webscrapingfordatascience.com/crawler/?r=68b4b2f89aa539af8af21124fef2dd47\n"
     ]
    },
    {
     "name": "stdout",
     "output_type": "stream",
     "text": [
      "5 new link(s) found\nNow visiting: http://www.webscrapingfordatascience.com/crawler/?r=ecf2d0f97b8bbd4c0de6146a766c79c7\n"
     ]
    },
    {
     "name": "stdout",
     "output_type": "stream",
     "text": [
      "5 new link(s) found\nNow visiting: http://www.webscrapingfordatascience.com/crawler/?r=7d663ca8a3cecb0aaee31f7aa226fd4b\n"
     ]
    },
    {
     "name": "stdout",
     "output_type": "stream",
     "text": [
      "5 new link(s) found\nNow visiting: http://www.webscrapingfordatascience.com/crawler/?r=92d8a04912e2210d54269478e2adf187\n"
     ]
    },
    {
     "name": "stdout",
     "output_type": "stream",
     "text": [
      "5 new link(s) found\nNow visiting: http://www.webscrapingfordatascience.com/crawler/?r=088e483788dfcc9a2e3b15c16eac5796\n"
     ]
    },
    {
     "name": "stdout",
     "output_type": "stream",
     "text": [
      "5 new link(s) found\nNow visiting: http://www.webscrapingfordatascience.com/crawler/?r=7ec8a4113d068a798d880799f126948b\n"
     ]
    },
    {
     "name": "stdout",
     "output_type": "stream",
     "text": [
      "5 new link(s) found\nNow visiting: http://www.webscrapingfordatascience.com/crawler/?r=66970af2f325fbb22f835c1eee5b5a5b\n"
     ]
    },
    {
     "name": "stdout",
     "output_type": "stream",
     "text": [
      "5 new link(s) found\nNow visiting: http://www.webscrapingfordatascience.com/crawler/?r=4f2c7b6d32a69f577915e2e426a3cea6\n"
     ]
    },
    {
     "name": "stdout",
     "output_type": "stream",
     "text": [
      "5 new link(s) found\nNow visiting: http://www.webscrapingfordatascience.com/crawler/?r=d12985192b856692e3228d81b9aaaaf0\n"
     ]
    },
    {
     "name": "stdout",
     "output_type": "stream",
     "text": [
      "5 new link(s) found\nNow visiting: http://www.webscrapingfordatascience.com/crawler/?r=4b852d88e601550850e464af2df09a84\n"
     ]
    },
    {
     "name": "stdout",
     "output_type": "stream",
     "text": [
      "5 new link(s) found\nNow visiting: http://www.webscrapingfordatascience.com/crawler/?r=abdd6b949b9be749de8521c5a8faf916\n"
     ]
    },
    {
     "name": "stdout",
     "output_type": "stream",
     "text": [
      "5 new link(s) found\nNow visiting: http://www.webscrapingfordatascience.com/crawler/?r=5c44e0d0f7a500787417b6d9f7143bb9\n"
     ]
    },
    {
     "name": "stdout",
     "output_type": "stream",
     "text": [
      "5 new link(s) found\nNow visiting: http://www.webscrapingfordatascience.com/crawler/?r=bf6f10d885107fd55a4f8ab63e5af1c7\n"
     ]
    },
    {
     "name": "stdout",
     "output_type": "stream",
     "text": [
      "5 new link(s) found\nNow visiting: http://www.webscrapingfordatascience.com/crawler/?r=094cc22ca44f64ca180e8863518d7c9f\n"
     ]
    },
    {
     "name": "stdout",
     "output_type": "stream",
     "text": [
      "5 new link(s) found\nNow visiting: http://www.webscrapingfordatascience.com/crawler/?r=ee4c864727bc236296d5ef864c3a5695\n"
     ]
    },
    {
     "name": "stdout",
     "output_type": "stream",
     "text": [
      "5 new link(s) found\nNow visiting: http://www.webscrapingfordatascience.com/crawler/?r=1488455bfe31fc0baff3f9abee72e8b9\n"
     ]
    },
    {
     "name": "stdout",
     "output_type": "stream",
     "text": [
      "5 new link(s) found\nNow visiting: http://www.webscrapingfordatascience.com/crawler/?r=18e25a61a3f936a5e502ec71c2992387\n"
     ]
    },
    {
     "name": "stdout",
     "output_type": "stream",
     "text": [
      "5 new link(s) found\nNow visiting: http://www.webscrapingfordatascience.com/crawler/?r=a122c8c821c2e206c2baf3e748dec096\n"
     ]
    },
    {
     "name": "stdout",
     "output_type": "stream",
     "text": [
      "5 new link(s) found\nNow visiting: http://www.webscrapingfordatascience.com/crawler/?r=6d5863b4a915d8148fc691fddc36928d\n"
     ]
    },
    {
     "name": "stdout",
     "output_type": "stream",
     "text": [
      "5 new link(s) found\nNow visiting: http://www.webscrapingfordatascience.com/crawler/?r=c7fd77e6e99344a8535444100833d636\n"
     ]
    },
    {
     "name": "stdout",
     "output_type": "stream",
     "text": [
      "5 new link(s) found\nNow visiting: http://www.webscrapingfordatascience.com/crawler/?r=bb421b7068ac6ebb79def95fac0973e4\n"
     ]
    },
    {
     "name": "stdout",
     "output_type": "stream",
     "text": [
      "5 new link(s) found\nNow visiting: http://www.webscrapingfordatascience.com/crawler/?r=96ca38558c024ba9b8c0a5d6ec1b3346\n"
     ]
    },
    {
     "name": "stdout",
     "output_type": "stream",
     "text": [
      "5 new link(s) found\nNow visiting: http://www.webscrapingfordatascience.com/crawler/?r=9b7e69d5c67c3fca5c09489ac1061d2c\n"
     ]
    },
    {
     "name": "stdout",
     "output_type": "stream",
     "text": [
      "5 new link(s) found\nNow visiting: http://www.webscrapingfordatascience.com/crawler/?r=b266dee59d19493f5973f1f44cb46b74\n"
     ]
    },
    {
     "name": "stdout",
     "output_type": "stream",
     "text": [
      "5 new link(s) found\nNow visiting: http://www.webscrapingfordatascience.com/crawler/?r=f8fff94efa3ec4a0b9f160de60647f59\n"
     ]
    },
    {
     "name": "stdout",
     "output_type": "stream",
     "text": [
      "5 new link(s) found\nNow visiting: http://www.webscrapingfordatascience.com/crawler/?r=90d3bc161107d917d90557440b4e2a47\n"
     ]
    },
    {
     "name": "stdout",
     "output_type": "stream",
     "text": [
      "5 new link(s) found\nNow visiting: http://www.webscrapingfordatascience.com/crawler/?r=a0cbdaf69dfd75051fb4ffe57c7b1240\n"
     ]
    },
    {
     "name": "stdout",
     "output_type": "stream",
     "text": [
      "5 new link(s) found\nNow visiting: http://www.webscrapingfordatascience.com/crawler/?r=f25e8b6be8c9ef2e1066bececdcd9f59\n"
     ]
    },
    {
     "name": "stdout",
     "output_type": "stream",
     "text": [
      "5 new link(s) found\nNow visiting: http://www.webscrapingfordatascience.com/crawler/?r=6b1aeb6bc740252bc9233ade6fadbce9\n"
     ]
    },
    {
     "name": "stdout",
     "output_type": "stream",
     "text": [
      "5 new link(s) found\nNow visiting: http://www.webscrapingfordatascience.com/crawler/?r=2c174ea0c77e5bdd626e8bd462cb89d6\n"
     ]
    },
    {
     "name": "stdout",
     "output_type": "stream",
     "text": [
      "5 new link(s) found\nNow visiting: http://www.webscrapingfordatascience.com/crawler/?r=68629f0003567ededf0919fd96559dcb\n"
     ]
    },
    {
     "name": "stdout",
     "output_type": "stream",
     "text": [
      "5 new link(s) found\nNow visiting: http://www.webscrapingfordatascience.com/crawler/?r=7e0bdc15d4e6cd0f04d36d7e7bfe888b\n"
     ]
    },
    {
     "name": "stdout",
     "output_type": "stream",
     "text": [
      "5 new link(s) found\nNow visiting: http://www.webscrapingfordatascience.com/crawler/?r=54ecf4c8c69439d2c0741a0c223b736a\n"
     ]
    },
    {
     "name": "stdout",
     "output_type": "stream",
     "text": [
      "5 new link(s) found\nNow visiting: http://www.webscrapingfordatascience.com/crawler/?r=78cd7ec4d6cffeb3ac70235c0d5e1f34\n"
     ]
    },
    {
     "name": "stdout",
     "output_type": "stream",
     "text": [
      "5 new link(s) found\nNow visiting: http://www.webscrapingfordatascience.com/crawler/?r=7d88203c03db6561135f4ffbe9372508\n"
     ]
    },
    {
     "name": "stdout",
     "output_type": "stream",
     "text": [
      "5 new link(s) found\nNow visiting: http://www.webscrapingfordatascience.com/crawler/?r=af7ed895c7b4d45f52e4fbe98ab2cc77\n"
     ]
    },
    {
     "name": "stdout",
     "output_type": "stream",
     "text": [
      "5 new link(s) found\nNow visiting: http://www.webscrapingfordatascience.com/crawler/?r=998caefbcfbb3be2c854664484b726d3\n"
     ]
    },
    {
     "name": "stdout",
     "output_type": "stream",
     "text": [
      "5 new link(s) found\nNow visiting: http://www.webscrapingfordatascience.com/crawler/?r=2842e3a105f8818d6dd00700d96aed86\n"
     ]
    },
    {
     "name": "stdout",
     "output_type": "stream",
     "text": [
      "5 new link(s) found\nNow visiting: http://www.webscrapingfordatascience.com/crawler/?r=993c3be601d427e1ba45c5e171cfc43d\n"
     ]
    },
    {
     "name": "stdout",
     "output_type": "stream",
     "text": [
      "5 new link(s) found\nNow visiting: http://www.webscrapingfordatascience.com/crawler/?r=8db1b6eece8845fabb368f15956414d2\n"
     ]
    },
    {
     "name": "stdout",
     "output_type": "stream",
     "text": [
      "5 new link(s) found\nNow visiting: http://www.webscrapingfordatascience.com/crawler/?r=fcadcf8f0f6e5cf3f7e82bd6b1d8e5ed\n"
     ]
    },
    {
     "name": "stdout",
     "output_type": "stream",
     "text": [
      "5 new link(s) found\nNow visiting: http://www.webscrapingfordatascience.com/crawler/?r=afe10c1c2f0c8aec80780c1b541cb9da\n"
     ]
    },
    {
     "name": "stdout",
     "output_type": "stream",
     "text": [
      "5 new link(s) found\nNow visiting: http://www.webscrapingfordatascience.com/crawler/?r=43ed33983711ca04fff3dae69d381d43\n"
     ]
    },
    {
     "name": "stdout",
     "output_type": "stream",
     "text": [
      "5 new link(s) found\nNow visiting: http://www.webscrapingfordatascience.com/crawler/?r=f0a6ca39d86944f8fa23d36060fad8e8\n"
     ]
    },
    {
     "name": "stdout",
     "output_type": "stream",
     "text": [
      "5 new link(s) found\nNow visiting: http://www.webscrapingfordatascience.com/crawler/?r=78a68adf9bf5bc12f9e2925c8cec7d0d\n"
     ]
    },
    {
     "name": "stdout",
     "output_type": "stream",
     "text": [
      "5 new link(s) found\nNow visiting: http://www.webscrapingfordatascience.com/crawler/?r=c00c0d903378d2bd2c62533b849f3675\n"
     ]
    },
    {
     "name": "stdout",
     "output_type": "stream",
     "text": [
      "5 new link(s) found\nNow visiting: http://www.webscrapingfordatascience.com/crawler/?r=1d214d904edd17cbdf3aec9479d82c75\n"
     ]
    },
    {
     "name": "stdout",
     "output_type": "stream",
     "text": [
      "5 new link(s) found\nNow visiting: http://www.webscrapingfordatascience.com/crawler/?r=dc3511f864364851880e6a3b1f11c1f6\n"
     ]
    },
    {
     "name": "stdout",
     "output_type": "stream",
     "text": [
      "5 new link(s) found\nNow visiting: http://www.webscrapingfordatascience.com/crawler/?r=fc71276bd3d06f9a74b95284dada0806\n"
     ]
    },
    {
     "name": "stdout",
     "output_type": "stream",
     "text": [
      "5 new link(s) found\nNow visiting: http://www.webscrapingfordatascience.com/crawler/?r=0d3fd4e314cfce9e238bd59ab81780e9\n"
     ]
    },
    {
     "name": "stdout",
     "output_type": "stream",
     "text": [
      "5 new link(s) found\nNow visiting: http://www.webscrapingfordatascience.com/crawler/?r=e12cee2f3c5d60349b43d0b0e4f012af\n"
     ]
    },
    {
     "name": "stdout",
     "output_type": "stream",
     "text": [
      "5 new link(s) found\nNow visiting: http://www.webscrapingfordatascience.com/crawler/?r=362bde28ee4a90aa2831b3c32510fe72\n"
     ]
    },
    {
     "name": "stdout",
     "output_type": "stream",
     "text": [
      "5 new link(s) found\nNow visiting: http://www.webscrapingfordatascience.com/crawler/?r=eab7d8eafe54a6d565aad12ddd9395e3\n"
     ]
    },
    {
     "name": "stdout",
     "output_type": "stream",
     "text": [
      "5 new link(s) found\nNow visiting: http://www.webscrapingfordatascience.com/crawler/?r=ef294251eef7197dd1129bd43cfdb645\n"
     ]
    },
    {
     "name": "stdout",
     "output_type": "stream",
     "text": [
      "5 new link(s) found\nNow visiting: http://www.webscrapingfordatascience.com/crawler/?r=d58b77631ca2e83370d5b8b8b25881b2\n"
     ]
    },
    {
     "name": "stdout",
     "output_type": "stream",
     "text": [
      "5 new link(s) found\nNow visiting: http://www.webscrapingfordatascience.com/crawler/?r=c31c760446773eee4a38a11fe976fe6e\n"
     ]
    },
    {
     "name": "stdout",
     "output_type": "stream",
     "text": [
      "5 new link(s) found\nNow visiting: http://www.webscrapingfordatascience.com/crawler/?r=77c2f69dc04e504e24178f9dd7d76c17\n"
     ]
    },
    {
     "name": "stdout",
     "output_type": "stream",
     "text": [
      "5 new link(s) found\nNow visiting: http://www.webscrapingfordatascience.com/crawler/?r=57541dc85e7374bfbaa17b7e0b89fb0a\n"
     ]
    },
    {
     "name": "stdout",
     "output_type": "stream",
     "text": [
      "5 new link(s) found\nNow visiting: http://www.webscrapingfordatascience.com/crawler/?r=30d7fd0026e58fb00f1054960fc101f9\n"
     ]
    },
    {
     "name": "stdout",
     "output_type": "stream",
     "text": [
      "5 new link(s) found\nNow visiting: http://www.webscrapingfordatascience.com/crawler/?r=a7c23a63632654c070c5784cd63e5fd2\n"
     ]
    },
    {
     "name": "stdout",
     "output_type": "stream",
     "text": [
      "5 new link(s) found\nNow visiting: http://www.webscrapingfordatascience.com/crawler/?r=10d5611065ddfbd3c25b4a63b9000f6b\n"
     ]
    },
    {
     "name": "stdout",
     "output_type": "stream",
     "text": [
      "5 new link(s) found\nNow visiting: http://www.webscrapingfordatascience.com/crawler/?r=c374e838a7a843695a811bf02e22ead5\n"
     ]
    },
    {
     "name": "stdout",
     "output_type": "stream",
     "text": [
      "5 new link(s) found\nNow visiting: http://www.webscrapingfordatascience.com/crawler/?r=c5ce86da95fa559bdee3726d0ef2e0b8\n"
     ]
    },
    {
     "name": "stdout",
     "output_type": "stream",
     "text": [
      "5 new link(s) found\nNow visiting: http://www.webscrapingfordatascience.com/crawler/?r=011d430d647d5da23efa63f8f83e5136\n"
     ]
    },
    {
     "name": "stdout",
     "output_type": "stream",
     "text": [
      "5 new link(s) found\nNow visiting: http://www.webscrapingfordatascience.com/crawler/?r=6e58f146c7760caec1cfe3e739ddcd36\n"
     ]
    },
    {
     "name": "stdout",
     "output_type": "stream",
     "text": [
      "5 new link(s) found\nNow visiting: http://www.webscrapingfordatascience.com/crawler/?r=6bf20902352676e62d35eb1301da8212\n"
     ]
    },
    {
     "name": "stdout",
     "output_type": "stream",
     "text": [
      "5 new link(s) found\nNow visiting: http://www.webscrapingfordatascience.com/crawler/?r=9ee257701f207189ca15e98172ad3dd5\n"
     ]
    },
    {
     "name": "stdout",
     "output_type": "stream",
     "text": [
      "5 new link(s) found\nNow visiting: http://www.webscrapingfordatascience.com/crawler/?r=02d2e1202e352fe8672911807b68997d\n"
     ]
    },
    {
     "name": "stdout",
     "output_type": "stream",
     "text": [
      "5 new link(s) found\nNow visiting: http://www.webscrapingfordatascience.com/crawler/?r=f23b26e0af52eebb6a2625328e008a2a\n"
     ]
    },
    {
     "name": "stdout",
     "output_type": "stream",
     "text": [
      "5 new link(s) found\nNow visiting: http://www.webscrapingfordatascience.com/crawler/?r=febfc8c26fd88a1b48003b3cb434701c\n"
     ]
    },
    {
     "name": "stdout",
     "output_type": "stream",
     "text": [
      "5 new link(s) found\nNow visiting: http://www.webscrapingfordatascience.com/crawler/?r=b75c5b9f70af40c868ea60c0278bfccf\n"
     ]
    },
    {
     "name": "stdout",
     "output_type": "stream",
     "text": [
      "5 new link(s) found\nNow visiting: http://www.webscrapingfordatascience.com/crawler/?r=844a6b97665af5f2c4fae5571055a737\n"
     ]
    },
    {
     "name": "stdout",
     "output_type": "stream",
     "text": [
      "5 new link(s) found\nNow visiting: http://www.webscrapingfordatascience.com/crawler/?r=f957e89ebf2a74faebe7f17ccbc8eb64\n"
     ]
    },
    {
     "name": "stdout",
     "output_type": "stream",
     "text": [
      "5 new link(s) found\nNow visiting: http://www.webscrapingfordatascience.com/crawler/?r=0ee5492c191bd21133b06d8f276f468b\n"
     ]
    },
    {
     "name": "stdout",
     "output_type": "stream",
     "text": [
      "5 new link(s) found\nNow visiting: http://www.webscrapingfordatascience.com/crawler/?r=934a5c41813607c459abed631871b18d\n"
     ]
    },
    {
     "name": "stdout",
     "output_type": "stream",
     "text": [
      "5 new link(s) found\nNow visiting: http://www.webscrapingfordatascience.com/crawler/?r=c57d2226e39c0f1b356848aa9df18f87\n"
     ]
    },
    {
     "name": "stdout",
     "output_type": "stream",
     "text": [
      "5 new link(s) found\nNow visiting: http://www.webscrapingfordatascience.com/crawler/?r=d82bd7869965593afc06108587da5a1f\n"
     ]
    },
    {
     "name": "stdout",
     "output_type": "stream",
     "text": [
      "5 new link(s) found\nNow visiting: http://www.webscrapingfordatascience.com/crawler/?r=0df7489ec8ce55a1e3ca5a965c7cc4e4\n"
     ]
    },
    {
     "name": "stdout",
     "output_type": "stream",
     "text": [
      "5 new link(s) found\nNow visiting: http://www.webscrapingfordatascience.com/crawler/?r=b758e3fab705d5bae04e92a79af41f8d\n"
     ]
    },
    {
     "name": "stdout",
     "output_type": "stream",
     "text": [
      "5 new link(s) found\nNow visiting: http://www.webscrapingfordatascience.com/crawler/?r=bfc3df6cca8fa5ea3061bd0dfe8e73d9\n"
     ]
    },
    {
     "name": "stdout",
     "output_type": "stream",
     "text": [
      "5 new link(s) found\nNow visiting: http://www.webscrapingfordatascience.com/crawler/?r=9cec7d23f7dd758877f9bacb674bd477\n"
     ]
    },
    {
     "name": "stdout",
     "output_type": "stream",
     "text": [
      "5 new link(s) found\nNow visiting: http://www.webscrapingfordatascience.com/crawler/?r=e709646658dc37ee6eb4933bb75d6047\n"
     ]
    },
    {
     "name": "stdout",
     "output_type": "stream",
     "text": [
      "5 new link(s) found\nNow visiting: http://www.webscrapingfordatascience.com/crawler/?r=b8406a58897e7ce21cc7f5b46cf1c559\n"
     ]
    },
    {
     "name": "stdout",
     "output_type": "stream",
     "text": [
      "5 new link(s) found\nNow visiting: http://www.webscrapingfordatascience.com/crawler/?r=bee41c4cba75f858fc672bcc0b8c59b9\n"
     ]
    },
    {
     "name": "stdout",
     "output_type": "stream",
     "text": [
      "5 new link(s) found\nNow visiting: http://www.webscrapingfordatascience.com/crawler/?r=c6d56b2d4880a13bc9c222c22bd8b346\n"
     ]
    },
    {
     "name": "stdout",
     "output_type": "stream",
     "text": [
      "5 new link(s) found\nNow visiting: http://www.webscrapingfordatascience.com/crawler/?r=aa34d155274a1621243d043afd92d480\n"
     ]
    },
    {
     "name": "stdout",
     "output_type": "stream",
     "text": [
      "5 new link(s) found\nNow visiting: http://www.webscrapingfordatascience.com/crawler/?r=8a7e338f011298eb924746b3e2d9490f\n"
     ]
    },
    {
     "name": "stdout",
     "output_type": "stream",
     "text": [
      "5 new link(s) found\nNow visiting: http://www.webscrapingfordatascience.com/crawler/?r=66bd7092a7980906687225eec9d6bdd7\n"
     ]
    },
    {
     "name": "stdout",
     "output_type": "stream",
     "text": [
      "5 new link(s) found\nNow visiting: http://www.webscrapingfordatascience.com/crawler/?r=6629eea004c0716585efff8fe02552ff\n"
     ]
    },
    {
     "name": "stdout",
     "output_type": "stream",
     "text": [
      "5 new link(s) found\nNow visiting: http://www.webscrapingfordatascience.com/crawler/?r=efd215fe7138909c7aa8d88f73a9f33d\n"
     ]
    },
    {
     "name": "stdout",
     "output_type": "stream",
     "text": [
      "5 new link(s) found\nNow visiting: http://www.webscrapingfordatascience.com/crawler/?r=567ea303ec76c867b23bdb11653263f9\n"
     ]
    },
    {
     "name": "stdout",
     "output_type": "stream",
     "text": [
      "5 new link(s) found\nNow visiting: http://www.webscrapingfordatascience.com/crawler/?r=377181c241c3eb5e9b3d1fb8b5fbd3fd\n"
     ]
    },
    {
     "name": "stdout",
     "output_type": "stream",
     "text": [
      "5 new link(s) found\nNow visiting: http://www.webscrapingfordatascience.com/crawler/?r=c0f9b572b99fc525b4dfbff98f6aa754\n"
     ]
    },
    {
     "name": "stdout",
     "output_type": "stream",
     "text": [
      "5 new link(s) found\nNow visiting: http://www.webscrapingfordatascience.com/crawler/?r=b91d2eeb941e48d09e088dac7316505d\n"
     ]
    },
    {
     "name": "stdout",
     "output_type": "stream",
     "text": [
      "5 new link(s) found\nNow visiting: http://www.webscrapingfordatascience.com/crawler/?r=d37c81e285e4fb7e428cdaf0396a8fca\n"
     ]
    },
    {
     "name": "stdout",
     "output_type": "stream",
     "text": [
      "5 new link(s) found\nNow visiting: http://www.webscrapingfordatascience.com/crawler/?r=d9292902cf1c25075ebc7a2803e4a84e\n"
     ]
    },
    {
     "name": "stdout",
     "output_type": "stream",
     "text": [
      "5 new link(s) found\nNow visiting: http://www.webscrapingfordatascience.com/crawler/?r=282d9093ed38fabe59f224894f4a1932\n"
     ]
    },
    {
     "name": "stdout",
     "output_type": "stream",
     "text": [
      "5 new link(s) found\nNow visiting: http://www.webscrapingfordatascience.com/crawler/?r=8cecbe87775c467252672b004191ef0e\n"
     ]
    },
    {
     "name": "stdout",
     "output_type": "stream",
     "text": [
      "5 new link(s) found\nNow visiting: http://www.webscrapingfordatascience.com/crawler/?r=1fe0e52154bd32290d2ce7d3ff9af8e6\n"
     ]
    },
    {
     "name": "stdout",
     "output_type": "stream",
     "text": [
      "5 new link(s) found\nNow visiting: http://www.webscrapingfordatascience.com/crawler/?r=4eee85df221361519967515b2336837d\n"
     ]
    },
    {
     "name": "stdout",
     "output_type": "stream",
     "text": [
      "5 new link(s) found\nNow visiting: http://www.webscrapingfordatascience.com/crawler/?r=9f792fe825bc1d352f3adc0373652bb3\n"
     ]
    },
    {
     "name": "stdout",
     "output_type": "stream",
     "text": [
      "5 new link(s) found\nNow visiting: http://www.webscrapingfordatascience.com/crawler/?r=c8d15d71f0dc458ec01c94e4ea74e21b\n"
     ]
    },
    {
     "name": "stdout",
     "output_type": "stream",
     "text": [
      "5 new link(s) found\nNow visiting: http://www.webscrapingfordatascience.com/crawler/?r=9b1dd37c55899402b8df18ee8093f4f2\n"
     ]
    },
    {
     "name": "stdout",
     "output_type": "stream",
     "text": [
      "5 new link(s) found\nNow visiting: http://www.webscrapingfordatascience.com/crawler/?r=efc0e078f09fa542ed358118beb5d05c\n"
     ]
    },
    {
     "name": "stdout",
     "output_type": "stream",
     "text": [
      "5 new link(s) found\nNow visiting: http://www.webscrapingfordatascience.com/crawler/?r=af0137c4f1181b4e5d5f95cd91aa07a9\n"
     ]
    },
    {
     "name": "stdout",
     "output_type": "stream",
     "text": [
      "5 new link(s) found\nNow visiting: http://www.webscrapingfordatascience.com/crawler/?r=7db3054165aadf6b5ce8e7759b477252\n"
     ]
    },
    {
     "name": "stdout",
     "output_type": "stream",
     "text": [
      "5 new link(s) found\nNow visiting: http://www.webscrapingfordatascience.com/crawler/?r=530d035eb1f256384ebb1087ed1d6b5f\n"
     ]
    },
    {
     "name": "stdout",
     "output_type": "stream",
     "text": [
      "5 new link(s) found\nNow visiting: http://www.webscrapingfordatascience.com/crawler/?r=d25a6234a191f30104be7ae405460fd9\n"
     ]
    },
    {
     "name": "stdout",
     "output_type": "stream",
     "text": [
      "5 new link(s) found\nNow visiting: http://www.webscrapingfordatascience.com/crawler/?r=b58b41eaaf5bd97b173506a865b07ebe\n"
     ]
    },
    {
     "name": "stdout",
     "output_type": "stream",
     "text": [
      "5 new link(s) found\nNow visiting: http://www.webscrapingfordatascience.com/crawler/?r=0e0dba42920d64cfd884b73b291951e1\n"
     ]
    },
    {
     "name": "stdout",
     "output_type": "stream",
     "text": [
      "5 new link(s) found\nNow visiting: http://www.webscrapingfordatascience.com/crawler/?r=09c0a6468b1052a0b06f54ec75ec49ff\n"
     ]
    },
    {
     "name": "stdout",
     "output_type": "stream",
     "text": [
      "5 new link(s) found\nNow visiting: http://www.webscrapingfordatascience.com/crawler/?r=82b0966bca3ad5bae73c7bf72ba8b217\n"
     ]
    },
    {
     "name": "stdout",
     "output_type": "stream",
     "text": [
      "5 new link(s) found\nNow visiting: http://www.webscrapingfordatascience.com/crawler/?r=ba0e546dcdd6999367111a077086e0c7\n"
     ]
    },
    {
     "name": "stdout",
     "output_type": "stream",
     "text": [
      "5 new link(s) found\nNow visiting: http://www.webscrapingfordatascience.com/crawler/?r=4e7f6904c11b716725d70987f2447837\n"
     ]
    },
    {
     "name": "stdout",
     "output_type": "stream",
     "text": [
      "5 new link(s) found\nNow visiting: http://www.webscrapingfordatascience.com/crawler/?r=8f881f85f3a5174b18cb26cd37f1a699\n"
     ]
    },
    {
     "name": "stdout",
     "output_type": "stream",
     "text": [
      "5 new link(s) found\nNow visiting: http://www.webscrapingfordatascience.com/crawler/?r=2353b426e35cd7b5a8f13966110d3383\n"
     ]
    },
    {
     "name": "stdout",
     "output_type": "stream",
     "text": [
      "5 new link(s) found\nNow visiting: http://www.webscrapingfordatascience.com/crawler/?r=4faa750c7b3c85b327c76995cfb491c8\n"
     ]
    },
    {
     "name": "stdout",
     "output_type": "stream",
     "text": [
      "5 new link(s) found\nNow visiting: http://www.webscrapingfordatascience.com/crawler/?r=5998907f1f4419075a3e93203644deae\n"
     ]
    },
    {
     "name": "stdout",
     "output_type": "stream",
     "text": [
      "5 new link(s) found\nNow visiting: http://www.webscrapingfordatascience.com/crawler/?r=71b6887d7528d8825c6aa8036b447e59\n"
     ]
    },
    {
     "name": "stdout",
     "output_type": "stream",
     "text": [
      "5 new link(s) found\nNow visiting: http://www.webscrapingfordatascience.com/crawler/?r=3f60d23148e37dbb7d87b140e2b4d8e8\n"
     ]
    },
    {
     "name": "stdout",
     "output_type": "stream",
     "text": [
      "5 new link(s) found\nNow visiting: http://www.webscrapingfordatascience.com/crawler/?r=19a487419b609b42d730e06517b5fd93\n"
     ]
    },
    {
     "name": "stdout",
     "output_type": "stream",
     "text": [
      "5 new link(s) found\nNow visiting: http://www.webscrapingfordatascience.com/crawler/?r=68633891cb6d41e92c10966dd791b8c7\n"
     ]
    },
    {
     "name": "stdout",
     "output_type": "stream",
     "text": [
      "5 new link(s) found\nNow visiting: http://www.webscrapingfordatascience.com/crawler/?r=0924d020f9b72e2005de5e66af71d2bc\n"
     ]
    },
    {
     "name": "stdout",
     "output_type": "stream",
     "text": [
      "5 new link(s) found\nNow visiting: http://www.webscrapingfordatascience.com/crawler/?r=07c190eb1d5662b1d82e5463497b5dc2\n"
     ]
    },
    {
     "name": "stdout",
     "output_type": "stream",
     "text": [
      "5 new link(s) found\nNow visiting: http://www.webscrapingfordatascience.com/crawler/?r=77be17d94148d9c20d9643e9f5e8ba70\n"
     ]
    },
    {
     "name": "stdout",
     "output_type": "stream",
     "text": [
      "5 new link(s) found\nNow visiting: http://www.webscrapingfordatascience.com/crawler/?r=8f1bbfac1fed258ad46a65930c674002\n"
     ]
    },
    {
     "name": "stdout",
     "output_type": "stream",
     "text": [
      "5 new link(s) found\nNow visiting: http://www.webscrapingfordatascience.com/crawler/?r=377142be6fb147f37402304d5266ac5c\n"
     ]
    },
    {
     "name": "stdout",
     "output_type": "stream",
     "text": [
      "5 new link(s) found\nNow visiting: http://www.webscrapingfordatascience.com/crawler/?r=7fc7f55f0f946f27fdc2dd9a06d2bd9b\n"
     ]
    },
    {
     "name": "stdout",
     "output_type": "stream",
     "text": [
      "5 new link(s) found\nNow visiting: http://www.webscrapingfordatascience.com/crawler/?r=ccd4a7ba773bfbcc046aee11c030ac0a\n"
     ]
    },
    {
     "name": "stdout",
     "output_type": "stream",
     "text": [
      "5 new link(s) found\nNow visiting: http://www.webscrapingfordatascience.com/crawler/?r=3e545ef8f2173399017f74f196fe2546\n"
     ]
    },
    {
     "name": "stdout",
     "output_type": "stream",
     "text": [
      "5 new link(s) found\nNow visiting: http://www.webscrapingfordatascience.com/crawler/?r=60962a0c5ef95afd373321e52417eafd\n"
     ]
    },
    {
     "name": "stdout",
     "output_type": "stream",
     "text": [
      "5 new link(s) found\nNow visiting: http://www.webscrapingfordatascience.com/crawler/?r=0df06f0bdafde290951b6f945a4ce808\n"
     ]
    },
    {
     "name": "stdout",
     "output_type": "stream",
     "text": [
      "5 new link(s) found\nNow visiting: http://www.webscrapingfordatascience.com/crawler/?r=c4ce4bade98f2ffeec5616d097a047bf\n"
     ]
    },
    {
     "name": "stdout",
     "output_type": "stream",
     "text": [
      "5 new link(s) found\nNow visiting: http://www.webscrapingfordatascience.com/crawler/?r=92d152f97dcf01b53f619bc7823140bc\n"
     ]
    },
    {
     "name": "stdout",
     "output_type": "stream",
     "text": [
      "5 new link(s) found\nNow visiting: http://www.webscrapingfordatascience.com/crawler/?r=af1234aef28f7fea521b0cd75c953135\n"
     ]
    },
    {
     "name": "stdout",
     "output_type": "stream",
     "text": [
      "5 new link(s) found\nNow visiting: http://www.webscrapingfordatascience.com/crawler/?r=0ec770369b9ce7565341e24e805b699e\n"
     ]
    },
    {
     "name": "stdout",
     "output_type": "stream",
     "text": [
      "5 new link(s) found\nNow visiting: http://www.webscrapingfordatascience.com/crawler/?r=dd7feaa96ab99a6865fc8b9c6c3b6dde\n"
     ]
    },
    {
     "name": "stdout",
     "output_type": "stream",
     "text": [
      "5 new link(s) found\nNow visiting: http://www.webscrapingfordatascience.com/crawler/?r=ba4ed77564eb253f75f5e05b266ab0a2\n"
     ]
    },
    {
     "name": "stdout",
     "output_type": "stream",
     "text": [
      "5 new link(s) found\nNow visiting: http://www.webscrapingfordatascience.com/crawler/?r=3b11ba9e78c3eb01b48b77ef1c87bfdd\n"
     ]
    },
    {
     "name": "stdout",
     "output_type": "stream",
     "text": [
      "5 new link(s) found\nNow visiting: http://www.webscrapingfordatascience.com/crawler/?r=9d0a62be95a98c111101867b90e6e3f3\n"
     ]
    },
    {
     "name": "stdout",
     "output_type": "stream",
     "text": [
      "5 new link(s) found\nNow visiting: http://www.webscrapingfordatascience.com/crawler/?r=079ffc75e8c0c96521c3f14fa107c138\n"
     ]
    },
    {
     "name": "stdout",
     "output_type": "stream",
     "text": [
      "5 new link(s) found\nNow visiting: http://www.webscrapingfordatascience.com/crawler/?r=618580e2c07765ae3dd42fcf0f19b694\n"
     ]
    },
    {
     "name": "stdout",
     "output_type": "stream",
     "text": [
      "5 new link(s) found\nNow visiting: http://www.webscrapingfordatascience.com/crawler/?r=b9374971ea8408c511f7d9cded8edb08\n"
     ]
    },
    {
     "name": "stdout",
     "output_type": "stream",
     "text": [
      "5 new link(s) found\nNow visiting: http://www.webscrapingfordatascience.com/crawler/?r=a56f92357f3792ea240bf7439c8268a9\n"
     ]
    },
    {
     "name": "stdout",
     "output_type": "stream",
     "text": [
      "5 new link(s) found\nNow visiting: http://www.webscrapingfordatascience.com/crawler/?r=e9ea1a78155b4624c3fd1683ca3fa99a\n"
     ]
    },
    {
     "name": "stdout",
     "output_type": "stream",
     "text": [
      "5 new link(s) found\nNow visiting: http://www.webscrapingfordatascience.com/crawler/?r=a78b207292e17d0b7648247d565467c1\n"
     ]
    },
    {
     "name": "stdout",
     "output_type": "stream",
     "text": [
      "5 new link(s) found\nNow visiting: http://www.webscrapingfordatascience.com/crawler/?r=9f103ff96636458bacb92bd0f528b2d4\n"
     ]
    },
    {
     "name": "stdout",
     "output_type": "stream",
     "text": [
      "5 new link(s) found\nNow visiting: http://www.webscrapingfordatascience.com/crawler/?r=84039310a53d443903940bf2eff58fd1\n"
     ]
    },
    {
     "name": "stdout",
     "output_type": "stream",
     "text": [
      "5 new link(s) found\nNow visiting: http://www.webscrapingfordatascience.com/crawler/?r=6c75550f936f9757d7ca99c5c7455aa6\n"
     ]
    },
    {
     "name": "stdout",
     "output_type": "stream",
     "text": [
      "5 new link(s) found\nNow visiting: http://www.webscrapingfordatascience.com/crawler/?r=a8439dbfec7f24caeabdb5cd9d072775\n"
     ]
    },
    {
     "name": "stdout",
     "output_type": "stream",
     "text": [
      "5 new link(s) found\nNow visiting: http://www.webscrapingfordatascience.com/crawler/?r=65073aec5f56ef45d2733ab7c7408a19\n"
     ]
    },
    {
     "name": "stdout",
     "output_type": "stream",
     "text": [
      "5 new link(s) found\nNow visiting: http://www.webscrapingfordatascience.com/crawler/?r=b9496a60bc8299381a126210b8316de7\n"
     ]
    },
    {
     "name": "stdout",
     "output_type": "stream",
     "text": [
      "5 new link(s) found\nNow visiting: http://www.webscrapingfordatascience.com/crawler/?r=c2b57bfa99a383cc46f61abde1457341\n"
     ]
    },
    {
     "name": "stdout",
     "output_type": "stream",
     "text": [
      "5 new link(s) found\nNow visiting: http://www.webscrapingfordatascience.com/crawler/?r=1b258a50a058951b854ed773cc62b1fa\n"
     ]
    },
    {
     "name": "stdout",
     "output_type": "stream",
     "text": [
      "5 new link(s) found\nNow visiting: http://www.webscrapingfordatascience.com/crawler/?r=01bcbdd99fe2d2a5b5486cf4063cf346\n"
     ]
    },
    {
     "name": "stdout",
     "output_type": "stream",
     "text": [
      "5 new link(s) found\nNow visiting: http://www.webscrapingfordatascience.com/crawler/?r=d2e5026dbf9ff8f89f0ef04de40976f8\n"
     ]
    },
    {
     "name": "stdout",
     "output_type": "stream",
     "text": [
      "5 new link(s) found\nNow visiting: http://www.webscrapingfordatascience.com/crawler/?r=1b51fb33c7c467ad576319b0d12223dd\n"
     ]
    },
    {
     "name": "stdout",
     "output_type": "stream",
     "text": [
      "5 new link(s) found\nNow visiting: http://www.webscrapingfordatascience.com/crawler/?r=6831dc675bcff7b9b98346ad9cddd1df\n"
     ]
    },
    {
     "name": "stdout",
     "output_type": "stream",
     "text": [
      "5 new link(s) found\nNow visiting: http://www.webscrapingfordatascience.com/crawler/?r=6a78f15fc14f7ffc8117a7411b0c0e4d\n"
     ]
    },
    {
     "name": "stdout",
     "output_type": "stream",
     "text": [
      "5 new link(s) found\nNow visiting: http://www.webscrapingfordatascience.com/crawler/?r=e36b2aa72f37f89e1877145fde9c92ff\n"
     ]
    },
    {
     "name": "stdout",
     "output_type": "stream",
     "text": [
      "5 new link(s) found\nNow visiting: http://www.webscrapingfordatascience.com/crawler/?r=acbc3768f2c6e714f319c9c7c192f0a3\n"
     ]
    },
    {
     "name": "stdout",
     "output_type": "stream",
     "text": [
      "5 new link(s) found\nNow visiting: http://www.webscrapingfordatascience.com/crawler/?r=3a7803900a5a0e3bcb51a2e0f9d48788\n"
     ]
    },
    {
     "name": "stdout",
     "output_type": "stream",
     "text": [
      "5 new link(s) found\nNow visiting: http://www.webscrapingfordatascience.com/crawler/?r=3fc32a9ea024abb59cdcc3041292143f\n"
     ]
    },
    {
     "name": "stdout",
     "output_type": "stream",
     "text": [
      "5 new link(s) found\nNow visiting: http://www.webscrapingfordatascience.com/crawler/?r=6477192e4b1e793026386c329dbfc2e2\n"
     ]
    },
    {
     "name": "stdout",
     "output_type": "stream",
     "text": [
      "5 new link(s) found\nNow visiting: http://www.webscrapingfordatascience.com/crawler/?r=d91015caac53de255151c6872bb3009e\n"
     ]
    },
    {
     "name": "stdout",
     "output_type": "stream",
     "text": [
      "5 new link(s) found\nNow visiting: http://www.webscrapingfordatascience.com/crawler/?r=3f3ab8ad99569dea9564dc578942b4f7\n"
     ]
    },
    {
     "name": "stdout",
     "output_type": "stream",
     "text": [
      "5 new link(s) found\nNow visiting: http://www.webscrapingfordatascience.com/crawler/?r=83ef53c1d46c4f69d071c4e15b4784a1\n"
     ]
    },
    {
     "name": "stdout",
     "output_type": "stream",
     "text": [
      "5 new link(s) found\nNow visiting: http://www.webscrapingfordatascience.com/crawler/?r=37a9516b9e7a1953152710ea363cadbd\n"
     ]
    },
    {
     "name": "stdout",
     "output_type": "stream",
     "text": [
      "5 new link(s) found\nNow visiting: http://www.webscrapingfordatascience.com/crawler/?r=db8c66d4a34bb72679b3fe52ea899a83\n"
     ]
    },
    {
     "name": "stdout",
     "output_type": "stream",
     "text": [
      "5 new link(s) found\nNow visiting: http://www.webscrapingfordatascience.com/crawler/?r=42d48f50fc9b5582774c7556da4e0e9f\n"
     ]
    },
    {
     "name": "stdout",
     "output_type": "stream",
     "text": [
      "5 new link(s) found\nNow visiting: http://www.webscrapingfordatascience.com/crawler/?r=f09c7c145c6bd4963791856faaf5121f\n"
     ]
    },
    {
     "name": "stdout",
     "output_type": "stream",
     "text": [
      "5 new link(s) found\nNow visiting: http://www.webscrapingfordatascience.com/crawler/?r=0ee11897a4a9efb11131187f79ea858c\n"
     ]
    },
    {
     "name": "stdout",
     "output_type": "stream",
     "text": [
      "5 new link(s) found\nNow visiting: http://www.webscrapingfordatascience.com/crawler/?r=ed9f403f5bca9d49d9e92137764fcae7\n"
     ]
    },
    {
     "name": "stdout",
     "output_type": "stream",
     "text": [
      "5 new link(s) found\nNow visiting: http://www.webscrapingfordatascience.com/crawler/?r=199085d42f817fff47c25b81c26ee64a\n"
     ]
    },
    {
     "name": "stdout",
     "output_type": "stream",
     "text": [
      "5 new link(s) found\nNow visiting: http://www.webscrapingfordatascience.com/crawler/?r=263c0206f66e9ae2d0f50711b6763f5d\n"
     ]
    },
    {
     "name": "stdout",
     "output_type": "stream",
     "text": [
      "5 new link(s) found\nNow visiting: http://www.webscrapingfordatascience.com/crawler/?r=8cb27cdc86ca02dc703b86c5f0c92b74\n"
     ]
    },
    {
     "name": "stdout",
     "output_type": "stream",
     "text": [
      "5 new link(s) found\nNow visiting: http://www.webscrapingfordatascience.com/crawler/?r=2f535cda2c617ca6cf9a917edc280bc0\n"
     ]
    },
    {
     "name": "stdout",
     "output_type": "stream",
     "text": [
      "5 new link(s) found\nNow visiting: http://www.webscrapingfordatascience.com/crawler/?r=5662c35406209ec242d9ceb69db52a3e\n"
     ]
    },
    {
     "name": "stdout",
     "output_type": "stream",
     "text": [
      "5 new link(s) found\nNow visiting: http://www.webscrapingfordatascience.com/crawler/?r=e61079c29210afcbf6dec8ed9d36ca16\n"
     ]
    },
    {
     "name": "stdout",
     "output_type": "stream",
     "text": [
      "5 new link(s) found\nNow visiting: http://www.webscrapingfordatascience.com/crawler/?r=67008e541b7dd8c637a2b866bd667ab0\n"
     ]
    },
    {
     "name": "stdout",
     "output_type": "stream",
     "text": [
      "5 new link(s) found\nNow visiting: http://www.webscrapingfordatascience.com/crawler/?r=dd6ed2a15f7c1204d65771ff9d676fa6\n"
     ]
    },
    {
     "name": "stdout",
     "output_type": "stream",
     "text": [
      "5 new link(s) found\nNow visiting: http://www.webscrapingfordatascience.com/crawler/?r=4a17bec42f93aebdf9c0e4ba273815ca\n"
     ]
    },
    {
     "name": "stdout",
     "output_type": "stream",
     "text": [
      "5 new link(s) found\nNow visiting: http://www.webscrapingfordatascience.com/crawler/?r=ad262a8da2e5ecd6c9523e59345bd197\n"
     ]
    },
    {
     "name": "stdout",
     "output_type": "stream",
     "text": [
      "5 new link(s) found\nNow visiting: http://www.webscrapingfordatascience.com/crawler/?r=c28d50992cb05eb0ff02cb96affc74e6\n"
     ]
    },
    {
     "name": "stdout",
     "output_type": "stream",
     "text": [
      "5 new link(s) found\nNow visiting: http://www.webscrapingfordatascience.com/crawler/?r=8d0e00e039fbef5c6f277d8b28411b92\n"
     ]
    },
    {
     "name": "stdout",
     "output_type": "stream",
     "text": [
      "5 new link(s) found\nNow visiting: http://www.webscrapingfordatascience.com/crawler/?r=275932dfc1abba03ff5ef38aabe99888\n"
     ]
    },
    {
     "name": "stdout",
     "output_type": "stream",
     "text": [
      "5 new link(s) found\nNow visiting: http://www.webscrapingfordatascience.com/crawler/?r=aed7987bf41de7c81412f30d0a5ded0e\n"
     ]
    },
    {
     "name": "stdout",
     "output_type": "stream",
     "text": [
      "5 new link(s) found\nNow visiting: http://www.webscrapingfordatascience.com/crawler/?r=0db4c13bdffb0d678d6f8aeb8ce877a3\n"
     ]
    },
    {
     "name": "stdout",
     "output_type": "stream",
     "text": [
      "4 new link(s) found\nNow visiting: http://www.webscrapingfordatascience.com/crawler/?r=e43f1f6e2e6bc62f8258aa1d66e993f3\n"
     ]
    },
    {
     "name": "stdout",
     "output_type": "stream",
     "text": [
      "5 new link(s) found\nNow visiting: http://www.webscrapingfordatascience.com/crawler/?r=c3a467a20d6b8878443e0bc440aad9ac\n"
     ]
    },
    {
     "name": "stdout",
     "output_type": "stream",
     "text": [
      "5 new link(s) found\nNow visiting: http://www.webscrapingfordatascience.com/crawler/?r=0d4a38d8ebf280afee5a90fe402b0970\n"
     ]
    },
    {
     "name": "stdout",
     "output_type": "stream",
     "text": [
      "5 new link(s) found\nNow visiting: http://www.webscrapingfordatascience.com/crawler/?r=29946676ffd895bd64d50be3cd285ee2\n"
     ]
    },
    {
     "name": "stdout",
     "output_type": "stream",
     "text": [
      "5 new link(s) found\nNow visiting: http://www.webscrapingfordatascience.com/crawler/?r=01d1d698dab6e66da99e0fa3982e4b36\n"
     ]
    },
    {
     "name": "stdout",
     "output_type": "stream",
     "text": [
      "5 new link(s) found\nNow visiting: http://www.webscrapingfordatascience.com/crawler/?r=ce6946239b9d57b4fe6fce91e4377070\n"
     ]
    },
    {
     "name": "stdout",
     "output_type": "stream",
     "text": [
      "5 new link(s) found\nNow visiting: http://www.webscrapingfordatascience.com/crawler/?r=690a66219b2d6cb3fb92c7f70e887a18\n"
     ]
    },
    {
     "name": "stdout",
     "output_type": "stream",
     "text": [
      "5 new link(s) found\nNow visiting: http://www.webscrapingfordatascience.com/crawler/?r=d70345759a812c09aa7d267e4b20a11d\n"
     ]
    },
    {
     "name": "stdout",
     "output_type": "stream",
     "text": [
      "5 new link(s) found\nNow visiting: http://www.webscrapingfordatascience.com/crawler/?r=597b6c3ad40ce2527953c8c488267d50\n"
     ]
    },
    {
     "name": "stdout",
     "output_type": "stream",
     "text": [
      "5 new link(s) found\nNow visiting: http://www.webscrapingfordatascience.com/crawler/?r=39f14da1cadea46cf1b894a08e82080e\n"
     ]
    },
    {
     "name": "stdout",
     "output_type": "stream",
     "text": [
      "5 new link(s) found\nNow visiting: http://www.webscrapingfordatascience.com/crawler/?r=fc73ed4b686254ef28dad1f032d5c11b\n"
     ]
    },
    {
     "name": "stdout",
     "output_type": "stream",
     "text": [
      "5 new link(s) found\nNow visiting: http://www.webscrapingfordatascience.com/crawler/?r=cc7d096da37b295c85f2c2c9efa2a72b\n"
     ]
    },
    {
     "name": "stdout",
     "output_type": "stream",
     "text": [
      "5 new link(s) found\nNow visiting: http://www.webscrapingfordatascience.com/crawler/?r=21702474376b60960514398a9d5450a9\n"
     ]
    },
    {
     "name": "stdout",
     "output_type": "stream",
     "text": [
      "5 new link(s) found\nNow visiting: http://www.webscrapingfordatascience.com/crawler/?r=043f8af48765636e9bdf1c77d94432b0\n"
     ]
    },
    {
     "name": "stdout",
     "output_type": "stream",
     "text": [
      "5 new link(s) found\nNow visiting: http://www.webscrapingfordatascience.com/crawler/?r=33178f18c5385ff705f0d3116e3cd15f\n"
     ]
    },
    {
     "name": "stdout",
     "output_type": "stream",
     "text": [
      "5 new link(s) found\nNow visiting: http://www.webscrapingfordatascience.com/crawler/?r=0847e303191285050dde99ac883a078e\n"
     ]
    },
    {
     "name": "stdout",
     "output_type": "stream",
     "text": [
      "5 new link(s) found\nNow visiting: http://www.webscrapingfordatascience.com/crawler/?r=21b78a32c1d846c0ee7daedc3ecc27d7\n"
     ]
    },
    {
     "name": "stdout",
     "output_type": "stream",
     "text": [
      "5 new link(s) found\nNow visiting: http://www.webscrapingfordatascience.com/crawler/?r=6139df655ceb77088fafebdf7761cd16\n"
     ]
    },
    {
     "name": "stdout",
     "output_type": "stream",
     "text": [
      "5 new link(s) found\nNow visiting: http://www.webscrapingfordatascience.com/crawler/?r=7ac4f7ec82495c237c8a06d97a7de14b\n"
     ]
    },
    {
     "name": "stdout",
     "output_type": "stream",
     "text": [
      "5 new link(s) found\nNow visiting: http://www.webscrapingfordatascience.com/crawler/?r=3fac8e64d56f2223a871d7b60476f734\n"
     ]
    },
    {
     "name": "stdout",
     "output_type": "stream",
     "text": [
      "5 new link(s) found\nNow visiting: http://www.webscrapingfordatascience.com/crawler/?r=f9e377e127ced0e0f5a3a182cb236db4\n"
     ]
    },
    {
     "name": "stdout",
     "output_type": "stream",
     "text": [
      "5 new link(s) found\nNow visiting: http://www.webscrapingfordatascience.com/crawler/?r=c2aaec914e6d290fb64ff0924d1cdc82\n"
     ]
    },
    {
     "name": "stdout",
     "output_type": "stream",
     "text": [
      "5 new link(s) found\nNow visiting: http://www.webscrapingfordatascience.com/crawler/?r=af270a78f5a2259172bf9116cf8fdc06\n"
     ]
    },
    {
     "name": "stdout",
     "output_type": "stream",
     "text": [
      "5 new link(s) found\nNow visiting: http://www.webscrapingfordatascience.com/crawler/?r=5efc377320ae2f01d69740035b893fcc\n"
     ]
    },
    {
     "name": "stdout",
     "output_type": "stream",
     "text": [
      "5 new link(s) found\nNow visiting: http://www.webscrapingfordatascience.com/crawler/?r=4ddbe723819614f15a3f0b60abd1d188\n"
     ]
    },
    {
     "name": "stdout",
     "output_type": "stream",
     "text": [
      "5 new link(s) found\nNow visiting: http://www.webscrapingfordatascience.com/crawler/?r=edabb48c3432da26d1b5ea71cb09656d\n"
     ]
    },
    {
     "name": "stdout",
     "output_type": "stream",
     "text": [
      "5 new link(s) found\nNow visiting: http://www.webscrapingfordatascience.com/crawler/?r=c232e0130001cb731702fd69f8678afb\n"
     ]
    },
    {
     "name": "stdout",
     "output_type": "stream",
     "text": [
      "5 new link(s) found\nNow visiting: http://www.webscrapingfordatascience.com/crawler/?r=8cd2a4a96839a31328dff7a5db4f3f42\n"
     ]
    },
    {
     "name": "stdout",
     "output_type": "stream",
     "text": [
      "5 new link(s) found\nNow visiting: http://www.webscrapingfordatascience.com/crawler/?r=f5180c06c530af666ea7a9675dec2fa7\n"
     ]
    },
    {
     "name": "stdout",
     "output_type": "stream",
     "text": [
      "5 new link(s) found\nNow visiting: http://www.webscrapingfordatascience.com/crawler/?r=7d11c4a508ba62e2320fdaa7d3ca7b60\n"
     ]
    },
    {
     "name": "stdout",
     "output_type": "stream",
     "text": [
      "5 new link(s) found\nNow visiting: http://www.webscrapingfordatascience.com/crawler/?r=9357fb8a46f12833178ec81b4d4f13db\n"
     ]
    },
    {
     "name": "stdout",
     "output_type": "stream",
     "text": [
      "5 new link(s) found\nNow visiting: http://www.webscrapingfordatascience.com/crawler/?r=2adce00f3e49a9940abf13323c959612\n"
     ]
    },
    {
     "name": "stdout",
     "output_type": "stream",
     "text": [
      "5 new link(s) found\nNow visiting: http://www.webscrapingfordatascience.com/crawler/?r=b62e74234f3db052466e1e4edd6bc4b9\n"
     ]
    },
    {
     "name": "stdout",
     "output_type": "stream",
     "text": [
      "5 new link(s) found\nNow visiting: http://www.webscrapingfordatascience.com/crawler/?r=05ff427de0f467cd9c9e02033d864e56\n"
     ]
    },
    {
     "name": "stdout",
     "output_type": "stream",
     "text": [
      "5 new link(s) found\nNow visiting: http://www.webscrapingfordatascience.com/crawler/?r=ff6749620f4ae3f7255be83711d17724\n"
     ]
    },
    {
     "name": "stdout",
     "output_type": "stream",
     "text": [
      "5 new link(s) found\nNow visiting: http://www.webscrapingfordatascience.com/crawler/?r=5e73b8cfbfd6ecf4b4fb658307047552\n"
     ]
    },
    {
     "name": "stdout",
     "output_type": "stream",
     "text": [
      "5 new link(s) found\nNow visiting: http://www.webscrapingfordatascience.com/crawler/?r=5832dc96d5b437375080c1c00a6a5592\n"
     ]
    },
    {
     "name": "stdout",
     "output_type": "stream",
     "text": [
      "5 new link(s) found\nNow visiting: http://www.webscrapingfordatascience.com/crawler/?r=bf6fc9447ed7d7710f276983bf9cf99c\n"
     ]
    },
    {
     "name": "stdout",
     "output_type": "stream",
     "text": [
      "5 new link(s) found\nNow visiting: http://www.webscrapingfordatascience.com/crawler/?r=ce99b218f6b7d2095439a849b37e208b\n"
     ]
    },
    {
     "name": "stdout",
     "output_type": "stream",
     "text": [
      "5 new link(s) found\nNow visiting: http://www.webscrapingfordatascience.com/crawler/?r=9e26d53d029e2f1dc4edf8f693ee345a\n"
     ]
    },
    {
     "name": "stdout",
     "output_type": "stream",
     "text": [
      "5 new link(s) found\nNow visiting: http://www.webscrapingfordatascience.com/crawler/?r=3a19a229cf01a114a3ed3f91a5ba3afc\n"
     ]
    },
    {
     "name": "stdout",
     "output_type": "stream",
     "text": [
      "5 new link(s) found\nNow visiting: http://www.webscrapingfordatascience.com/crawler/?r=abadfb6a0c5b7423aa5750b4e595522c\n"
     ]
    },
    {
     "name": "stdout",
     "output_type": "stream",
     "text": [
      "5 new link(s) found\nNow visiting: http://www.webscrapingfordatascience.com/crawler/?r=c1638319a93394c394a5f879a9e403f9\n"
     ]
    },
    {
     "name": "stdout",
     "output_type": "stream",
     "text": [
      "5 new link(s) found\nNow visiting: http://www.webscrapingfordatascience.com/crawler/?r=ab35b29683010c47ed9f8a2106f1d1a4\n"
     ]
    },
    {
     "name": "stdout",
     "output_type": "stream",
     "text": [
      "5 new link(s) found\nNow visiting: http://www.webscrapingfordatascience.com/crawler/?r=2e531d33bfcdd6bc75d915857652b0fa\n"
     ]
    },
    {
     "name": "stdout",
     "output_type": "stream",
     "text": [
      "5 new link(s) found\nNow visiting: http://www.webscrapingfordatascience.com/crawler/?r=ab6b0d1f9a65206f3305096b9cc21cf8\n"
     ]
    },
    {
     "name": "stdout",
     "output_type": "stream",
     "text": [
      "5 new link(s) found\nNow visiting: http://www.webscrapingfordatascience.com/crawler/?r=7cfd7d6df914f1145b14dfea0b78701b\n"
     ]
    },
    {
     "name": "stdout",
     "output_type": "stream",
     "text": [
      "5 new link(s) found\nNow visiting: http://www.webscrapingfordatascience.com/crawler/?r=600323fc1684b3885fae8dfc9542086e\n"
     ]
    },
    {
     "name": "stdout",
     "output_type": "stream",
     "text": [
      "5 new link(s) found\nNow visiting: http://www.webscrapingfordatascience.com/crawler/?r=9c7ae565e89f8dc0320783b04fc946e6\n"
     ]
    },
    {
     "name": "stdout",
     "output_type": "stream",
     "text": [
      "5 new link(s) found\nNow visiting: http://www.webscrapingfordatascience.com/crawler/?r=f140bfea86dc518f714608e227ea8c30\n"
     ]
    },
    {
     "name": "stdout",
     "output_type": "stream",
     "text": [
      "5 new link(s) found\nNow visiting: http://www.webscrapingfordatascience.com/crawler/?r=a5707ee7468a431ce49651be7cb80128\n"
     ]
    },
    {
     "name": "stdout",
     "output_type": "stream",
     "text": [
      "5 new link(s) found\nNow visiting: http://www.webscrapingfordatascience.com/crawler/?r=dde01e3d7a6856d990bf56669254a464\n"
     ]
    },
    {
     "name": "stdout",
     "output_type": "stream",
     "text": [
      "5 new link(s) found\nNow visiting: http://www.webscrapingfordatascience.com/crawler/?r=6e6f8868788766d641cac49829235ba2\n"
     ]
    },
    {
     "name": "stdout",
     "output_type": "stream",
     "text": [
      "5 new link(s) found\nNow visiting: http://www.webscrapingfordatascience.com/crawler/?r=0bc13fe20ccad13a0552ac32f038ab48\n"
     ]
    },
    {
     "name": "stdout",
     "output_type": "stream",
     "text": [
      "5 new link(s) found\nNow visiting: http://www.webscrapingfordatascience.com/crawler/?r=d8cffe64b18bb21e18711704d1ce2946\n"
     ]
    },
    {
     "name": "stdout",
     "output_type": "stream",
     "text": [
      "4 new link(s) found\nNow visiting: http://www.webscrapingfordatascience.com/crawler/?r=d3d44046dde82f0f8ac8f162e2317a4d\n"
     ]
    },
    {
     "name": "stdout",
     "output_type": "stream",
     "text": [
      "5 new link(s) found\nNow visiting: http://www.webscrapingfordatascience.com/crawler/?r=a4019072843e212412e34a61da363e15\n"
     ]
    },
    {
     "name": "stdout",
     "output_type": "stream",
     "text": [
      "5 new link(s) found\nNow visiting: http://www.webscrapingfordatascience.com/crawler/?r=a0ed6553820b51f205ac2808b403b258\n"
     ]
    },
    {
     "name": "stdout",
     "output_type": "stream",
     "text": [
      "5 new link(s) found\nNow visiting: http://www.webscrapingfordatascience.com/crawler/?r=0018f10c1dd71c5d8a10b36231c5db36\n"
     ]
    },
    {
     "name": "stdout",
     "output_type": "stream",
     "text": [
      "5 new link(s) found\nNow visiting: http://www.webscrapingfordatascience.com/crawler/?r=4c4180fc6431fac4534e172d5b65a1bd\n"
     ]
    },
    {
     "name": "stdout",
     "output_type": "stream",
     "text": [
      "5 new link(s) found\nNow visiting: http://www.webscrapingfordatascience.com/crawler/?r=9021f317b212f528837ef4dcf26c44e7\n"
     ]
    },
    {
     "name": "stdout",
     "output_type": "stream",
     "text": [
      "5 new link(s) found\nNow visiting: http://www.webscrapingfordatascience.com/crawler/?r=db5e3bd598a7b4b3fb70be7b26b62f33\n"
     ]
    },
    {
     "name": "stdout",
     "output_type": "stream",
     "text": [
      "5 new link(s) found\nNow visiting: http://www.webscrapingfordatascience.com/crawler/?r=e8d26149c6415a12d91d4017bba459a1\n"
     ]
    },
    {
     "name": "stdout",
     "output_type": "stream",
     "text": [
      "5 new link(s) found\nNow visiting: http://www.webscrapingfordatascience.com/crawler/?r=77d3a7e0e3ec99baddef73bdcf871085\n"
     ]
    },
    {
     "name": "stdout",
     "output_type": "stream",
     "text": [
      "5 new link(s) found\nNow visiting: http://www.webscrapingfordatascience.com/crawler/?r=1958608ad36ba25046a2ffedd4578d8a\n"
     ]
    },
    {
     "name": "stdout",
     "output_type": "stream",
     "text": [
      "5 new link(s) found\nNow visiting: http://www.webscrapingfordatascience.com/crawler/?r=ba54b39b31b6694d0c83ae49cab6a821\n"
     ]
    },
    {
     "name": "stdout",
     "output_type": "stream",
     "text": [
      "5 new link(s) found\nNow visiting: http://www.webscrapingfordatascience.com/crawler/?r=8080dc02a38deaa26dc1fcca43953bba\n"
     ]
    },
    {
     "name": "stdout",
     "output_type": "stream",
     "text": [
      "5 new link(s) found\nNow visiting: http://www.webscrapingfordatascience.com/crawler/?r=9ab6bca51a11f99693a7a4b04f6e53b0\n"
     ]
    },
    {
     "name": "stdout",
     "output_type": "stream",
     "text": [
      "5 new link(s) found\nNow visiting: http://www.webscrapingfordatascience.com/crawler/?r=4fb9da058824ead63e1c2f559f8faca3\n"
     ]
    },
    {
     "name": "stdout",
     "output_type": "stream",
     "text": [
      "5 new link(s) found\nNow visiting: http://www.webscrapingfordatascience.com/crawler/?r=298b9e6f3de60e59a623d869f2795e25\n"
     ]
    },
    {
     "name": "stdout",
     "output_type": "stream",
     "text": [
      "5 new link(s) found\nNow visiting: http://www.webscrapingfordatascience.com/crawler/?r=cdb92ae409ee61926434c81a146f39da\n"
     ]
    },
    {
     "name": "stdout",
     "output_type": "stream",
     "text": [
      "5 new link(s) found\nNow visiting: http://www.webscrapingfordatascience.com/crawler/?r=ce834a7c8eebaa1cbe679989c96d1be7\n"
     ]
    },
    {
     "name": "stdout",
     "output_type": "stream",
     "text": [
      "5 new link(s) found\nNow visiting: http://www.webscrapingfordatascience.com/crawler/?r=8e8f8356734a73bb06fdd00a6ec16b49\n"
     ]
    },
    {
     "name": "stdout",
     "output_type": "stream",
     "text": [
      "5 new link(s) found\nNow visiting: http://www.webscrapingfordatascience.com/crawler/?r=e9d84c8fcabd6dead9a7ffe1a760a1c5\n"
     ]
    },
    {
     "name": "stdout",
     "output_type": "stream",
     "text": [
      "5 new link(s) found\nNow visiting: http://www.webscrapingfordatascience.com/crawler/?r=e788a4c7018ca791c894abeaf5faf6ed\n"
     ]
    },
    {
     "ename": "KeyboardInterrupt",
     "evalue": "",
     "traceback": [
      "\u001b[0;31m---------------------------------------------------------------------------\u001b[0m",
      "\u001b[0;31mTypeError\u001b[0m                                 Traceback (most recent call last)",
      "\u001b[0;32m/Users/higashi/PycharmProjects/FisheryProject/venv/lib/python3.7/site-packages/urllib3/connectionpool.py\u001b[0m in \u001b[0;36m_make_request\u001b[0;34m(self, conn, method, url, timeout, chunked, **httplib_request_kw)\u001b[0m\n\u001b[1;32m    376\u001b[0m             \u001b[0;32mtry\u001b[0m\u001b[0;34m:\u001b[0m  \u001b[0;31m# Python 2.7, use buffering of HTTP responses\u001b[0m\u001b[0;34m\u001b[0m\u001b[0;34m\u001b[0m\u001b[0m\n\u001b[0;32m--> 377\u001b[0;31m                 \u001b[0mhttplib_response\u001b[0m \u001b[0;34m=\u001b[0m \u001b[0mconn\u001b[0m\u001b[0;34m.\u001b[0m\u001b[0mgetresponse\u001b[0m\u001b[0;34m(\u001b[0m\u001b[0mbuffering\u001b[0m\u001b[0;34m=\u001b[0m\u001b[0;32mTrue\u001b[0m\u001b[0;34m)\u001b[0m\u001b[0;34m\u001b[0m\u001b[0;34m\u001b[0m\u001b[0m\n\u001b[0m\u001b[1;32m    378\u001b[0m             \u001b[0;32mexcept\u001b[0m \u001b[0mTypeError\u001b[0m\u001b[0;34m:\u001b[0m  \u001b[0;31m# Python 3\u001b[0m\u001b[0;34m\u001b[0m\u001b[0;34m\u001b[0m\u001b[0m\n",
      "\u001b[0;31mTypeError\u001b[0m: getresponse() got an unexpected keyword argument 'buffering'",
      "\nDuring handling of the above exception, another exception occurred:\n",
      "\u001b[0;31mKeyboardInterrupt\u001b[0m                         Traceback (most recent call last)",
      "\u001b[0;32m<ipython-input-22-e220277740e7>\u001b[0m in \u001b[0;36m<module>\u001b[0;34m()\u001b[0m\n\u001b[1;32m     10\u001b[0m     \u001b[0mlinks_seen\u001b[0m\u001b[0;34m.\u001b[0m\u001b[0madd\u001b[0m\u001b[0;34m(\u001b[0m\u001b[0murl_to_visit\u001b[0m\u001b[0;34m)\u001b[0m\u001b[0;34m\u001b[0m\u001b[0;34m\u001b[0m\u001b[0m\n\u001b[1;32m     11\u001b[0m     \u001b[0mprint\u001b[0m\u001b[0;34m(\u001b[0m\u001b[0;34m'Now visiting:'\u001b[0m\u001b[0;34m,\u001b[0m \u001b[0murl_to_visit\u001b[0m\u001b[0;34m)\u001b[0m\u001b[0;34m\u001b[0m\u001b[0;34m\u001b[0m\u001b[0m\n\u001b[0;32m---> 12\u001b[0;31m     \u001b[0mnew_links\u001b[0m \u001b[0;34m=\u001b[0m \u001b[0mvisit\u001b[0m\u001b[0;34m(\u001b[0m\u001b[0murl_to_visit\u001b[0m\u001b[0;34m,\u001b[0m \u001b[0mlinks_seen\u001b[0m\u001b[0;34m)\u001b[0m\u001b[0;34m\u001b[0m\u001b[0;34m\u001b[0m\u001b[0m\n\u001b[0m\u001b[1;32m     13\u001b[0m \u001b[0;34m\u001b[0m\u001b[0m\n\u001b[1;32m     14\u001b[0m     \u001b[0mprint\u001b[0m\u001b[0;34m(\u001b[0m\u001b[0mlen\u001b[0m\u001b[0;34m(\u001b[0m\u001b[0mnew_links\u001b[0m\u001b[0;34m)\u001b[0m\u001b[0;34m,\u001b[0m \u001b[0;34m'new link(s) found'\u001b[0m\u001b[0;34m)\u001b[0m\u001b[0;34m\u001b[0m\u001b[0;34m\u001b[0m\u001b[0m\n",
      "\u001b[0;32m<ipython-input-10-f245caed8e27>\u001b[0m in \u001b[0;36mvisit\u001b[0;34m(url, links_seen)\u001b[0m\n\u001b[1;32m      1\u001b[0m \u001b[0;32mdef\u001b[0m \u001b[0mvisit\u001b[0m\u001b[0;34m(\u001b[0m\u001b[0murl\u001b[0m\u001b[0;34m,\u001b[0m \u001b[0mlinks_seen\u001b[0m\u001b[0;34m)\u001b[0m\u001b[0;34m:\u001b[0m\u001b[0;34m\u001b[0m\u001b[0;34m\u001b[0m\u001b[0m\n\u001b[0;32m----> 2\u001b[0;31m     \u001b[0mhtml\u001b[0m \u001b[0;34m=\u001b[0m \u001b[0mrequests\u001b[0m\u001b[0;34m.\u001b[0m\u001b[0mget\u001b[0m\u001b[0;34m(\u001b[0m\u001b[0murl\u001b[0m\u001b[0;34m)\u001b[0m\u001b[0;34m.\u001b[0m\u001b[0mtext\u001b[0m\u001b[0;34m\u001b[0m\u001b[0;34m\u001b[0m\u001b[0m\n\u001b[0m\u001b[1;32m      3\u001b[0m     \u001b[0mhtml_soup\u001b[0m \u001b[0;34m=\u001b[0m \u001b[0mBeautifulSoup\u001b[0m\u001b[0;34m(\u001b[0m\u001b[0mhtml\u001b[0m\u001b[0;34m,\u001b[0m \u001b[0;34m'html.parser'\u001b[0m\u001b[0;34m)\u001b[0m\u001b[0;34m\u001b[0m\u001b[0;34m\u001b[0m\u001b[0m\n\u001b[1;32m      4\u001b[0m \u001b[0;34m\u001b[0m\u001b[0m\n\u001b[1;32m      5\u001b[0m     \u001b[0mnew_links\u001b[0m \u001b[0;34m=\u001b[0m \u001b[0;34m[\u001b[0m\u001b[0;34m]\u001b[0m\u001b[0;34m\u001b[0m\u001b[0;34m\u001b[0m\u001b[0m\n",
      "\u001b[0;32m/Users/higashi/PycharmProjects/FisheryProject/venv/lib/python3.7/site-packages/requests/api.py\u001b[0m in \u001b[0;36mget\u001b[0;34m(url, params, **kwargs)\u001b[0m\n\u001b[1;32m     73\u001b[0m \u001b[0;34m\u001b[0m\u001b[0m\n\u001b[1;32m     74\u001b[0m     \u001b[0mkwargs\u001b[0m\u001b[0;34m.\u001b[0m\u001b[0msetdefault\u001b[0m\u001b[0;34m(\u001b[0m\u001b[0;34m'allow_redirects'\u001b[0m\u001b[0;34m,\u001b[0m \u001b[0;32mTrue\u001b[0m\u001b[0;34m)\u001b[0m\u001b[0;34m\u001b[0m\u001b[0;34m\u001b[0m\u001b[0m\n\u001b[0;32m---> 75\u001b[0;31m     \u001b[0;32mreturn\u001b[0m \u001b[0mrequest\u001b[0m\u001b[0;34m(\u001b[0m\u001b[0;34m'get'\u001b[0m\u001b[0;34m,\u001b[0m \u001b[0murl\u001b[0m\u001b[0;34m,\u001b[0m \u001b[0mparams\u001b[0m\u001b[0;34m=\u001b[0m\u001b[0mparams\u001b[0m\u001b[0;34m,\u001b[0m \u001b[0;34m**\u001b[0m\u001b[0mkwargs\u001b[0m\u001b[0;34m)\u001b[0m\u001b[0;34m\u001b[0m\u001b[0;34m\u001b[0m\u001b[0m\n\u001b[0m\u001b[1;32m     76\u001b[0m \u001b[0;34m\u001b[0m\u001b[0m\n\u001b[1;32m     77\u001b[0m \u001b[0;34m\u001b[0m\u001b[0m\n",
      "\u001b[0;32m/Users/higashi/PycharmProjects/FisheryProject/venv/lib/python3.7/site-packages/requests/api.py\u001b[0m in \u001b[0;36mrequest\u001b[0;34m(method, url, **kwargs)\u001b[0m\n\u001b[1;32m     58\u001b[0m     \u001b[0;31m# cases, and look like a memory leak in others.\u001b[0m\u001b[0;34m\u001b[0m\u001b[0;34m\u001b[0m\u001b[0;34m\u001b[0m\u001b[0m\n\u001b[1;32m     59\u001b[0m     \u001b[0;32mwith\u001b[0m \u001b[0msessions\u001b[0m\u001b[0;34m.\u001b[0m\u001b[0mSession\u001b[0m\u001b[0;34m(\u001b[0m\u001b[0;34m)\u001b[0m \u001b[0;32mas\u001b[0m \u001b[0msession\u001b[0m\u001b[0;34m:\u001b[0m\u001b[0;34m\u001b[0m\u001b[0;34m\u001b[0m\u001b[0m\n\u001b[0;32m---> 60\u001b[0;31m         \u001b[0;32mreturn\u001b[0m \u001b[0msession\u001b[0m\u001b[0;34m.\u001b[0m\u001b[0mrequest\u001b[0m\u001b[0;34m(\u001b[0m\u001b[0mmethod\u001b[0m\u001b[0;34m=\u001b[0m\u001b[0mmethod\u001b[0m\u001b[0;34m,\u001b[0m \u001b[0murl\u001b[0m\u001b[0;34m=\u001b[0m\u001b[0murl\u001b[0m\u001b[0;34m,\u001b[0m \u001b[0;34m**\u001b[0m\u001b[0mkwargs\u001b[0m\u001b[0;34m)\u001b[0m\u001b[0;34m\u001b[0m\u001b[0;34m\u001b[0m\u001b[0m\n\u001b[0m\u001b[1;32m     61\u001b[0m \u001b[0;34m\u001b[0m\u001b[0m\n\u001b[1;32m     62\u001b[0m \u001b[0;34m\u001b[0m\u001b[0m\n",
      "\u001b[0;32m/Users/higashi/PycharmProjects/FisheryProject/venv/lib/python3.7/site-packages/requests/sessions.py\u001b[0m in \u001b[0;36mrequest\u001b[0;34m(self, method, url, params, data, headers, cookies, files, auth, timeout, allow_redirects, proxies, hooks, stream, verify, cert, json)\u001b[0m\n\u001b[1;32m    531\u001b[0m         }\n\u001b[1;32m    532\u001b[0m         \u001b[0msend_kwargs\u001b[0m\u001b[0;34m.\u001b[0m\u001b[0mupdate\u001b[0m\u001b[0;34m(\u001b[0m\u001b[0msettings\u001b[0m\u001b[0;34m)\u001b[0m\u001b[0;34m\u001b[0m\u001b[0;34m\u001b[0m\u001b[0m\n\u001b[0;32m--> 533\u001b[0;31m         \u001b[0mresp\u001b[0m \u001b[0;34m=\u001b[0m \u001b[0mself\u001b[0m\u001b[0;34m.\u001b[0m\u001b[0msend\u001b[0m\u001b[0;34m(\u001b[0m\u001b[0mprep\u001b[0m\u001b[0;34m,\u001b[0m \u001b[0;34m**\u001b[0m\u001b[0msend_kwargs\u001b[0m\u001b[0;34m)\u001b[0m\u001b[0;34m\u001b[0m\u001b[0;34m\u001b[0m\u001b[0m\n\u001b[0m\u001b[1;32m    534\u001b[0m \u001b[0;34m\u001b[0m\u001b[0m\n\u001b[1;32m    535\u001b[0m         \u001b[0;32mreturn\u001b[0m \u001b[0mresp\u001b[0m\u001b[0;34m\u001b[0m\u001b[0;34m\u001b[0m\u001b[0m\n",
      "\u001b[0;32m/Users/higashi/PycharmProjects/FisheryProject/venv/lib/python3.7/site-packages/requests/sessions.py\u001b[0m in \u001b[0;36msend\u001b[0;34m(self, request, **kwargs)\u001b[0m\n\u001b[1;32m    644\u001b[0m \u001b[0;34m\u001b[0m\u001b[0m\n\u001b[1;32m    645\u001b[0m         \u001b[0;31m# Send the request\u001b[0m\u001b[0;34m\u001b[0m\u001b[0;34m\u001b[0m\u001b[0;34m\u001b[0m\u001b[0m\n\u001b[0;32m--> 646\u001b[0;31m         \u001b[0mr\u001b[0m \u001b[0;34m=\u001b[0m \u001b[0madapter\u001b[0m\u001b[0;34m.\u001b[0m\u001b[0msend\u001b[0m\u001b[0;34m(\u001b[0m\u001b[0mrequest\u001b[0m\u001b[0;34m,\u001b[0m \u001b[0;34m**\u001b[0m\u001b[0mkwargs\u001b[0m\u001b[0;34m)\u001b[0m\u001b[0;34m\u001b[0m\u001b[0;34m\u001b[0m\u001b[0m\n\u001b[0m\u001b[1;32m    647\u001b[0m \u001b[0;34m\u001b[0m\u001b[0m\n\u001b[1;32m    648\u001b[0m         \u001b[0;31m# Total elapsed time of the request (approximately)\u001b[0m\u001b[0;34m\u001b[0m\u001b[0;34m\u001b[0m\u001b[0;34m\u001b[0m\u001b[0m\n",
      "\u001b[0;32m/Users/higashi/PycharmProjects/FisheryProject/venv/lib/python3.7/site-packages/requests/adapters.py\u001b[0m in \u001b[0;36msend\u001b[0;34m(self, request, stream, timeout, verify, cert, proxies)\u001b[0m\n\u001b[1;32m    447\u001b[0m                     \u001b[0mdecode_content\u001b[0m\u001b[0;34m=\u001b[0m\u001b[0;32mFalse\u001b[0m\u001b[0;34m,\u001b[0m\u001b[0;34m\u001b[0m\u001b[0;34m\u001b[0m\u001b[0m\n\u001b[1;32m    448\u001b[0m                     \u001b[0mretries\u001b[0m\u001b[0;34m=\u001b[0m\u001b[0mself\u001b[0m\u001b[0;34m.\u001b[0m\u001b[0mmax_retries\u001b[0m\u001b[0;34m,\u001b[0m\u001b[0;34m\u001b[0m\u001b[0;34m\u001b[0m\u001b[0m\n\u001b[0;32m--> 449\u001b[0;31m                     \u001b[0mtimeout\u001b[0m\u001b[0;34m=\u001b[0m\u001b[0mtimeout\u001b[0m\u001b[0;34m\u001b[0m\u001b[0;34m\u001b[0m\u001b[0m\n\u001b[0m\u001b[1;32m    450\u001b[0m                 )\n\u001b[1;32m    451\u001b[0m \u001b[0;34m\u001b[0m\u001b[0m\n",
      "\u001b[0;32m/Users/higashi/PycharmProjects/FisheryProject/venv/lib/python3.7/site-packages/urllib3/connectionpool.py\u001b[0m in \u001b[0;36murlopen\u001b[0;34m(self, method, url, body, headers, retries, redirect, assert_same_host, timeout, pool_timeout, release_conn, chunked, body_pos, **response_kw)\u001b[0m\n\u001b[1;32m    598\u001b[0m                                                   \u001b[0mtimeout\u001b[0m\u001b[0;34m=\u001b[0m\u001b[0mtimeout_obj\u001b[0m\u001b[0;34m,\u001b[0m\u001b[0;34m\u001b[0m\u001b[0;34m\u001b[0m\u001b[0m\n\u001b[1;32m    599\u001b[0m                                                   \u001b[0mbody\u001b[0m\u001b[0;34m=\u001b[0m\u001b[0mbody\u001b[0m\u001b[0;34m,\u001b[0m \u001b[0mheaders\u001b[0m\u001b[0;34m=\u001b[0m\u001b[0mheaders\u001b[0m\u001b[0;34m,\u001b[0m\u001b[0;34m\u001b[0m\u001b[0;34m\u001b[0m\u001b[0m\n\u001b[0;32m--> 600\u001b[0;31m                                                   chunked=chunked)\n\u001b[0m\u001b[1;32m    601\u001b[0m \u001b[0;34m\u001b[0m\u001b[0m\n\u001b[1;32m    602\u001b[0m             \u001b[0;31m# If we're going to release the connection in ``finally:``, then\u001b[0m\u001b[0;34m\u001b[0m\u001b[0;34m\u001b[0m\u001b[0;34m\u001b[0m\u001b[0m\n",
      "\u001b[0;32m/Users/higashi/PycharmProjects/FisheryProject/venv/lib/python3.7/site-packages/urllib3/connectionpool.py\u001b[0m in \u001b[0;36m_make_request\u001b[0;34m(self, conn, method, url, timeout, chunked, **httplib_request_kw)\u001b[0m\n\u001b[1;32m    378\u001b[0m             \u001b[0;32mexcept\u001b[0m \u001b[0mTypeError\u001b[0m\u001b[0;34m:\u001b[0m  \u001b[0;31m# Python 3\u001b[0m\u001b[0;34m\u001b[0m\u001b[0;34m\u001b[0m\u001b[0m\n\u001b[1;32m    379\u001b[0m                 \u001b[0;32mtry\u001b[0m\u001b[0;34m:\u001b[0m\u001b[0;34m\u001b[0m\u001b[0;34m\u001b[0m\u001b[0m\n\u001b[0;32m--> 380\u001b[0;31m                     \u001b[0mhttplib_response\u001b[0m \u001b[0;34m=\u001b[0m \u001b[0mconn\u001b[0m\u001b[0;34m.\u001b[0m\u001b[0mgetresponse\u001b[0m\u001b[0;34m(\u001b[0m\u001b[0;34m)\u001b[0m\u001b[0;34m\u001b[0m\u001b[0;34m\u001b[0m\u001b[0m\n\u001b[0m\u001b[1;32m    381\u001b[0m                 \u001b[0;32mexcept\u001b[0m \u001b[0mException\u001b[0m \u001b[0;32mas\u001b[0m \u001b[0me\u001b[0m\u001b[0;34m:\u001b[0m\u001b[0;34m\u001b[0m\u001b[0;34m\u001b[0m\u001b[0m\n\u001b[1;32m    382\u001b[0m                     \u001b[0;31m# Remove the TypeError from the exception chain in Python 3;\u001b[0m\u001b[0;34m\u001b[0m\u001b[0;34m\u001b[0m\u001b[0;34m\u001b[0m\u001b[0m\n",
      "\u001b[0;32m/Library/Frameworks/Python.framework/Versions/3.7/lib/python3.7/http/client.py\u001b[0m in \u001b[0;36mgetresponse\u001b[0;34m(self)\u001b[0m\n\u001b[1;32m   1319\u001b[0m         \u001b[0;32mtry\u001b[0m\u001b[0;34m:\u001b[0m\u001b[0;34m\u001b[0m\u001b[0;34m\u001b[0m\u001b[0m\n\u001b[1;32m   1320\u001b[0m             \u001b[0;32mtry\u001b[0m\u001b[0;34m:\u001b[0m\u001b[0;34m\u001b[0m\u001b[0;34m\u001b[0m\u001b[0m\n\u001b[0;32m-> 1321\u001b[0;31m                 \u001b[0mresponse\u001b[0m\u001b[0;34m.\u001b[0m\u001b[0mbegin\u001b[0m\u001b[0;34m(\u001b[0m\u001b[0;34m)\u001b[0m\u001b[0;34m\u001b[0m\u001b[0;34m\u001b[0m\u001b[0m\n\u001b[0m\u001b[1;32m   1322\u001b[0m             \u001b[0;32mexcept\u001b[0m \u001b[0mConnectionError\u001b[0m\u001b[0;34m:\u001b[0m\u001b[0;34m\u001b[0m\u001b[0;34m\u001b[0m\u001b[0m\n\u001b[1;32m   1323\u001b[0m                 \u001b[0mself\u001b[0m\u001b[0;34m.\u001b[0m\u001b[0mclose\u001b[0m\u001b[0;34m(\u001b[0m\u001b[0;34m)\u001b[0m\u001b[0;34m\u001b[0m\u001b[0;34m\u001b[0m\u001b[0m\n",
      "\u001b[0;32m/Library/Frameworks/Python.framework/Versions/3.7/lib/python3.7/http/client.py\u001b[0m in \u001b[0;36mbegin\u001b[0;34m(self)\u001b[0m\n\u001b[1;32m    294\u001b[0m         \u001b[0;31m# read until we get a non-100 response\u001b[0m\u001b[0;34m\u001b[0m\u001b[0;34m\u001b[0m\u001b[0;34m\u001b[0m\u001b[0m\n\u001b[1;32m    295\u001b[0m         \u001b[0;32mwhile\u001b[0m \u001b[0;32mTrue\u001b[0m\u001b[0;34m:\u001b[0m\u001b[0;34m\u001b[0m\u001b[0;34m\u001b[0m\u001b[0m\n\u001b[0;32m--> 296\u001b[0;31m             \u001b[0mversion\u001b[0m\u001b[0;34m,\u001b[0m \u001b[0mstatus\u001b[0m\u001b[0;34m,\u001b[0m \u001b[0mreason\u001b[0m \u001b[0;34m=\u001b[0m \u001b[0mself\u001b[0m\u001b[0;34m.\u001b[0m\u001b[0m_read_status\u001b[0m\u001b[0;34m(\u001b[0m\u001b[0;34m)\u001b[0m\u001b[0;34m\u001b[0m\u001b[0;34m\u001b[0m\u001b[0m\n\u001b[0m\u001b[1;32m    297\u001b[0m             \u001b[0;32mif\u001b[0m \u001b[0mstatus\u001b[0m \u001b[0;34m!=\u001b[0m \u001b[0mCONTINUE\u001b[0m\u001b[0;34m:\u001b[0m\u001b[0;34m\u001b[0m\u001b[0;34m\u001b[0m\u001b[0m\n\u001b[1;32m    298\u001b[0m                 \u001b[0;32mbreak\u001b[0m\u001b[0;34m\u001b[0m\u001b[0;34m\u001b[0m\u001b[0m\n",
      "\u001b[0;32m/Library/Frameworks/Python.framework/Versions/3.7/lib/python3.7/http/client.py\u001b[0m in \u001b[0;36m_read_status\u001b[0;34m(self)\u001b[0m\n\u001b[1;32m    255\u001b[0m \u001b[0;34m\u001b[0m\u001b[0m\n\u001b[1;32m    256\u001b[0m     \u001b[0;32mdef\u001b[0m \u001b[0m_read_status\u001b[0m\u001b[0;34m(\u001b[0m\u001b[0mself\u001b[0m\u001b[0;34m)\u001b[0m\u001b[0;34m:\u001b[0m\u001b[0;34m\u001b[0m\u001b[0;34m\u001b[0m\u001b[0m\n\u001b[0;32m--> 257\u001b[0;31m         \u001b[0mline\u001b[0m \u001b[0;34m=\u001b[0m \u001b[0mstr\u001b[0m\u001b[0;34m(\u001b[0m\u001b[0mself\u001b[0m\u001b[0;34m.\u001b[0m\u001b[0mfp\u001b[0m\u001b[0;34m.\u001b[0m\u001b[0mreadline\u001b[0m\u001b[0;34m(\u001b[0m\u001b[0m_MAXLINE\u001b[0m \u001b[0;34m+\u001b[0m \u001b[0;36m1\u001b[0m\u001b[0;34m)\u001b[0m\u001b[0;34m,\u001b[0m \u001b[0;34m\"iso-8859-1\"\u001b[0m\u001b[0;34m)\u001b[0m\u001b[0;34m\u001b[0m\u001b[0;34m\u001b[0m\u001b[0m\n\u001b[0m\u001b[1;32m    258\u001b[0m         \u001b[0;32mif\u001b[0m \u001b[0mlen\u001b[0m\u001b[0;34m(\u001b[0m\u001b[0mline\u001b[0m\u001b[0;34m)\u001b[0m \u001b[0;34m>\u001b[0m \u001b[0m_MAXLINE\u001b[0m\u001b[0;34m:\u001b[0m\u001b[0;34m\u001b[0m\u001b[0;34m\u001b[0m\u001b[0m\n\u001b[1;32m    259\u001b[0m             \u001b[0;32mraise\u001b[0m \u001b[0mLineTooLong\u001b[0m\u001b[0;34m(\u001b[0m\u001b[0;34m\"status line\"\u001b[0m\u001b[0;34m)\u001b[0m\u001b[0;34m\u001b[0m\u001b[0;34m\u001b[0m\u001b[0m\n",
      "\u001b[0;32m/Library/Frameworks/Python.framework/Versions/3.7/lib/python3.7/socket.py\u001b[0m in \u001b[0;36mreadinto\u001b[0;34m(self, b)\u001b[0m\n\u001b[1;32m    587\u001b[0m         \u001b[0;32mwhile\u001b[0m \u001b[0;32mTrue\u001b[0m\u001b[0;34m:\u001b[0m\u001b[0;34m\u001b[0m\u001b[0;34m\u001b[0m\u001b[0m\n\u001b[1;32m    588\u001b[0m             \u001b[0;32mtry\u001b[0m\u001b[0;34m:\u001b[0m\u001b[0;34m\u001b[0m\u001b[0;34m\u001b[0m\u001b[0m\n\u001b[0;32m--> 589\u001b[0;31m                 \u001b[0;32mreturn\u001b[0m \u001b[0mself\u001b[0m\u001b[0;34m.\u001b[0m\u001b[0m_sock\u001b[0m\u001b[0;34m.\u001b[0m\u001b[0mrecv_into\u001b[0m\u001b[0;34m(\u001b[0m\u001b[0mb\u001b[0m\u001b[0;34m)\u001b[0m\u001b[0;34m\u001b[0m\u001b[0;34m\u001b[0m\u001b[0m\n\u001b[0m\u001b[1;32m    590\u001b[0m             \u001b[0;32mexcept\u001b[0m \u001b[0mtimeout\u001b[0m\u001b[0;34m:\u001b[0m\u001b[0;34m\u001b[0m\u001b[0;34m\u001b[0m\u001b[0m\n\u001b[1;32m    591\u001b[0m                 \u001b[0mself\u001b[0m\u001b[0;34m.\u001b[0m\u001b[0m_timeout_occurred\u001b[0m \u001b[0;34m=\u001b[0m \u001b[0;32mTrue\u001b[0m\u001b[0;34m\u001b[0m\u001b[0;34m\u001b[0m\u001b[0m\n",
      "\u001b[0;31mKeyboardInterrupt\u001b[0m: "
     ],
     "output_type": "error"
    }
   ],
   "source": [
    "\"\"\"\n",
    "links_todoから、アクセスするurlを一つ選択する\n",
    "links_seenにurl格納して、既にアクセス済みにする\n",
    "関数visitでアクセス、さらにリンクを拾ってくる\n",
    "新たに取得したリンク集をlinks_todoに追加する\n",
    "\"\"\"\n",
    "\n",
    "while links_todo:\n",
    "    url_to_visit  = links_todo.pop()\n",
    "    links_seen.add(url_to_visit)\n",
    "    print('Now visiting:', url_to_visit)\n",
    "    new_links = visit(url_to_visit, links_seen)\n",
    "    \n",
    "    print(len(new_links), 'new link(s) found')\n",
    "    \n",
    "    links_todo += new_links"
   ]
  },
  {
   "cell_type": "heading",
   "metadata": {},
   "level": 1,
   "source": [
    "==========データベースに保存する=========="
   ]
  },
  {
   "cell_type": "code",
   "execution_count": 2,
   "metadata": {},
   "outputs": [],
   "source": [
    "import requests\n",
    "import records\n",
    "from bs4 import BeautifulSoup\n",
    "from urllib.parse import urljoin\n",
    "from sqlalchemy.exc import IntegrityError"
   ]
  },
  {
   "cell_type": "code",
   "execution_count": 31,
   "metadata": {},
   "outputs": [
    {
     "data": {
      "text/plain": [
       "<RecordCollection size=0 pending=True>"
      ]
     },
     "execution_count": 31,
     "metadata": {},
     "output_type": "execute_result"
    }
   ],
   "source": [
    "\"\"\"\n",
    "データベースの準備\n",
    "\n",
    "db = records.Database('sqlite:////Users/higashi/PycharmProjects/WeiboScraping/venv/data/crawler/crawler_database.db')\n",
    "で、/Users/higashi/PycharmProjects/WeiboScraping/venv/data/crawler/直下に、crawler_database.dbファイルを生成し、\n",
    "データを格納していく\n",
    "生成された.dbファイルをDB Browser for SQLiteで開くことで中身を見れる\n",
    "\n",
    "db.queryで、linksテーブルとnumbersテーブルを作成\n",
    "()内でheader（column）を定義\n",
    "    linksではurl, created_at, visited_atの3つ\n",
    "    numbersではurl, numberの2つ\n",
    "\"\"\"\n",
    "\n",
    "db = records.Database('sqlite:////Users/higashi/PycharmProjects/WeiboScraping/venv/data/crawler/crawler_database.db')\n",
    "\n",
    "db.query('''CREATE TABLE IF NOT EXISTS links (\n",
    "            url text PRIMARY KEY,\n",
    "            created_at datetime,\n",
    "            visited_at datetime NULL)''')\n",
    "\n",
    "db.query('''CREATE TABLE IF NOT EXISTS numbers (\n",
    "            url text,\n",
    "            number integer,\n",
    "            PRIMARY KEY (url, number))''')"
   ]
  },
  {
   "cell_type": "code",
   "execution_count": 39,
   "metadata": {},
   "outputs": [],
   "source": [
    "\"\"\"\n",
    "linksテーブルに、リンクと時刻を格納する関数\n",
    "\n",
    "リンクを格納する（store link）\n",
    "\n",
    "links: Table名\n",
    "url: header名、見つけたリンク\n",
    "created_at: header名、取得時刻\n",
    "\"\"\"\n",
    "\n",
    "def store_link(url):\n",
    "    try:\n",
    "        db.query('''INSERT INTO links (url, created_at)              #url, created_atはheaderを表す\n",
    "                    VALUES (:url, CURRENT_TIMESTAMP)''', url=url)    #:url, CURRENT_TIMESTAMPは各header名の列に格納される値、:はurl=urlのように代入を表す\n",
    "    except IntegrityError as ie:\n",
    "        pass"
   ]
  },
  {
   "cell_type": "code",
   "execution_count": 40,
   "metadata": {},
   "outputs": [],
   "source": [
    "\"\"\"\n",
    "numbersテーブルに、リンクと<td>に紐づくnumberを格納する関数\n",
    "\n",
    "numbers: テーブル名\n",
    "url: header名\n",
    "number: header名\n",
    "\"\"\"\n",
    "\n",
    "def store_number(url, number):\n",
    "    try:\n",
    "        db.query('''INSERT INTO numbers (url, number)                       #url, numberはheaderを表す\n",
    "                    VALUES (:url, :number)''', url=url, number=number)      #:url, :numberは引数で与えられた値をあとで代入することを表す\n",
    "    except IntegrityError as ie:\n",
    "        pass"
   ]
  },
  {
   "cell_type": "code",
   "execution_count": 34,
   "metadata": {},
   "outputs": [],
   "source": [
    "\"\"\"\n",
    "アクセスしたurlに対して、アクセス済みマークを付与する\n",
    "\n",
    "WHERE url=:url で、引数で与えたurlと一致するurlの場所にマークを付与する\n",
    "visited_at: マークを付与する列のheader\n",
    "\"\"\"\n",
    "\n",
    "def mark_visited(url):\n",
    "    db.query('''UPDATE links SET visited_at=CURRENT_TIMESTAMP\n",
    "                WHERE url=:url''', url=url)"
   ]
  },
  {
   "cell_type": "code",
   "execution_count": 35,
   "metadata": {},
   "outputs": [],
   "source": [
    "\"\"\"\n",
    "まだアクセスしていないurlをlinksテーブルから1つ抜き出す\n",
    "\"\"\"\n",
    "\n",
    "def get_random_unvisited_link():\n",
    "    link = db.query('''SELECT * FROM links\n",
    "                        WHERE visited_at IS NULL\n",
    "                        ORDER BY RANDOM()LIMIT 1''').first()\n",
    "    return None if link is None else link.url"
   ]
  },
  {
   "cell_type": "code",
   "execution_count": 36,
   "metadata": {},
   "outputs": [],
   "source": [
    "\"\"\"\n",
    "urlにアクセス、<td>に紐づいている値を、store_number関数でDBに格納する\n",
    "urlにアクセス、<a>に紐づいているリンク\n",
    "\"\"\"\n",
    "\n",
    "def visit(url):\n",
    "    html = requests.get(url).text\n",
    "    html_soup = BeautifulSoup(html, 'html.parser')\n",
    "    new_links = []\n",
    "    \n",
    "    for td in html_soup.find_all(\"td\"):\n",
    "        store_number(url, int(td.text.strip()))\n",
    "    \n",
    "    for link in html_soup.find_all(\"a\"):\n",
    "        link_url =  link.get('href')\n",
    "        if link_url is  None:\n",
    "            continue\n",
    "        full_url = urljoin(url, link_url)\n",
    "        new_links.append(full_url)\n",
    "    return new_links"
   ]
  },
  {
   "cell_type": "code",
   "execution_count": 37,
   "metadata": {},
   "outputs": [],
   "source": [
    "store_link('http://www.webscrapingfordatascience.com/crawler/')\n",
    "url_to_visit = get_random_unvisited_link()"
   ]
  },
  {
   "cell_type": "code",
   "execution_count": 38,
   "metadata": {},
   "outputs": [
    {
     "name": "stdout",
     "output_type": "stream",
     "text": [
      "Now visiting: http://www.webscrapingfordatascience.com/crawler/\n"
     ]
    },
    {
     "name": "stdout",
     "output_type": "stream",
     "text": [
      "5 new link(s) found\nNow visiting: http://www.webscrapingfordatascience.com/crawler/?r=99e47f87ab2b89c1d89c682d7caca4b0\n"
     ]
    },
    {
     "name": "stdout",
     "output_type": "stream",
     "text": [
      "5 new link(s) found\nNow visiting: http://www.webscrapingfordatascience.com/crawler/?r=229c9b32d29c8afd3e7ae1ffcb1cd608\n"
     ]
    },
    {
     "name": "stdout",
     "output_type": "stream",
     "text": [
      "5 new link(s) found\nNow visiting: http://www.webscrapingfordatascience.com/crawler/?r=872597bdb08c759bb5b65ab0fb447314\n"
     ]
    },
    {
     "name": "stdout",
     "output_type": "stream",
     "text": [
      "5 new link(s) found\nNow visiting: http://www.webscrapingfordatascience.com/crawler/?r=c5877d62fc1f995f87f67b08a6870fc3\n"
     ]
    },
    {
     "name": "stdout",
     "output_type": "stream",
     "text": [
      "5 new link(s) found\nNow visiting: http://www.webscrapingfordatascience.com/crawler/?r=2e48c68a275abb9496ea6ced5bcea1ee\n"
     ]
    },
    {
     "name": "stdout",
     "output_type": "stream",
     "text": [
      "5 new link(s) found\nNow visiting: http://www.webscrapingfordatascience.com/crawler/?r=1e9c9f3739c43b064cf0adb635c5e182\n"
     ]
    },
    {
     "name": "stdout",
     "output_type": "stream",
     "text": [
      "5 new link(s) found\nNow visiting: http://www.webscrapingfordatascience.com/crawler/?r=2a6a8c28a57643b77136ecf49b3f3e75\n"
     ]
    },
    {
     "name": "stdout",
     "output_type": "stream",
     "text": [
      "5 new link(s) found\nNow visiting: http://www.webscrapingfordatascience.com/crawler/?r=e178393ea47782a9b835e22d88485783\n"
     ]
    },
    {
     "name": "stdout",
     "output_type": "stream",
     "text": [
      "5 new link(s) found\nNow visiting: http://www.webscrapingfordatascience.com/crawler/?r=1fd643d6749d3eefb50a2a57b28182f1\n"
     ]
    },
    {
     "name": "stdout",
     "output_type": "stream",
     "text": [
      "5 new link(s) found\nNow visiting: http://www.webscrapingfordatascience.com/crawler/?r=f2705e1c4ea955c413e9ba62215b94ca\n"
     ]
    },
    {
     "name": "stdout",
     "output_type": "stream",
     "text": [
      "5 new link(s) found\nNow visiting: http://www.webscrapingfordatascience.com/crawler/?r=99fe025551814331fb9c8339721016f6\n"
     ]
    },
    {
     "name": "stdout",
     "output_type": "stream",
     "text": [
      "5 new link(s) found\nNow visiting: http://www.webscrapingfordatascience.com/crawler/?r=f06c915d48f0a2b68a5804bc8dddb663\n"
     ]
    },
    {
     "name": "stdout",
     "output_type": "stream",
     "text": [
      "5 new link(s) found\nNow visiting: http://www.webscrapingfordatascience.com/crawler/?r=2e07a2c63fcc0240f7cfd3eef1d8bf53\n"
     ]
    },
    {
     "name": "stdout",
     "output_type": "stream",
     "text": [
      "5 new link(s) found\nNow visiting: http://www.webscrapingfordatascience.com/crawler/?r=d3336d08f279f3b4a2c15110ac9e0f16\n"
     ]
    },
    {
     "name": "stdout",
     "output_type": "stream",
     "text": [
      "5 new link(s) found\nNow visiting: http://www.webscrapingfordatascience.com/crawler/?r=fd73699acafcd7b63e0879f59dc99054\n"
     ]
    },
    {
     "name": "stdout",
     "output_type": "stream",
     "text": [
      "5 new link(s) found\nNow visiting: http://www.webscrapingfordatascience.com/crawler/?r=5de21f1e090c2e5c91634e40ff938941\n"
     ]
    },
    {
     "name": "stdout",
     "output_type": "stream",
     "text": [
      "5 new link(s) found\nNow visiting: http://www.webscrapingfordatascience.com/crawler/?r=6e47e434d99ff4c6a60a1b880770edc3\n"
     ]
    },
    {
     "name": "stdout",
     "output_type": "stream",
     "text": [
      "5 new link(s) found\nNow visiting: http://www.webscrapingfordatascience.com/crawler/?r=b04413a6ee2f5bbae081f7d712669874\n"
     ]
    },
    {
     "name": "stdout",
     "output_type": "stream",
     "text": [
      "5 new link(s) found\nNow visiting: http://www.webscrapingfordatascience.com/crawler/?r=3d06326bda4f5e2585e3efbab0f8cf27\n"
     ]
    },
    {
     "name": "stdout",
     "output_type": "stream",
     "text": [
      "5 new link(s) found\nNow visiting: http://www.webscrapingfordatascience.com/crawler/?r=56ffed9601822115073814fd1063f689\n"
     ]
    },
    {
     "name": "stdout",
     "output_type": "stream",
     "text": [
      "5 new link(s) found\nNow visiting: http://www.webscrapingfordatascience.com/crawler/?r=37c92e78bb09172247bca8bf56762024\n"
     ]
    },
    {
     "ename": "KeyboardInterrupt",
     "evalue": "",
     "traceback": [
      "\u001b[0;31m---------------------------------------------------------------------------\u001b[0m",
      "\u001b[0;31mKeyboardInterrupt\u001b[0m                         Traceback (most recent call last)",
      "\u001b[0;32m<ipython-input-38-d3652bd51360>\u001b[0m in \u001b[0;36m<module>\u001b[0;34m()\u001b[0m\n\u001b[1;32m      1\u001b[0m \u001b[0;32mwhile\u001b[0m \u001b[0murl_to_visit\u001b[0m \u001b[0;32mis\u001b[0m \u001b[0;32mnot\u001b[0m \u001b[0;32mNone\u001b[0m\u001b[0;34m:\u001b[0m\u001b[0;34m\u001b[0m\u001b[0;34m\u001b[0m\u001b[0m\n\u001b[1;32m      2\u001b[0m     \u001b[0mprint\u001b[0m\u001b[0;34m(\u001b[0m\u001b[0;34m'Now visiting:'\u001b[0m\u001b[0;34m,\u001b[0m \u001b[0murl_to_visit\u001b[0m\u001b[0;34m)\u001b[0m\u001b[0;34m\u001b[0m\u001b[0;34m\u001b[0m\u001b[0m\n\u001b[0;32m----> 3\u001b[0;31m     \u001b[0mnew_links\u001b[0m \u001b[0;34m=\u001b[0m \u001b[0mvisit\u001b[0m\u001b[0;34m(\u001b[0m\u001b[0murl_to_visit\u001b[0m\u001b[0;34m)\u001b[0m\u001b[0;34m\u001b[0m\u001b[0;34m\u001b[0m\u001b[0m\n\u001b[0m\u001b[1;32m      4\u001b[0m     \u001b[0mprint\u001b[0m\u001b[0;34m(\u001b[0m\u001b[0mlen\u001b[0m\u001b[0;34m(\u001b[0m\u001b[0mnew_links\u001b[0m\u001b[0;34m)\u001b[0m\u001b[0;34m,\u001b[0m \u001b[0;34m'new link(s) found'\u001b[0m\u001b[0;34m)\u001b[0m\u001b[0;34m\u001b[0m\u001b[0;34m\u001b[0m\u001b[0m\n\u001b[1;32m      5\u001b[0m \u001b[0;34m\u001b[0m\u001b[0m\n",
      "\u001b[0;32m<ipython-input-36-684694148bd4>\u001b[0m in \u001b[0;36mvisit\u001b[0;34m(url)\u001b[0m\n\u001b[1;32m      1\u001b[0m \u001b[0;32mdef\u001b[0m \u001b[0mvisit\u001b[0m\u001b[0;34m(\u001b[0m\u001b[0murl\u001b[0m\u001b[0;34m)\u001b[0m\u001b[0;34m:\u001b[0m\u001b[0;34m\u001b[0m\u001b[0;34m\u001b[0m\u001b[0m\n\u001b[0;32m----> 2\u001b[0;31m     \u001b[0mhtml\u001b[0m \u001b[0;34m=\u001b[0m \u001b[0mrequests\u001b[0m\u001b[0;34m.\u001b[0m\u001b[0mget\u001b[0m\u001b[0;34m(\u001b[0m\u001b[0murl\u001b[0m\u001b[0;34m)\u001b[0m\u001b[0;34m.\u001b[0m\u001b[0mtext\u001b[0m\u001b[0;34m\u001b[0m\u001b[0;34m\u001b[0m\u001b[0m\n\u001b[0m\u001b[1;32m      3\u001b[0m     \u001b[0mhtml_soup\u001b[0m \u001b[0;34m=\u001b[0m \u001b[0mBeautifulSoup\u001b[0m\u001b[0;34m(\u001b[0m\u001b[0mhtml\u001b[0m\u001b[0;34m,\u001b[0m \u001b[0;34m'html.parser'\u001b[0m\u001b[0;34m)\u001b[0m\u001b[0;34m\u001b[0m\u001b[0;34m\u001b[0m\u001b[0m\n\u001b[1;32m      4\u001b[0m     \u001b[0mnew_links\u001b[0m \u001b[0;34m=\u001b[0m \u001b[0;34m[\u001b[0m\u001b[0;34m]\u001b[0m\u001b[0;34m\u001b[0m\u001b[0;34m\u001b[0m\u001b[0m\n\u001b[1;32m      5\u001b[0m \u001b[0;34m\u001b[0m\u001b[0m\n",
      "\u001b[0;32m/Users/higashi/PycharmProjects/FisheryProject/venv/lib/python3.7/site-packages/requests/api.py\u001b[0m in \u001b[0;36mget\u001b[0;34m(url, params, **kwargs)\u001b[0m\n\u001b[1;32m     73\u001b[0m \u001b[0;34m\u001b[0m\u001b[0m\n\u001b[1;32m     74\u001b[0m     \u001b[0mkwargs\u001b[0m\u001b[0;34m.\u001b[0m\u001b[0msetdefault\u001b[0m\u001b[0;34m(\u001b[0m\u001b[0;34m'allow_redirects'\u001b[0m\u001b[0;34m,\u001b[0m \u001b[0;32mTrue\u001b[0m\u001b[0;34m)\u001b[0m\u001b[0;34m\u001b[0m\u001b[0;34m\u001b[0m\u001b[0m\n\u001b[0;32m---> 75\u001b[0;31m     \u001b[0;32mreturn\u001b[0m \u001b[0mrequest\u001b[0m\u001b[0;34m(\u001b[0m\u001b[0;34m'get'\u001b[0m\u001b[0;34m,\u001b[0m \u001b[0murl\u001b[0m\u001b[0;34m,\u001b[0m \u001b[0mparams\u001b[0m\u001b[0;34m=\u001b[0m\u001b[0mparams\u001b[0m\u001b[0;34m,\u001b[0m \u001b[0;34m**\u001b[0m\u001b[0mkwargs\u001b[0m\u001b[0;34m)\u001b[0m\u001b[0;34m\u001b[0m\u001b[0;34m\u001b[0m\u001b[0m\n\u001b[0m\u001b[1;32m     76\u001b[0m \u001b[0;34m\u001b[0m\u001b[0m\n\u001b[1;32m     77\u001b[0m \u001b[0;34m\u001b[0m\u001b[0m\n",
      "\u001b[0;32m/Users/higashi/PycharmProjects/FisheryProject/venv/lib/python3.7/site-packages/requests/api.py\u001b[0m in \u001b[0;36mrequest\u001b[0;34m(method, url, **kwargs)\u001b[0m\n\u001b[1;32m     58\u001b[0m     \u001b[0;31m# cases, and look like a memory leak in others.\u001b[0m\u001b[0;34m\u001b[0m\u001b[0;34m\u001b[0m\u001b[0;34m\u001b[0m\u001b[0m\n\u001b[1;32m     59\u001b[0m     \u001b[0;32mwith\u001b[0m \u001b[0msessions\u001b[0m\u001b[0;34m.\u001b[0m\u001b[0mSession\u001b[0m\u001b[0;34m(\u001b[0m\u001b[0;34m)\u001b[0m \u001b[0;32mas\u001b[0m \u001b[0msession\u001b[0m\u001b[0;34m:\u001b[0m\u001b[0;34m\u001b[0m\u001b[0;34m\u001b[0m\u001b[0m\n\u001b[0;32m---> 60\u001b[0;31m         \u001b[0;32mreturn\u001b[0m \u001b[0msession\u001b[0m\u001b[0;34m.\u001b[0m\u001b[0mrequest\u001b[0m\u001b[0;34m(\u001b[0m\u001b[0mmethod\u001b[0m\u001b[0;34m=\u001b[0m\u001b[0mmethod\u001b[0m\u001b[0;34m,\u001b[0m \u001b[0murl\u001b[0m\u001b[0;34m=\u001b[0m\u001b[0murl\u001b[0m\u001b[0;34m,\u001b[0m \u001b[0;34m**\u001b[0m\u001b[0mkwargs\u001b[0m\u001b[0;34m)\u001b[0m\u001b[0;34m\u001b[0m\u001b[0;34m\u001b[0m\u001b[0m\n\u001b[0m\u001b[1;32m     61\u001b[0m \u001b[0;34m\u001b[0m\u001b[0m\n\u001b[1;32m     62\u001b[0m \u001b[0;34m\u001b[0m\u001b[0m\n",
      "\u001b[0;32m/Users/higashi/PycharmProjects/FisheryProject/venv/lib/python3.7/site-packages/requests/sessions.py\u001b[0m in \u001b[0;36mrequest\u001b[0;34m(self, method, url, params, data, headers, cookies, files, auth, timeout, allow_redirects, proxies, hooks, stream, verify, cert, json)\u001b[0m\n\u001b[1;32m    522\u001b[0m \u001b[0;34m\u001b[0m\u001b[0m\n\u001b[1;32m    523\u001b[0m         settings = self.merge_environment_settings(\n\u001b[0;32m--> 524\u001b[0;31m             \u001b[0mprep\u001b[0m\u001b[0;34m.\u001b[0m\u001b[0murl\u001b[0m\u001b[0;34m,\u001b[0m \u001b[0mproxies\u001b[0m\u001b[0;34m,\u001b[0m \u001b[0mstream\u001b[0m\u001b[0;34m,\u001b[0m \u001b[0mverify\u001b[0m\u001b[0;34m,\u001b[0m \u001b[0mcert\u001b[0m\u001b[0;34m\u001b[0m\u001b[0;34m\u001b[0m\u001b[0m\n\u001b[0m\u001b[1;32m    525\u001b[0m         )\n\u001b[1;32m    526\u001b[0m \u001b[0;34m\u001b[0m\u001b[0m\n",
      "\u001b[0;32m/Users/higashi/PycharmProjects/FisheryProject/venv/lib/python3.7/site-packages/requests/sessions.py\u001b[0m in \u001b[0;36mmerge_environment_settings\u001b[0;34m(self, url, proxies, stream, verify, cert)\u001b[0m\n\u001b[1;32m    698\u001b[0m             \u001b[0;31m# Set environment's proxies.\u001b[0m\u001b[0;34m\u001b[0m\u001b[0;34m\u001b[0m\u001b[0;34m\u001b[0m\u001b[0m\n\u001b[1;32m    699\u001b[0m             \u001b[0mno_proxy\u001b[0m \u001b[0;34m=\u001b[0m \u001b[0mproxies\u001b[0m\u001b[0;34m.\u001b[0m\u001b[0mget\u001b[0m\u001b[0;34m(\u001b[0m\u001b[0;34m'no_proxy'\u001b[0m\u001b[0;34m)\u001b[0m \u001b[0;32mif\u001b[0m \u001b[0mproxies\u001b[0m \u001b[0;32mis\u001b[0m \u001b[0;32mnot\u001b[0m \u001b[0;32mNone\u001b[0m \u001b[0;32melse\u001b[0m \u001b[0;32mNone\u001b[0m\u001b[0;34m\u001b[0m\u001b[0;34m\u001b[0m\u001b[0m\n\u001b[0;32m--> 700\u001b[0;31m             \u001b[0menv_proxies\u001b[0m \u001b[0;34m=\u001b[0m \u001b[0mget_environ_proxies\u001b[0m\u001b[0;34m(\u001b[0m\u001b[0murl\u001b[0m\u001b[0;34m,\u001b[0m \u001b[0mno_proxy\u001b[0m\u001b[0;34m=\u001b[0m\u001b[0mno_proxy\u001b[0m\u001b[0;34m)\u001b[0m\u001b[0;34m\u001b[0m\u001b[0;34m\u001b[0m\u001b[0m\n\u001b[0m\u001b[1;32m    701\u001b[0m             \u001b[0;32mfor\u001b[0m \u001b[0;34m(\u001b[0m\u001b[0mk\u001b[0m\u001b[0;34m,\u001b[0m \u001b[0mv\u001b[0m\u001b[0;34m)\u001b[0m \u001b[0;32min\u001b[0m \u001b[0menv_proxies\u001b[0m\u001b[0;34m.\u001b[0m\u001b[0mitems\u001b[0m\u001b[0;34m(\u001b[0m\u001b[0;34m)\u001b[0m\u001b[0;34m:\u001b[0m\u001b[0;34m\u001b[0m\u001b[0;34m\u001b[0m\u001b[0m\n\u001b[1;32m    702\u001b[0m                 \u001b[0mproxies\u001b[0m\u001b[0;34m.\u001b[0m\u001b[0msetdefault\u001b[0m\u001b[0;34m(\u001b[0m\u001b[0mk\u001b[0m\u001b[0;34m,\u001b[0m \u001b[0mv\u001b[0m\u001b[0;34m)\u001b[0m\u001b[0;34m\u001b[0m\u001b[0;34m\u001b[0m\u001b[0m\n",
      "\u001b[0;32m/Users/higashi/PycharmProjects/FisheryProject/venv/lib/python3.7/site-packages/requests/utils.py\u001b[0m in \u001b[0;36mget_environ_proxies\u001b[0;34m(url, no_proxy)\u001b[0m\n\u001b[1;32m    762\u001b[0m         \u001b[0;32mreturn\u001b[0m \u001b[0;34m{\u001b[0m\u001b[0;34m}\u001b[0m\u001b[0;34m\u001b[0m\u001b[0;34m\u001b[0m\u001b[0m\n\u001b[1;32m    763\u001b[0m     \u001b[0;32melse\u001b[0m\u001b[0;34m:\u001b[0m\u001b[0;34m\u001b[0m\u001b[0;34m\u001b[0m\u001b[0m\n\u001b[0;32m--> 764\u001b[0;31m         \u001b[0;32mreturn\u001b[0m \u001b[0mgetproxies\u001b[0m\u001b[0;34m(\u001b[0m\u001b[0;34m)\u001b[0m\u001b[0;34m\u001b[0m\u001b[0;34m\u001b[0m\u001b[0m\n\u001b[0m\u001b[1;32m    765\u001b[0m \u001b[0;34m\u001b[0m\u001b[0m\n\u001b[1;32m    766\u001b[0m \u001b[0;34m\u001b[0m\u001b[0m\n",
      "\u001b[0;32m/Library/Frameworks/Python.framework/Versions/3.7/lib/python3.7/urllib/request.py\u001b[0m in \u001b[0;36mgetproxies\u001b[0;34m()\u001b[0m\n\u001b[1;32m   2611\u001b[0m \u001b[0;34m\u001b[0m\u001b[0m\n\u001b[1;32m   2612\u001b[0m     \u001b[0;32mdef\u001b[0m \u001b[0mgetproxies\u001b[0m\u001b[0;34m(\u001b[0m\u001b[0;34m)\u001b[0m\u001b[0;34m:\u001b[0m\u001b[0;34m\u001b[0m\u001b[0;34m\u001b[0m\u001b[0m\n\u001b[0;32m-> 2613\u001b[0;31m         \u001b[0;32mreturn\u001b[0m \u001b[0mgetproxies_environment\u001b[0m\u001b[0;34m(\u001b[0m\u001b[0;34m)\u001b[0m \u001b[0;32mor\u001b[0m \u001b[0mgetproxies_macosx_sysconf\u001b[0m\u001b[0;34m(\u001b[0m\u001b[0;34m)\u001b[0m\u001b[0;34m\u001b[0m\u001b[0;34m\u001b[0m\u001b[0m\n\u001b[0m\u001b[1;32m   2614\u001b[0m \u001b[0;34m\u001b[0m\u001b[0m\n\u001b[1;32m   2615\u001b[0m \u001b[0;34m\u001b[0m\u001b[0m\n",
      "\u001b[0;32m/Library/Frameworks/Python.framework/Versions/3.7/lib/python3.7/urllib/request.py\u001b[0m in \u001b[0;36mgetproxies_environment\u001b[0;34m()\u001b[0m\n\u001b[1;32m   2466\u001b[0m     \u001b[0;31m# in order to prefer lowercase variables, process environment in\u001b[0m\u001b[0;34m\u001b[0m\u001b[0;34m\u001b[0m\u001b[0;34m\u001b[0m\u001b[0m\n\u001b[1;32m   2467\u001b[0m     \u001b[0;31m# two passes: first matches any, second pass matches lowercase only\u001b[0m\u001b[0;34m\u001b[0m\u001b[0;34m\u001b[0m\u001b[0;34m\u001b[0m\u001b[0m\n\u001b[0;32m-> 2468\u001b[0;31m     \u001b[0;32mfor\u001b[0m \u001b[0mname\u001b[0m\u001b[0;34m,\u001b[0m \u001b[0mvalue\u001b[0m \u001b[0;32min\u001b[0m \u001b[0mos\u001b[0m\u001b[0;34m.\u001b[0m\u001b[0menviron\u001b[0m\u001b[0;34m.\u001b[0m\u001b[0mitems\u001b[0m\u001b[0;34m(\u001b[0m\u001b[0;34m)\u001b[0m\u001b[0;34m:\u001b[0m\u001b[0;34m\u001b[0m\u001b[0;34m\u001b[0m\u001b[0m\n\u001b[0m\u001b[1;32m   2469\u001b[0m         \u001b[0mname\u001b[0m \u001b[0;34m=\u001b[0m \u001b[0mname\u001b[0m\u001b[0;34m.\u001b[0m\u001b[0mlower\u001b[0m\u001b[0;34m(\u001b[0m\u001b[0;34m)\u001b[0m\u001b[0;34m\u001b[0m\u001b[0;34m\u001b[0m\u001b[0m\n\u001b[1;32m   2470\u001b[0m         \u001b[0;32mif\u001b[0m \u001b[0mvalue\u001b[0m \u001b[0;32mand\u001b[0m \u001b[0mname\u001b[0m\u001b[0;34m[\u001b[0m\u001b[0;34m-\u001b[0m\u001b[0;36m6\u001b[0m\u001b[0;34m:\u001b[0m\u001b[0;34m]\u001b[0m \u001b[0;34m==\u001b[0m \u001b[0;34m'_proxy'\u001b[0m\u001b[0;34m:\u001b[0m\u001b[0;34m\u001b[0m\u001b[0;34m\u001b[0m\u001b[0m\n",
      "\u001b[0;32m/Library/Frameworks/Python.framework/Versions/3.7/lib/python3.7/_collections_abc.py\u001b[0m in \u001b[0;36m__iter__\u001b[0;34m(self)\u001b[0m\n\u001b[1;32m    742\u001b[0m     \u001b[0;32mdef\u001b[0m \u001b[0m__iter__\u001b[0m\u001b[0;34m(\u001b[0m\u001b[0mself\u001b[0m\u001b[0;34m)\u001b[0m\u001b[0;34m:\u001b[0m\u001b[0;34m\u001b[0m\u001b[0;34m\u001b[0m\u001b[0m\n\u001b[1;32m    743\u001b[0m         \u001b[0;32mfor\u001b[0m \u001b[0mkey\u001b[0m \u001b[0;32min\u001b[0m \u001b[0mself\u001b[0m\u001b[0;34m.\u001b[0m\u001b[0m_mapping\u001b[0m\u001b[0;34m:\u001b[0m\u001b[0;34m\u001b[0m\u001b[0;34m\u001b[0m\u001b[0m\n\u001b[0;32m--> 744\u001b[0;31m             \u001b[0;32myield\u001b[0m \u001b[0;34m(\u001b[0m\u001b[0mkey\u001b[0m\u001b[0;34m,\u001b[0m \u001b[0mself\u001b[0m\u001b[0;34m.\u001b[0m\u001b[0m_mapping\u001b[0m\u001b[0;34m[\u001b[0m\u001b[0mkey\u001b[0m\u001b[0;34m]\u001b[0m\u001b[0;34m)\u001b[0m\u001b[0;34m\u001b[0m\u001b[0;34m\u001b[0m\u001b[0m\n\u001b[0m\u001b[1;32m    745\u001b[0m \u001b[0;34m\u001b[0m\u001b[0m\n\u001b[1;32m    746\u001b[0m \u001b[0mItemsView\u001b[0m\u001b[0;34m.\u001b[0m\u001b[0mregister\u001b[0m\u001b[0;34m(\u001b[0m\u001b[0mdict_items\u001b[0m\u001b[0;34m)\u001b[0m\u001b[0;34m\u001b[0m\u001b[0;34m\u001b[0m\u001b[0m\n",
      "\u001b[0;32m/Library/Frameworks/Python.framework/Versions/3.7/lib/python3.7/os.py\u001b[0m in \u001b[0;36m__getitem__\u001b[0;34m(self, key)\u001b[0m\n\u001b[1;32m    673\u001b[0m     \u001b[0;32mdef\u001b[0m \u001b[0m__getitem__\u001b[0m\u001b[0;34m(\u001b[0m\u001b[0mself\u001b[0m\u001b[0;34m,\u001b[0m \u001b[0mkey\u001b[0m\u001b[0;34m)\u001b[0m\u001b[0;34m:\u001b[0m\u001b[0;34m\u001b[0m\u001b[0;34m\u001b[0m\u001b[0m\n\u001b[1;32m    674\u001b[0m         \u001b[0;32mtry\u001b[0m\u001b[0;34m:\u001b[0m\u001b[0;34m\u001b[0m\u001b[0;34m\u001b[0m\u001b[0m\n\u001b[0;32m--> 675\u001b[0;31m             \u001b[0mvalue\u001b[0m \u001b[0;34m=\u001b[0m \u001b[0mself\u001b[0m\u001b[0;34m.\u001b[0m\u001b[0m_data\u001b[0m\u001b[0;34m[\u001b[0m\u001b[0mself\u001b[0m\u001b[0;34m.\u001b[0m\u001b[0mencodekey\u001b[0m\u001b[0;34m(\u001b[0m\u001b[0mkey\u001b[0m\u001b[0;34m)\u001b[0m\u001b[0;34m]\u001b[0m\u001b[0;34m\u001b[0m\u001b[0;34m\u001b[0m\u001b[0m\n\u001b[0m\u001b[1;32m    676\u001b[0m         \u001b[0;32mexcept\u001b[0m \u001b[0mKeyError\u001b[0m\u001b[0;34m:\u001b[0m\u001b[0;34m\u001b[0m\u001b[0;34m\u001b[0m\u001b[0m\n\u001b[1;32m    677\u001b[0m             \u001b[0;31m# raise KeyError with the original key value\u001b[0m\u001b[0;34m\u001b[0m\u001b[0;34m\u001b[0m\u001b[0;34m\u001b[0m\u001b[0m\n",
      "\u001b[0;31mKeyboardInterrupt\u001b[0m: "
     ],
     "output_type": "error"
    }
   ],
   "source": [
    "while url_to_visit is not None:\n",
    "    print('Now visiting:', url_to_visit)\n",
    "    new_links = visit(url_to_visit)\n",
    "    print(len(new_links), 'new link(s) found')\n",
    "    \n",
    "    for link in new_links:\n",
    "        store_link(link)\n",
    "    mark_visited(url_to_visit)\n",
    "    url_to_visit = get_random_unvisited_link()"
   ]
  },
  {
   "cell_type": "code",
   "execution_count": 9,
   "metadata": {},
   "outputs": [],
   "source": []
  },
  {
   "cell_type": "code",
   "execution_count": 9,
   "metadata": {},
   "outputs": [],
   "source": []
  },
  {
   "cell_type": "code",
   "execution_count": 9,
   "metadata": {},
   "outputs": [],
   "source": []
  },
  {
   "cell_type": "code",
   "execution_count": 9,
   "metadata": {},
   "outputs": [],
   "source": []
  },
  {
   "cell_type": "code",
   "execution_count": null,
   "metadata": {},
   "outputs": [],
   "source": []
  }
 ],
 "metadata": {
  "kernelspec": {
   "display_name": "Python 2",
   "language": "python",
   "name": "python2"
  },
  "language_info": {
   "codemirror_mode": {
    "name": "ipython",
    "version": 2
   },
   "file_extension": ".py",
   "mimetype": "text/x-python",
   "name": "python",
   "nbconvert_exporter": "python",
   "pygments_lexer": "ipython2",
   "version": "2.7.6"
  }
 },
 "nbformat": 4,
 "nbformat_minor": 0
}
