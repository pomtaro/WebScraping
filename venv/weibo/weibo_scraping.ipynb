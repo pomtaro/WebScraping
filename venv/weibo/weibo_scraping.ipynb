{
 "cells": [
  {
   "cell_type": "heading",
   "metadata": {},
   "level": 1,
   "source": [
    "====================Weibo Scraping"
   ]
  },
  {
   "cell_type": "heading",
   "metadata": {},
   "level": 1,
   "source": [
    "--------------------\n",
    "インポート\n"
   ]
  },
  {
   "cell_type": "code",
   "execution_count": 17,
   "metadata": {},
   "outputs": [],
   "source": [
    "import requests\n",
    "from bs4 import BeautifulSoup\n",
    "import pandas as pd\n",
    "import os\n",
    "from datetime import datetime as dt\n",
    "from selenium import webdriver\n",
    "from selenium.webdriver.chrome.options import Options\n",
    "\n",
    "import time\n"
   ]
  },
  {
   "cell_type": "code",
   "execution_count": 18,
   "metadata": {},
   "outputs": [],
   "source": [
    "import nbclean"
   ]
  },
  {
   "cell_type": "code",
   "execution_count": 16,
   "metadata": {},
   "outputs": [],
   "source": [
    "\"\"\"\n",
    "delete Notebook outputs\n",
    "\"\"\"\n",
    "\n",
    "\n",
    "def delete_notebook_outputs(file_path):\n",
    "\tc = nbclean.clean.NotebookCleaner(file_path)\n",
    "\tc.clear('output')\n",
    "\tc.save(file_path)\n",
    "\n",
    "\n",
    "delete_notebook_outputs('/Users/higashi/PycharmProjects/WebScraping/venv/weibo/weibo_scraping.ipynb')\n"
   ]
  },
  {
   "cell_type": "code",
   "execution_count": 8,
   "metadata": {},
   "outputs": [],
   "source": [
    "\"\"\"\n",
    "arg: url\n",
    "return: html\n",
    "\"\"\"\n",
    "\n",
    "\n",
    "def get_feed_html_soup(driver, url):\n",
    "    retries = 3\n",
    "    i = 0\n",
    "    \n",
    "    while i < retries:\n",
    "        try:\n",
    "            driver.get(url)\n",
    "            html = driver.page_source.encode('utf-8')\n",
    "            html_soup = BeautifulSoup(html, \"html.parser\")\n",
    "            \n",
    "            return html_soup\n",
    "        except TimeoutException:\n",
    "            i += 1\n",
    "            print('Timeout, Retrying... {} / {}'.format((i+1), retries))\n",
    "            \n",
    "    return None\n"
   ]
  },
  {
   "cell_type": "code",
   "execution_count": 4,
   "metadata": {},
   "outputs": [],
   "source": [
    "\"\"\"\n",
    "arg: html_soup\n",
    "return: mid_list\n",
    "\"\"\"\n",
    "\n",
    "\n",
    "def get_mid_list(html_soup):\n",
    "    mid_list = []\n",
    "    div_elements = html_soup.find_all('div', {'id': 'pl_feedlist_index'})\n",
    "    div_elements = div_elements[0].find_all('div', {'class': 'card-wrap'})\n",
    "    for elem in div_elements:\n",
    "        mid = elem.get('mid')\n",
    "        if type(mid) == str:\n",
    "            mid_list.append(mid)\n",
    "    \n",
    "    return mid_list\n"
   ]
  },
  {
   "cell_type": "code",
   "execution_count": 39,
   "metadata": {},
   "outputs": [],
   "source": [
    "\"\"\"\n",
    "arg: mid\n",
    "return: account_name, feed_time, sentence, share, comment, good\n",
    "\"\"\"\n",
    "\n",
    "\n",
    "def get_feed_info(html_soup, mid):\n",
    "    div_mid = html_soup.find_all('div', {'mid': mid})\n",
    "    \n",
    "    # アカウント名\n",
    "    account_name = div_mid[0].find('p').get('nick-name')\n",
    "    \n",
    "    # 時刻\n",
    "    feed_time = ''.join(div_mid[0].find_all('p', {'class': 'from'})[0].find('a').text.split())\n",
    "    try:\n",
    "        if '今天' in feed_time:     \n",
    "            feed_time = dt.strftime(dt.now(), '%Y-%m-%d ') + feed_time.split('今天')[1] + ':00'\n",
    "        elif '前' in feed_time:\n",
    "            feed_time = dt.strftime(dt.now(), '%Y-%m-%d %H:%M:%S')\n",
    "        elif '秒' in feed_time:\n",
    "            feed_time = dt.strftime(dt.now(), '%Y-%m-%d %H:%M:%S')\n",
    "        elif len(feed_time) < 12:\n",
    "            feed_time = dt.strptime(feed_time, '%m月%d日%H:%M').replace(year=2019)\n",
    "        else:\n",
    "            feed_time = dt.strptime(feed_time, '%Y年%m月%d日%H:%M')\n",
    "    except:\n",
    "        feed_time = 'not detected'\n",
    "    # 本文\n",
    "    sentence = ''.join(div_mid[0].find('p').text.split())\n",
    "    \n",
    "    # シェア、コメント、いいね\n",
    "    share = ''\n",
    "    comment = ''\n",
    "    suda_data = ''\n",
    "    good = ''\n",
    "    bottom_items = div_mid[0].find_all('div', {'class': 'card-act'})[0].find_all('li')\n",
    "    for bottom_item in bottom_items:\n",
    "        \n",
    "        if bottom_item.text == '收藏':\n",
    "            pass\n",
    "        elif '转发' in bottom_item.text:\n",
    "            if len(bottom_item.text.split()) < 2:\n",
    "                share = '0'\n",
    "            else:\n",
    "                share = bottom_item.text.split()[1]\n",
    "        elif '评论' in bottom_item.text:\n",
    "            if len(bottom_item.text.split()) < 2:\n",
    "                comment = '0'\n",
    "            else:\n",
    "                comment = bottom_item.text.split()[1]\n",
    "                suda_data = bottom_item.find_all('a')[0].get('suda-data')\n",
    "        else:\n",
    "            if len(bottom_item.text.split()) < 1:\n",
    "                good = '0'\n",
    "            else:\n",
    "                good = bottom_item.text   \n",
    "    \n",
    "    return account_name, feed_time, sentence, share, comment, suda_data, good\n"
   ]
  },
  {
   "cell_type": "code",
   "execution_count": 6,
   "metadata": {},
   "outputs": [],
   "source": [
    "\"\"\"\n",
    "arg: html_soup\n",
    "return: comment_id_list\n",
    "\"\"\"\n",
    "\n",
    "\n",
    "def get_comment_id_list(html_soup):\n",
    "    comment_id_list = []\n",
    "    div_elements = html_soup.select('div')\n",
    "\n",
    "    for elem in div_elements:\n",
    "        comment_id = elem.get('comment_id')\n",
    "        if type(comment_id) == str:\n",
    "            comment_id_list.append(comment_id)\n",
    "    \n",
    "    return comment_id_list\n"
   ]
  },
  {
   "cell_type": "code",
   "execution_count": 7,
   "metadata": {},
   "outputs": [],
   "source": [
    "\"\"\"\n",
    "arg: comment_id\n",
    "return: comment_account_name, comment_text\n",
    "\"\"\"\n",
    "\n",
    "\n",
    "def get_comment_name_sentence(html_soup, comment_id):\n",
    "    div_comment = html_soup.find_all('div', {'comment_id': comment_id})\n",
    "    comment_account_name = div_comment[0].find('div', {'class': 'txt'}).text.split()[0]\n",
    "    comment_sentence = ''\n",
    "    if len(div_comment[0].find('div', {'class': 'txt'}).text.split()) == 3:\n",
    "        comment_sentence = div_comment[0].find('div', {'class': 'txt'}).text.split()[2]\n",
    "    elif len(div_comment[0].find('div', {'class': 'txt'}).text.split()) == 2:\n",
    "        comment_sentence = 'None or emoji'\n",
    "    return comment_account_name, comment_sentence\n"
   ]
  },
  {
   "cell_type": "code",
   "execution_count": 20,
   "metadata": {},
   "outputs": [],
   "source": [
    "\"\"\"\n",
    "arg: html_soup, mid\n",
    "return: account_link\n",
    "\"\"\"\n",
    "\n",
    "\n",
    "def get_account_link(html_soup, mid):\n",
    "    div_mid = html_soup.find_all('div', {'mid': mid})\n",
    "    time.sleep(1)\n",
    "    account_link = div_mid[0].find_all('a', {'class': 'name'})[0].get('href')\n",
    "    \n",
    "    return account_link\n"
   ]
  },
  {
   "cell_type": "code",
   "execution_count": 9,
   "metadata": {},
   "outputs": [],
   "source": [
    "\"\"\"\n",
    "arg: account_link\n",
    "return: html_soup\n",
    "\"\"\"\n",
    "\n",
    "\n",
    "def get_account_html_soup(driver, account_link):\n",
    "    driver.get(account_link)\n",
    "    time.sleep(5)  # 3sだとデータが取りきれない場合がある\n",
    "    \n",
    "    html = driver.page_source.encode('utf-8')\n",
    "    html_soup = BeautifulSoup(html, \"html.parser\")\n",
    "    \n",
    "    return html_soup\n"
   ]
  },
  {
   "cell_type": "code",
   "execution_count": 10,
   "metadata": {},
   "outputs": [],
   "source": [
    "\"\"\"\n",
    "arg: html_soup\n",
    "return: rank, location, gender, follow, follower, weibo, get_time\n",
    "\"\"\"\n",
    "\n",
    "\n",
    "def get_account_info(html_soup):\n",
    "    rank = get_rank(html_soup)\n",
    "    location = get_location(html_soup)\n",
    "    gender = get_gender(html_soup)\n",
    "    follow, follower, weibo = get_follow_follower_weibo(html_soup)\n",
    "    get_time = get_now_time()\n",
    "    \n",
    "    return rank, location, gender, follow, follower, weibo, get_time\n"
   ]
  },
  {
   "cell_type": "code",
   "execution_count": 11,
   "metadata": {},
   "outputs": [],
   "source": [
    "\"\"\"\n",
    "arg: html_Soup\n",
    "return: rank\n",
    "\"\"\"\n",
    "\n",
    "\n",
    "def get_rank(html_soup):\n",
    "    span_all = html_soup.find_all('span')\n",
    "\n",
    "    rank = ''\n",
    "\n",
    "    for span_tag in span_all:\n",
    "        if \"Lv\" in span_tag.text:\n",
    "            rank = span_tag.text\n",
    "        \n",
    "    if rank == '':\n",
    "        rank = 'no rank'\n",
    "        \n",
    "    return rank\n"
   ]
  },
  {
   "cell_type": "code",
   "execution_count": 12,
   "metadata": {},
   "outputs": [],
   "source": [
    "\"\"\"\n",
    "arg: html_soup\n",
    "return: location\n",
    "\"\"\"\n",
    "\n",
    "\n",
    "def get_location(html_soup):\n",
    "    if html_soup.find_all('em', {'class': 'W_ficon ficon_cd_place S_ficon'}):\n",
    "        span = html_soup.find_all('span', {'class': 'item_text W_fl'})\n",
    "\n",
    "        location = ''\n",
    "\n",
    "        for tag in span:\n",
    "            if 'Lv' in tag.text:\n",
    "                location = span[1].text.split()\n",
    "                break\n",
    "            else:\n",
    "                location = span[0].text.split()\n",
    "\n",
    "        if type(location) == list:\n",
    "            word_concat = ''\n",
    "            for word in location:\n",
    "                word_concat += word\n",
    "            location = word_concat\n",
    "    else:\n",
    "        location = 'no location'\n",
    "        \n",
    "    return location\n"
   ]
  },
  {
   "cell_type": "code",
   "execution_count": 13,
   "metadata": {},
   "outputs": [],
   "source": [
    "\"\"\"\n",
    "arg: html_soup\n",
    "return: gender\n",
    "\"\"\"\n",
    "\n",
    "\n",
    "def get_gender(html_soup):\n",
    "\n",
    "    if html_soup.find_all('i', {'class': 'W_icon icon_pf_male'}):\n",
    "        gender = 'male'\n",
    "    elif html_soup.find_all('i', {'class': 'W_icon icon_pf_female'}):\n",
    "        gender = 'female'\n",
    "    else:\n",
    "        gender = 'no gender'\n",
    "        \n",
    "    return gender\n"
   ]
  },
  {
   "cell_type": "code",
   "execution_count": 41,
   "metadata": {},
   "outputs": [],
   "source": [
    "\"\"\"\n",
    "arg: html_soup\n",
    "return: follow, follower, weibo\n",
    "\"\"\"\n",
    "\n",
    "\n",
    "def get_follow_follower_weibo(html_soup):\n",
    "    if html_soup.find_all('strong'):\n",
    "        strongs = html_soup.find_all('strong')\n",
    "        try:\n",
    "            follow = strongs[0].text\n",
    "        except:\n",
    "            follow = 'no follow'\n",
    "        \n",
    "        try:\n",
    "            follower = strongs[1].text\n",
    "        except:\n",
    "            follower = 'no follower'\n",
    "        \n",
    "        try:\n",
    "            weibo = strongs[2].text\n",
    "        except:\n",
    "            weibo = 'no weibo'\n",
    "    else:\n",
    "        follow = 'no follow'\n",
    "        follower = 'no follower'\n",
    "        weibo = 'no weibo'\n",
    "        \n",
    "    return follow, follower, weibo\n"
   ]
  },
  {
   "cell_type": "code",
   "execution_count": 15,
   "metadata": {},
   "outputs": [],
   "source": [
    "\"\"\"\n",
    "arg: None\n",
    "return: now_time\n",
    "\"\"\"\n",
    "\n",
    "\n",
    "def get_now_time():\n",
    "    now = dt.strftime(dt.now(), '%Y-%m-%d %H:%M:%S')\n",
    "    \n",
    "    return now\n"
   ]
  },
  {
   "cell_type": "code",
   "execution_count": 16,
   "metadata": {},
   "outputs": [],
   "source": [
    "\"\"\"\n",
    "arg: None\n",
    "return: driver\n",
    "\"\"\"\n",
    "\n",
    "\n",
    "def set_driver():\n",
    "    options = Options()\n",
    "\n",
    "    # options.set_headless(True)\n",
    "    options.binary_location = \"/Applications/Google Chrome Canary.app/Contents/MacOS/Google Chrome Canary\"\n",
    "    # options.add_argument(\"--headless\")\n",
    "\n",
    "    chromedriver_path = \"/Users/higashi/Desktop/Document/chromedriver/chromedriver\"\n",
    "\n",
    "    return webdriver.Chrome(options=options, executable_path=chromedriver_path)\n"
   ]
  },
  {
   "cell_type": "code",
   "execution_count": 28,
   "metadata": {},
   "outputs": [],
   "source": [
    "\"\"\"\n",
    "arg: url\n",
    "return: urls\n",
    "\"\"\"\n",
    "\n",
    "\n",
    "def get_feed_links(start_url):\n",
    "    urls = []\n",
    "    urls.append(start_url)\n",
    "    \n",
    "    url = start_url\n",
    "    \n",
    "    for i in range(50):  # 何ページ目まで読むか\n",
    "        r = requests.get(url)\n",
    "        html_contents = r.text\n",
    "\n",
    "        html_soup = BeautifulSoup(html_contents)\n",
    "        try:\n",
    "            next_link = 'https://s.weibo.com' + html_soup.find_all('a', {'class': 'next'})[0].get('href')\n",
    "            if next_link in urls:\n",
    "                break\n",
    "            else:\n",
    "                urls.append(next_link)\n",
    "                url = next_link\n",
    "        except:\n",
    "            break\n",
    "\n",
    "    return urls\n"
   ]
  },
  {
   "cell_type": "code",
   "execution_count": 18,
   "metadata": {},
   "outputs": [],
   "source": [
    "\"\"\"\n",
    "arg: driver\n",
    "return: elems, elems_suda_data\n",
    "\"\"\"\n",
    "\n",
    "\n",
    "def get_comment_button_list(driver):\n",
    "    elems = []\n",
    "    elems_suda_data = []\n",
    "\n",
    "    element = driver.find_elements_by_tag_name('a')\n",
    "    for elem in element:\n",
    "        val_string = elem.get_attribute('action-type')\n",
    "        try:\n",
    "            if val_string == 'feed_list_comment':\n",
    "                elems.append(elem)\n",
    "                elems_suda_data.append(elem.get_attribute('suda-data'))\n",
    "        except:\n",
    "            pass\n",
    "    \n",
    "    return elems, elems_suda_data\n"
   ]
  },
  {
   "cell_type": "code",
   "execution_count": 19,
   "metadata": {},
   "outputs": [],
   "source": [
    "\"\"\"\n",
    "arg: suda_data, elems, elems_suda_data\n",
    "return: None\n",
    "\"\"\"\n",
    "\n",
    "\n",
    "def click_comment(suda_data, elems, elems_suda_data):\n",
    "    try:\n",
    "        for i, elem in enumerate(elems):\n",
    "            if suda_data == elems_suda_data[i]:\n",
    "                element = elem\n",
    "                break\n",
    "            else:\n",
    "                continue\n",
    "        element.click()\n",
    "        time.sleep(5)  # 2s程度待たないとcomment欄が表示されない(javascript実行時間)\n",
    "    except:\n",
    "        pass\n"
   ]
  },
  {
   "cell_type": "code",
   "execution_count": 56,
   "metadata": {},
   "outputs": [],
   "source": [
    "\"\"\"\n",
    "テスト1\n",
    "\"\"\"\n",
    "\n",
    "# driver起動\n",
    "TIMEOUT = 10\n",
    "driver = set_driver()\n",
    "driver.set_page_load_timeout(TIMEOUT)\n"
   ]
  },
  {
   "cell_type": "code",
   "execution_count": 57,
   "metadata": {},
   "outputs": [],
   "source": [
    "\"\"\"\n",
    "テスト2\n",
    "\"\"\"\n",
    "\n",
    "\n",
    "# ログインのために一度読み込む\n",
    "url = 'https://s.weibo.com/weibo?q=toyota&wvr=6&b=1&display=0&retcode=6102&Refer=SWeibo_box'\n",
    "driver.get(url)\n",
    "\n",
    "html = driver.page_source.encode('utf-8')\n",
    "html_soup = BeautifulSoup(html, \"html.parser\")\n"
   ]
  },
  {
   "cell_type": "code",
   "execution_count": 58,
   "metadata": {
    "collapsed": false
   },
   "outputs": [
    {
     "name": "stdout",
     "output_type": "stream",
     "text": [
      "getting feed links is done.\n38 links are detected.\nprogress... : 0 / 38 feed link\n"
     ]
    },
    {
     "name": "stdout",
     "output_type": "stream",
     "text": [
      "getting feed html_soup is done.\ngetting mid_list is done.\n23 mids are detected.\n    progress... : 0 / 23 mid\n"
     ]
    },
    {
     "name": "stdout",
     "output_type": "stream",
     "text": [
      "    getting account_link is done.\n    getting feed info is done\n"
     ]
    },
    {
     "name": "stdout",
     "output_type": "stream",
     "text": [
      "    getting account html_soup is done.\n    getting account info is done.\n    storing data is done\n    progress... : 1 / 23 mid\n"
     ]
    },
    {
     "name": "stdout",
     "output_type": "stream",
     "text": [
      "    getting account_link is done.\n    getting feed info is done\n"
     ]
    },
    {
     "name": "stdout",
     "output_type": "stream",
     "text": [
      "    getting account html_soup is done.\n    getting account info is done.\n    storing data is done\n    progress... : 2 / 23 mid\n"
     ]
    },
    {
     "name": "stdout",
     "output_type": "stream",
     "text": [
      "    getting account_link is done.\n    getting feed info is done\n"
     ]
    },
    {
     "name": "stdout",
     "output_type": "stream",
     "text": [
      "    getting account html_soup is done.\n    getting account info is done.\n    storing data is done\n    progress... : 3 / 23 mid\n"
     ]
    },
    {
     "name": "stdout",
     "output_type": "stream",
     "text": [
      "    getting account_link is done.\n    getting feed info is done\n"
     ]
    },
    {
     "name": "stdout",
     "output_type": "stream",
     "text": [
      "    getting account html_soup is done.\n    getting account info is done.\n    storing data is done\n    progress... : 4 / 23 mid\n"
     ]
    },
    {
     "name": "stdout",
     "output_type": "stream",
     "text": [
      "    getting account_link is done.\n    getting feed info is done\n"
     ]
    },
    {
     "name": "stdout",
     "output_type": "stream",
     "text": [
      "    getting account html_soup is done.\n    getting account info is done.\n    storing data is done\n    progress... : 5 / 23 mid\n"
     ]
    },
    {
     "name": "stdout",
     "output_type": "stream",
     "text": [
      "    getting account_link is done.\n    getting feed info is done\n"
     ]
    },
    {
     "name": "stdout",
     "output_type": "stream",
     "text": [
      "    getting account html_soup is done.\n    getting account info is done.\n    storing data is done\n    progress... : 6 / 23 mid\n"
     ]
    },
    {
     "name": "stdout",
     "output_type": "stream",
     "text": [
      "    getting account_link is done.\n    getting feed info is done\n"
     ]
    },
    {
     "name": "stdout",
     "output_type": "stream",
     "text": [
      "    getting account html_soup is done.\n    getting account info is done.\n    storing data is done\n    progress... : 7 / 23 mid\n"
     ]
    },
    {
     "name": "stdout",
     "output_type": "stream",
     "text": [
      "    getting account_link is done.\n    getting feed info is done\n"
     ]
    },
    {
     "name": "stdout",
     "output_type": "stream",
     "text": [
      "    getting account html_soup is done.\n    getting account info is done.\n    storing data is done\n    progress... : 8 / 23 mid\n"
     ]
    },
    {
     "name": "stdout",
     "output_type": "stream",
     "text": [
      "    getting account_link is done.\n    getting feed info is done\n"
     ]
    },
    {
     "name": "stdout",
     "output_type": "stream",
     "text": [
      "    getting account html_soup is done.\n    getting account info is done.\n    storing data is done\n    progress... : 9 / 23 mid\n"
     ]
    },
    {
     "name": "stdout",
     "output_type": "stream",
     "text": [
      "    getting account_link is done.\n    getting feed info is done\n"
     ]
    },
    {
     "name": "stdout",
     "output_type": "stream",
     "text": [
      "    getting account html_soup is done.\n    getting account info is done.\n    storing data is done\n    progress... : 10 / 23 mid\n"
     ]
    },
    {
     "name": "stdout",
     "output_type": "stream",
     "text": [
      "    getting account_link is done.\n    getting feed info is done\n"
     ]
    },
    {
     "name": "stdout",
     "output_type": "stream",
     "text": [
      "    getting account html_soup is done.\n    getting account info is done.\n    storing data is done\n    progress... : 11 / 23 mid\n"
     ]
    },
    {
     "name": "stdout",
     "output_type": "stream",
     "text": [
      "    getting account_link is done.\n    getting feed info is done\n"
     ]
    },
    {
     "name": "stdout",
     "output_type": "stream",
     "text": [
      "    getting account html_soup is done.\n    getting account info is done.\n    storing data is done\n    progress... : 12 / 23 mid\n"
     ]
    },
    {
     "name": "stdout",
     "output_type": "stream",
     "text": [
      "    getting account_link is done.\n    getting feed info is done\n"
     ]
    },
    {
     "name": "stdout",
     "output_type": "stream",
     "text": [
      "    getting account html_soup is done.\n    getting account info is done.\n    storing data is done\n    progress... : 13 / 23 mid\n"
     ]
    },
    {
     "name": "stdout",
     "output_type": "stream",
     "text": [
      "    getting account_link is done.\n    getting feed info is done\n"
     ]
    },
    {
     "name": "stdout",
     "output_type": "stream",
     "text": [
      "    getting account html_soup is done.\n    getting account info is done.\n    storing data is done\n    progress... : 14 / 23 mid\n"
     ]
    },
    {
     "name": "stdout",
     "output_type": "stream",
     "text": [
      "    getting account_link is done.\n    getting feed info is done\n"
     ]
    },
    {
     "name": "stdout",
     "output_type": "stream",
     "text": [
      "    getting account html_soup is done.\n    getting account info is done.\n    storing data is done\n    progress... : 15 / 23 mid\n"
     ]
    },
    {
     "name": "stdout",
     "output_type": "stream",
     "text": [
      "    getting account_link is done.\n    getting feed info is done\n"
     ]
    },
    {
     "name": "stdout",
     "output_type": "stream",
     "text": [
      "    getting account html_soup is done.\n    getting account info is done.\n    storing data is done\n    progress... : 16 / 23 mid\n"
     ]
    },
    {
     "name": "stdout",
     "output_type": "stream",
     "text": [
      "    getting account_link is done.\n    getting feed info is done\n"
     ]
    },
    {
     "name": "stdout",
     "output_type": "stream",
     "text": [
      "    getting account html_soup is done.\n    getting account info is done.\n    storing data is done\n    progress... : 17 / 23 mid\n"
     ]
    },
    {
     "name": "stdout",
     "output_type": "stream",
     "text": [
      "    getting account_link is done.\n    getting feed info is done\n"
     ]
    },
    {
     "name": "stdout",
     "output_type": "stream",
     "text": [
      "    getting account html_soup is done.\n    getting account info is done.\n    storing data is done\n    progress... : 18 / 23 mid\n"
     ]
    },
    {
     "name": "stdout",
     "output_type": "stream",
     "text": [
      "    getting account_link is done.\n    getting feed info is done\n"
     ]
    },
    {
     "name": "stdout",
     "output_type": "stream",
     "text": [
      "    getting account html_soup is done.\n    getting account info is done.\n    storing data is done\n    progress... : 19 / 23 mid\n"
     ]
    },
    {
     "name": "stdout",
     "output_type": "stream",
     "text": [
      "    getting account_link is done.\n    getting feed info is done\n"
     ]
    },
    {
     "name": "stdout",
     "output_type": "stream",
     "text": [
      "    getting account html_soup is done.\n    getting account info is done.\n    storing data is done\n    progress... : 20 / 23 mid\n"
     ]
    },
    {
     "name": "stdout",
     "output_type": "stream",
     "text": [
      "    getting account_link is done.\n    getting feed info is done\n"
     ]
    },
    {
     "name": "stdout",
     "output_type": "stream",
     "text": [
      "    getting account html_soup is done.\n    getting account info is done.\n    storing data is done\n    progress... : 21 / 23 mid\n"
     ]
    },
    {
     "name": "stdout",
     "output_type": "stream",
     "text": [
      "    getting account_link is done.\n    getting feed info is done\n"
     ]
    },
    {
     "name": "stdout",
     "output_type": "stream",
     "text": [
      "    getting account html_soup is done.\n    getting account info is done.\n    storing data is done\n    progress... : 22 / 23 mid\n"
     ]
    },
    {
     "name": "stdout",
     "output_type": "stream",
     "text": [
      "    getting account_link is done.\n    getting feed info is done\n"
     ]
    },
    {
     "name": "stdout",
     "output_type": "stream",
     "text": [
      "    getting account html_soup is done.\n    getting account info is done.\n    storing data is done\nprogress... : 1 / 38 feed link\n"
     ]
    },
    {
     "name": "stdout",
     "output_type": "stream",
     "text": [
      "getting feed html_soup is done.\ngetting mid_list is done.\n19 mids are detected.\n    progress... : 0 / 19 mid\n"
     ]
    },
    {
     "name": "stdout",
     "output_type": "stream",
     "text": [
      "    getting account_link is done.\n    getting feed info is done\n"
     ]
    },
    {
     "name": "stdout",
     "output_type": "stream",
     "text": [
      "    getting account html_soup is done.\n    getting account info is done.\n    storing data is done\n    progress... : 1 / 19 mid\n"
     ]
    },
    {
     "name": "stdout",
     "output_type": "stream",
     "text": [
      "    getting account_link is done.\n    getting feed info is done\n"
     ]
    },
    {
     "name": "stdout",
     "output_type": "stream",
     "text": [
      "    getting account html_soup is done.\n    getting account info is done.\n    storing data is done\n    progress... : 2 / 19 mid\n"
     ]
    },
    {
     "name": "stdout",
     "output_type": "stream",
     "text": [
      "    getting account_link is done.\n    getting feed info is done\n"
     ]
    },
    {
     "name": "stdout",
     "output_type": "stream",
     "text": [
      "    getting account html_soup is done.\n    getting account info is done.\n    storing data is done\n    progress... : 3 / 19 mid\n"
     ]
    },
    {
     "name": "stdout",
     "output_type": "stream",
     "text": [
      "    getting account_link is done.\n    getting feed info is done\n"
     ]
    },
    {
     "name": "stdout",
     "output_type": "stream",
     "text": [
      "    getting account html_soup is done.\n    getting account info is done.\n    storing data is done\n    progress... : 4 / 19 mid\n"
     ]
    },
    {
     "name": "stdout",
     "output_type": "stream",
     "text": [
      "    getting account_link is done.\n    getting feed info is done\n"
     ]
    },
    {
     "name": "stdout",
     "output_type": "stream",
     "text": [
      "    getting account html_soup is done.\n    getting account info is done.\n    storing data is done\n    progress... : 5 / 19 mid\n"
     ]
    },
    {
     "name": "stdout",
     "output_type": "stream",
     "text": [
      "    getting account_link is done.\n    getting feed info is done\n"
     ]
    },
    {
     "name": "stdout",
     "output_type": "stream",
     "text": [
      "    getting account html_soup is done.\n    getting account info is done.\n    storing data is done\n    progress... : 6 / 19 mid\n"
     ]
    },
    {
     "name": "stdout",
     "output_type": "stream",
     "text": [
      "    getting account_link is done.\n    getting feed info is done\n"
     ]
    },
    {
     "name": "stdout",
     "output_type": "stream",
     "text": [
      "    getting account html_soup is done.\n    getting account info is done.\n    storing data is done\n    progress... : 7 / 19 mid\n"
     ]
    },
    {
     "name": "stdout",
     "output_type": "stream",
     "text": [
      "    getting account_link is done.\n    getting feed info is done\n"
     ]
    },
    {
     "name": "stdout",
     "output_type": "stream",
     "text": [
      "    getting account html_soup is done.\n"
     ]
    },
    {
     "name": "stdout",
     "output_type": "stream",
     "text": [
      "    getting account info is done.\n    storing data is done\n    progress... : 8 / 19 mid\n"
     ]
    },
    {
     "name": "stdout",
     "output_type": "stream",
     "text": [
      "    getting account_link is done.\n    getting feed info is done\n"
     ]
    },
    {
     "name": "stdout",
     "output_type": "stream",
     "text": [
      "    getting account html_soup is done.\n    getting account info is done.\n    storing data is done\n    progress... : 9 / 19 mid\n"
     ]
    },
    {
     "name": "stdout",
     "output_type": "stream",
     "text": [
      "    getting account_link is done.\n    getting feed info is done\n"
     ]
    },
    {
     "name": "stdout",
     "output_type": "stream",
     "text": [
      "    getting account html_soup is done.\n    getting account info is done.\n    storing data is done\n    progress... : 10 / 19 mid\n"
     ]
    },
    {
     "name": "stdout",
     "output_type": "stream",
     "text": [
      "    getting account_link is done.\n    getting feed info is done\n"
     ]
    },
    {
     "name": "stdout",
     "output_type": "stream",
     "text": [
      "    getting account html_soup is done.\n    getting account info is done.\n    storing data is done\n    progress... : 11 / 19 mid\n"
     ]
    },
    {
     "name": "stdout",
     "output_type": "stream",
     "text": [
      "    getting account_link is done.\n    getting feed info is done\n"
     ]
    },
    {
     "name": "stdout",
     "output_type": "stream",
     "text": [
      "    getting account html_soup is done.\n    getting account info is done.\n    storing data is done\n    progress... : 12 / 19 mid\n"
     ]
    },
    {
     "name": "stdout",
     "output_type": "stream",
     "text": [
      "    getting account_link is done.\n    getting feed info is done\n"
     ]
    },
    {
     "name": "stdout",
     "output_type": "stream",
     "text": [
      "    getting account html_soup is done.\n    getting account info is done.\n    storing data is done\n    progress... : 13 / 19 mid\n"
     ]
    },
    {
     "name": "stdout",
     "output_type": "stream",
     "text": [
      "    getting account_link is done.\n    getting feed info is done\n"
     ]
    },
    {
     "name": "stdout",
     "output_type": "stream",
     "text": [
      "    getting account html_soup is done.\n    getting account info is done.\n    storing data is done\n    progress... : 14 / 19 mid\n"
     ]
    },
    {
     "name": "stdout",
     "output_type": "stream",
     "text": [
      "    getting account_link is done.\n    getting feed info is done\n"
     ]
    },
    {
     "name": "stdout",
     "output_type": "stream",
     "text": [
      "    getting account html_soup is done.\n    getting account info is done.\n    storing data is done\n    progress... : 15 / 19 mid\n"
     ]
    },
    {
     "name": "stdout",
     "output_type": "stream",
     "text": [
      "    getting account_link is done.\n    getting feed info is done\n"
     ]
    },
    {
     "name": "stdout",
     "output_type": "stream",
     "text": [
      "    getting account html_soup is done.\n    getting account info is done.\n    storing data is done\n    progress... : 16 / 19 mid\n"
     ]
    },
    {
     "name": "stdout",
     "output_type": "stream",
     "text": [
      "    getting account_link is done.\n    getting feed info is done\n"
     ]
    },
    {
     "name": "stdout",
     "output_type": "stream",
     "text": [
      "    getting account html_soup is done.\n    getting account info is done.\n    storing data is done\n    progress... : 17 / 19 mid\n"
     ]
    },
    {
     "name": "stdout",
     "output_type": "stream",
     "text": [
      "    getting account_link is done.\n    getting feed info is done\n"
     ]
    },
    {
     "name": "stdout",
     "output_type": "stream",
     "text": [
      "    getting account html_soup is done.\n    getting account info is done.\n    storing data is done\n    progress... : 18 / 19 mid\n"
     ]
    },
    {
     "name": "stdout",
     "output_type": "stream",
     "text": [
      "    getting account_link is done.\n    getting feed info is done\n"
     ]
    },
    {
     "name": "stdout",
     "output_type": "stream",
     "text": [
      "    getting account html_soup is done.\n    getting account info is done.\n    storing data is done\nprogress... : 2 / 38 feed link\n"
     ]
    },
    {
     "name": "stdout",
     "output_type": "stream",
     "text": [
      "getting feed html_soup is done.\ngetting mid_list is done.\n18 mids are detected.\n    progress... : 0 / 18 mid\n"
     ]
    },
    {
     "name": "stdout",
     "output_type": "stream",
     "text": [
      "    getting account_link is done.\n    getting feed info is done\n"
     ]
    },
    {
     "name": "stdout",
     "output_type": "stream",
     "text": [
      "    getting account html_soup is done.\n    getting account info is done.\n    storing data is done\n    progress... : 1 / 18 mid\n"
     ]
    },
    {
     "name": "stdout",
     "output_type": "stream",
     "text": [
      "    getting account_link is done.\n    getting feed info is done\n"
     ]
    },
    {
     "name": "stdout",
     "output_type": "stream",
     "text": [
      "    getting account html_soup is done.\n    getting account info is done.\n    storing data is done\n    progress... : 2 / 18 mid\n"
     ]
    },
    {
     "name": "stdout",
     "output_type": "stream",
     "text": [
      "    getting account_link is done.\n    getting feed info is done\n"
     ]
    },
    {
     "name": "stdout",
     "output_type": "stream",
     "text": [
      "    getting account html_soup is done.\n    getting account info is done.\n    storing data is done\n    progress... : 3 / 18 mid\n"
     ]
    },
    {
     "name": "stdout",
     "output_type": "stream",
     "text": [
      "    getting account_link is done.\n    getting feed info is done\n"
     ]
    },
    {
     "name": "stdout",
     "output_type": "stream",
     "text": [
      "    getting account html_soup is done.\n    getting account info is done.\n    storing data is done\n    progress... : 4 / 18 mid\n"
     ]
    },
    {
     "name": "stdout",
     "output_type": "stream",
     "text": [
      "    getting account_link is done.\n    getting feed info is done\n"
     ]
    },
    {
     "name": "stdout",
     "output_type": "stream",
     "text": [
      "    getting account html_soup is done.\n    getting account info is done.\n    storing data is done\n    progress... : 5 / 18 mid\n"
     ]
    },
    {
     "name": "stdout",
     "output_type": "stream",
     "text": [
      "    getting account_link is done.\n    getting feed info is done\n"
     ]
    },
    {
     "name": "stdout",
     "output_type": "stream",
     "text": [
      "    getting account html_soup is done.\n    getting account info is done.\n    storing data is done\n    progress... : 6 / 18 mid\n"
     ]
    },
    {
     "name": "stdout",
     "output_type": "stream",
     "text": [
      "    getting account_link is done.\n    getting feed info is done\n"
     ]
    },
    {
     "name": "stdout",
     "output_type": "stream",
     "text": [
      "    getting account html_soup is done.\n    getting account info is done.\n    storing data is done\n    progress... : 7 / 18 mid\n"
     ]
    },
    {
     "name": "stdout",
     "output_type": "stream",
     "text": [
      "    getting account_link is done.\n    getting feed info is done\n"
     ]
    },
    {
     "name": "stdout",
     "output_type": "stream",
     "text": [
      "    getting account html_soup is done.\n    getting account info is done.\n    storing data is done\n    progress... : 8 / 18 mid\n"
     ]
    },
    {
     "name": "stdout",
     "output_type": "stream",
     "text": [
      "    getting account_link is done.\n    getting feed info is done\n"
     ]
    },
    {
     "name": "stdout",
     "output_type": "stream",
     "text": [
      "    getting account html_soup is done.\n    getting account info is done.\n    storing data is done\n    progress... : 9 / 18 mid\n"
     ]
    },
    {
     "name": "stdout",
     "output_type": "stream",
     "text": [
      "    getting account_link is done.\n    getting feed info is done\n"
     ]
    },
    {
     "name": "stdout",
     "output_type": "stream",
     "text": [
      "    getting account html_soup is done.\n    getting account info is done.\n    storing data is done\n    progress... : 10 / 18 mid\n"
     ]
    },
    {
     "name": "stdout",
     "output_type": "stream",
     "text": [
      "    getting account_link is done.\n    getting feed info is done\n"
     ]
    },
    {
     "name": "stdout",
     "output_type": "stream",
     "text": [
      "    getting account html_soup is done.\n    getting account info is done.\n    storing data is done\n    progress... : 11 / 18 mid\n"
     ]
    },
    {
     "name": "stdout",
     "output_type": "stream",
     "text": [
      "    getting account_link is done.\n    getting feed info is done\n"
     ]
    },
    {
     "name": "stdout",
     "output_type": "stream",
     "text": [
      "    getting account html_soup is done.\n    getting account info is done.\n    storing data is done\n    progress... : 12 / 18 mid\n"
     ]
    },
    {
     "name": "stdout",
     "output_type": "stream",
     "text": [
      "    getting account_link is done.\n    getting feed info is done\n"
     ]
    },
    {
     "name": "stdout",
     "output_type": "stream",
     "text": [
      "    getting account html_soup is done.\n    getting account info is done.\n    storing data is done\n    progress... : 13 / 18 mid\n"
     ]
    },
    {
     "name": "stdout",
     "output_type": "stream",
     "text": [
      "    getting account_link is done.\n    getting feed info is done\n"
     ]
    },
    {
     "name": "stdout",
     "output_type": "stream",
     "text": [
      "    getting account html_soup is done.\n    getting account info is done.\n    storing data is done\n    progress... : 14 / 18 mid\n"
     ]
    },
    {
     "name": "stdout",
     "output_type": "stream",
     "text": [
      "    getting account_link is done.\n    getting feed info is done\n"
     ]
    },
    {
     "name": "stdout",
     "output_type": "stream",
     "text": [
      "    getting account html_soup is done.\n    getting account info is done.\n    storing data is done\n    progress... : 15 / 18 mid\n"
     ]
    },
    {
     "name": "stdout",
     "output_type": "stream",
     "text": [
      "    getting account_link is done.\n    getting feed info is done\n"
     ]
    },
    {
     "name": "stdout",
     "output_type": "stream",
     "text": [
      "    getting account html_soup is done.\n    getting account info is done.\n    storing data is done\n    progress... : 16 / 18 mid\n"
     ]
    },
    {
     "name": "stdout",
     "output_type": "stream",
     "text": [
      "    getting account_link is done.\n    getting feed info is done\n"
     ]
    },
    {
     "name": "stdout",
     "output_type": "stream",
     "text": [
      "    getting account html_soup is done.\n    getting account info is done.\n    storing data is done\n    progress... : 17 / 18 mid\n"
     ]
    },
    {
     "name": "stdout",
     "output_type": "stream",
     "text": [
      "    getting account_link is done.\n    getting feed info is done\n"
     ]
    },
    {
     "name": "stdout",
     "output_type": "stream",
     "text": [
      "    getting account html_soup is done.\n    getting account info is done.\n    storing data is done\nprogress... : 3 / 38 feed link\n"
     ]
    },
    {
     "name": "stdout",
     "output_type": "stream",
     "text": [
      "getting feed html_soup is done.\ngetting mid_list is done.\n20 mids are detected.\n    progress... : 0 / 20 mid\n"
     ]
    },
    {
     "name": "stdout",
     "output_type": "stream",
     "text": [
      "    getting account_link is done.\n    getting feed info is done\n"
     ]
    },
    {
     "name": "stdout",
     "output_type": "stream",
     "text": [
      "    getting account html_soup is done.\n    getting account info is done.\n    storing data is done\n    progress... : 1 / 20 mid\n"
     ]
    },
    {
     "name": "stdout",
     "output_type": "stream",
     "text": [
      "    getting account_link is done.\n    getting feed info is done\n"
     ]
    },
    {
     "name": "stdout",
     "output_type": "stream",
     "text": [
      "    getting account html_soup is done.\n    getting account info is done.\n    storing data is done\n    progress... : 2 / 20 mid\n"
     ]
    },
    {
     "name": "stdout",
     "output_type": "stream",
     "text": [
      "    getting account_link is done.\n    getting feed info is done\n"
     ]
    },
    {
     "name": "stdout",
     "output_type": "stream",
     "text": [
      "    getting account html_soup is done.\n    getting account info is done.\n    storing data is done\n    progress... : 3 / 20 mid\n"
     ]
    },
    {
     "name": "stdout",
     "output_type": "stream",
     "text": [
      "    getting account_link is done.\n    getting feed info is done\n"
     ]
    },
    {
     "name": "stdout",
     "output_type": "stream",
     "text": [
      "    getting account html_soup is done.\n    getting account info is done.\n    storing data is done\n    progress... : 4 / 20 mid\n"
     ]
    },
    {
     "name": "stdout",
     "output_type": "stream",
     "text": [
      "    getting account_link is done.\n    getting feed info is done\n"
     ]
    },
    {
     "name": "stdout",
     "output_type": "stream",
     "text": [
      "    getting account html_soup is done.\n    getting account info is done.\n    storing data is done\n    progress... : 5 / 20 mid\n"
     ]
    },
    {
     "name": "stdout",
     "output_type": "stream",
     "text": [
      "    getting account_link is done.\n    getting feed info is done\n"
     ]
    },
    {
     "name": "stdout",
     "output_type": "stream",
     "text": [
      "    getting account html_soup is done.\n    getting account info is done.\n    storing data is done\n    progress... : 6 / 20 mid\n"
     ]
    },
    {
     "name": "stdout",
     "output_type": "stream",
     "text": [
      "    getting account_link is done.\n    getting feed info is done\n"
     ]
    },
    {
     "name": "stdout",
     "output_type": "stream",
     "text": [
      "    getting account html_soup is done.\n    getting account info is done.\n    storing data is done\n    progress... : 7 / 20 mid\n"
     ]
    },
    {
     "name": "stdout",
     "output_type": "stream",
     "text": [
      "    getting account_link is done.\n    getting feed info is done\n"
     ]
    },
    {
     "name": "stdout",
     "output_type": "stream",
     "text": [
      "    getting account html_soup is done.\n    getting account info is done.\n    storing data is done\n    progress... : 8 / 20 mid\n"
     ]
    },
    {
     "name": "stdout",
     "output_type": "stream",
     "text": [
      "    getting account_link is done.\n    getting feed info is done\n"
     ]
    },
    {
     "name": "stdout",
     "output_type": "stream",
     "text": [
      "    getting account html_soup is done.\n    getting account info is done.\n    storing data is done\n    progress... : 9 / 20 mid\n"
     ]
    },
    {
     "name": "stdout",
     "output_type": "stream",
     "text": [
      "    getting account_link is done.\n    getting feed info is done\n"
     ]
    },
    {
     "name": "stdout",
     "output_type": "stream",
     "text": [
      "    getting account html_soup is done.\n    getting account info is done.\n    storing data is done\n    progress... : 10 / 20 mid\n"
     ]
    },
    {
     "name": "stdout",
     "output_type": "stream",
     "text": [
      "    getting account_link is done.\n    getting feed info is done\n"
     ]
    },
    {
     "name": "stdout",
     "output_type": "stream",
     "text": [
      "    getting account html_soup is done.\n    getting account info is done.\n    storing data is done\n    progress... : 11 / 20 mid\n"
     ]
    },
    {
     "name": "stdout",
     "output_type": "stream",
     "text": [
      "    getting account_link is done.\n    getting feed info is done\n"
     ]
    },
    {
     "name": "stdout",
     "output_type": "stream",
     "text": [
      "    getting account html_soup is done.\n    getting account info is done.\n    storing data is done\n    progress... : 12 / 20 mid\n"
     ]
    },
    {
     "name": "stdout",
     "output_type": "stream",
     "text": [
      "    getting account_link is done.\n    getting feed info is done\n"
     ]
    },
    {
     "name": "stdout",
     "output_type": "stream",
     "text": [
      "    getting account html_soup is done.\n    getting account info is done.\n    storing data is done\n    progress... : 13 / 20 mid\n"
     ]
    },
    {
     "name": "stdout",
     "output_type": "stream",
     "text": [
      "    getting account_link is done.\n    getting feed info is done\n"
     ]
    },
    {
     "name": "stdout",
     "output_type": "stream",
     "text": [
      "    getting account html_soup is done.\n    getting account info is done.\n    storing data is done\n    progress... : 14 / 20 mid\n"
     ]
    },
    {
     "name": "stdout",
     "output_type": "stream",
     "text": [
      "    getting account_link is done.\n    getting feed info is done\n"
     ]
    },
    {
     "name": "stdout",
     "output_type": "stream",
     "text": [
      "    getting account html_soup is done.\n    getting account info is done.\n    storing data is done\n    progress... : 15 / 20 mid\n"
     ]
    },
    {
     "name": "stdout",
     "output_type": "stream",
     "text": [
      "    getting account_link is done.\n    getting feed info is done\n"
     ]
    },
    {
     "name": "stdout",
     "output_type": "stream",
     "text": [
      "    getting account html_soup is done.\n    getting account info is done.\n    storing data is done\n    progress... : 16 / 20 mid\n"
     ]
    },
    {
     "name": "stdout",
     "output_type": "stream",
     "text": [
      "    getting account_link is done.\n    getting feed info is done\n"
     ]
    },
    {
     "name": "stdout",
     "output_type": "stream",
     "text": [
      "    getting account html_soup is done.\n    getting account info is done.\n    storing data is done\n    progress... : 17 / 20 mid\n"
     ]
    },
    {
     "name": "stdout",
     "output_type": "stream",
     "text": [
      "    getting account_link is done.\n    getting feed info is done\n"
     ]
    },
    {
     "name": "stdout",
     "output_type": "stream",
     "text": [
      "    getting account html_soup is done.\n    getting account info is done.\n    storing data is done\n    progress... : 18 / 20 mid\n"
     ]
    },
    {
     "name": "stdout",
     "output_type": "stream",
     "text": [
      "    getting account_link is done.\n    getting feed info is done\n"
     ]
    },
    {
     "name": "stdout",
     "output_type": "stream",
     "text": [
      "    getting account html_soup is done.\n    getting account info is done.\n    storing data is done\n    progress... : 19 / 20 mid\n"
     ]
    },
    {
     "name": "stdout",
     "output_type": "stream",
     "text": [
      "    getting account_link is done.\n    getting feed info is done\n"
     ]
    },
    {
     "name": "stdout",
     "output_type": "stream",
     "text": [
      "    getting account html_soup is done.\n    getting account info is done.\n    storing data is done\nprogress... : 4 / 38 feed link\n"
     ]
    },
    {
     "name": "stdout",
     "output_type": "stream",
     "text": [
      "getting feed html_soup is done.\ngetting mid_list is done.\n20 mids are detected.\n    progress... : 0 / 20 mid\n"
     ]
    },
    {
     "name": "stdout",
     "output_type": "stream",
     "text": [
      "    getting account_link is done.\n    getting feed info is done\n"
     ]
    },
    {
     "name": "stdout",
     "output_type": "stream",
     "text": [
      "    getting account html_soup is done.\n    getting account info is done.\n    storing data is done\n    progress... : 1 / 20 mid\n"
     ]
    },
    {
     "name": "stdout",
     "output_type": "stream",
     "text": [
      "    getting account_link is done.\n    getting feed info is done\n"
     ]
    },
    {
     "name": "stdout",
     "output_type": "stream",
     "text": [
      "    getting account html_soup is done.\n    getting account info is done.\n    storing data is done\n    progress... : 2 / 20 mid\n"
     ]
    },
    {
     "name": "stdout",
     "output_type": "stream",
     "text": [
      "    getting account_link is done.\n    getting feed info is done\n"
     ]
    },
    {
     "name": "stdout",
     "output_type": "stream",
     "text": [
      "    getting account html_soup is done.\n    getting account info is done.\n    storing data is done\n    progress... : 3 / 20 mid\n"
     ]
    },
    {
     "name": "stdout",
     "output_type": "stream",
     "text": [
      "    getting account_link is done.\n    getting feed info is done\n"
     ]
    },
    {
     "name": "stdout",
     "output_type": "stream",
     "text": [
      "    getting account html_soup is done.\n    getting account info is done.\n    storing data is done\n    progress... : 4 / 20 mid\n"
     ]
    },
    {
     "name": "stdout",
     "output_type": "stream",
     "text": [
      "    getting account_link is done.\n    getting feed info is done\n"
     ]
    },
    {
     "name": "stdout",
     "output_type": "stream",
     "text": [
      "    getting account html_soup is done.\n    getting account info is done.\n    storing data is done\n    progress... : 5 / 20 mid\n"
     ]
    },
    {
     "name": "stdout",
     "output_type": "stream",
     "text": [
      "    getting account_link is done.\n    getting feed info is done\n"
     ]
    },
    {
     "name": "stdout",
     "output_type": "stream",
     "text": [
      "    getting account html_soup is done.\n    getting account info is done.\n    storing data is done\n    progress... : 6 / 20 mid\n"
     ]
    },
    {
     "name": "stdout",
     "output_type": "stream",
     "text": [
      "    getting account_link is done.\n    getting feed info is done\n"
     ]
    },
    {
     "name": "stdout",
     "output_type": "stream",
     "text": [
      "    getting account html_soup is done.\n"
     ]
    },
    {
     "name": "stdout",
     "output_type": "stream",
     "text": [
      "    getting account info is done.\n    storing data is done\n    progress... : 7 / 20 mid\n"
     ]
    },
    {
     "name": "stdout",
     "output_type": "stream",
     "text": [
      "    getting account_link is done.\n    getting feed info is done\n"
     ]
    },
    {
     "name": "stdout",
     "output_type": "stream",
     "text": [
      "    getting account html_soup is done.\n    getting account info is done.\n    storing data is done\n    progress... : 8 / 20 mid\n"
     ]
    },
    {
     "name": "stdout",
     "output_type": "stream",
     "text": [
      "    getting account_link is done.\n    getting feed info is done\n"
     ]
    },
    {
     "name": "stdout",
     "output_type": "stream",
     "text": [
      "    getting account html_soup is done.\n    getting account info is done.\n    storing data is done\n    progress... : 9 / 20 mid\n"
     ]
    },
    {
     "name": "stdout",
     "output_type": "stream",
     "text": [
      "    getting account_link is done.\n    getting feed info is done\n"
     ]
    },
    {
     "name": "stdout",
     "output_type": "stream",
     "text": [
      "    getting account html_soup is done.\n    getting account info is done.\n    storing data is done\n    progress... : 10 / 20 mid\n"
     ]
    },
    {
     "name": "stdout",
     "output_type": "stream",
     "text": [
      "    getting account_link is done.\n    getting feed info is done\n"
     ]
    },
    {
     "name": "stdout",
     "output_type": "stream",
     "text": [
      "    getting account html_soup is done.\n    getting account info is done.\n    storing data is done\n    progress... : 11 / 20 mid\n"
     ]
    },
    {
     "name": "stdout",
     "output_type": "stream",
     "text": [
      "    getting account_link is done.\n    getting feed info is done\n"
     ]
    },
    {
     "name": "stdout",
     "output_type": "stream",
     "text": [
      "    getting account html_soup is done.\n    getting account info is done.\n    storing data is done\n    progress... : 12 / 20 mid\n"
     ]
    },
    {
     "name": "stdout",
     "output_type": "stream",
     "text": [
      "    getting account_link is done.\n    getting feed info is done\n"
     ]
    },
    {
     "name": "stdout",
     "output_type": "stream",
     "text": [
      "    getting account html_soup is done.\n    getting account info is done.\n    storing data is done\n    progress... : 13 / 20 mid\n"
     ]
    },
    {
     "name": "stdout",
     "output_type": "stream",
     "text": [
      "    getting account_link is done.\n    getting feed info is done\n"
     ]
    },
    {
     "name": "stdout",
     "output_type": "stream",
     "text": [
      "    getting account html_soup is done.\n    getting account info is done.\n    storing data is done\n    progress... : 14 / 20 mid\n"
     ]
    },
    {
     "name": "stdout",
     "output_type": "stream",
     "text": [
      "    getting account_link is done.\n    getting feed info is done\n"
     ]
    },
    {
     "name": "stdout",
     "output_type": "stream",
     "text": [
      "    getting account html_soup is done.\n    getting account info is done.\n    storing data is done\n    progress... : 15 / 20 mid\n"
     ]
    },
    {
     "name": "stdout",
     "output_type": "stream",
     "text": [
      "    getting account_link is done.\n    getting feed info is done\n"
     ]
    },
    {
     "name": "stdout",
     "output_type": "stream",
     "text": [
      "    getting account html_soup is done.\n    getting account info is done.\n    storing data is done\n    progress... : 16 / 20 mid\n"
     ]
    },
    {
     "name": "stdout",
     "output_type": "stream",
     "text": [
      "    getting account_link is done.\n    getting feed info is done\n"
     ]
    },
    {
     "name": "stdout",
     "output_type": "stream",
     "text": [
      "    getting account html_soup is done.\n    getting account info is done.\n    storing data is done\n    progress... : 17 / 20 mid\n"
     ]
    },
    {
     "name": "stdout",
     "output_type": "stream",
     "text": [
      "    getting account_link is done.\n    getting feed info is done\n"
     ]
    },
    {
     "name": "stdout",
     "output_type": "stream",
     "text": [
      "    getting account html_soup is done.\n    getting account info is done.\n    storing data is done\n    progress... : 18 / 20 mid\n"
     ]
    },
    {
     "name": "stdout",
     "output_type": "stream",
     "text": [
      "    getting account_link is done.\n    getting feed info is done\n"
     ]
    },
    {
     "name": "stdout",
     "output_type": "stream",
     "text": [
      "    getting account html_soup is done.\n    getting account info is done.\n    storing data is done\n    progress... : 19 / 20 mid\n"
     ]
    },
    {
     "name": "stdout",
     "output_type": "stream",
     "text": [
      "    getting account_link is done.\n    getting feed info is done\n"
     ]
    },
    {
     "name": "stdout",
     "output_type": "stream",
     "text": [
      "    getting account html_soup is done.\n    getting account info is done.\n    storing data is done\nprogress... : 5 / 38 feed link\n"
     ]
    },
    {
     "name": "stdout",
     "output_type": "stream",
     "text": [
      "getting feed html_soup is done.\ngetting mid_list is done.\n20 mids are detected.\n    progress... : 0 / 20 mid\n"
     ]
    },
    {
     "name": "stdout",
     "output_type": "stream",
     "text": [
      "    getting account_link is done.\n    getting feed info is done\n"
     ]
    },
    {
     "name": "stdout",
     "output_type": "stream",
     "text": [
      "    getting account html_soup is done.\n    getting account info is done.\n    storing data is done\n    progress... : 1 / 20 mid\n"
     ]
    },
    {
     "name": "stdout",
     "output_type": "stream",
     "text": [
      "    getting account_link is done.\n    getting feed info is done\n"
     ]
    },
    {
     "name": "stdout",
     "output_type": "stream",
     "text": [
      "    getting account html_soup is done.\n    getting account info is done.\n    storing data is done\n    progress... : 2 / 20 mid\n"
     ]
    },
    {
     "name": "stdout",
     "output_type": "stream",
     "text": [
      "    getting account_link is done.\n    getting feed info is done\n"
     ]
    },
    {
     "name": "stdout",
     "output_type": "stream",
     "text": [
      "    getting account html_soup is done.\n    getting account info is done.\n    storing data is done\n    progress... : 3 / 20 mid\n"
     ]
    },
    {
     "name": "stdout",
     "output_type": "stream",
     "text": [
      "    getting account_link is done.\n    getting feed info is done\n"
     ]
    },
    {
     "name": "stdout",
     "output_type": "stream",
     "text": [
      "    getting account html_soup is done.\n    getting account info is done.\n    storing data is done\n    progress... : 4 / 20 mid\n"
     ]
    },
    {
     "name": "stdout",
     "output_type": "stream",
     "text": [
      "    getting account_link is done.\n    getting feed info is done\n"
     ]
    },
    {
     "name": "stdout",
     "output_type": "stream",
     "text": [
      "    getting account html_soup is done.\n    getting account info is done.\n    storing data is done\n    progress... : 5 / 20 mid\n"
     ]
    },
    {
     "name": "stdout",
     "output_type": "stream",
     "text": [
      "    getting account_link is done.\n    getting feed info is done\n"
     ]
    },
    {
     "name": "stdout",
     "output_type": "stream",
     "text": [
      "    getting account html_soup is done.\n    getting account info is done.\n    storing data is done\n    progress... : 6 / 20 mid\n"
     ]
    },
    {
     "name": "stdout",
     "output_type": "stream",
     "text": [
      "    getting account_link is done.\n    getting feed info is done\n"
     ]
    },
    {
     "name": "stdout",
     "output_type": "stream",
     "text": [
      "    getting account html_soup is done.\n    getting account info is done.\n    storing data is done\n    progress... : 7 / 20 mid\n"
     ]
    },
    {
     "name": "stdout",
     "output_type": "stream",
     "text": [
      "    getting account_link is done.\n    getting feed info is done\n"
     ]
    },
    {
     "name": "stdout",
     "output_type": "stream",
     "text": [
      "    getting account html_soup is done.\n    getting account info is done.\n    storing data is done\n    progress... : 8 / 20 mid\n"
     ]
    },
    {
     "name": "stdout",
     "output_type": "stream",
     "text": [
      "    getting account_link is done.\n    getting feed info is done\n"
     ]
    },
    {
     "name": "stdout",
     "output_type": "stream",
     "text": [
      "    getting account html_soup is done.\n    getting account info is done.\n    storing data is done\n    progress... : 9 / 20 mid\n"
     ]
    },
    {
     "name": "stdout",
     "output_type": "stream",
     "text": [
      "    getting account_link is done.\n    getting feed info is done\n"
     ]
    },
    {
     "name": "stdout",
     "output_type": "stream",
     "text": [
      "    getting account html_soup is done.\n    getting account info is done.\n    storing data is done\n    progress... : 10 / 20 mid\n"
     ]
    },
    {
     "name": "stdout",
     "output_type": "stream",
     "text": [
      "    getting account_link is done.\n    getting feed info is done\n"
     ]
    },
    {
     "name": "stdout",
     "output_type": "stream",
     "text": [
      "    getting account html_soup is done.\n    getting account info is done.\n    storing data is done\n    progress... : 11 / 20 mid\n"
     ]
    },
    {
     "name": "stdout",
     "output_type": "stream",
     "text": [
      "    getting account_link is done.\n    getting feed info is done\n"
     ]
    },
    {
     "name": "stdout",
     "output_type": "stream",
     "text": [
      "    getting account html_soup is done.\n    getting account info is done.\n    storing data is done\n    progress... : 12 / 20 mid\n"
     ]
    },
    {
     "name": "stdout",
     "output_type": "stream",
     "text": [
      "    getting account_link is done.\n    getting feed info is done\n"
     ]
    },
    {
     "name": "stdout",
     "output_type": "stream",
     "text": [
      "    getting account html_soup is done.\n    getting account info is done.\n    storing data is done\n    progress... : 13 / 20 mid\n"
     ]
    },
    {
     "name": "stdout",
     "output_type": "stream",
     "text": [
      "    getting account_link is done.\n    getting feed info is done\n"
     ]
    },
    {
     "name": "stdout",
     "output_type": "stream",
     "text": [
      "    getting account html_soup is done.\n    getting account info is done.\n    storing data is done\n    progress... : 14 / 20 mid\n"
     ]
    },
    {
     "name": "stdout",
     "output_type": "stream",
     "text": [
      "    getting account_link is done.\n    getting feed info is done\n"
     ]
    },
    {
     "name": "stdout",
     "output_type": "stream",
     "text": [
      "    getting account html_soup is done.\n    getting account info is done.\n    storing data is done\n    progress... : 15 / 20 mid\n"
     ]
    },
    {
     "name": "stdout",
     "output_type": "stream",
     "text": [
      "    getting account_link is done.\n    getting feed info is done\n"
     ]
    },
    {
     "name": "stdout",
     "output_type": "stream",
     "text": [
      "    getting account html_soup is done.\n    getting account info is done.\n    storing data is done\n    progress... : 16 / 20 mid\n"
     ]
    },
    {
     "name": "stdout",
     "output_type": "stream",
     "text": [
      "    getting account_link is done.\n    getting feed info is done\n"
     ]
    },
    {
     "name": "stdout",
     "output_type": "stream",
     "text": [
      "    getting account html_soup is done.\n    getting account info is done.\n    storing data is done\n    progress... : 17 / 20 mid\n"
     ]
    },
    {
     "name": "stdout",
     "output_type": "stream",
     "text": [
      "    getting account_link is done.\n    getting feed info is done\n"
     ]
    },
    {
     "name": "stdout",
     "output_type": "stream",
     "text": [
      "    getting account html_soup is done.\n    getting account info is done.\n    storing data is done\n    progress... : 18 / 20 mid\n"
     ]
    },
    {
     "name": "stdout",
     "output_type": "stream",
     "text": [
      "    getting account_link is done.\n    getting feed info is done\n"
     ]
    },
    {
     "name": "stdout",
     "output_type": "stream",
     "text": [
      "    getting account html_soup is done.\n    getting account info is done.\n    storing data is done\n    progress... : 19 / 20 mid\n"
     ]
    },
    {
     "name": "stdout",
     "output_type": "stream",
     "text": [
      "    getting account_link is done.\n    getting feed info is done\n"
     ]
    },
    {
     "name": "stdout",
     "output_type": "stream",
     "text": [
      "    getting account html_soup is done.\n    getting account info is done.\n    storing data is done\nprogress... : 6 / 38 feed link\n"
     ]
    },
    {
     "name": "stdout",
     "output_type": "stream",
     "text": [
      "getting feed html_soup is done.\ngetting mid_list is done.\n20 mids are detected.\n    progress... : 0 / 20 mid\n"
     ]
    },
    {
     "name": "stdout",
     "output_type": "stream",
     "text": [
      "    getting account_link is done.\n    getting feed info is done\n"
     ]
    },
    {
     "name": "stdout",
     "output_type": "stream",
     "text": [
      "    getting account html_soup is done.\n    getting account info is done.\n    storing data is done\n    progress... : 1 / 20 mid\n"
     ]
    },
    {
     "name": "stdout",
     "output_type": "stream",
     "text": [
      "    getting account_link is done.\n    getting feed info is done\n"
     ]
    },
    {
     "name": "stdout",
     "output_type": "stream",
     "text": [
      "    getting account html_soup is done.\n    getting account info is done.\n    storing data is done\n    progress... : 2 / 20 mid\n"
     ]
    },
    {
     "name": "stdout",
     "output_type": "stream",
     "text": [
      "    getting account_link is done.\n    getting feed info is done\n"
     ]
    },
    {
     "name": "stdout",
     "output_type": "stream",
     "text": [
      "    getting account html_soup is done.\n    getting account info is done.\n    storing data is done\n    progress... : 3 / 20 mid\n"
     ]
    },
    {
     "name": "stdout",
     "output_type": "stream",
     "text": [
      "    getting account_link is done.\n    getting feed info is done\n"
     ]
    },
    {
     "name": "stdout",
     "output_type": "stream",
     "text": [
      "    getting account html_soup is done.\n    getting account info is done.\n    storing data is done\n    progress... : 4 / 20 mid\n"
     ]
    },
    {
     "name": "stdout",
     "output_type": "stream",
     "text": [
      "    getting account_link is done.\n    getting feed info is done\n"
     ]
    },
    {
     "name": "stdout",
     "output_type": "stream",
     "text": [
      "    getting account html_soup is done.\n    getting account info is done.\n    storing data is done\n    progress... : 5 / 20 mid\n"
     ]
    },
    {
     "name": "stdout",
     "output_type": "stream",
     "text": [
      "    getting account_link is done.\n    getting feed info is done\n"
     ]
    },
    {
     "name": "stdout",
     "output_type": "stream",
     "text": [
      "    getting account html_soup is done.\n    getting account info is done.\n    storing data is done\n    progress... : 6 / 20 mid\n"
     ]
    },
    {
     "name": "stdout",
     "output_type": "stream",
     "text": [
      "    getting account_link is done.\n    getting feed info is done\n"
     ]
    },
    {
     "name": "stdout",
     "output_type": "stream",
     "text": [
      "    getting account html_soup is done.\n    getting account info is done.\n    storing data is done\n    progress... : 7 / 20 mid\n"
     ]
    },
    {
     "name": "stdout",
     "output_type": "stream",
     "text": [
      "    getting account_link is done.\n    getting feed info is done\n"
     ]
    },
    {
     "name": "stdout",
     "output_type": "stream",
     "text": [
      "    getting account html_soup is done.\n    getting account info is done.\n    storing data is done\n    progress... : 8 / 20 mid\n"
     ]
    },
    {
     "name": "stdout",
     "output_type": "stream",
     "text": [
      "    getting account_link is done.\n    getting feed info is done\n"
     ]
    },
    {
     "name": "stdout",
     "output_type": "stream",
     "text": [
      "    getting account html_soup is done.\n    getting account info is done.\n    storing data is done\n    progress... : 9 / 20 mid\n"
     ]
    },
    {
     "name": "stdout",
     "output_type": "stream",
     "text": [
      "    getting account_link is done.\n    getting feed info is done\n"
     ]
    },
    {
     "name": "stdout",
     "output_type": "stream",
     "text": [
      "    getting account html_soup is done.\n    getting account info is done.\n    storing data is done\n    progress... : 10 / 20 mid\n"
     ]
    },
    {
     "name": "stdout",
     "output_type": "stream",
     "text": [
      "    getting account_link is done.\n    getting feed info is done\n"
     ]
    },
    {
     "name": "stdout",
     "output_type": "stream",
     "text": [
      "    getting account html_soup is done.\n    getting account info is done.\n    storing data is done\n    progress... : 11 / 20 mid\n"
     ]
    },
    {
     "name": "stdout",
     "output_type": "stream",
     "text": [
      "    getting account_link is done.\n    getting feed info is done\n"
     ]
    },
    {
     "name": "stdout",
     "output_type": "stream",
     "text": [
      "    getting account html_soup is done.\n    getting account info is done.\n    storing data is done\n    progress... : 12 / 20 mid\n"
     ]
    },
    {
     "name": "stdout",
     "output_type": "stream",
     "text": [
      "    getting account_link is done.\n    getting feed info is done\n"
     ]
    },
    {
     "name": "stdout",
     "output_type": "stream",
     "text": [
      "    getting account html_soup is done.\n    getting account info is done.\n    storing data is done\n    progress... : 13 / 20 mid\n"
     ]
    },
    {
     "name": "stdout",
     "output_type": "stream",
     "text": [
      "    getting account_link is done.\n    getting feed info is done\n"
     ]
    },
    {
     "name": "stdout",
     "output_type": "stream",
     "text": [
      "    getting account html_soup is done.\n    getting account info is done.\n    storing data is done\n    progress... : 14 / 20 mid\n"
     ]
    },
    {
     "name": "stdout",
     "output_type": "stream",
     "text": [
      "    getting account_link is done.\n    getting feed info is done\n"
     ]
    },
    {
     "name": "stdout",
     "output_type": "stream",
     "text": [
      "    getting account html_soup is done.\n    getting account info is done.\n    storing data is done\n    progress... : 15 / 20 mid\n"
     ]
    },
    {
     "name": "stdout",
     "output_type": "stream",
     "text": [
      "    getting account_link is done.\n    getting feed info is done\n"
     ]
    },
    {
     "name": "stdout",
     "output_type": "stream",
     "text": [
      "    getting account html_soup is done.\n    getting account info is done.\n    storing data is done\n    progress... : 16 / 20 mid\n"
     ]
    },
    {
     "name": "stdout",
     "output_type": "stream",
     "text": [
      "    getting account_link is done.\n    getting feed info is done\n"
     ]
    },
    {
     "name": "stdout",
     "output_type": "stream",
     "text": [
      "    getting account html_soup is done.\n    getting account info is done.\n    storing data is done\n    progress... : 17 / 20 mid\n"
     ]
    },
    {
     "name": "stdout",
     "output_type": "stream",
     "text": [
      "    getting account_link is done.\n    getting feed info is done\n"
     ]
    },
    {
     "name": "stdout",
     "output_type": "stream",
     "text": [
      "    getting account html_soup is done.\n"
     ]
    },
    {
     "name": "stdout",
     "output_type": "stream",
     "text": [
      "    getting account info is done.\n    storing data is done\n    progress... : 18 / 20 mid\n"
     ]
    },
    {
     "name": "stdout",
     "output_type": "stream",
     "text": [
      "    getting account_link is done.\n    getting feed info is done\n"
     ]
    },
    {
     "name": "stdout",
     "output_type": "stream",
     "text": [
      "    getting account html_soup is done.\n    getting account info is done.\n    storing data is done\n    progress... : 19 / 20 mid\n"
     ]
    },
    {
     "name": "stdout",
     "output_type": "stream",
     "text": [
      "    getting account_link is done.\n    getting feed info is done\n"
     ]
    },
    {
     "name": "stdout",
     "output_type": "stream",
     "text": [
      "    getting account html_soup is done.\n    getting account info is done.\n    storing data is done\nprogress... : 7 / 38 feed link\n"
     ]
    },
    {
     "name": "stdout",
     "output_type": "stream",
     "text": [
      "getting feed html_soup is done.\ngetting mid_list is done.\n20 mids are detected.\n    progress... : 0 / 20 mid\n"
     ]
    },
    {
     "name": "stdout",
     "output_type": "stream",
     "text": [
      "    getting account_link is done.\n    getting feed info is done\n"
     ]
    },
    {
     "name": "stdout",
     "output_type": "stream",
     "text": [
      "    getting account html_soup is done.\n    getting account info is done.\n    storing data is done\n    progress... : 1 / 20 mid\n"
     ]
    },
    {
     "name": "stdout",
     "output_type": "stream",
     "text": [
      "    getting account_link is done.\n    getting feed info is done\n"
     ]
    },
    {
     "name": "stdout",
     "output_type": "stream",
     "text": [
      "    getting account html_soup is done.\n    getting account info is done.\n    storing data is done\n    progress... : 2 / 20 mid\n"
     ]
    },
    {
     "name": "stdout",
     "output_type": "stream",
     "text": [
      "    getting account_link is done.\n    getting feed info is done\n"
     ]
    },
    {
     "name": "stdout",
     "output_type": "stream",
     "text": [
      "    getting account html_soup is done.\n    getting account info is done.\n    storing data is done\n    progress... : 3 / 20 mid\n"
     ]
    },
    {
     "name": "stdout",
     "output_type": "stream",
     "text": [
      "    getting account_link is done.\n    getting feed info is done\n"
     ]
    },
    {
     "name": "stdout",
     "output_type": "stream",
     "text": [
      "    getting account html_soup is done.\n    getting account info is done.\n    storing data is done\n    progress... : 4 / 20 mid\n"
     ]
    },
    {
     "name": "stdout",
     "output_type": "stream",
     "text": [
      "    getting account_link is done.\n    getting feed info is done\n"
     ]
    },
    {
     "name": "stdout",
     "output_type": "stream",
     "text": [
      "    getting account html_soup is done.\n    getting account info is done.\n    storing data is done\n    progress... : 5 / 20 mid\n"
     ]
    },
    {
     "name": "stdout",
     "output_type": "stream",
     "text": [
      "    getting account_link is done.\n    getting feed info is done\n"
     ]
    },
    {
     "name": "stdout",
     "output_type": "stream",
     "text": [
      "    getting account html_soup is done.\n"
     ]
    },
    {
     "name": "stdout",
     "output_type": "stream",
     "text": [
      "    getting account info is done.\n    storing data is done\n    progress... : 6 / 20 mid\n"
     ]
    },
    {
     "name": "stdout",
     "output_type": "stream",
     "text": [
      "    getting account_link is done.\n    getting feed info is done\n"
     ]
    },
    {
     "name": "stdout",
     "output_type": "stream",
     "text": [
      "    getting account html_soup is done.\n    getting account info is done.\n    storing data is done\n    progress... : 7 / 20 mid\n"
     ]
    },
    {
     "name": "stdout",
     "output_type": "stream",
     "text": [
      "    getting account_link is done.\n    getting feed info is done\n"
     ]
    },
    {
     "name": "stdout",
     "output_type": "stream",
     "text": [
      "    getting account html_soup is done.\n    getting account info is done.\n    storing data is done\n    progress... : 8 / 20 mid\n"
     ]
    },
    {
     "name": "stdout",
     "output_type": "stream",
     "text": [
      "    getting account_link is done.\n    getting feed info is done\n"
     ]
    },
    {
     "name": "stdout",
     "output_type": "stream",
     "text": [
      "    getting account html_soup is done.\n    getting account info is done.\n    storing data is done\n    progress... : 9 / 20 mid\n"
     ]
    },
    {
     "name": "stdout",
     "output_type": "stream",
     "text": [
      "    getting account_link is done.\n    getting feed info is done\n"
     ]
    },
    {
     "name": "stdout",
     "output_type": "stream",
     "text": [
      "    getting account html_soup is done.\n    getting account info is done.\n    storing data is done\n    progress... : 10 / 20 mid\n"
     ]
    },
    {
     "name": "stdout",
     "output_type": "stream",
     "text": [
      "    getting account_link is done.\n    getting feed info is done\n"
     ]
    },
    {
     "name": "stdout",
     "output_type": "stream",
     "text": [
      "    getting account html_soup is done.\n    getting account info is done.\n    storing data is done\n    progress... : 11 / 20 mid\n"
     ]
    },
    {
     "name": "stdout",
     "output_type": "stream",
     "text": [
      "    getting account_link is done.\n    getting feed info is done\n"
     ]
    },
    {
     "name": "stdout",
     "output_type": "stream",
     "text": [
      "    getting account html_soup is done.\n    getting account info is done.\n    storing data is done\n    progress... : 12 / 20 mid\n"
     ]
    },
    {
     "name": "stdout",
     "output_type": "stream",
     "text": [
      "    getting account_link is done.\n    getting feed info is done\n"
     ]
    },
    {
     "name": "stdout",
     "output_type": "stream",
     "text": [
      "    getting account html_soup is done.\n    getting account info is done.\n    storing data is done\n    progress... : 13 / 20 mid\n"
     ]
    },
    {
     "name": "stdout",
     "output_type": "stream",
     "text": [
      "    getting account_link is done.\n    getting feed info is done\n"
     ]
    },
    {
     "name": "stdout",
     "output_type": "stream",
     "text": [
      "    getting account html_soup is done.\n    getting account info is done.\n    storing data is done\n    progress... : 14 / 20 mid\n"
     ]
    },
    {
     "name": "stdout",
     "output_type": "stream",
     "text": [
      "    getting account_link is done.\n    getting feed info is done\n"
     ]
    },
    {
     "name": "stdout",
     "output_type": "stream",
     "text": [
      "    getting account html_soup is done.\n    getting account info is done.\n    storing data is done\n    progress... : 15 / 20 mid\n"
     ]
    },
    {
     "name": "stdout",
     "output_type": "stream",
     "text": [
      "    getting account_link is done.\n    getting feed info is done\n"
     ]
    },
    {
     "name": "stdout",
     "output_type": "stream",
     "text": [
      "    getting account html_soup is done.\n    getting account info is done.\n    storing data is done\n    progress... : 16 / 20 mid\n"
     ]
    },
    {
     "name": "stdout",
     "output_type": "stream",
     "text": [
      "    getting account_link is done.\n    getting feed info is done\n"
     ]
    },
    {
     "name": "stdout",
     "output_type": "stream",
     "text": [
      "    getting account html_soup is done.\n    getting account info is done.\n    storing data is done\n    progress... : 17 / 20 mid\n"
     ]
    },
    {
     "name": "stdout",
     "output_type": "stream",
     "text": [
      "    getting account_link is done.\n    getting feed info is done\n"
     ]
    },
    {
     "name": "stdout",
     "output_type": "stream",
     "text": [
      "    getting account html_soup is done.\n    getting account info is done.\n    storing data is done\n    progress... : 18 / 20 mid\n"
     ]
    },
    {
     "name": "stdout",
     "output_type": "stream",
     "text": [
      "    getting account_link is done.\n    getting feed info is done\n"
     ]
    },
    {
     "name": "stdout",
     "output_type": "stream",
     "text": [
      "    getting account html_soup is done.\n    getting account info is done.\n    storing data is done\n    progress... : 19 / 20 mid\n"
     ]
    },
    {
     "name": "stdout",
     "output_type": "stream",
     "text": [
      "    getting account_link is done.\n    getting feed info is done\n"
     ]
    },
    {
     "name": "stdout",
     "output_type": "stream",
     "text": [
      "    getting account html_soup is done.\n    getting account info is done.\n    storing data is done\nprogress... : 8 / 38 feed link\n"
     ]
    },
    {
     "name": "stdout",
     "output_type": "stream",
     "text": [
      "getting feed html_soup is done.\ngetting mid_list is done.\n20 mids are detected.\n    progress... : 0 / 20 mid\n"
     ]
    },
    {
     "name": "stdout",
     "output_type": "stream",
     "text": [
      "    getting account_link is done.\n    getting feed info is done\n"
     ]
    },
    {
     "name": "stdout",
     "output_type": "stream",
     "text": [
      "    getting account html_soup is done.\n    getting account info is done.\n    storing data is done\n    progress... : 1 / 20 mid\n"
     ]
    },
    {
     "name": "stdout",
     "output_type": "stream",
     "text": [
      "    getting account_link is done.\n    getting feed info is done\n"
     ]
    },
    {
     "name": "stdout",
     "output_type": "stream",
     "text": [
      "    getting account html_soup is done.\n    getting account info is done.\n    storing data is done\n    progress... : 2 / 20 mid\n"
     ]
    },
    {
     "name": "stdout",
     "output_type": "stream",
     "text": [
      "    getting account_link is done.\n    getting feed info is done\n"
     ]
    },
    {
     "name": "stdout",
     "output_type": "stream",
     "text": [
      "    getting account html_soup is done.\n    getting account info is done.\n    storing data is done\n    progress... : 3 / 20 mid\n"
     ]
    },
    {
     "name": "stdout",
     "output_type": "stream",
     "text": [
      "    getting account_link is done.\n    getting feed info is done\n"
     ]
    },
    {
     "name": "stdout",
     "output_type": "stream",
     "text": [
      "    getting account html_soup is done.\n    getting account info is done.\n    storing data is done\n    progress... : 4 / 20 mid\n"
     ]
    },
    {
     "name": "stdout",
     "output_type": "stream",
     "text": [
      "    getting account_link is done.\n    getting feed info is done\n"
     ]
    },
    {
     "name": "stdout",
     "output_type": "stream",
     "text": [
      "    getting account html_soup is done.\n    getting account info is done.\n    storing data is done\n    progress... : 5 / 20 mid\n"
     ]
    },
    {
     "name": "stdout",
     "output_type": "stream",
     "text": [
      "    getting account_link is done.\n    getting feed info is done\n"
     ]
    },
    {
     "name": "stdout",
     "output_type": "stream",
     "text": [
      "    getting account html_soup is done.\n    getting account info is done.\n    storing data is done\n    progress... : 6 / 20 mid\n"
     ]
    },
    {
     "name": "stdout",
     "output_type": "stream",
     "text": [
      "    getting account_link is done.\n    getting feed info is done\n"
     ]
    },
    {
     "name": "stdout",
     "output_type": "stream",
     "text": [
      "    getting account html_soup is done.\n    getting account info is done.\n    storing data is done\n    progress... : 7 / 20 mid\n"
     ]
    },
    {
     "name": "stdout",
     "output_type": "stream",
     "text": [
      "    getting account_link is done.\n    getting feed info is done\n"
     ]
    },
    {
     "name": "stdout",
     "output_type": "stream",
     "text": [
      "    getting account html_soup is done.\n    getting account info is done.\n    storing data is done\n    progress... : 8 / 20 mid\n"
     ]
    },
    {
     "name": "stdout",
     "output_type": "stream",
     "text": [
      "    getting account_link is done.\n    getting feed info is done\n"
     ]
    },
    {
     "name": "stdout",
     "output_type": "stream",
     "text": [
      "    getting account html_soup is done.\n"
     ]
    },
    {
     "name": "stdout",
     "output_type": "stream",
     "text": [
      "    getting account info is done.\n    storing data is done\n    progress... : 9 / 20 mid\n"
     ]
    },
    {
     "name": "stdout",
     "output_type": "stream",
     "text": [
      "    getting account_link is done.\n    getting feed info is done\n"
     ]
    },
    {
     "name": "stdout",
     "output_type": "stream",
     "text": [
      "    getting account html_soup is done.\n    getting account info is done.\n    storing data is done\n    progress... : 10 / 20 mid\n"
     ]
    },
    {
     "name": "stdout",
     "output_type": "stream",
     "text": [
      "    getting account_link is done.\n    getting feed info is done\n"
     ]
    },
    {
     "name": "stdout",
     "output_type": "stream",
     "text": [
      "    getting account html_soup is done.\n    getting account info is done.\n    storing data is done\n    progress... : 11 / 20 mid\n"
     ]
    },
    {
     "name": "stdout",
     "output_type": "stream",
     "text": [
      "    getting account_link is done.\n    getting feed info is done\n"
     ]
    },
    {
     "name": "stdout",
     "output_type": "stream",
     "text": [
      "    getting account html_soup is done.\n    getting account info is done.\n    storing data is done\n    progress... : 12 / 20 mid\n"
     ]
    },
    {
     "name": "stdout",
     "output_type": "stream",
     "text": [
      "    getting account_link is done.\n    getting feed info is done\n"
     ]
    },
    {
     "name": "stdout",
     "output_type": "stream",
     "text": [
      "    getting account html_soup is done.\n    getting account info is done.\n    storing data is done\n    progress... : 13 / 20 mid\n"
     ]
    },
    {
     "name": "stdout",
     "output_type": "stream",
     "text": [
      "    getting account_link is done.\n    getting feed info is done\n"
     ]
    },
    {
     "name": "stdout",
     "output_type": "stream",
     "text": [
      "    getting account html_soup is done.\n    getting account info is done.\n    storing data is done\n    progress... : 14 / 20 mid\n"
     ]
    },
    {
     "name": "stdout",
     "output_type": "stream",
     "text": [
      "    getting account_link is done.\n    getting feed info is done\n"
     ]
    },
    {
     "name": "stdout",
     "output_type": "stream",
     "text": [
      "    getting account html_soup is done.\n    getting account info is done.\n    storing data is done\n    progress... : 15 / 20 mid\n"
     ]
    },
    {
     "name": "stdout",
     "output_type": "stream",
     "text": [
      "    getting account_link is done.\n    getting feed info is done\n"
     ]
    },
    {
     "name": "stdout",
     "output_type": "stream",
     "text": [
      "    getting account html_soup is done.\n    getting account info is done.\n    storing data is done\n    progress... : 16 / 20 mid\n"
     ]
    },
    {
     "name": "stdout",
     "output_type": "stream",
     "text": [
      "    getting account_link is done.\n    getting feed info is done\n"
     ]
    },
    {
     "name": "stdout",
     "output_type": "stream",
     "text": [
      "    getting account html_soup is done.\n    getting account info is done.\n    storing data is done\n    progress... : 17 / 20 mid\n"
     ]
    },
    {
     "name": "stdout",
     "output_type": "stream",
     "text": [
      "    getting account_link is done.\n    getting feed info is done\n"
     ]
    },
    {
     "name": "stdout",
     "output_type": "stream",
     "text": [
      "    getting account html_soup is done.\n    getting account info is done.\n    storing data is done\n    progress... : 18 / 20 mid\n"
     ]
    },
    {
     "name": "stdout",
     "output_type": "stream",
     "text": [
      "    getting account_link is done.\n    getting feed info is done\n"
     ]
    },
    {
     "name": "stdout",
     "output_type": "stream",
     "text": [
      "    getting account html_soup is done.\n    getting account info is done.\n    storing data is done\n    progress... : 19 / 20 mid\n"
     ]
    },
    {
     "name": "stdout",
     "output_type": "stream",
     "text": [
      "    getting account_link is done.\n    getting feed info is done\n"
     ]
    },
    {
     "name": "stdout",
     "output_type": "stream",
     "text": [
      "    getting account html_soup is done.\n    getting account info is done.\n    storing data is done\nprogress... : 9 / 38 feed link\n"
     ]
    },
    {
     "name": "stdout",
     "output_type": "stream",
     "text": [
      "getting feed html_soup is done.\ngetting mid_list is done.\n20 mids are detected.\n    progress... : 0 / 20 mid\n"
     ]
    },
    {
     "name": "stdout",
     "output_type": "stream",
     "text": [
      "    getting account_link is done.\n    getting feed info is done\n"
     ]
    },
    {
     "name": "stdout",
     "output_type": "stream",
     "text": [
      "    getting account html_soup is done.\n    getting account info is done.\n    storing data is done\n    progress... : 1 / 20 mid\n"
     ]
    },
    {
     "name": "stdout",
     "output_type": "stream",
     "text": [
      "    getting account_link is done.\n    getting feed info is done\n"
     ]
    },
    {
     "name": "stdout",
     "output_type": "stream",
     "text": [
      "    getting account html_soup is done.\n    getting account info is done.\n    storing data is done\n    progress... : 2 / 20 mid\n"
     ]
    },
    {
     "name": "stdout",
     "output_type": "stream",
     "text": [
      "    getting account_link is done.\n    getting feed info is done\n"
     ]
    },
    {
     "name": "stdout",
     "output_type": "stream",
     "text": [
      "    getting account html_soup is done.\n    getting account info is done.\n    storing data is done\n    progress... : 3 / 20 mid\n"
     ]
    },
    {
     "name": "stdout",
     "output_type": "stream",
     "text": [
      "    getting account_link is done.\n    getting feed info is done\n"
     ]
    },
    {
     "name": "stdout",
     "output_type": "stream",
     "text": [
      "    getting account html_soup is done.\n    getting account info is done.\n    storing data is done\n    progress... : 4 / 20 mid\n"
     ]
    },
    {
     "name": "stdout",
     "output_type": "stream",
     "text": [
      "    getting account_link is done.\n    getting feed info is done\n"
     ]
    },
    {
     "name": "stdout",
     "output_type": "stream",
     "text": [
      "    getting account html_soup is done.\n    getting account info is done.\n    storing data is done\n    progress... : 5 / 20 mid\n"
     ]
    },
    {
     "name": "stdout",
     "output_type": "stream",
     "text": [
      "    getting account_link is done.\n    getting feed info is done\n"
     ]
    },
    {
     "name": "stdout",
     "output_type": "stream",
     "text": [
      "    getting account html_soup is done.\n    getting account info is done.\n    storing data is done\n    progress... : 6 / 20 mid\n"
     ]
    },
    {
     "name": "stdout",
     "output_type": "stream",
     "text": [
      "    getting account_link is done.\n    getting feed info is done\n"
     ]
    },
    {
     "name": "stdout",
     "output_type": "stream",
     "text": [
      "    getting account html_soup is done.\n    getting account info is done.\n    storing data is done\n    progress... : 7 / 20 mid\n"
     ]
    },
    {
     "name": "stdout",
     "output_type": "stream",
     "text": [
      "    getting account_link is done.\n    getting feed info is done\n"
     ]
    },
    {
     "name": "stdout",
     "output_type": "stream",
     "text": [
      "    getting account html_soup is done.\n    getting account info is done.\n    storing data is done\n    progress... : 8 / 20 mid\n"
     ]
    },
    {
     "name": "stdout",
     "output_type": "stream",
     "text": [
      "    getting account_link is done.\n    getting feed info is done\n"
     ]
    },
    {
     "name": "stdout",
     "output_type": "stream",
     "text": [
      "    getting account html_soup is done.\n    getting account info is done.\n"
     ]
    },
    {
     "name": "stdout",
     "output_type": "stream",
     "text": [
      "    storing data is done\n    progress... : 9 / 20 mid\n    getting account_link is done.\n    getting feed info is done\n"
     ]
    },
    {
     "name": "stdout",
     "output_type": "stream",
     "text": [
      "    getting account html_soup is done.\n    getting account info is done.\n    storing data is done\n    progress... : 10 / 20 mid\n"
     ]
    },
    {
     "name": "stdout",
     "output_type": "stream",
     "text": [
      "    getting account_link is done.\n    getting feed info is done\n"
     ]
    },
    {
     "name": "stdout",
     "output_type": "stream",
     "text": [
      "    getting account html_soup is done.\n    getting account info is done.\n    storing data is done\n    progress... : 11 / 20 mid\n"
     ]
    },
    {
     "name": "stdout",
     "output_type": "stream",
     "text": [
      "    getting account_link is done.\n    getting feed info is done\n"
     ]
    },
    {
     "name": "stdout",
     "output_type": "stream",
     "text": [
      "    getting account html_soup is done.\n    getting account info is done.\n    storing data is done\n    progress... : 12 / 20 mid\n"
     ]
    },
    {
     "name": "stdout",
     "output_type": "stream",
     "text": [
      "    getting account_link is done.\n    getting feed info is done\n"
     ]
    },
    {
     "name": "stdout",
     "output_type": "stream",
     "text": [
      "    getting account html_soup is done.\n    getting account info is done.\n    storing data is done\n    progress... : 13 / 20 mid\n"
     ]
    },
    {
     "name": "stdout",
     "output_type": "stream",
     "text": [
      "    getting account_link is done.\n    getting feed info is done\n"
     ]
    },
    {
     "name": "stdout",
     "output_type": "stream",
     "text": [
      "    getting account html_soup is done.\n    getting account info is done.\n    storing data is done\n    progress... : 14 / 20 mid\n"
     ]
    },
    {
     "name": "stdout",
     "output_type": "stream",
     "text": [
      "    getting account_link is done.\n    getting feed info is done\n"
     ]
    },
    {
     "name": "stdout",
     "output_type": "stream",
     "text": [
      "    getting account html_soup is done.\n"
     ]
    },
    {
     "name": "stdout",
     "output_type": "stream",
     "text": [
      "    getting account info is done.\n    storing data is done\n    progress... : 15 / 20 mid\n"
     ]
    },
    {
     "name": "stdout",
     "output_type": "stream",
     "text": [
      "    getting account_link is done.\n    getting feed info is done\n"
     ]
    },
    {
     "name": "stdout",
     "output_type": "stream",
     "text": [
      "    getting account html_soup is done.\n    getting account info is done.\n    storing data is done\n    progress... : 16 / 20 mid\n"
     ]
    },
    {
     "name": "stdout",
     "output_type": "stream",
     "text": [
      "    getting account_link is done.\n    getting feed info is done\n"
     ]
    },
    {
     "name": "stdout",
     "output_type": "stream",
     "text": [
      "    getting account html_soup is done.\n"
     ]
    },
    {
     "name": "stdout",
     "output_type": "stream",
     "text": [
      "    getting account info is done.\n    storing data is done\n    progress... : 17 / 20 mid\n"
     ]
    },
    {
     "name": "stdout",
     "output_type": "stream",
     "text": [
      "    getting account_link is done.\n    getting feed info is done\n"
     ]
    },
    {
     "name": "stdout",
     "output_type": "stream",
     "text": [
      "    getting account html_soup is done.\n    getting account info is done.\n    storing data is done\n    progress... : 18 / 20 mid\n"
     ]
    },
    {
     "name": "stdout",
     "output_type": "stream",
     "text": [
      "    getting account_link is done.\n    getting feed info is done\n"
     ]
    },
    {
     "name": "stdout",
     "output_type": "stream",
     "text": [
      "    getting account html_soup is done.\n    getting account info is done.\n    storing data is done\n    progress... : 19 / 20 mid\n"
     ]
    },
    {
     "name": "stdout",
     "output_type": "stream",
     "text": [
      "    getting account_link is done.\n    getting feed info is done\n"
     ]
    },
    {
     "name": "stdout",
     "output_type": "stream",
     "text": [
      "    getting account html_soup is done.\n    getting account info is done.\n    storing data is done\nprogress... : 10 / 38 feed link\n"
     ]
    },
    {
     "name": "stdout",
     "output_type": "stream",
     "text": [
      "getting feed html_soup is done.\ngetting mid_list is done.\n20 mids are detected.\n    progress... : 0 / 20 mid\n"
     ]
    },
    {
     "name": "stdout",
     "output_type": "stream",
     "text": [
      "    getting account_link is done.\n    getting feed info is done\n"
     ]
    },
    {
     "name": "stdout",
     "output_type": "stream",
     "text": [
      "    getting account html_soup is done.\n    getting account info is done.\n    storing data is done\n    progress... : 1 / 20 mid\n"
     ]
    },
    {
     "name": "stdout",
     "output_type": "stream",
     "text": [
      "    getting account_link is done.\n    getting feed info is done\n"
     ]
    },
    {
     "name": "stdout",
     "output_type": "stream",
     "text": [
      "    getting account html_soup is done.\n    getting account info is done.\n    storing data is done\n    progress... : 2 / 20 mid\n"
     ]
    },
    {
     "name": "stdout",
     "output_type": "stream",
     "text": [
      "    getting account_link is done.\n    getting feed info is done\n"
     ]
    },
    {
     "name": "stdout",
     "output_type": "stream",
     "text": [
      "    getting account html_soup is done.\n    getting account info is done.\n    storing data is done\n    progress... : 3 / 20 mid\n"
     ]
    },
    {
     "name": "stdout",
     "output_type": "stream",
     "text": [
      "    getting account_link is done.\n    getting feed info is done\n"
     ]
    },
    {
     "name": "stdout",
     "output_type": "stream",
     "text": [
      "    getting account html_soup is done.\n    getting account info is done.\n    storing data is done\n    progress... : 4 / 20 mid\n"
     ]
    },
    {
     "name": "stdout",
     "output_type": "stream",
     "text": [
      "    getting account_link is done.\n    getting feed info is done\n"
     ]
    },
    {
     "name": "stdout",
     "output_type": "stream",
     "text": [
      "    getting account html_soup is done.\n    getting account info is done.\n    storing data is done\n    progress... : 5 / 20 mid\n"
     ]
    },
    {
     "name": "stdout",
     "output_type": "stream",
     "text": [
      "    getting account_link is done.\n    getting feed info is done\n"
     ]
    },
    {
     "name": "stdout",
     "output_type": "stream",
     "text": [
      "    getting account html_soup is done.\n    getting account info is done.\n    storing data is done\n    progress... : 6 / 20 mid\n"
     ]
    },
    {
     "name": "stdout",
     "output_type": "stream",
     "text": [
      "    getting account_link is done.\n    getting feed info is done\n"
     ]
    },
    {
     "name": "stdout",
     "output_type": "stream",
     "text": [
      "    getting account html_soup is done.\n    getting account info is done.\n    storing data is done\n    progress... : 7 / 20 mid\n"
     ]
    },
    {
     "name": "stdout",
     "output_type": "stream",
     "text": [
      "    getting account_link is done.\n    getting feed info is done\n"
     ]
    },
    {
     "name": "stdout",
     "output_type": "stream",
     "text": [
      "    getting account html_soup is done.\n    getting account info is done.\n    storing data is done\n    progress... : 8 / 20 mid\n"
     ]
    },
    {
     "name": "stdout",
     "output_type": "stream",
     "text": [
      "    getting account_link is done.\n    getting feed info is done\n"
     ]
    },
    {
     "name": "stdout",
     "output_type": "stream",
     "text": [
      "    getting account html_soup is done.\n    getting account info is done.\n    storing data is done\n    progress... : 9 / 20 mid\n"
     ]
    },
    {
     "name": "stdout",
     "output_type": "stream",
     "text": [
      "    getting account_link is done.\n    getting feed info is done\n"
     ]
    },
    {
     "name": "stdout",
     "output_type": "stream",
     "text": [
      "    getting account html_soup is done.\n    getting account info is done.\n    storing data is done\n    progress... : 10 / 20 mid\n"
     ]
    },
    {
     "name": "stdout",
     "output_type": "stream",
     "text": [
      "    getting account_link is done.\n    getting feed info is done\n"
     ]
    },
    {
     "name": "stdout",
     "output_type": "stream",
     "text": [
      "    getting account html_soup is done.\n    getting account info is done.\n    storing data is done\n    progress... : 11 / 20 mid\n"
     ]
    },
    {
     "name": "stdout",
     "output_type": "stream",
     "text": [
      "    getting account_link is done.\n    getting feed info is done\n"
     ]
    },
    {
     "name": "stdout",
     "output_type": "stream",
     "text": [
      "    getting account html_soup is done.\n    getting account info is done.\n    storing data is done\n    progress... : 12 / 20 mid\n"
     ]
    },
    {
     "name": "stdout",
     "output_type": "stream",
     "text": [
      "    getting account_link is done.\n    getting feed info is done\n"
     ]
    },
    {
     "name": "stdout",
     "output_type": "stream",
     "text": [
      "    getting account html_soup is done.\n    getting account info is done.\n    storing data is done\n    progress... : 13 / 20 mid\n"
     ]
    },
    {
     "name": "stdout",
     "output_type": "stream",
     "text": [
      "    getting account_link is done.\n    getting feed info is done\n"
     ]
    },
    {
     "name": "stdout",
     "output_type": "stream",
     "text": [
      "    getting account html_soup is done.\n    getting account info is done.\n    storing data is done\n    progress... : 14 / 20 mid\n"
     ]
    },
    {
     "name": "stdout",
     "output_type": "stream",
     "text": [
      "    getting account_link is done.\n    getting feed info is done\n"
     ]
    },
    {
     "name": "stdout",
     "output_type": "stream",
     "text": [
      "    getting account html_soup is done.\n    getting account info is done.\n    storing data is done\n    progress... : 15 / 20 mid\n"
     ]
    },
    {
     "name": "stdout",
     "output_type": "stream",
     "text": [
      "    getting account_link is done.\n    getting feed info is done\n"
     ]
    },
    {
     "name": "stdout",
     "output_type": "stream",
     "text": [
      "    getting account html_soup is done.\n    getting account info is done.\n    storing data is done\n    progress... : 16 / 20 mid\n"
     ]
    },
    {
     "name": "stdout",
     "output_type": "stream",
     "text": [
      "    getting account_link is done.\n    getting feed info is done\n"
     ]
    },
    {
     "name": "stdout",
     "output_type": "stream",
     "text": [
      "    getting account html_soup is done.\n    getting account info is done.\n    storing data is done\n    progress... : 17 / 20 mid\n"
     ]
    },
    {
     "name": "stdout",
     "output_type": "stream",
     "text": [
      "    getting account_link is done.\n    getting feed info is done\n"
     ]
    },
    {
     "name": "stdout",
     "output_type": "stream",
     "text": [
      "    getting account html_soup is done.\n    getting account info is done.\n    storing data is done\n    progress... : 18 / 20 mid\n"
     ]
    },
    {
     "name": "stdout",
     "output_type": "stream",
     "text": [
      "    getting account_link is done.\n    getting feed info is done\n"
     ]
    },
    {
     "name": "stdout",
     "output_type": "stream",
     "text": [
      "    getting account html_soup is done.\n    getting account info is done.\n    storing data is done\n    progress... : 19 / 20 mid\n"
     ]
    },
    {
     "name": "stdout",
     "output_type": "stream",
     "text": [
      "    getting account_link is done.\n    getting feed info is done\n"
     ]
    },
    {
     "name": "stdout",
     "output_type": "stream",
     "text": [
      "    getting account html_soup is done.\n    getting account info is done.\n    storing data is done\nprogress... : 11 / 38 feed link\n"
     ]
    },
    {
     "name": "stdout",
     "output_type": "stream",
     "text": [
      "getting feed html_soup is done.\ngetting mid_list is done.\n20 mids are detected.\n    progress... : 0 / 20 mid\n"
     ]
    },
    {
     "name": "stdout",
     "output_type": "stream",
     "text": [
      "    getting account_link is done.\n    getting feed info is done\n"
     ]
    },
    {
     "name": "stdout",
     "output_type": "stream",
     "text": [
      "    getting account html_soup is done.\n    getting account info is done.\n    storing data is done\n    progress... : 1 / 20 mid\n"
     ]
    },
    {
     "name": "stdout",
     "output_type": "stream",
     "text": [
      "    getting account_link is done.\n    getting feed info is done\n"
     ]
    },
    {
     "name": "stdout",
     "output_type": "stream",
     "text": [
      "    getting account html_soup is done.\n    getting account info is done.\n    storing data is done\n    progress... : 2 / 20 mid\n"
     ]
    },
    {
     "name": "stdout",
     "output_type": "stream",
     "text": [
      "    getting account_link is done.\n    getting feed info is done\n"
     ]
    },
    {
     "name": "stdout",
     "output_type": "stream",
     "text": [
      "    getting account html_soup is done.\n    getting account info is done.\n    storing data is done\n    progress... : 3 / 20 mid\n"
     ]
    },
    {
     "name": "stdout",
     "output_type": "stream",
     "text": [
      "    getting account_link is done.\n    getting feed info is done\n"
     ]
    },
    {
     "name": "stdout",
     "output_type": "stream",
     "text": [
      "    getting account html_soup is done.\n    getting account info is done.\n    storing data is done\n    progress... : 4 / 20 mid\n"
     ]
    },
    {
     "name": "stdout",
     "output_type": "stream",
     "text": [
      "    getting account_link is done.\n    getting feed info is done\n"
     ]
    },
    {
     "name": "stdout",
     "output_type": "stream",
     "text": [
      "    getting account html_soup is done.\n    getting account info is done.\n    storing data is done\n    progress... : 5 / 20 mid\n"
     ]
    },
    {
     "name": "stdout",
     "output_type": "stream",
     "text": [
      "    getting account_link is done.\n    getting feed info is done\n"
     ]
    },
    {
     "name": "stdout",
     "output_type": "stream",
     "text": [
      "    getting account html_soup is done.\n    getting account info is done.\n    storing data is done\n    progress... : 6 / 20 mid\n"
     ]
    },
    {
     "name": "stdout",
     "output_type": "stream",
     "text": [
      "    getting account_link is done.\n    getting feed info is done\n"
     ]
    },
    {
     "name": "stdout",
     "output_type": "stream",
     "text": [
      "    getting account html_soup is done.\n    getting account info is done.\n    storing data is done\n    progress... : 7 / 20 mid\n"
     ]
    },
    {
     "name": "stdout",
     "output_type": "stream",
     "text": [
      "    getting account_link is done.\n    getting feed info is done\n"
     ]
    },
    {
     "name": "stdout",
     "output_type": "stream",
     "text": [
      "    getting account html_soup is done.\n    getting account info is done.\n    storing data is done\n    progress... : 8 / 20 mid\n"
     ]
    },
    {
     "name": "stdout",
     "output_type": "stream",
     "text": [
      "    getting account_link is done.\n    getting feed info is done\n"
     ]
    },
    {
     "name": "stdout",
     "output_type": "stream",
     "text": [
      "    getting account html_soup is done.\n    getting account info is done.\n    storing data is done\n    progress... : 9 / 20 mid\n"
     ]
    },
    {
     "name": "stdout",
     "output_type": "stream",
     "text": [
      "    getting account_link is done.\n    getting feed info is done\n"
     ]
    },
    {
     "name": "stdout",
     "output_type": "stream",
     "text": [
      "    getting account html_soup is done.\n    getting account info is done.\n    storing data is done\n    progress... : 10 / 20 mid\n"
     ]
    },
    {
     "name": "stdout",
     "output_type": "stream",
     "text": [
      "    getting account_link is done.\n    getting feed info is done\n"
     ]
    },
    {
     "name": "stdout",
     "output_type": "stream",
     "text": [
      "    getting account html_soup is done.\n"
     ]
    },
    {
     "name": "stdout",
     "output_type": "stream",
     "text": [
      "    getting account info is done.\n    storing data is done\n    progress... : 11 / 20 mid\n"
     ]
    },
    {
     "name": "stdout",
     "output_type": "stream",
     "text": [
      "    getting account_link is done.\n    getting feed info is done\n"
     ]
    },
    {
     "name": "stdout",
     "output_type": "stream",
     "text": [
      "    getting account html_soup is done.\n    getting account info is done.\n    storing data is done\n    progress... : 12 / 20 mid\n"
     ]
    },
    {
     "name": "stdout",
     "output_type": "stream",
     "text": [
      "    getting account_link is done.\n    getting feed info is done\n"
     ]
    },
    {
     "name": "stdout",
     "output_type": "stream",
     "text": [
      "    getting account html_soup is done.\n    getting account info is done.\n    storing data is done\n    progress... : 13 / 20 mid\n"
     ]
    },
    {
     "name": "stdout",
     "output_type": "stream",
     "text": [
      "    getting account_link is done.\n    getting feed info is done\n"
     ]
    },
    {
     "name": "stdout",
     "output_type": "stream",
     "text": [
      "    getting account html_soup is done.\n    getting account info is done.\n    storing data is done\n    progress... : 14 / 20 mid\n"
     ]
    },
    {
     "name": "stdout",
     "output_type": "stream",
     "text": [
      "    getting account_link is done.\n    getting feed info is done\n"
     ]
    },
    {
     "name": "stdout",
     "output_type": "stream",
     "text": [
      "    getting account html_soup is done.\n    getting account info is done.\n    storing data is done\n    progress... : 15 / 20 mid\n"
     ]
    },
    {
     "name": "stdout",
     "output_type": "stream",
     "text": [
      "    getting account_link is done.\n    getting feed info is done\n"
     ]
    },
    {
     "name": "stdout",
     "output_type": "stream",
     "text": [
      "    getting account html_soup is done.\n    getting account info is done.\n    storing data is done\n    progress... : 16 / 20 mid\n"
     ]
    },
    {
     "name": "stdout",
     "output_type": "stream",
     "text": [
      "    getting account_link is done.\n    getting feed info is done\n"
     ]
    },
    {
     "name": "stdout",
     "output_type": "stream",
     "text": [
      "    getting account html_soup is done.\n    getting account info is done.\n    storing data is done\n    progress... : 17 / 20 mid\n"
     ]
    },
    {
     "name": "stdout",
     "output_type": "stream",
     "text": [
      "    getting account_link is done.\n    getting feed info is done\n"
     ]
    },
    {
     "name": "stdout",
     "output_type": "stream",
     "text": [
      "    getting account html_soup is done.\n    getting account info is done.\n    storing data is done\n    progress... : 18 / 20 mid\n"
     ]
    },
    {
     "name": "stdout",
     "output_type": "stream",
     "text": [
      "    getting account_link is done.\n    getting feed info is done\n"
     ]
    },
    {
     "name": "stdout",
     "output_type": "stream",
     "text": [
      "    getting account html_soup is done.\n    getting account info is done.\n    storing data is done\n    progress... : 19 / 20 mid\n"
     ]
    },
    {
     "name": "stdout",
     "output_type": "stream",
     "text": [
      "    getting account_link is done.\n    getting feed info is done\n"
     ]
    },
    {
     "name": "stdout",
     "output_type": "stream",
     "text": [
      "    getting account html_soup is done.\n    getting account info is done.\n    storing data is done\nprogress... : 12 / 38 feed link\n"
     ]
    },
    {
     "name": "stdout",
     "output_type": "stream",
     "text": [
      "getting feed html_soup is done.\ngetting mid_list is done.\n20 mids are detected.\n    progress... : 0 / 20 mid\n"
     ]
    },
    {
     "name": "stdout",
     "output_type": "stream",
     "text": [
      "    getting account_link is done.\n    getting feed info is done\n"
     ]
    },
    {
     "name": "stdout",
     "output_type": "stream",
     "text": [
      "    getting account html_soup is done.\n    getting account info is done.\n    storing data is done\n    progress... : 1 / 20 mid\n"
     ]
    },
    {
     "name": "stdout",
     "output_type": "stream",
     "text": [
      "    getting account_link is done.\n    getting feed info is done\n"
     ]
    },
    {
     "name": "stdout",
     "output_type": "stream",
     "text": [
      "    getting account html_soup is done.\n    getting account info is done.\n    storing data is done\n    progress... : 2 / 20 mid\n"
     ]
    },
    {
     "name": "stdout",
     "output_type": "stream",
     "text": [
      "    getting account_link is done.\n    getting feed info is done\n"
     ]
    },
    {
     "name": "stdout",
     "output_type": "stream",
     "text": [
      "    getting account html_soup is done.\n    getting account info is done.\n    storing data is done\n    progress... : 3 / 20 mid\n"
     ]
    },
    {
     "name": "stdout",
     "output_type": "stream",
     "text": [
      "    getting account_link is done.\n    getting feed info is done\n"
     ]
    },
    {
     "name": "stdout",
     "output_type": "stream",
     "text": [
      "    getting account html_soup is done.\n    getting account info is done.\n    storing data is done\n    progress... : 4 / 20 mid\n"
     ]
    },
    {
     "name": "stdout",
     "output_type": "stream",
     "text": [
      "    getting account_link is done.\n    getting feed info is done\n"
     ]
    },
    {
     "name": "stdout",
     "output_type": "stream",
     "text": [
      "    getting account html_soup is done.\n    getting account info is done.\n    storing data is done\n    progress... : 5 / 20 mid\n"
     ]
    },
    {
     "name": "stdout",
     "output_type": "stream",
     "text": [
      "    getting account_link is done.\n    getting feed info is done\n"
     ]
    },
    {
     "name": "stdout",
     "output_type": "stream",
     "text": [
      "    getting account html_soup is done.\n    getting account info is done.\n    storing data is done\n    progress... : 6 / 20 mid\n"
     ]
    },
    {
     "name": "stdout",
     "output_type": "stream",
     "text": [
      "    getting account_link is done.\n    getting feed info is done\n"
     ]
    },
    {
     "name": "stdout",
     "output_type": "stream",
     "text": [
      "    getting account html_soup is done.\n    getting account info is done.\n    storing data is done\n    progress... : 7 / 20 mid\n"
     ]
    },
    {
     "name": "stdout",
     "output_type": "stream",
     "text": [
      "    getting account_link is done.\n    getting feed info is done\n"
     ]
    },
    {
     "name": "stdout",
     "output_type": "stream",
     "text": [
      "    getting account html_soup is done.\n    getting account info is done.\n    storing data is done\n    progress... : 8 / 20 mid\n"
     ]
    },
    {
     "name": "stdout",
     "output_type": "stream",
     "text": [
      "    getting account_link is done.\n    getting feed info is done\n"
     ]
    },
    {
     "name": "stdout",
     "output_type": "stream",
     "text": [
      "    getting account html_soup is done.\n    getting account info is done.\n    storing data is done\n    progress... : 9 / 20 mid\n"
     ]
    },
    {
     "name": "stdout",
     "output_type": "stream",
     "text": [
      "    getting account_link is done.\n    getting feed info is done\n"
     ]
    },
    {
     "name": "stdout",
     "output_type": "stream",
     "text": [
      "    getting account html_soup is done.\n    getting account info is done.\n    storing data is done\n    progress... : 10 / 20 mid\n"
     ]
    },
    {
     "name": "stdout",
     "output_type": "stream",
     "text": [
      "    getting account_link is done.\n    getting feed info is done\n"
     ]
    },
    {
     "name": "stdout",
     "output_type": "stream",
     "text": [
      "    getting account html_soup is done.\n"
     ]
    },
    {
     "name": "stdout",
     "output_type": "stream",
     "text": [
      "    getting account info is done.\n    storing data is done\n    progress... : 11 / 20 mid\n"
     ]
    },
    {
     "name": "stdout",
     "output_type": "stream",
     "text": [
      "    getting account_link is done.\n    getting feed info is done\n"
     ]
    },
    {
     "name": "stdout",
     "output_type": "stream",
     "text": [
      "    getting account html_soup is done.\n    getting account info is done.\n    storing data is done\n    progress... : 12 / 20 mid\n"
     ]
    },
    {
     "name": "stdout",
     "output_type": "stream",
     "text": [
      "    getting account_link is done.\n    getting feed info is done\n"
     ]
    },
    {
     "name": "stdout",
     "output_type": "stream",
     "text": [
      "    getting account html_soup is done.\n    getting account info is done.\n    storing data is done\n    progress... : 13 / 20 mid\n"
     ]
    },
    {
     "name": "stdout",
     "output_type": "stream",
     "text": [
      "    getting account_link is done.\n    getting feed info is done\n"
     ]
    },
    {
     "name": "stdout",
     "output_type": "stream",
     "text": [
      "    getting account html_soup is done.\n    getting account info is done.\n    storing data is done\n    progress... : 14 / 20 mid\n"
     ]
    },
    {
     "name": "stdout",
     "output_type": "stream",
     "text": [
      "    getting account_link is done.\n    getting feed info is done\n"
     ]
    },
    {
     "name": "stdout",
     "output_type": "stream",
     "text": [
      "    getting account html_soup is done.\n    getting account info is done.\n    storing data is done\n    progress... : 15 / 20 mid\n"
     ]
    },
    {
     "name": "stdout",
     "output_type": "stream",
     "text": [
      "    getting account_link is done.\n    getting feed info is done\n"
     ]
    },
    {
     "name": "stdout",
     "output_type": "stream",
     "text": [
      "    getting account html_soup is done.\n    getting account info is done.\n    storing data is done\n    progress... : 16 / 20 mid\n"
     ]
    },
    {
     "name": "stdout",
     "output_type": "stream",
     "text": [
      "    getting account_link is done.\n    getting feed info is done\n"
     ]
    },
    {
     "name": "stdout",
     "output_type": "stream",
     "text": [
      "    getting account html_soup is done.\n    getting account info is done.\n    storing data is done\n    progress... : 17 / 20 mid\n"
     ]
    },
    {
     "name": "stdout",
     "output_type": "stream",
     "text": [
      "    getting account_link is done.\n    getting feed info is done\n"
     ]
    },
    {
     "name": "stdout",
     "output_type": "stream",
     "text": [
      "    getting account html_soup is done.\n    getting account info is done.\n    storing data is done\n    progress... : 18 / 20 mid\n"
     ]
    },
    {
     "name": "stdout",
     "output_type": "stream",
     "text": [
      "    getting account_link is done.\n    getting feed info is done\n"
     ]
    },
    {
     "name": "stdout",
     "output_type": "stream",
     "text": [
      "    getting account html_soup is done.\n    getting account info is done.\n    storing data is done\n    progress... : 19 / 20 mid\n"
     ]
    },
    {
     "name": "stdout",
     "output_type": "stream",
     "text": [
      "    getting account_link is done.\n    getting feed info is done\n"
     ]
    },
    {
     "name": "stdout",
     "output_type": "stream",
     "text": [
      "    getting account html_soup is done.\n    getting account info is done.\n    storing data is done\nprogress... : 13 / 38 feed link\n"
     ]
    },
    {
     "name": "stdout",
     "output_type": "stream",
     "text": [
      "getting feed html_soup is done.\ngetting mid_list is done.\n20 mids are detected.\n    progress... : 0 / 20 mid\n"
     ]
    },
    {
     "name": "stdout",
     "output_type": "stream",
     "text": [
      "    getting account_link is done.\n    getting feed info is done\n"
     ]
    },
    {
     "name": "stdout",
     "output_type": "stream",
     "text": [
      "    getting account html_soup is done.\n    getting account info is done.\n    storing data is done\n    progress... : 1 / 20 mid\n"
     ]
    },
    {
     "name": "stdout",
     "output_type": "stream",
     "text": [
      "    getting account_link is done.\n    getting feed info is done\n"
     ]
    },
    {
     "name": "stdout",
     "output_type": "stream",
     "text": [
      "    getting account html_soup is done.\n    getting account info is done.\n    storing data is done\n    progress... : 2 / 20 mid\n"
     ]
    },
    {
     "name": "stdout",
     "output_type": "stream",
     "text": [
      "    getting account_link is done.\n    getting feed info is done\n"
     ]
    },
    {
     "name": "stdout",
     "output_type": "stream",
     "text": [
      "    getting account html_soup is done.\n    getting account info is done.\n    storing data is done\n    progress... : 3 / 20 mid\n"
     ]
    },
    {
     "name": "stdout",
     "output_type": "stream",
     "text": [
      "    getting account_link is done.\n    getting feed info is done\n"
     ]
    },
    {
     "name": "stdout",
     "output_type": "stream",
     "text": [
      "    getting account html_soup is done.\n    getting account info is done.\n    storing data is done\n    progress... : 4 / 20 mid\n"
     ]
    },
    {
     "name": "stdout",
     "output_type": "stream",
     "text": [
      "    getting account_link is done.\n    getting feed info is done\n"
     ]
    },
    {
     "name": "stdout",
     "output_type": "stream",
     "text": [
      "    getting account html_soup is done.\n    getting account info is done.\n    storing data is done\n    progress... : 5 / 20 mid\n"
     ]
    },
    {
     "name": "stdout",
     "output_type": "stream",
     "text": [
      "    getting account_link is done.\n    getting feed info is done\n"
     ]
    },
    {
     "name": "stdout",
     "output_type": "stream",
     "text": [
      "    getting account html_soup is done.\n    getting account info is done.\n    storing data is done\n    progress... : 6 / 20 mid\n"
     ]
    },
    {
     "name": "stdout",
     "output_type": "stream",
     "text": [
      "    getting account_link is done.\n    getting feed info is done\n"
     ]
    },
    {
     "name": "stdout",
     "output_type": "stream",
     "text": [
      "    getting account html_soup is done.\n    getting account info is done.\n    storing data is done\n    progress... : 7 / 20 mid\n"
     ]
    },
    {
     "name": "stdout",
     "output_type": "stream",
     "text": [
      "    getting account_link is done.\n    getting feed info is done\n"
     ]
    },
    {
     "name": "stdout",
     "output_type": "stream",
     "text": [
      "    getting account html_soup is done.\n    getting account info is done.\n    storing data is done\n    progress... : 8 / 20 mid\n"
     ]
    },
    {
     "name": "stdout",
     "output_type": "stream",
     "text": [
      "    getting account_link is done.\n    getting feed info is done\n"
     ]
    },
    {
     "name": "stdout",
     "output_type": "stream",
     "text": [
      "    getting account html_soup is done.\n    getting account info is done.\n    storing data is done\n    progress... : 9 / 20 mid\n"
     ]
    },
    {
     "name": "stdout",
     "output_type": "stream",
     "text": [
      "    getting account_link is done.\n    getting feed info is done\n"
     ]
    },
    {
     "name": "stdout",
     "output_type": "stream",
     "text": [
      "    getting account html_soup is done.\n    getting account info is done.\n    storing data is done\n    progress... : 10 / 20 mid\n"
     ]
    },
    {
     "name": "stdout",
     "output_type": "stream",
     "text": [
      "    getting account_link is done.\n    getting feed info is done\n"
     ]
    },
    {
     "name": "stdout",
     "output_type": "stream",
     "text": [
      "    getting account html_soup is done.\n    getting account info is done.\n    storing data is done\n    progress... : 11 / 20 mid\n"
     ]
    },
    {
     "name": "stdout",
     "output_type": "stream",
     "text": [
      "    getting account_link is done.\n    getting feed info is done\n"
     ]
    },
    {
     "name": "stdout",
     "output_type": "stream",
     "text": [
      "    getting account html_soup is done.\n    getting account info is done.\n    storing data is done\n    progress... : 12 / 20 mid\n"
     ]
    },
    {
     "name": "stdout",
     "output_type": "stream",
     "text": [
      "    getting account_link is done.\n    getting feed info is done\n"
     ]
    },
    {
     "name": "stdout",
     "output_type": "stream",
     "text": [
      "    getting account html_soup is done.\n    getting account info is done.\n    storing data is done\n    progress... : 13 / 20 mid\n"
     ]
    },
    {
     "name": "stdout",
     "output_type": "stream",
     "text": [
      "    getting account_link is done.\n    getting feed info is done\n"
     ]
    },
    {
     "name": "stdout",
     "output_type": "stream",
     "text": [
      "    getting account html_soup is done.\n    getting account info is done.\n    storing data is done\n    progress... : 14 / 20 mid\n"
     ]
    },
    {
     "name": "stdout",
     "output_type": "stream",
     "text": [
      "    getting account_link is done.\n    getting feed info is done\n"
     ]
    },
    {
     "name": "stdout",
     "output_type": "stream",
     "text": [
      "    getting account html_soup is done.\n    getting account info is done.\n    storing data is done\n    progress... : 15 / 20 mid\n"
     ]
    },
    {
     "name": "stdout",
     "output_type": "stream",
     "text": [
      "    getting account_link is done.\n    getting feed info is done\n"
     ]
    },
    {
     "name": "stdout",
     "output_type": "stream",
     "text": [
      "    getting account html_soup is done.\n    getting account info is done.\n    storing data is done\n    progress... : 16 / 20 mid\n"
     ]
    },
    {
     "name": "stdout",
     "output_type": "stream",
     "text": [
      "    getting account_link is done.\n    getting feed info is done\n"
     ]
    },
    {
     "name": "stdout",
     "output_type": "stream",
     "text": [
      "    getting account html_soup is done.\n    getting account info is done.\n    storing data is done\n    progress... : 17 / 20 mid\n"
     ]
    },
    {
     "name": "stdout",
     "output_type": "stream",
     "text": [
      "    getting account_link is done.\n    getting feed info is done\n"
     ]
    },
    {
     "name": "stdout",
     "output_type": "stream",
     "text": [
      "    getting account html_soup is done.\n    getting account info is done.\n    storing data is done\n    progress... : 18 / 20 mid\n"
     ]
    },
    {
     "name": "stdout",
     "output_type": "stream",
     "text": [
      "    getting account_link is done.\n    getting feed info is done\n"
     ]
    },
    {
     "name": "stdout",
     "output_type": "stream",
     "text": [
      "    getting account html_soup is done.\n    getting account info is done.\n    storing data is done\n    progress... : 19 / 20 mid\n"
     ]
    },
    {
     "name": "stdout",
     "output_type": "stream",
     "text": [
      "    getting account_link is done.\n    getting feed info is done\n"
     ]
    },
    {
     "name": "stdout",
     "output_type": "stream",
     "text": [
      "    getting account html_soup is done.\n    getting account info is done.\n    storing data is done\nprogress... : 14 / 38 feed link\n"
     ]
    },
    {
     "name": "stdout",
     "output_type": "stream",
     "text": [
      "getting feed html_soup is done.\ngetting mid_list is done.\n20 mids are detected.\n    progress... : 0 / 20 mid\n"
     ]
    },
    {
     "name": "stdout",
     "output_type": "stream",
     "text": [
      "    getting account_link is done.\n    getting feed info is done\n"
     ]
    },
    {
     "name": "stdout",
     "output_type": "stream",
     "text": [
      "    getting account html_soup is done.\n    getting account info is done.\n    storing data is done\n    progress... : 1 / 20 mid\n"
     ]
    },
    {
     "name": "stdout",
     "output_type": "stream",
     "text": [
      "    getting account_link is done.\n    getting feed info is done\n"
     ]
    },
    {
     "name": "stdout",
     "output_type": "stream",
     "text": [
      "    getting account html_soup is done.\n    getting account info is done.\n    storing data is done\n    progress... : 2 / 20 mid\n"
     ]
    },
    {
     "name": "stdout",
     "output_type": "stream",
     "text": [
      "    getting account_link is done.\n    getting feed info is done\n"
     ]
    },
    {
     "name": "stdout",
     "output_type": "stream",
     "text": [
      "    getting account html_soup is done.\n    getting account info is done.\n    storing data is done\n    progress... : 3 / 20 mid\n"
     ]
    },
    {
     "name": "stdout",
     "output_type": "stream",
     "text": [
      "    getting account_link is done.\n    getting feed info is done\n"
     ]
    },
    {
     "name": "stdout",
     "output_type": "stream",
     "text": [
      "    getting account html_soup is done.\n    getting account info is done.\n    storing data is done\n    progress... : 4 / 20 mid\n"
     ]
    },
    {
     "name": "stdout",
     "output_type": "stream",
     "text": [
      "    getting account_link is done.\n    getting feed info is done\n"
     ]
    },
    {
     "name": "stdout",
     "output_type": "stream",
     "text": [
      "    getting account html_soup is done.\n    getting account info is done.\n    storing data is done\n    progress... : 5 / 20 mid\n"
     ]
    },
    {
     "name": "stdout",
     "output_type": "stream",
     "text": [
      "    getting account_link is done.\n    getting feed info is done\n"
     ]
    },
    {
     "name": "stdout",
     "output_type": "stream",
     "text": [
      "    getting account html_soup is done.\n    getting account info is done.\n    storing data is done\n    progress... : 6 / 20 mid\n"
     ]
    },
    {
     "name": "stdout",
     "output_type": "stream",
     "text": [
      "    getting account_link is done.\n    getting feed info is done\n"
     ]
    },
    {
     "name": "stdout",
     "output_type": "stream",
     "text": [
      "    getting account html_soup is done.\n    getting account info is done.\n    storing data is done\n    progress... : 7 / 20 mid\n"
     ]
    },
    {
     "name": "stdout",
     "output_type": "stream",
     "text": [
      "    getting account_link is done.\n    getting feed info is done\n"
     ]
    },
    {
     "name": "stdout",
     "output_type": "stream",
     "text": [
      "    getting account html_soup is done.\n    getting account info is done.\n    storing data is done\n    progress... : 8 / 20 mid\n"
     ]
    },
    {
     "name": "stdout",
     "output_type": "stream",
     "text": [
      "    getting account_link is done.\n    getting feed info is done\n"
     ]
    },
    {
     "name": "stdout",
     "output_type": "stream",
     "text": [
      "    getting account html_soup is done.\n    getting account info is done.\n    storing data is done\n    progress... : 9 / 20 mid\n"
     ]
    },
    {
     "name": "stdout",
     "output_type": "stream",
     "text": [
      "    getting account_link is done.\n    getting feed info is done\n"
     ]
    },
    {
     "name": "stdout",
     "output_type": "stream",
     "text": [
      "    getting account html_soup is done.\n    getting account info is done.\n    storing data is done\n    progress... : 10 / 20 mid\n"
     ]
    },
    {
     "name": "stdout",
     "output_type": "stream",
     "text": [
      "    getting account_link is done.\n    getting feed info is done\n"
     ]
    },
    {
     "name": "stdout",
     "output_type": "stream",
     "text": [
      "    getting account html_soup is done.\n    getting account info is done.\n    storing data is done\n    progress... : 11 / 20 mid\n"
     ]
    },
    {
     "name": "stdout",
     "output_type": "stream",
     "text": [
      "    getting account_link is done.\n    getting feed info is done\n"
     ]
    },
    {
     "name": "stdout",
     "output_type": "stream",
     "text": [
      "    getting account html_soup is done.\n    getting account info is done.\n    storing data is done\n    progress... : 12 / 20 mid\n"
     ]
    },
    {
     "name": "stdout",
     "output_type": "stream",
     "text": [
      "    getting account_link is done.\n    getting feed info is done\n"
     ]
    },
    {
     "name": "stdout",
     "output_type": "stream",
     "text": [
      "    getting account html_soup is done.\n    getting account info is done.\n    storing data is done\n    progress... : 13 / 20 mid\n"
     ]
    },
    {
     "name": "stdout",
     "output_type": "stream",
     "text": [
      "    getting account_link is done.\n    getting feed info is done\n"
     ]
    },
    {
     "name": "stdout",
     "output_type": "stream",
     "text": [
      "    getting account html_soup is done.\n    getting account info is done.\n    storing data is done\n    progress... : 14 / 20 mid\n"
     ]
    },
    {
     "name": "stdout",
     "output_type": "stream",
     "text": [
      "    getting account_link is done.\n    getting feed info is done\n"
     ]
    },
    {
     "name": "stdout",
     "output_type": "stream",
     "text": [
      "    getting account html_soup is done.\n    getting account info is done.\n    storing data is done\n    progress... : 15 / 20 mid\n"
     ]
    },
    {
     "name": "stdout",
     "output_type": "stream",
     "text": [
      "    getting account_link is done.\n    getting feed info is done\n"
     ]
    },
    {
     "name": "stdout",
     "output_type": "stream",
     "text": [
      "    getting account html_soup is done.\n    getting account info is done.\n    storing data is done\n    progress... : 16 / 20 mid\n"
     ]
    },
    {
     "name": "stdout",
     "output_type": "stream",
     "text": [
      "    getting account_link is done.\n    getting feed info is done\n"
     ]
    },
    {
     "name": "stdout",
     "output_type": "stream",
     "text": [
      "    getting account html_soup is done.\n    getting account info is done.\n    storing data is done\n    progress... : 17 / 20 mid\n"
     ]
    },
    {
     "name": "stdout",
     "output_type": "stream",
     "text": [
      "    getting account_link is done.\n    getting feed info is done\n"
     ]
    },
    {
     "name": "stdout",
     "output_type": "stream",
     "text": [
      "    getting account html_soup is done.\n    getting account info is done.\n    storing data is done\n    progress... : 18 / 20 mid\n"
     ]
    },
    {
     "name": "stdout",
     "output_type": "stream",
     "text": [
      "    getting account_link is done.\n    getting feed info is done\n"
     ]
    },
    {
     "name": "stdout",
     "output_type": "stream",
     "text": [
      "    getting account html_soup is done.\n    getting account info is done.\n    storing data is done\n    progress... : 19 / 20 mid\n"
     ]
    },
    {
     "name": "stdout",
     "output_type": "stream",
     "text": [
      "    getting account_link is done.\n    getting feed info is done\n"
     ]
    },
    {
     "name": "stdout",
     "output_type": "stream",
     "text": [
      "    getting account html_soup is done.\n    getting account info is done.\n    storing data is done\nprogress... : 15 / 38 feed link\n"
     ]
    },
    {
     "name": "stdout",
     "output_type": "stream",
     "text": [
      "getting feed html_soup is done.\ngetting mid_list is done.\n20 mids are detected.\n    progress... : 0 / 20 mid\n"
     ]
    },
    {
     "name": "stdout",
     "output_type": "stream",
     "text": [
      "    getting account_link is done.\n    getting feed info is done\n"
     ]
    },
    {
     "name": "stdout",
     "output_type": "stream",
     "text": [
      "    getting account html_soup is done.\n    getting account info is done.\n    storing data is done\n    progress... : 1 / 20 mid\n"
     ]
    },
    {
     "name": "stdout",
     "output_type": "stream",
     "text": [
      "    getting account_link is done.\n    getting feed info is done\n"
     ]
    },
    {
     "name": "stdout",
     "output_type": "stream",
     "text": [
      "    getting account html_soup is done.\n    getting account info is done.\n    storing data is done\n    progress... : 2 / 20 mid\n"
     ]
    },
    {
     "name": "stdout",
     "output_type": "stream",
     "text": [
      "    getting account_link is done.\n    getting feed info is done\n"
     ]
    },
    {
     "name": "stdout",
     "output_type": "stream",
     "text": [
      "    getting account html_soup is done.\n    getting account info is done.\n    storing data is done\n    progress... : 3 / 20 mid\n"
     ]
    },
    {
     "name": "stdout",
     "output_type": "stream",
     "text": [
      "    getting account_link is done.\n    getting feed info is done\n"
     ]
    },
    {
     "name": "stdout",
     "output_type": "stream",
     "text": [
      "    getting account html_soup is done.\n    getting account info is done.\n    storing data is done\n    progress... : 4 / 20 mid\n"
     ]
    },
    {
     "name": "stdout",
     "output_type": "stream",
     "text": [
      "    getting account_link is done.\n    getting feed info is done\n"
     ]
    },
    {
     "name": "stdout",
     "output_type": "stream",
     "text": [
      "    getting account html_soup is done.\n    getting account info is done.\n    storing data is done\n    progress... : 5 / 20 mid\n"
     ]
    },
    {
     "name": "stdout",
     "output_type": "stream",
     "text": [
      "    getting account_link is done.\n    getting feed info is done\n"
     ]
    },
    {
     "name": "stdout",
     "output_type": "stream",
     "text": [
      "    getting account html_soup is done.\n    getting account info is done.\n    storing data is done\n    progress... : 6 / 20 mid\n"
     ]
    },
    {
     "name": "stdout",
     "output_type": "stream",
     "text": [
      "    getting account_link is done.\n    getting feed info is done\n"
     ]
    },
    {
     "name": "stdout",
     "output_type": "stream",
     "text": [
      "    getting account html_soup is done.\n    getting account info is done.\n    storing data is done\n    progress... : 7 / 20 mid\n"
     ]
    },
    {
     "name": "stdout",
     "output_type": "stream",
     "text": [
      "    getting account_link is done.\n    getting feed info is done\n"
     ]
    },
    {
     "name": "stdout",
     "output_type": "stream",
     "text": [
      "    getting account html_soup is done.\n    getting account info is done.\n    storing data is done\n    progress... : 8 / 20 mid\n"
     ]
    },
    {
     "name": "stdout",
     "output_type": "stream",
     "text": [
      "    getting account_link is done.\n    getting feed info is done\n"
     ]
    },
    {
     "name": "stdout",
     "output_type": "stream",
     "text": [
      "    getting account html_soup is done.\n    getting account info is done.\n    storing data is done\n    progress... : 9 / 20 mid\n"
     ]
    },
    {
     "name": "stdout",
     "output_type": "stream",
     "text": [
      "    getting account_link is done.\n    getting feed info is done\n"
     ]
    },
    {
     "name": "stdout",
     "output_type": "stream",
     "text": [
      "    getting account html_soup is done.\n    getting account info is done.\n    storing data is done\n    progress... : 10 / 20 mid\n"
     ]
    },
    {
     "name": "stdout",
     "output_type": "stream",
     "text": [
      "    getting account_link is done.\n    getting feed info is done\n"
     ]
    },
    {
     "name": "stdout",
     "output_type": "stream",
     "text": [
      "    getting account html_soup is done.\n    getting account info is done.\n    storing data is done\n    progress... : 11 / 20 mid\n"
     ]
    },
    {
     "name": "stdout",
     "output_type": "stream",
     "text": [
      "    getting account_link is done.\n    getting feed info is done\n"
     ]
    },
    {
     "name": "stdout",
     "output_type": "stream",
     "text": [
      "    getting account html_soup is done.\n    getting account info is done.\n    storing data is done\n    progress... : 12 / 20 mid\n"
     ]
    },
    {
     "name": "stdout",
     "output_type": "stream",
     "text": [
      "    getting account_link is done.\n    getting feed info is done\n"
     ]
    },
    {
     "name": "stdout",
     "output_type": "stream",
     "text": [
      "    getting account html_soup is done.\n    getting account info is done.\n    storing data is done\n    progress... : 13 / 20 mid\n"
     ]
    },
    {
     "name": "stdout",
     "output_type": "stream",
     "text": [
      "    getting account_link is done.\n    getting feed info is done\n"
     ]
    },
    {
     "name": "stdout",
     "output_type": "stream",
     "text": [
      "    getting account html_soup is done.\n    getting account info is done.\n    storing data is done\n    progress... : 14 / 20 mid\n"
     ]
    },
    {
     "name": "stdout",
     "output_type": "stream",
     "text": [
      "    getting account_link is done.\n    getting feed info is done\n"
     ]
    },
    {
     "name": "stdout",
     "output_type": "stream",
     "text": [
      "    getting account html_soup is done.\n    getting account info is done.\n    storing data is done\n    progress... : 15 / 20 mid\n"
     ]
    },
    {
     "name": "stdout",
     "output_type": "stream",
     "text": [
      "    getting account_link is done.\n    getting feed info is done\n"
     ]
    },
    {
     "name": "stdout",
     "output_type": "stream",
     "text": [
      "    getting account html_soup is done.\n    getting account info is done.\n    storing data is done\n    progress... : 16 / 20 mid\n"
     ]
    },
    {
     "name": "stdout",
     "output_type": "stream",
     "text": [
      "    getting account_link is done.\n    getting feed info is done\n"
     ]
    },
    {
     "name": "stdout",
     "output_type": "stream",
     "text": [
      "    getting account html_soup is done.\n    getting account info is done.\n    storing data is done\n    progress... : 17 / 20 mid\n"
     ]
    },
    {
     "name": "stdout",
     "output_type": "stream",
     "text": [
      "    getting account_link is done.\n    getting feed info is done\n"
     ]
    },
    {
     "name": "stdout",
     "output_type": "stream",
     "text": [
      "    getting account html_soup is done.\n    getting account info is done.\n    storing data is done\n    progress... : 18 / 20 mid\n"
     ]
    },
    {
     "name": "stdout",
     "output_type": "stream",
     "text": [
      "    getting account_link is done.\n    getting feed info is done\n"
     ]
    },
    {
     "name": "stdout",
     "output_type": "stream",
     "text": [
      "    getting account html_soup is done.\n    getting account info is done.\n    storing data is done\n    progress... : 19 / 20 mid\n"
     ]
    },
    {
     "name": "stdout",
     "output_type": "stream",
     "text": [
      "    getting account_link is done.\n    getting feed info is done\n"
     ]
    },
    {
     "name": "stdout",
     "output_type": "stream",
     "text": [
      "    getting account html_soup is done.\n    getting account info is done.\n    storing data is done\nprogress... : 16 / 38 feed link\n"
     ]
    },
    {
     "name": "stdout",
     "output_type": "stream",
     "text": [
      "getting feed html_soup is done.\ngetting mid_list is done.\n20 mids are detected.\n    progress... : 0 / 20 mid\n"
     ]
    },
    {
     "name": "stdout",
     "output_type": "stream",
     "text": [
      "    getting account_link is done.\n    getting feed info is done\n"
     ]
    },
    {
     "name": "stdout",
     "output_type": "stream",
     "text": [
      "    getting account html_soup is done.\n    getting account info is done.\n    storing data is done\n    progress... : 1 / 20 mid\n"
     ]
    },
    {
     "name": "stdout",
     "output_type": "stream",
     "text": [
      "    getting account_link is done.\n    getting feed info is done\n"
     ]
    },
    {
     "name": "stdout",
     "output_type": "stream",
     "text": [
      "    getting account html_soup is done.\n    getting account info is done.\n    storing data is done\n    progress... : 2 / 20 mid\n"
     ]
    },
    {
     "name": "stdout",
     "output_type": "stream",
     "text": [
      "    getting account_link is done.\n    getting feed info is done\n"
     ]
    },
    {
     "name": "stdout",
     "output_type": "stream",
     "text": [
      "    getting account html_soup is done.\n    getting account info is done.\n    storing data is done\n    progress... : 3 / 20 mid\n"
     ]
    },
    {
     "name": "stdout",
     "output_type": "stream",
     "text": [
      "    getting account_link is done.\n    getting feed info is done\n"
     ]
    },
    {
     "name": "stdout",
     "output_type": "stream",
     "text": [
      "    getting account html_soup is done.\n    getting account info is done.\n    storing data is done\n    progress... : 4 / 20 mid\n"
     ]
    },
    {
     "name": "stdout",
     "output_type": "stream",
     "text": [
      "    getting account_link is done.\n    getting feed info is done\n"
     ]
    },
    {
     "name": "stdout",
     "output_type": "stream",
     "text": [
      "    getting account html_soup is done.\n    getting account info is done.\n    storing data is done\n    progress... : 5 / 20 mid\n"
     ]
    },
    {
     "name": "stdout",
     "output_type": "stream",
     "text": [
      "    getting account_link is done.\n    getting feed info is done\n"
     ]
    },
    {
     "name": "stdout",
     "output_type": "stream",
     "text": [
      "    getting account html_soup is done.\n    getting account info is done.\n    storing data is done\n    progress... : 6 / 20 mid\n"
     ]
    },
    {
     "name": "stdout",
     "output_type": "stream",
     "text": [
      "    getting account_link is done.\n    getting feed info is done\n"
     ]
    },
    {
     "name": "stdout",
     "output_type": "stream",
     "text": [
      "    getting account html_soup is done.\n    getting account info is done.\n    storing data is done\n    progress... : 7 / 20 mid\n"
     ]
    },
    {
     "name": "stdout",
     "output_type": "stream",
     "text": [
      "    getting account_link is done.\n    getting feed info is done\n"
     ]
    },
    {
     "name": "stdout",
     "output_type": "stream",
     "text": [
      "    getting account html_soup is done.\n    getting account info is done.\n    storing data is done\n    progress... : 8 / 20 mid\n"
     ]
    },
    {
     "name": "stdout",
     "output_type": "stream",
     "text": [
      "    getting account_link is done.\n    getting feed info is done\n"
     ]
    },
    {
     "name": "stdout",
     "output_type": "stream",
     "text": [
      "    getting account html_soup is done.\n    getting account info is done.\n    storing data is done\n    progress... : 9 / 20 mid\n"
     ]
    },
    {
     "name": "stdout",
     "output_type": "stream",
     "text": [
      "    getting account_link is done.\n    getting feed info is done\n"
     ]
    },
    {
     "name": "stdout",
     "output_type": "stream",
     "text": [
      "    getting account html_soup is done.\n    getting account info is done.\n    storing data is done\n    progress... : 10 / 20 mid\n"
     ]
    },
    {
     "name": "stdout",
     "output_type": "stream",
     "text": [
      "    getting account_link is done.\n    getting feed info is done\n"
     ]
    },
    {
     "name": "stdout",
     "output_type": "stream",
     "text": [
      "    getting account html_soup is done.\n    getting account info is done.\n    storing data is done\n    progress... : 11 / 20 mid\n"
     ]
    },
    {
     "name": "stdout",
     "output_type": "stream",
     "text": [
      "    getting account_link is done.\n    getting feed info is done\n"
     ]
    },
    {
     "name": "stdout",
     "output_type": "stream",
     "text": [
      "    getting account html_soup is done.\n    getting account info is done.\n    storing data is done\n    progress... : 12 / 20 mid\n"
     ]
    },
    {
     "name": "stdout",
     "output_type": "stream",
     "text": [
      "    getting account_link is done.\n    getting feed info is done\n"
     ]
    },
    {
     "name": "stdout",
     "output_type": "stream",
     "text": [
      "    getting account html_soup is done.\n    getting account info is done.\n    storing data is done\n    progress... : 13 / 20 mid\n"
     ]
    },
    {
     "name": "stdout",
     "output_type": "stream",
     "text": [
      "    getting account_link is done.\n    getting feed info is done\n"
     ]
    },
    {
     "name": "stdout",
     "output_type": "stream",
     "text": [
      "    getting account html_soup is done.\n    getting account info is done.\n    storing data is done\n    progress... : 14 / 20 mid\n"
     ]
    },
    {
     "name": "stdout",
     "output_type": "stream",
     "text": [
      "    getting account_link is done.\n    getting feed info is done\n"
     ]
    },
    {
     "name": "stdout",
     "output_type": "stream",
     "text": [
      "    getting account html_soup is done.\n    getting account info is done.\n    storing data is done\n    progress... : 15 / 20 mid\n"
     ]
    },
    {
     "name": "stdout",
     "output_type": "stream",
     "text": [
      "    getting account_link is done.\n    getting feed info is done\n"
     ]
    },
    {
     "name": "stdout",
     "output_type": "stream",
     "text": [
      "    getting account html_soup is done.\n    getting account info is done.\n    storing data is done\n    progress... : 16 / 20 mid\n"
     ]
    },
    {
     "name": "stdout",
     "output_type": "stream",
     "text": [
      "    getting account_link is done.\n    getting feed info is done\n"
     ]
    },
    {
     "name": "stdout",
     "output_type": "stream",
     "text": [
      "    getting account html_soup is done.\n    getting account info is done.\n    storing data is done\n    progress... : 17 / 20 mid\n"
     ]
    },
    {
     "name": "stdout",
     "output_type": "stream",
     "text": [
      "    getting account_link is done.\n    getting feed info is done\n"
     ]
    },
    {
     "name": "stdout",
     "output_type": "stream",
     "text": [
      "    getting account html_soup is done.\n    getting account info is done.\n    storing data is done\n    progress... : 18 / 20 mid\n"
     ]
    },
    {
     "name": "stdout",
     "output_type": "stream",
     "text": [
      "    getting account_link is done.\n    getting feed info is done\n"
     ]
    },
    {
     "name": "stdout",
     "output_type": "stream",
     "text": [
      "    getting account html_soup is done.\n    getting account info is done.\n    storing data is done\n    progress... : 19 / 20 mid\n"
     ]
    },
    {
     "name": "stdout",
     "output_type": "stream",
     "text": [
      "    getting account_link is done.\n    getting feed info is done\n"
     ]
    },
    {
     "name": "stdout",
     "output_type": "stream",
     "text": [
      "    getting account html_soup is done.\n    getting account info is done.\n    storing data is done\nprogress... : 17 / 38 feed link\n"
     ]
    },
    {
     "name": "stdout",
     "output_type": "stream",
     "text": [
      "getting feed html_soup is done.\ngetting mid_list is done.\n20 mids are detected.\n    progress... : 0 / 20 mid\n"
     ]
    },
    {
     "name": "stdout",
     "output_type": "stream",
     "text": [
      "    getting account_link is done.\n    getting feed info is done\n"
     ]
    },
    {
     "name": "stdout",
     "output_type": "stream",
     "text": [
      "    getting account html_soup is done.\n    getting account info is done.\n    storing data is done\n    progress... : 1 / 20 mid\n"
     ]
    },
    {
     "name": "stdout",
     "output_type": "stream",
     "text": [
      "    getting account_link is done.\n    getting feed info is done\n"
     ]
    },
    {
     "name": "stdout",
     "output_type": "stream",
     "text": [
      "    getting account html_soup is done.\n    getting account info is done.\n    storing data is done\n    progress... : 2 / 20 mid\n"
     ]
    },
    {
     "name": "stdout",
     "output_type": "stream",
     "text": [
      "    getting account_link is done.\n    getting feed info is done\n"
     ]
    },
    {
     "name": "stdout",
     "output_type": "stream",
     "text": [
      "    getting account html_soup is done.\n    getting account info is done.\n    storing data is done\n    progress... : 3 / 20 mid\n"
     ]
    },
    {
     "name": "stdout",
     "output_type": "stream",
     "text": [
      "    getting account_link is done.\n    getting feed info is done\n"
     ]
    },
    {
     "name": "stdout",
     "output_type": "stream",
     "text": [
      "    getting account html_soup is done.\n    getting account info is done.\n    storing data is done\n    progress... : 4 / 20 mid\n"
     ]
    },
    {
     "name": "stdout",
     "output_type": "stream",
     "text": [
      "    getting account_link is done.\n    getting feed info is done\n"
     ]
    },
    {
     "name": "stdout",
     "output_type": "stream",
     "text": [
      "    getting account html_soup is done.\n    getting account info is done.\n    storing data is done\n    progress... : 5 / 20 mid\n"
     ]
    },
    {
     "name": "stdout",
     "output_type": "stream",
     "text": [
      "    getting account_link is done.\n    getting feed info is done\n"
     ]
    },
    {
     "name": "stdout",
     "output_type": "stream",
     "text": [
      "    getting account html_soup is done.\n    getting account info is done.\n    storing data is done\n    progress... : 6 / 20 mid\n"
     ]
    },
    {
     "name": "stdout",
     "output_type": "stream",
     "text": [
      "    getting account_link is done.\n    getting feed info is done\n"
     ]
    },
    {
     "name": "stdout",
     "output_type": "stream",
     "text": [
      "    getting account html_soup is done.\n    getting account info is done.\n    storing data is done\n    progress... : 7 / 20 mid\n"
     ]
    },
    {
     "name": "stdout",
     "output_type": "stream",
     "text": [
      "    getting account_link is done.\n    getting feed info is done\n"
     ]
    },
    {
     "name": "stdout",
     "output_type": "stream",
     "text": [
      "    getting account html_soup is done.\n    getting account info is done.\n    storing data is done\n    progress... : 8 / 20 mid\n"
     ]
    },
    {
     "name": "stdout",
     "output_type": "stream",
     "text": [
      "    getting account_link is done.\n    getting feed info is done\n"
     ]
    },
    {
     "name": "stdout",
     "output_type": "stream",
     "text": [
      "    getting account html_soup is done.\n    getting account info is done.\n    storing data is done\n    progress... : 9 / 20 mid\n"
     ]
    },
    {
     "name": "stdout",
     "output_type": "stream",
     "text": [
      "    getting account_link is done.\n    getting feed info is done\n"
     ]
    },
    {
     "name": "stdout",
     "output_type": "stream",
     "text": [
      "    getting account html_soup is done.\n    getting account info is done.\n    storing data is done\n    progress... : 10 / 20 mid\n"
     ]
    },
    {
     "name": "stdout",
     "output_type": "stream",
     "text": [
      "    getting account_link is done.\n    getting feed info is done\n"
     ]
    },
    {
     "name": "stdout",
     "output_type": "stream",
     "text": [
      "    getting account html_soup is done.\n    getting account info is done.\n    storing data is done\n    progress... : 11 / 20 mid\n"
     ]
    },
    {
     "name": "stdout",
     "output_type": "stream",
     "text": [
      "    getting account_link is done.\n    getting feed info is done\n"
     ]
    },
    {
     "name": "stdout",
     "output_type": "stream",
     "text": [
      "    getting account html_soup is done.\n    getting account info is done.\n    storing data is done\n    progress... : 12 / 20 mid\n"
     ]
    },
    {
     "name": "stdout",
     "output_type": "stream",
     "text": [
      "    getting account_link is done.\n    getting feed info is done\n"
     ]
    },
    {
     "name": "stdout",
     "output_type": "stream",
     "text": [
      "    getting account html_soup is done.\n    getting account info is done.\n    storing data is done\n    progress... : 13 / 20 mid\n"
     ]
    },
    {
     "name": "stdout",
     "output_type": "stream",
     "text": [
      "    getting account_link is done.\n    getting feed info is done\n"
     ]
    },
    {
     "name": "stdout",
     "output_type": "stream",
     "text": [
      "    getting account html_soup is done.\n    getting account info is done.\n    storing data is done\n    progress... : 14 / 20 mid\n"
     ]
    },
    {
     "name": "stdout",
     "output_type": "stream",
     "text": [
      "    getting account_link is done.\n    getting feed info is done\n"
     ]
    },
    {
     "name": "stdout",
     "output_type": "stream",
     "text": [
      "    getting account html_soup is done.\n    getting account info is done.\n    storing data is done\n    progress... : 15 / 20 mid\n"
     ]
    },
    {
     "name": "stdout",
     "output_type": "stream",
     "text": [
      "    getting account_link is done.\n    getting feed info is done\n"
     ]
    },
    {
     "name": "stdout",
     "output_type": "stream",
     "text": [
      "    getting account html_soup is done.\n    getting account info is done.\n    storing data is done\n    progress... : 16 / 20 mid\n"
     ]
    },
    {
     "name": "stdout",
     "output_type": "stream",
     "text": [
      "    getting account_link is done.\n    getting feed info is done\n"
     ]
    },
    {
     "name": "stdout",
     "output_type": "stream",
     "text": [
      "    getting account html_soup is done.\n    getting account info is done.\n    storing data is done\n    progress... : 17 / 20 mid\n"
     ]
    },
    {
     "name": "stdout",
     "output_type": "stream",
     "text": [
      "    getting account_link is done.\n    getting feed info is done\n"
     ]
    },
    {
     "name": "stdout",
     "output_type": "stream",
     "text": [
      "    getting account html_soup is done.\n    getting account info is done.\n    storing data is done\n    progress... : 18 / 20 mid\n"
     ]
    },
    {
     "name": "stdout",
     "output_type": "stream",
     "text": [
      "    getting account_link is done.\n    getting feed info is done\n"
     ]
    },
    {
     "name": "stdout",
     "output_type": "stream",
     "text": [
      "    getting account html_soup is done.\n    getting account info is done.\n    storing data is done\n    progress... : 19 / 20 mid\n"
     ]
    },
    {
     "name": "stdout",
     "output_type": "stream",
     "text": [
      "    getting account_link is done.\n    getting feed info is done\n"
     ]
    },
    {
     "name": "stdout",
     "output_type": "stream",
     "text": [
      "    getting account html_soup is done.\n    getting account info is done.\n    storing data is done\nprogress... : 18 / 38 feed link\n"
     ]
    },
    {
     "name": "stdout",
     "output_type": "stream",
     "text": [
      "getting feed html_soup is done.\ngetting mid_list is done.\n20 mids are detected.\n    progress... : 0 / 20 mid\n"
     ]
    },
    {
     "name": "stdout",
     "output_type": "stream",
     "text": [
      "    getting account_link is done.\n    getting feed info is done\n"
     ]
    },
    {
     "name": "stdout",
     "output_type": "stream",
     "text": [
      "    getting account html_soup is done.\n    getting account info is done.\n    storing data is done\n    progress... : 1 / 20 mid\n"
     ]
    },
    {
     "name": "stdout",
     "output_type": "stream",
     "text": [
      "    getting account_link is done.\n    getting feed info is done\n"
     ]
    },
    {
     "name": "stdout",
     "output_type": "stream",
     "text": [
      "    getting account html_soup is done.\n    getting account info is done.\n    storing data is done\n    progress... : 2 / 20 mid\n"
     ]
    },
    {
     "name": "stdout",
     "output_type": "stream",
     "text": [
      "    getting account_link is done.\n    getting feed info is done\n"
     ]
    },
    {
     "name": "stdout",
     "output_type": "stream",
     "text": [
      "    getting account html_soup is done.\n    getting account info is done.\n    storing data is done\n    progress... : 3 / 20 mid\n"
     ]
    },
    {
     "name": "stdout",
     "output_type": "stream",
     "text": [
      "    getting account_link is done.\n    getting feed info is done\n"
     ]
    },
    {
     "name": "stdout",
     "output_type": "stream",
     "text": [
      "    getting account html_soup is done.\n    getting account info is done.\n    storing data is done\n    progress... : 4 / 20 mid\n"
     ]
    },
    {
     "name": "stdout",
     "output_type": "stream",
     "text": [
      "    getting account_link is done.\n    getting feed info is done\n"
     ]
    },
    {
     "name": "stdout",
     "output_type": "stream",
     "text": [
      "    getting account html_soup is done.\n    getting account info is done.\n    storing data is done\n    progress... : 5 / 20 mid\n"
     ]
    },
    {
     "name": "stdout",
     "output_type": "stream",
     "text": [
      "    getting account_link is done.\n    getting feed info is done\n"
     ]
    },
    {
     "name": "stdout",
     "output_type": "stream",
     "text": [
      "    getting account html_soup is done.\n    getting account info is done.\n    storing data is done\n    progress... : 6 / 20 mid\n"
     ]
    },
    {
     "name": "stdout",
     "output_type": "stream",
     "text": [
      "    getting account_link is done.\n    getting feed info is done\n"
     ]
    },
    {
     "name": "stdout",
     "output_type": "stream",
     "text": [
      "    getting account html_soup is done.\n    getting account info is done.\n    storing data is done\n    progress... : 7 / 20 mid\n"
     ]
    },
    {
     "name": "stdout",
     "output_type": "stream",
     "text": [
      "    getting account_link is done.\n    getting feed info is done\n"
     ]
    },
    {
     "name": "stdout",
     "output_type": "stream",
     "text": [
      "    getting account html_soup is done.\n    getting account info is done.\n    storing data is done\n    progress... : 8 / 20 mid\n"
     ]
    },
    {
     "name": "stdout",
     "output_type": "stream",
     "text": [
      "    getting account_link is done.\n    getting feed info is done\n"
     ]
    },
    {
     "name": "stdout",
     "output_type": "stream",
     "text": [
      "    getting account html_soup is done.\n    getting account info is done.\n    storing data is done\n    progress... : 9 / 20 mid\n"
     ]
    },
    {
     "name": "stdout",
     "output_type": "stream",
     "text": [
      "    getting account_link is done.\n    getting feed info is done\n"
     ]
    },
    {
     "name": "stdout",
     "output_type": "stream",
     "text": [
      "    getting account html_soup is done.\n    getting account info is done.\n    storing data is done\n    progress... : 10 / 20 mid\n"
     ]
    },
    {
     "name": "stdout",
     "output_type": "stream",
     "text": [
      "    getting account_link is done.\n    getting feed info is done\n"
     ]
    },
    {
     "name": "stdout",
     "output_type": "stream",
     "text": [
      "    getting account html_soup is done.\n    getting account info is done.\n    storing data is done\n    progress... : 11 / 20 mid\n"
     ]
    },
    {
     "name": "stdout",
     "output_type": "stream",
     "text": [
      "    getting account_link is done.\n    getting feed info is done\n"
     ]
    },
    {
     "name": "stdout",
     "output_type": "stream",
     "text": [
      "    getting account html_soup is done.\n    getting account info is done.\n    storing data is done\n    progress... : 12 / 20 mid\n"
     ]
    },
    {
     "name": "stdout",
     "output_type": "stream",
     "text": [
      "    getting account_link is done.\n    getting feed info is done\n"
     ]
    },
    {
     "name": "stdout",
     "output_type": "stream",
     "text": [
      "    getting account html_soup is done.\n    getting account info is done.\n    storing data is done\n    progress... : 13 / 20 mid\n"
     ]
    },
    {
     "name": "stdout",
     "output_type": "stream",
     "text": [
      "    getting account_link is done.\n    getting feed info is done\n"
     ]
    },
    {
     "name": "stdout",
     "output_type": "stream",
     "text": [
      "    getting account html_soup is done.\n    getting account info is done.\n    storing data is done\n    progress... : 14 / 20 mid\n"
     ]
    },
    {
     "name": "stdout",
     "output_type": "stream",
     "text": [
      "    getting account_link is done.\n    getting feed info is done\n"
     ]
    },
    {
     "name": "stdout",
     "output_type": "stream",
     "text": [
      "    getting account html_soup is done.\n    getting account info is done.\n    storing data is done\n    progress... : 15 / 20 mid\n"
     ]
    },
    {
     "name": "stdout",
     "output_type": "stream",
     "text": [
      "    getting account_link is done.\n    getting feed info is done\n"
     ]
    },
    {
     "name": "stdout",
     "output_type": "stream",
     "text": [
      "    getting account html_soup is done.\n    getting account info is done.\n    storing data is done\n    progress... : 16 / 20 mid\n"
     ]
    },
    {
     "name": "stdout",
     "output_type": "stream",
     "text": [
      "    getting account_link is done.\n    getting feed info is done\n"
     ]
    },
    {
     "name": "stdout",
     "output_type": "stream",
     "text": [
      "    getting account html_soup is done.\n    getting account info is done.\n    storing data is done\n    progress... : 17 / 20 mid\n"
     ]
    },
    {
     "name": "stdout",
     "output_type": "stream",
     "text": [
      "    getting account_link is done.\n    getting feed info is done\n"
     ]
    },
    {
     "name": "stdout",
     "output_type": "stream",
     "text": [
      "    getting account html_soup is done.\n    getting account info is done.\n    storing data is done\n    progress... : 18 / 20 mid\n"
     ]
    },
    {
     "name": "stdout",
     "output_type": "stream",
     "text": [
      "    getting account_link is done.\n    getting feed info is done\n"
     ]
    },
    {
     "name": "stdout",
     "output_type": "stream",
     "text": [
      "    getting account html_soup is done.\n    getting account info is done.\n    storing data is done\n    progress... : 19 / 20 mid\n"
     ]
    },
    {
     "name": "stdout",
     "output_type": "stream",
     "text": [
      "    getting account_link is done.\n    getting feed info is done\n"
     ]
    },
    {
     "name": "stdout",
     "output_type": "stream",
     "text": [
      "    getting account html_soup is done.\n    getting account info is done.\n    storing data is done\nprogress... : 19 / 38 feed link\n"
     ]
    },
    {
     "name": "stdout",
     "output_type": "stream",
     "text": [
      "getting feed html_soup is done.\ngetting mid_list is done.\n20 mids are detected.\n    progress... : 0 / 20 mid\n"
     ]
    },
    {
     "name": "stdout",
     "output_type": "stream",
     "text": [
      "    getting account_link is done.\n    getting feed info is done\n"
     ]
    },
    {
     "name": "stdout",
     "output_type": "stream",
     "text": [
      "    getting account html_soup is done.\n    getting account info is done.\n    storing data is done\n    progress... : 1 / 20 mid\n"
     ]
    },
    {
     "name": "stdout",
     "output_type": "stream",
     "text": [
      "    getting account_link is done.\n    getting feed info is done\n"
     ]
    },
    {
     "name": "stdout",
     "output_type": "stream",
     "text": [
      "    getting account html_soup is done.\n    getting account info is done.\n    storing data is done\n    progress... : 2 / 20 mid\n"
     ]
    },
    {
     "name": "stdout",
     "output_type": "stream",
     "text": [
      "    getting account_link is done.\n    getting feed info is done\n"
     ]
    },
    {
     "name": "stdout",
     "output_type": "stream",
     "text": [
      "    getting account html_soup is done.\n    getting account info is done.\n    storing data is done\n    progress... : 3 / 20 mid\n"
     ]
    },
    {
     "name": "stdout",
     "output_type": "stream",
     "text": [
      "    getting account_link is done.\n    getting feed info is done\n"
     ]
    },
    {
     "name": "stdout",
     "output_type": "stream",
     "text": [
      "    getting account html_soup is done.\n    getting account info is done.\n    storing data is done\n    progress... : 4 / 20 mid\n"
     ]
    },
    {
     "name": "stdout",
     "output_type": "stream",
     "text": [
      "    getting account_link is done.\n    getting feed info is done\n"
     ]
    },
    {
     "name": "stdout",
     "output_type": "stream",
     "text": [
      "    getting account html_soup is done.\n    getting account info is done.\n    storing data is done\n    progress... : 5 / 20 mid\n"
     ]
    },
    {
     "name": "stdout",
     "output_type": "stream",
     "text": [
      "    getting account_link is done.\n    getting feed info is done\n"
     ]
    },
    {
     "name": "stdout",
     "output_type": "stream",
     "text": [
      "    getting account html_soup is done.\n    getting account info is done.\n    storing data is done\n    progress... : 6 / 20 mid\n"
     ]
    },
    {
     "name": "stdout",
     "output_type": "stream",
     "text": [
      "    getting account_link is done.\n    getting feed info is done\n"
     ]
    },
    {
     "name": "stdout",
     "output_type": "stream",
     "text": [
      "    getting account html_soup is done.\n    getting account info is done.\n    storing data is done\n    progress... : 7 / 20 mid\n"
     ]
    },
    {
     "name": "stdout",
     "output_type": "stream",
     "text": [
      "    getting account_link is done.\n    getting feed info is done\n"
     ]
    },
    {
     "name": "stdout",
     "output_type": "stream",
     "text": [
      "    getting account html_soup is done.\n    getting account info is done.\n    storing data is done\n    progress... : 8 / 20 mid\n"
     ]
    },
    {
     "name": "stdout",
     "output_type": "stream",
     "text": [
      "    getting account_link is done.\n    getting feed info is done\n"
     ]
    },
    {
     "name": "stdout",
     "output_type": "stream",
     "text": [
      "    getting account html_soup is done.\n    getting account info is done.\n    storing data is done\n    progress... : 9 / 20 mid\n"
     ]
    },
    {
     "name": "stdout",
     "output_type": "stream",
     "text": [
      "    getting account_link is done.\n    getting feed info is done\n"
     ]
    },
    {
     "name": "stdout",
     "output_type": "stream",
     "text": [
      "    getting account html_soup is done.\n    getting account info is done.\n    storing data is done\n    progress... : 10 / 20 mid\n"
     ]
    },
    {
     "name": "stdout",
     "output_type": "stream",
     "text": [
      "    getting account_link is done.\n    getting feed info is done\n"
     ]
    },
    {
     "name": "stdout",
     "output_type": "stream",
     "text": [
      "    getting account html_soup is done.\n    getting account info is done.\n    storing data is done\n    progress... : 11 / 20 mid\n"
     ]
    },
    {
     "name": "stdout",
     "output_type": "stream",
     "text": [
      "    getting account_link is done.\n    getting feed info is done\n"
     ]
    },
    {
     "name": "stdout",
     "output_type": "stream",
     "text": [
      "    getting account html_soup is done.\n    getting account info is done.\n    storing data is done\n    progress... : 12 / 20 mid\n"
     ]
    },
    {
     "name": "stdout",
     "output_type": "stream",
     "text": [
      "    getting account_link is done.\n    getting feed info is done\n"
     ]
    },
    {
     "name": "stdout",
     "output_type": "stream",
     "text": [
      "    getting account html_soup is done.\n    getting account info is done.\n    storing data is done\n    progress... : 13 / 20 mid\n"
     ]
    },
    {
     "name": "stdout",
     "output_type": "stream",
     "text": [
      "    getting account_link is done.\n    getting feed info is done\n"
     ]
    },
    {
     "name": "stdout",
     "output_type": "stream",
     "text": [
      "    getting account html_soup is done.\n    getting account info is done.\n    storing data is done\n    progress... : 14 / 20 mid\n"
     ]
    },
    {
     "name": "stdout",
     "output_type": "stream",
     "text": [
      "    getting account_link is done.\n    getting feed info is done\n"
     ]
    },
    {
     "name": "stdout",
     "output_type": "stream",
     "text": [
      "    getting account html_soup is done.\n    getting account info is done.\n    storing data is done\n    progress... : 15 / 20 mid\n"
     ]
    },
    {
     "name": "stdout",
     "output_type": "stream",
     "text": [
      "    getting account_link is done.\n    getting feed info is done\n"
     ]
    },
    {
     "name": "stdout",
     "output_type": "stream",
     "text": [
      "    getting account html_soup is done.\n    getting account info is done.\n    storing data is done\n    progress... : 16 / 20 mid\n"
     ]
    },
    {
     "name": "stdout",
     "output_type": "stream",
     "text": [
      "    getting account_link is done.\n    getting feed info is done\n"
     ]
    },
    {
     "name": "stdout",
     "output_type": "stream",
     "text": [
      "    getting account html_soup is done.\n    getting account info is done.\n    storing data is done\n    progress... : 17 / 20 mid\n"
     ]
    },
    {
     "name": "stdout",
     "output_type": "stream",
     "text": [
      "    getting account_link is done.\n    getting feed info is done\n"
     ]
    },
    {
     "name": "stdout",
     "output_type": "stream",
     "text": [
      "    getting account html_soup is done.\n    getting account info is done.\n    storing data is done\n    progress... : 18 / 20 mid\n"
     ]
    },
    {
     "name": "stdout",
     "output_type": "stream",
     "text": [
      "    getting account_link is done.\n    getting feed info is done\n"
     ]
    },
    {
     "name": "stdout",
     "output_type": "stream",
     "text": [
      "    getting account html_soup is done.\n    getting account info is done.\n    storing data is done\n    progress... : 19 / 20 mid\n"
     ]
    },
    {
     "name": "stdout",
     "output_type": "stream",
     "text": [
      "    getting account_link is done.\n    getting feed info is done\n"
     ]
    },
    {
     "name": "stdout",
     "output_type": "stream",
     "text": [
      "    getting account html_soup is done.\n    getting account info is done.\n    storing data is done\nprogress... : 20 / 38 feed link\n"
     ]
    },
    {
     "name": "stdout",
     "output_type": "stream",
     "text": [
      "getting feed html_soup is done.\ngetting mid_list is done.\n20 mids are detected.\n    progress... : 0 / 20 mid\n"
     ]
    },
    {
     "name": "stdout",
     "output_type": "stream",
     "text": [
      "    getting account_link is done.\n    getting feed info is done\n"
     ]
    },
    {
     "name": "stdout",
     "output_type": "stream",
     "text": [
      "    getting account html_soup is done.\n    getting account info is done.\n    storing data is done\n    progress... : 1 / 20 mid\n"
     ]
    },
    {
     "name": "stdout",
     "output_type": "stream",
     "text": [
      "    getting account_link is done.\n    getting feed info is done\n"
     ]
    },
    {
     "name": "stdout",
     "output_type": "stream",
     "text": [
      "    getting account html_soup is done.\n    getting account info is done.\n    storing data is done\n    progress... : 2 / 20 mid\n"
     ]
    },
    {
     "name": "stdout",
     "output_type": "stream",
     "text": [
      "    getting account_link is done.\n    getting feed info is done\n"
     ]
    },
    {
     "name": "stdout",
     "output_type": "stream",
     "text": [
      "    getting account html_soup is done.\n    getting account info is done.\n    storing data is done\n    progress... : 3 / 20 mid\n"
     ]
    },
    {
     "name": "stdout",
     "output_type": "stream",
     "text": [
      "    getting account_link is done.\n    getting feed info is done\n"
     ]
    },
    {
     "name": "stdout",
     "output_type": "stream",
     "text": [
      "    getting account html_soup is done.\n    getting account info is done.\n    storing data is done\n    progress... : 4 / 20 mid\n"
     ]
    },
    {
     "name": "stdout",
     "output_type": "stream",
     "text": [
      "    getting account_link is done.\n    getting feed info is done\n"
     ]
    },
    {
     "name": "stdout",
     "output_type": "stream",
     "text": [
      "    getting account html_soup is done.\n    getting account info is done.\n    storing data is done\n    progress... : 5 / 20 mid\n"
     ]
    },
    {
     "name": "stdout",
     "output_type": "stream",
     "text": [
      "    getting account_link is done.\n    getting feed info is done\n"
     ]
    },
    {
     "name": "stdout",
     "output_type": "stream",
     "text": [
      "    getting account html_soup is done.\n    getting account info is done.\n    storing data is done\n    progress... : 6 / 20 mid\n"
     ]
    },
    {
     "name": "stdout",
     "output_type": "stream",
     "text": [
      "    getting account_link is done.\n    getting feed info is done\n"
     ]
    },
    {
     "name": "stdout",
     "output_type": "stream",
     "text": [
      "    getting account html_soup is done.\n    getting account info is done.\n    storing data is done\n    progress... : 7 / 20 mid\n"
     ]
    },
    {
     "name": "stdout",
     "output_type": "stream",
     "text": [
      "    getting account_link is done.\n    getting feed info is done\n"
     ]
    },
    {
     "name": "stdout",
     "output_type": "stream",
     "text": [
      "    getting account html_soup is done.\n    getting account info is done.\n    storing data is done\n    progress... : 8 / 20 mid\n"
     ]
    },
    {
     "name": "stdout",
     "output_type": "stream",
     "text": [
      "    getting account_link is done.\n    getting feed info is done\n"
     ]
    },
    {
     "name": "stdout",
     "output_type": "stream",
     "text": [
      "    getting account html_soup is done.\n    getting account info is done.\n    storing data is done\n    progress... : 9 / 20 mid\n"
     ]
    },
    {
     "name": "stdout",
     "output_type": "stream",
     "text": [
      "    getting account_link is done.\n    getting feed info is done\n"
     ]
    },
    {
     "name": "stdout",
     "output_type": "stream",
     "text": [
      "    getting account html_soup is done.\n    getting account info is done.\n    storing data is done\n    progress... : 10 / 20 mid\n"
     ]
    },
    {
     "name": "stdout",
     "output_type": "stream",
     "text": [
      "    getting account_link is done.\n    getting feed info is done\n"
     ]
    },
    {
     "name": "stdout",
     "output_type": "stream",
     "text": [
      "    getting account html_soup is done.\n    getting account info is done.\n    storing data is done\n    progress... : 11 / 20 mid\n"
     ]
    },
    {
     "name": "stdout",
     "output_type": "stream",
     "text": [
      "    getting account_link is done.\n    getting feed info is done\n"
     ]
    },
    {
     "name": "stdout",
     "output_type": "stream",
     "text": [
      "    getting account html_soup is done.\n    getting account info is done.\n    storing data is done\n    progress... : 12 / 20 mid\n"
     ]
    },
    {
     "name": "stdout",
     "output_type": "stream",
     "text": [
      "    getting account_link is done.\n    getting feed info is done\n"
     ]
    },
    {
     "name": "stdout",
     "output_type": "stream",
     "text": [
      "    getting account html_soup is done.\n    getting account info is done.\n    storing data is done\n    progress... : 13 / 20 mid\n"
     ]
    },
    {
     "name": "stdout",
     "output_type": "stream",
     "text": [
      "    getting account_link is done.\n    getting feed info is done\n"
     ]
    },
    {
     "name": "stdout",
     "output_type": "stream",
     "text": [
      "    getting account html_soup is done.\n    getting account info is done.\n    storing data is done\n    progress... : 14 / 20 mid\n"
     ]
    },
    {
     "name": "stdout",
     "output_type": "stream",
     "text": [
      "    getting account_link is done.\n    getting feed info is done\n"
     ]
    },
    {
     "name": "stdout",
     "output_type": "stream",
     "text": [
      "    getting account html_soup is done.\n    getting account info is done.\n    storing data is done\n    progress... : 15 / 20 mid\n"
     ]
    },
    {
     "name": "stdout",
     "output_type": "stream",
     "text": [
      "    getting account_link is done.\n    getting feed info is done\n"
     ]
    },
    {
     "name": "stdout",
     "output_type": "stream",
     "text": [
      "    getting account html_soup is done.\n    getting account info is done.\n    storing data is done\n    progress... : 16 / 20 mid\n"
     ]
    },
    {
     "name": "stdout",
     "output_type": "stream",
     "text": [
      "    getting account_link is done.\n    getting feed info is done\n"
     ]
    },
    {
     "name": "stdout",
     "output_type": "stream",
     "text": [
      "    getting account html_soup is done.\n    getting account info is done.\n    storing data is done\n    progress... : 17 / 20 mid\n"
     ]
    },
    {
     "name": "stdout",
     "output_type": "stream",
     "text": [
      "    getting account_link is done.\n    getting feed info is done\n"
     ]
    },
    {
     "name": "stdout",
     "output_type": "stream",
     "text": [
      "    getting account html_soup is done.\n    getting account info is done.\n    storing data is done\n    progress... : 18 / 20 mid\n"
     ]
    },
    {
     "name": "stdout",
     "output_type": "stream",
     "text": [
      "    getting account_link is done.\n    getting feed info is done\n"
     ]
    },
    {
     "name": "stdout",
     "output_type": "stream",
     "text": [
      "    getting account html_soup is done.\n    getting account info is done.\n    storing data is done\n    progress... : 19 / 20 mid\n"
     ]
    },
    {
     "name": "stdout",
     "output_type": "stream",
     "text": [
      "    getting account_link is done.\n    getting feed info is done\n"
     ]
    },
    {
     "name": "stdout",
     "output_type": "stream",
     "text": [
      "    getting account html_soup is done.\n    getting account info is done.\n    storing data is done\nprogress... : 21 / 38 feed link\n"
     ]
    },
    {
     "name": "stdout",
     "output_type": "stream",
     "text": [
      "getting feed html_soup is done.\ngetting mid_list is done.\n20 mids are detected.\n    progress... : 0 / 20 mid\n"
     ]
    },
    {
     "name": "stdout",
     "output_type": "stream",
     "text": [
      "    getting account_link is done.\n    getting feed info is done\n"
     ]
    },
    {
     "name": "stdout",
     "output_type": "stream",
     "text": [
      "    getting account html_soup is done.\n    getting account info is done.\n    storing data is done\n    progress... : 1 / 20 mid\n"
     ]
    },
    {
     "name": "stdout",
     "output_type": "stream",
     "text": [
      "    getting account_link is done.\n    getting feed info is done\n"
     ]
    },
    {
     "name": "stdout",
     "output_type": "stream",
     "text": [
      "    getting account html_soup is done.\n    getting account info is done.\n    storing data is done\n    progress... : 2 / 20 mid\n"
     ]
    },
    {
     "name": "stdout",
     "output_type": "stream",
     "text": [
      "    getting account_link is done.\n    getting feed info is done\n"
     ]
    },
    {
     "name": "stdout",
     "output_type": "stream",
     "text": [
      "    getting account html_soup is done.\n    getting account info is done.\n    storing data is done\n    progress... : 3 / 20 mid\n"
     ]
    },
    {
     "name": "stdout",
     "output_type": "stream",
     "text": [
      "    getting account_link is done.\n    getting feed info is done\n"
     ]
    },
    {
     "name": "stdout",
     "output_type": "stream",
     "text": [
      "    getting account html_soup is done.\n    getting account info is done.\n    storing data is done\n    progress... : 4 / 20 mid\n"
     ]
    },
    {
     "name": "stdout",
     "output_type": "stream",
     "text": [
      "    getting account_link is done.\n    getting feed info is done\n"
     ]
    },
    {
     "name": "stdout",
     "output_type": "stream",
     "text": [
      "    getting account html_soup is done.\n    getting account info is done.\n    storing data is done\n    progress... : 5 / 20 mid\n"
     ]
    },
    {
     "name": "stdout",
     "output_type": "stream",
     "text": [
      "    getting account_link is done.\n    getting feed info is done\n"
     ]
    },
    {
     "name": "stdout",
     "output_type": "stream",
     "text": [
      "    getting account html_soup is done.\n    getting account info is done.\n    storing data is done\n    progress... : 6 / 20 mid\n"
     ]
    },
    {
     "name": "stdout",
     "output_type": "stream",
     "text": [
      "    getting account_link is done.\n    getting feed info is done\n"
     ]
    },
    {
     "name": "stdout",
     "output_type": "stream",
     "text": [
      "    getting account html_soup is done.\n    getting account info is done.\n    storing data is done\n    progress... : 7 / 20 mid\n"
     ]
    },
    {
     "name": "stdout",
     "output_type": "stream",
     "text": [
      "    getting account_link is done.\n    getting feed info is done\n"
     ]
    },
    {
     "name": "stdout",
     "output_type": "stream",
     "text": [
      "    getting account html_soup is done.\n    getting account info is done.\n    storing data is done\n    progress... : 8 / 20 mid\n"
     ]
    },
    {
     "name": "stdout",
     "output_type": "stream",
     "text": [
      "    getting account_link is done.\n    getting feed info is done\n"
     ]
    },
    {
     "name": "stdout",
     "output_type": "stream",
     "text": [
      "    getting account html_soup is done.\n    getting account info is done.\n    storing data is done\n    progress... : 9 / 20 mid\n"
     ]
    },
    {
     "name": "stdout",
     "output_type": "stream",
     "text": [
      "    getting account_link is done.\n    getting feed info is done\n"
     ]
    },
    {
     "name": "stdout",
     "output_type": "stream",
     "text": [
      "    getting account html_soup is done.\n    getting account info is done.\n    storing data is done\n    progress... : 10 / 20 mid\n"
     ]
    },
    {
     "name": "stdout",
     "output_type": "stream",
     "text": [
      "    getting account_link is done.\n    getting feed info is done\n"
     ]
    },
    {
     "name": "stdout",
     "output_type": "stream",
     "text": [
      "    getting account html_soup is done.\n    getting account info is done.\n    storing data is done\n    progress... : 11 / 20 mid\n"
     ]
    },
    {
     "name": "stdout",
     "output_type": "stream",
     "text": [
      "    getting account_link is done.\n    getting feed info is done\n"
     ]
    },
    {
     "name": "stdout",
     "output_type": "stream",
     "text": [
      "    getting account html_soup is done.\n    getting account info is done.\n    storing data is done\n    progress... : 12 / 20 mid\n"
     ]
    },
    {
     "name": "stdout",
     "output_type": "stream",
     "text": [
      "    getting account_link is done.\n    getting feed info is done\n"
     ]
    },
    {
     "name": "stdout",
     "output_type": "stream",
     "text": [
      "    getting account html_soup is done.\n    getting account info is done.\n    storing data is done\n    progress... : 13 / 20 mid\n"
     ]
    },
    {
     "name": "stdout",
     "output_type": "stream",
     "text": [
      "    getting account_link is done.\n    getting feed info is done\n"
     ]
    },
    {
     "name": "stdout",
     "output_type": "stream",
     "text": [
      "    getting account html_soup is done.\n    getting account info is done.\n    storing data is done\n    progress... : 14 / 20 mid\n"
     ]
    },
    {
     "name": "stdout",
     "output_type": "stream",
     "text": [
      "    getting account_link is done.\n    getting feed info is done\n"
     ]
    },
    {
     "name": "stdout",
     "output_type": "stream",
     "text": [
      "    getting account html_soup is done.\n    getting account info is done.\n    storing data is done\n    progress... : 15 / 20 mid\n"
     ]
    },
    {
     "name": "stdout",
     "output_type": "stream",
     "text": [
      "    getting account_link is done.\n    getting feed info is done\n"
     ]
    },
    {
     "name": "stdout",
     "output_type": "stream",
     "text": [
      "    getting account html_soup is done.\n    getting account info is done.\n    storing data is done\n    progress... : 16 / 20 mid\n"
     ]
    },
    {
     "name": "stdout",
     "output_type": "stream",
     "text": [
      "    getting account_link is done.\n    getting feed info is done\n"
     ]
    },
    {
     "name": "stdout",
     "output_type": "stream",
     "text": [
      "    getting account html_soup is done.\n    getting account info is done.\n    storing data is done\n    progress... : 17 / 20 mid\n"
     ]
    },
    {
     "name": "stdout",
     "output_type": "stream",
     "text": [
      "    getting account_link is done.\n    getting feed info is done\n"
     ]
    },
    {
     "name": "stdout",
     "output_type": "stream",
     "text": [
      "    getting account html_soup is done.\n    getting account info is done.\n    storing data is done\n    progress... : 18 / 20 mid\n"
     ]
    },
    {
     "name": "stdout",
     "output_type": "stream",
     "text": [
      "    getting account_link is done.\n    getting feed info is done\n"
     ]
    },
    {
     "name": "stdout",
     "output_type": "stream",
     "text": [
      "    getting account html_soup is done.\n    getting account info is done.\n    storing data is done\n    progress... : 19 / 20 mid\n"
     ]
    },
    {
     "name": "stdout",
     "output_type": "stream",
     "text": [
      "    getting account_link is done.\n    getting feed info is done\n"
     ]
    },
    {
     "name": "stdout",
     "output_type": "stream",
     "text": [
      "    getting account html_soup is done.\n    getting account info is done.\n    storing data is done\nprogress... : 22 / 38 feed link\n"
     ]
    },
    {
     "name": "stdout",
     "output_type": "stream",
     "text": [
      "getting feed html_soup is done.\ngetting mid_list is done.\n20 mids are detected.\n    progress... : 0 / 20 mid\n"
     ]
    },
    {
     "name": "stdout",
     "output_type": "stream",
     "text": [
      "    getting account_link is done.\n    getting feed info is done\n"
     ]
    },
    {
     "name": "stdout",
     "output_type": "stream",
     "text": [
      "    getting account html_soup is done.\n    getting account info is done.\n    storing data is done\n    progress... : 1 / 20 mid\n"
     ]
    },
    {
     "name": "stdout",
     "output_type": "stream",
     "text": [
      "    getting account_link is done.\n    getting feed info is done\n"
     ]
    },
    {
     "name": "stdout",
     "output_type": "stream",
     "text": [
      "    getting account html_soup is done.\n    getting account info is done.\n    storing data is done\n    progress... : 2 / 20 mid\n"
     ]
    },
    {
     "name": "stdout",
     "output_type": "stream",
     "text": [
      "    getting account_link is done.\n    getting feed info is done\n"
     ]
    },
    {
     "name": "stdout",
     "output_type": "stream",
     "text": [
      "    getting account html_soup is done.\n    getting account info is done.\n    storing data is done\n    progress... : 3 / 20 mid\n"
     ]
    },
    {
     "name": "stdout",
     "output_type": "stream",
     "text": [
      "    getting account_link is done.\n    getting feed info is done\n"
     ]
    },
    {
     "name": "stdout",
     "output_type": "stream",
     "text": [
      "    getting account html_soup is done.\n    getting account info is done.\n    storing data is done\n    progress... : 4 / 20 mid\n"
     ]
    },
    {
     "name": "stdout",
     "output_type": "stream",
     "text": [
      "    getting account_link is done.\n    getting feed info is done\n"
     ]
    },
    {
     "name": "stdout",
     "output_type": "stream",
     "text": [
      "    getting account html_soup is done.\n    getting account info is done.\n    storing data is done\n    progress... : 5 / 20 mid\n"
     ]
    },
    {
     "name": "stdout",
     "output_type": "stream",
     "text": [
      "    getting account_link is done.\n    getting feed info is done\n"
     ]
    },
    {
     "name": "stdout",
     "output_type": "stream",
     "text": [
      "    getting account html_soup is done.\n    getting account info is done.\n    storing data is done\n    progress... : 6 / 20 mid\n"
     ]
    },
    {
     "name": "stdout",
     "output_type": "stream",
     "text": [
      "    getting account_link is done.\n    getting feed info is done\n"
     ]
    },
    {
     "name": "stdout",
     "output_type": "stream",
     "text": [
      "    getting account html_soup is done.\n    getting account info is done.\n    storing data is done\n    progress... : 7 / 20 mid\n"
     ]
    },
    {
     "name": "stdout",
     "output_type": "stream",
     "text": [
      "    getting account_link is done.\n    getting feed info is done\n"
     ]
    },
    {
     "name": "stdout",
     "output_type": "stream",
     "text": [
      "    getting account html_soup is done.\n    getting account info is done.\n    storing data is done\n    progress... : 8 / 20 mid\n"
     ]
    },
    {
     "name": "stdout",
     "output_type": "stream",
     "text": [
      "    getting account_link is done.\n    getting feed info is done\n"
     ]
    },
    {
     "name": "stdout",
     "output_type": "stream",
     "text": [
      "    getting account html_soup is done.\n    getting account info is done.\n    storing data is done\n    progress... : 9 / 20 mid\n"
     ]
    },
    {
     "name": "stdout",
     "output_type": "stream",
     "text": [
      "    getting account_link is done.\n    getting feed info is done\n"
     ]
    },
    {
     "name": "stdout",
     "output_type": "stream",
     "text": [
      "    getting account html_soup is done.\n    getting account info is done.\n    storing data is done\n    progress... : 10 / 20 mid\n"
     ]
    },
    {
     "name": "stdout",
     "output_type": "stream",
     "text": [
      "    getting account_link is done.\n    getting feed info is done\n"
     ]
    },
    {
     "name": "stdout",
     "output_type": "stream",
     "text": [
      "    getting account html_soup is done.\n    getting account info is done.\n    storing data is done\n    progress... : 11 / 20 mid\n"
     ]
    },
    {
     "name": "stdout",
     "output_type": "stream",
     "text": [
      "    getting account_link is done.\n    getting feed info is done\n"
     ]
    },
    {
     "name": "stdout",
     "output_type": "stream",
     "text": [
      "    getting account html_soup is done.\n    getting account info is done.\n    storing data is done\n    progress... : 12 / 20 mid\n"
     ]
    },
    {
     "name": "stdout",
     "output_type": "stream",
     "text": [
      "    getting account_link is done.\n    getting feed info is done\n"
     ]
    },
    {
     "name": "stdout",
     "output_type": "stream",
     "text": [
      "    getting account html_soup is done.\n    getting account info is done.\n    storing data is done\n    progress... : 13 / 20 mid\n"
     ]
    },
    {
     "name": "stdout",
     "output_type": "stream",
     "text": [
      "    getting account_link is done.\n    getting feed info is done\n"
     ]
    },
    {
     "name": "stdout",
     "output_type": "stream",
     "text": [
      "    getting account html_soup is done.\n    getting account info is done.\n    storing data is done\n    progress... : 14 / 20 mid\n"
     ]
    },
    {
     "name": "stdout",
     "output_type": "stream",
     "text": [
      "    getting account_link is done.\n    getting feed info is done\n"
     ]
    },
    {
     "name": "stdout",
     "output_type": "stream",
     "text": [
      "    getting account html_soup is done.\n    getting account info is done.\n    storing data is done\n    progress... : 15 / 20 mid\n"
     ]
    },
    {
     "name": "stdout",
     "output_type": "stream",
     "text": [
      "    getting account_link is done.\n    getting feed info is done\n"
     ]
    },
    {
     "name": "stdout",
     "output_type": "stream",
     "text": [
      "    getting account html_soup is done.\n    getting account info is done.\n    storing data is done\n    progress... : 16 / 20 mid\n"
     ]
    },
    {
     "name": "stdout",
     "output_type": "stream",
     "text": [
      "    getting account_link is done.\n    getting feed info is done\n"
     ]
    },
    {
     "name": "stdout",
     "output_type": "stream",
     "text": [
      "    getting account html_soup is done.\n    getting account info is done.\n    storing data is done\n    progress... : 17 / 20 mid\n"
     ]
    },
    {
     "name": "stdout",
     "output_type": "stream",
     "text": [
      "    getting account_link is done.\n    getting feed info is done\n"
     ]
    },
    {
     "name": "stdout",
     "output_type": "stream",
     "text": [
      "    getting account html_soup is done.\n    getting account info is done.\n    storing data is done\n    progress... : 18 / 20 mid\n"
     ]
    },
    {
     "name": "stdout",
     "output_type": "stream",
     "text": [
      "    getting account_link is done.\n    getting feed info is done\n"
     ]
    },
    {
     "name": "stdout",
     "output_type": "stream",
     "text": [
      "    getting account html_soup is done.\n    getting account info is done.\n    storing data is done\n    progress... : 19 / 20 mid\n"
     ]
    },
    {
     "name": "stdout",
     "output_type": "stream",
     "text": [
      "    getting account_link is done.\n    getting feed info is done\n"
     ]
    },
    {
     "name": "stdout",
     "output_type": "stream",
     "text": [
      "    getting account html_soup is done.\n    getting account info is done.\n    storing data is done\nprogress... : 23 / 38 feed link\n"
     ]
    },
    {
     "name": "stdout",
     "output_type": "stream",
     "text": [
      "getting feed html_soup is done.\ngetting mid_list is done.\n20 mids are detected.\n    progress... : 0 / 20 mid\n"
     ]
    },
    {
     "name": "stdout",
     "output_type": "stream",
     "text": [
      "    getting account_link is done.\n    getting feed info is done\n"
     ]
    },
    {
     "name": "stdout",
     "output_type": "stream",
     "text": [
      "    getting account html_soup is done.\n    getting account info is done.\n    storing data is done\n    progress... : 1 / 20 mid\n"
     ]
    },
    {
     "name": "stdout",
     "output_type": "stream",
     "text": [
      "    getting account_link is done.\n    getting feed info is done\n"
     ]
    },
    {
     "name": "stdout",
     "output_type": "stream",
     "text": [
      "    getting account html_soup is done.\n    getting account info is done.\n    storing data is done\n    progress... : 2 / 20 mid\n"
     ]
    },
    {
     "name": "stdout",
     "output_type": "stream",
     "text": [
      "    getting account_link is done.\n    getting feed info is done\n"
     ]
    },
    {
     "name": "stdout",
     "output_type": "stream",
     "text": [
      "    getting account html_soup is done.\n    getting account info is done.\n    storing data is done\n    progress... : 3 / 20 mid\n"
     ]
    },
    {
     "name": "stdout",
     "output_type": "stream",
     "text": [
      "    getting account_link is done.\n    getting feed info is done\n"
     ]
    },
    {
     "name": "stdout",
     "output_type": "stream",
     "text": [
      "    getting account html_soup is done.\n    getting account info is done.\n    storing data is done\n    progress... : 4 / 20 mid\n"
     ]
    },
    {
     "name": "stdout",
     "output_type": "stream",
     "text": [
      "    getting account_link is done.\n    getting feed info is done\n"
     ]
    },
    {
     "name": "stdout",
     "output_type": "stream",
     "text": [
      "    getting account html_soup is done.\n    getting account info is done.\n    storing data is done\n    progress... : 5 / 20 mid\n"
     ]
    },
    {
     "name": "stdout",
     "output_type": "stream",
     "text": [
      "    getting account_link is done.\n    getting feed info is done\n"
     ]
    },
    {
     "name": "stdout",
     "output_type": "stream",
     "text": [
      "    getting account html_soup is done.\n    getting account info is done.\n    storing data is done\n    progress... : 6 / 20 mid\n"
     ]
    },
    {
     "name": "stdout",
     "output_type": "stream",
     "text": [
      "    getting account_link is done.\n    getting feed info is done\n"
     ]
    },
    {
     "name": "stdout",
     "output_type": "stream",
     "text": [
      "    getting account html_soup is done.\n    getting account info is done.\n    storing data is done\n    progress... : 7 / 20 mid\n"
     ]
    },
    {
     "name": "stdout",
     "output_type": "stream",
     "text": [
      "    getting account_link is done.\n    getting feed info is done\n"
     ]
    },
    {
     "name": "stdout",
     "output_type": "stream",
     "text": [
      "    getting account html_soup is done.\n    getting account info is done.\n    storing data is done\n    progress... : 8 / 20 mid\n"
     ]
    },
    {
     "name": "stdout",
     "output_type": "stream",
     "text": [
      "    getting account_link is done.\n    getting feed info is done\n"
     ]
    },
    {
     "name": "stdout",
     "output_type": "stream",
     "text": [
      "    getting account html_soup is done.\n    getting account info is done.\n    storing data is done\n    progress... : 9 / 20 mid\n"
     ]
    },
    {
     "name": "stdout",
     "output_type": "stream",
     "text": [
      "    getting account_link is done.\n    getting feed info is done\n"
     ]
    },
    {
     "name": "stdout",
     "output_type": "stream",
     "text": [
      "    getting account html_soup is done.\n    getting account info is done.\n    storing data is done\n    progress... : 10 / 20 mid\n"
     ]
    },
    {
     "name": "stdout",
     "output_type": "stream",
     "text": [
      "    getting account_link is done.\n    getting feed info is done\n"
     ]
    },
    {
     "name": "stdout",
     "output_type": "stream",
     "text": [
      "    getting account html_soup is done.\n    getting account info is done.\n    storing data is done\n    progress... : 11 / 20 mid\n"
     ]
    },
    {
     "name": "stdout",
     "output_type": "stream",
     "text": [
      "    getting account_link is done.\n    getting feed info is done\n"
     ]
    },
    {
     "name": "stdout",
     "output_type": "stream",
     "text": [
      "    getting account html_soup is done.\n    getting account info is done.\n    storing data is done\n    progress... : 12 / 20 mid\n"
     ]
    },
    {
     "name": "stdout",
     "output_type": "stream",
     "text": [
      "    getting account_link is done.\n    getting feed info is done\n"
     ]
    },
    {
     "name": "stdout",
     "output_type": "stream",
     "text": [
      "    getting account html_soup is done.\n    getting account info is done.\n    storing data is done\n    progress... : 13 / 20 mid\n"
     ]
    },
    {
     "name": "stdout",
     "output_type": "stream",
     "text": [
      "    getting account_link is done.\n    getting feed info is done\n"
     ]
    },
    {
     "name": "stdout",
     "output_type": "stream",
     "text": [
      "    getting account html_soup is done.\n    getting account info is done.\n    storing data is done\n    progress... : 14 / 20 mid\n"
     ]
    },
    {
     "name": "stdout",
     "output_type": "stream",
     "text": [
      "    getting account_link is done.\n    getting feed info is done\n"
     ]
    },
    {
     "name": "stdout",
     "output_type": "stream",
     "text": [
      "    getting account html_soup is done.\n    getting account info is done.\n    storing data is done\n    progress... : 15 / 20 mid\n"
     ]
    },
    {
     "name": "stdout",
     "output_type": "stream",
     "text": [
      "    getting account_link is done.\n    getting feed info is done\n"
     ]
    },
    {
     "name": "stdout",
     "output_type": "stream",
     "text": [
      "    getting account html_soup is done.\n    getting account info is done.\n    storing data is done\n    progress... : 16 / 20 mid\n"
     ]
    },
    {
     "name": "stdout",
     "output_type": "stream",
     "text": [
      "    getting account_link is done.\n    getting feed info is done\n"
     ]
    },
    {
     "name": "stdout",
     "output_type": "stream",
     "text": [
      "    getting account html_soup is done.\n    getting account info is done.\n    storing data is done\n    progress... : 17 / 20 mid\n"
     ]
    },
    {
     "name": "stdout",
     "output_type": "stream",
     "text": [
      "    getting account_link is done.\n    getting feed info is done\n"
     ]
    },
    {
     "name": "stdout",
     "output_type": "stream",
     "text": [
      "    getting account html_soup is done.\n    getting account info is done.\n    storing data is done\n    progress... : 18 / 20 mid\n"
     ]
    },
    {
     "name": "stdout",
     "output_type": "stream",
     "text": [
      "    getting account_link is done.\n    getting feed info is done\n"
     ]
    },
    {
     "name": "stdout",
     "output_type": "stream",
     "text": [
      "    getting account html_soup is done.\n    getting account info is done.\n    storing data is done\n    progress... : 19 / 20 mid\n"
     ]
    },
    {
     "name": "stdout",
     "output_type": "stream",
     "text": [
      "    getting account_link is done.\n    getting feed info is done\n"
     ]
    },
    {
     "name": "stdout",
     "output_type": "stream",
     "text": [
      "    getting account html_soup is done.\n    getting account info is done.\n    storing data is done\nprogress... : 24 / 38 feed link\n"
     ]
    },
    {
     "name": "stdout",
     "output_type": "stream",
     "text": [
      "getting feed html_soup is done.\ngetting mid_list is done.\n19 mids are detected.\n    progress... : 0 / 19 mid\n"
     ]
    },
    {
     "name": "stdout",
     "output_type": "stream",
     "text": [
      "    getting account_link is done.\n    getting feed info is done\n"
     ]
    },
    {
     "name": "stdout",
     "output_type": "stream",
     "text": [
      "    getting account html_soup is done.\n    getting account info is done.\n    storing data is done\n    progress... : 1 / 19 mid\n"
     ]
    },
    {
     "name": "stdout",
     "output_type": "stream",
     "text": [
      "    getting account_link is done.\n    getting feed info is done\n"
     ]
    },
    {
     "name": "stdout",
     "output_type": "stream",
     "text": [
      "    getting account html_soup is done.\n    getting account info is done.\n    storing data is done\n    progress... : 2 / 19 mid\n"
     ]
    },
    {
     "name": "stdout",
     "output_type": "stream",
     "text": [
      "    getting account_link is done.\n    getting feed info is done\n"
     ]
    },
    {
     "name": "stdout",
     "output_type": "stream",
     "text": [
      "    getting account html_soup is done.\n    getting account info is done.\n    storing data is done\n    progress... : 3 / 19 mid\n"
     ]
    },
    {
     "name": "stdout",
     "output_type": "stream",
     "text": [
      "    getting account_link is done.\n    getting feed info is done\n"
     ]
    },
    {
     "name": "stdout",
     "output_type": "stream",
     "text": [
      "    getting account html_soup is done.\n    getting account info is done.\n    storing data is done\n    progress... : 4 / 19 mid\n"
     ]
    },
    {
     "name": "stdout",
     "output_type": "stream",
     "text": [
      "    getting account_link is done.\n    getting feed info is done\n"
     ]
    },
    {
     "name": "stdout",
     "output_type": "stream",
     "text": [
      "    getting account html_soup is done.\n    getting account info is done.\n    storing data is done\n    progress... : 5 / 19 mid\n"
     ]
    },
    {
     "name": "stdout",
     "output_type": "stream",
     "text": [
      "    getting account_link is done.\n    getting feed info is done\n"
     ]
    },
    {
     "name": "stdout",
     "output_type": "stream",
     "text": [
      "    getting account html_soup is done.\n    getting account info is done.\n    storing data is done\n    progress... : 6 / 19 mid\n"
     ]
    },
    {
     "name": "stdout",
     "output_type": "stream",
     "text": [
      "    getting account_link is done.\n    getting feed info is done\n"
     ]
    },
    {
     "name": "stdout",
     "output_type": "stream",
     "text": [
      "    getting account html_soup is done.\n    getting account info is done.\n    storing data is done\n    progress... : 7 / 19 mid\n"
     ]
    },
    {
     "name": "stdout",
     "output_type": "stream",
     "text": [
      "    getting account_link is done.\n    getting feed info is done\n"
     ]
    },
    {
     "name": "stdout",
     "output_type": "stream",
     "text": [
      "    getting account html_soup is done.\n    getting account info is done.\n    storing data is done\n    progress... : 8 / 19 mid\n"
     ]
    },
    {
     "name": "stdout",
     "output_type": "stream",
     "text": [
      "    getting account_link is done.\n    getting feed info is done\n"
     ]
    },
    {
     "name": "stdout",
     "output_type": "stream",
     "text": [
      "    getting account html_soup is done.\n    getting account info is done.\n    storing data is done\n    progress... : 9 / 19 mid\n"
     ]
    },
    {
     "name": "stdout",
     "output_type": "stream",
     "text": [
      "    getting account_link is done.\n    getting feed info is done\n"
     ]
    },
    {
     "name": "stdout",
     "output_type": "stream",
     "text": [
      "    getting account html_soup is done.\n    getting account info is done.\n    storing data is done\n    progress... : 10 / 19 mid\n"
     ]
    },
    {
     "name": "stdout",
     "output_type": "stream",
     "text": [
      "    getting account_link is done.\n    getting feed info is done\n"
     ]
    },
    {
     "name": "stdout",
     "output_type": "stream",
     "text": [
      "    getting account html_soup is done.\n    getting account info is done.\n    storing data is done\n    progress... : 11 / 19 mid\n"
     ]
    },
    {
     "name": "stdout",
     "output_type": "stream",
     "text": [
      "    getting account_link is done.\n    getting feed info is done\n"
     ]
    },
    {
     "name": "stdout",
     "output_type": "stream",
     "text": [
      "    getting account html_soup is done.\n"
     ]
    },
    {
     "name": "stdout",
     "output_type": "stream",
     "text": [
      "    getting account info is done.\n    storing data is done\n    progress... : 12 / 19 mid\n"
     ]
    },
    {
     "name": "stdout",
     "output_type": "stream",
     "text": [
      "    getting account_link is done.\n    getting feed info is done\n"
     ]
    },
    {
     "name": "stdout",
     "output_type": "stream",
     "text": [
      "    getting account html_soup is done.\n    getting account info is done.\n    storing data is done\n    progress... : 13 / 19 mid\n"
     ]
    },
    {
     "name": "stdout",
     "output_type": "stream",
     "text": [
      "    getting account_link is done.\n    getting feed info is done\n"
     ]
    },
    {
     "name": "stdout",
     "output_type": "stream",
     "text": [
      "    getting account html_soup is done.\n    getting account info is done.\n    storing data is done\n    progress... : 14 / 19 mid\n"
     ]
    },
    {
     "name": "stdout",
     "output_type": "stream",
     "text": [
      "    getting account_link is done.\n    getting feed info is done\n"
     ]
    },
    {
     "name": "stdout",
     "output_type": "stream",
     "text": [
      "    getting account html_soup is done.\n    getting account info is done.\n    storing data is done\n    progress... : 15 / 19 mid\n"
     ]
    },
    {
     "name": "stdout",
     "output_type": "stream",
     "text": [
      "    getting account_link is done.\n    getting feed info is done\n"
     ]
    },
    {
     "name": "stdout",
     "output_type": "stream",
     "text": [
      "    getting account html_soup is done.\n    getting account info is done.\n    storing data is done\n    progress... : 16 / 19 mid\n"
     ]
    },
    {
     "name": "stdout",
     "output_type": "stream",
     "text": [
      "    getting account_link is done.\n    getting feed info is done\n"
     ]
    },
    {
     "name": "stdout",
     "output_type": "stream",
     "text": [
      "    getting account html_soup is done.\n    getting account info is done.\n    storing data is done\n    progress... : 17 / 19 mid\n"
     ]
    },
    {
     "name": "stdout",
     "output_type": "stream",
     "text": [
      "    getting account_link is done.\n    getting feed info is done\n"
     ]
    },
    {
     "name": "stdout",
     "output_type": "stream",
     "text": [
      "    getting account html_soup is done.\n    getting account info is done.\n    storing data is done\n    progress... : 18 / 19 mid\n"
     ]
    },
    {
     "name": "stdout",
     "output_type": "stream",
     "text": [
      "    getting account_link is done.\n    getting feed info is done\n"
     ]
    },
    {
     "name": "stdout",
     "output_type": "stream",
     "text": [
      "    getting account html_soup is done.\n    getting account info is done.\n    storing data is done\nprogress... : 25 / 38 feed link\n"
     ]
    },
    {
     "name": "stdout",
     "output_type": "stream",
     "text": [
      "getting feed html_soup is done.\ngetting mid_list is done.\n20 mids are detected.\n    progress... : 0 / 20 mid\n"
     ]
    },
    {
     "name": "stdout",
     "output_type": "stream",
     "text": [
      "    getting account_link is done.\n    getting feed info is done\n"
     ]
    },
    {
     "name": "stdout",
     "output_type": "stream",
     "text": [
      "    getting account html_soup is done.\n    getting account info is done.\n    storing data is done\n    progress... : 1 / 20 mid\n"
     ]
    },
    {
     "name": "stdout",
     "output_type": "stream",
     "text": [
      "    getting account_link is done.\n    getting feed info is done\n"
     ]
    },
    {
     "name": "stdout",
     "output_type": "stream",
     "text": [
      "    getting account html_soup is done.\n    getting account info is done.\n    storing data is done\n    progress... : 2 / 20 mid\n"
     ]
    },
    {
     "name": "stdout",
     "output_type": "stream",
     "text": [
      "    getting account_link is done.\n    getting feed info is done\n"
     ]
    },
    {
     "name": "stdout",
     "output_type": "stream",
     "text": [
      "    getting account html_soup is done.\n    getting account info is done.\n    storing data is done\n    progress... : 3 / 20 mid\n"
     ]
    },
    {
     "name": "stdout",
     "output_type": "stream",
     "text": [
      "    getting account_link is done.\n    getting feed info is done\n"
     ]
    },
    {
     "name": "stdout",
     "output_type": "stream",
     "text": [
      "    getting account html_soup is done.\n    getting account info is done.\n    storing data is done\n    progress... : 4 / 20 mid\n"
     ]
    },
    {
     "name": "stdout",
     "output_type": "stream",
     "text": [
      "    getting account_link is done.\n    getting feed info is done\n"
     ]
    },
    {
     "name": "stdout",
     "output_type": "stream",
     "text": [
      "    getting account html_soup is done.\n    getting account info is done.\n    storing data is done\n    progress... : 5 / 20 mid\n"
     ]
    },
    {
     "name": "stdout",
     "output_type": "stream",
     "text": [
      "    getting account_link is done.\n    getting feed info is done\n"
     ]
    },
    {
     "name": "stdout",
     "output_type": "stream",
     "text": [
      "    getting account html_soup is done.\n    getting account info is done.\n    storing data is done\n    progress... : 6 / 20 mid\n"
     ]
    },
    {
     "name": "stdout",
     "output_type": "stream",
     "text": [
      "    getting account_link is done.\n    getting feed info is done\n"
     ]
    },
    {
     "name": "stdout",
     "output_type": "stream",
     "text": [
      "    getting account html_soup is done.\n    getting account info is done.\n    storing data is done\n    progress... : 7 / 20 mid\n"
     ]
    },
    {
     "name": "stdout",
     "output_type": "stream",
     "text": [
      "    getting account_link is done.\n    getting feed info is done\n"
     ]
    },
    {
     "name": "stdout",
     "output_type": "stream",
     "text": [
      "    getting account html_soup is done.\n    getting account info is done.\n    storing data is done\n    progress... : 8 / 20 mid\n"
     ]
    },
    {
     "name": "stdout",
     "output_type": "stream",
     "text": [
      "    getting account_link is done.\n    getting feed info is done\n"
     ]
    },
    {
     "name": "stdout",
     "output_type": "stream",
     "text": [
      "    getting account html_soup is done.\n    getting account info is done.\n    storing data is done\n    progress... : 9 / 20 mid\n"
     ]
    },
    {
     "name": "stdout",
     "output_type": "stream",
     "text": [
      "    getting account_link is done.\n    getting feed info is done\n"
     ]
    },
    {
     "name": "stdout",
     "output_type": "stream",
     "text": [
      "    getting account html_soup is done.\n    getting account info is done.\n    storing data is done\n    progress... : 10 / 20 mid\n"
     ]
    },
    {
     "name": "stdout",
     "output_type": "stream",
     "text": [
      "    getting account_link is done.\n    getting feed info is done\n"
     ]
    },
    {
     "name": "stdout",
     "output_type": "stream",
     "text": [
      "    getting account html_soup is done.\n    getting account info is done.\n    storing data is done\n    progress... : 11 / 20 mid\n"
     ]
    },
    {
     "name": "stdout",
     "output_type": "stream",
     "text": [
      "    getting account_link is done.\n    getting feed info is done\n"
     ]
    },
    {
     "name": "stdout",
     "output_type": "stream",
     "text": [
      "    getting account html_soup is done.\n    getting account info is done.\n    storing data is done\n    progress... : 12 / 20 mid\n"
     ]
    },
    {
     "name": "stdout",
     "output_type": "stream",
     "text": [
      "    getting account_link is done.\n    getting feed info is done\n"
     ]
    },
    {
     "name": "stdout",
     "output_type": "stream",
     "text": [
      "    getting account html_soup is done.\n    getting account info is done.\n    storing data is done\n    progress... : 13 / 20 mid\n"
     ]
    },
    {
     "name": "stdout",
     "output_type": "stream",
     "text": [
      "    getting account_link is done.\n    getting feed info is done\n"
     ]
    },
    {
     "name": "stdout",
     "output_type": "stream",
     "text": [
      "    getting account html_soup is done.\n    getting account info is done.\n    storing data is done\n    progress... : 14 / 20 mid\n"
     ]
    },
    {
     "name": "stdout",
     "output_type": "stream",
     "text": [
      "    getting account_link is done.\n    getting feed info is done\n"
     ]
    },
    {
     "name": "stdout",
     "output_type": "stream",
     "text": [
      "    getting account html_soup is done.\n    getting account info is done.\n    storing data is done\n    progress... : 15 / 20 mid\n"
     ]
    },
    {
     "name": "stdout",
     "output_type": "stream",
     "text": [
      "    getting account_link is done.\n    getting feed info is done\n"
     ]
    },
    {
     "name": "stdout",
     "output_type": "stream",
     "text": [
      "    getting account html_soup is done.\n    getting account info is done.\n    storing data is done\n    progress... : 16 / 20 mid\n"
     ]
    },
    {
     "name": "stdout",
     "output_type": "stream",
     "text": [
      "    getting account_link is done.\n    getting feed info is done\n"
     ]
    },
    {
     "name": "stdout",
     "output_type": "stream",
     "text": [
      "    getting account html_soup is done.\n    getting account info is done.\n    storing data is done\n    progress... : 17 / 20 mid\n"
     ]
    },
    {
     "name": "stdout",
     "output_type": "stream",
     "text": [
      "    getting account_link is done.\n    getting feed info is done\n"
     ]
    },
    {
     "name": "stdout",
     "output_type": "stream",
     "text": [
      "    getting account html_soup is done.\n    getting account info is done.\n    storing data is done\n    progress... : 18 / 20 mid\n"
     ]
    },
    {
     "name": "stdout",
     "output_type": "stream",
     "text": [
      "    getting account_link is done.\n    getting feed info is done\n"
     ]
    },
    {
     "name": "stdout",
     "output_type": "stream",
     "text": [
      "    getting account html_soup is done.\n    getting account info is done.\n    storing data is done\n    progress... : 19 / 20 mid\n"
     ]
    },
    {
     "name": "stdout",
     "output_type": "stream",
     "text": [
      "    getting account_link is done.\n    getting feed info is done\n"
     ]
    },
    {
     "name": "stdout",
     "output_type": "stream",
     "text": [
      "    getting account html_soup is done.\n    getting account info is done.\n    storing data is done\nprogress... : 26 / 38 feed link\n"
     ]
    },
    {
     "name": "stdout",
     "output_type": "stream",
     "text": [
      "getting feed html_soup is done.\ngetting mid_list is done.\n20 mids are detected.\n    progress... : 0 / 20 mid\n"
     ]
    },
    {
     "name": "stdout",
     "output_type": "stream",
     "text": [
      "    getting account_link is done.\n    getting feed info is done\n"
     ]
    },
    {
     "name": "stdout",
     "output_type": "stream",
     "text": [
      "    getting account html_soup is done.\n    getting account info is done.\n    storing data is done\n    progress... : 1 / 20 mid\n"
     ]
    },
    {
     "name": "stdout",
     "output_type": "stream",
     "text": [
      "    getting account_link is done.\n    getting feed info is done\n"
     ]
    },
    {
     "name": "stdout",
     "output_type": "stream",
     "text": [
      "    getting account html_soup is done.\n    getting account info is done.\n    storing data is done\n    progress... : 2 / 20 mid\n"
     ]
    },
    {
     "name": "stdout",
     "output_type": "stream",
     "text": [
      "    getting account_link is done.\n    getting feed info is done\n"
     ]
    },
    {
     "name": "stdout",
     "output_type": "stream",
     "text": [
      "    getting account html_soup is done.\n    getting account info is done.\n    storing data is done\n    progress... : 3 / 20 mid\n"
     ]
    },
    {
     "name": "stdout",
     "output_type": "stream",
     "text": [
      "    getting account_link is done.\n    getting feed info is done\n"
     ]
    },
    {
     "name": "stdout",
     "output_type": "stream",
     "text": [
      "    getting account html_soup is done.\n    getting account info is done.\n    storing data is done\n    progress... : 4 / 20 mid\n"
     ]
    },
    {
     "name": "stdout",
     "output_type": "stream",
     "text": [
      "    getting account_link is done.\n    getting feed info is done\n"
     ]
    },
    {
     "name": "stdout",
     "output_type": "stream",
     "text": [
      "    getting account html_soup is done.\n    getting account info is done.\n    storing data is done\n    progress... : 5 / 20 mid\n"
     ]
    },
    {
     "name": "stdout",
     "output_type": "stream",
     "text": [
      "    getting account_link is done.\n    getting feed info is done\n"
     ]
    },
    {
     "name": "stdout",
     "output_type": "stream",
     "text": [
      "    getting account html_soup is done.\n    getting account info is done.\n    storing data is done\n    progress... : 6 / 20 mid\n"
     ]
    },
    {
     "name": "stdout",
     "output_type": "stream",
     "text": [
      "    getting account_link is done.\n    getting feed info is done\n"
     ]
    },
    {
     "name": "stdout",
     "output_type": "stream",
     "text": [
      "    getting account html_soup is done.\n    getting account info is done.\n    storing data is done\n    progress... : 7 / 20 mid\n"
     ]
    },
    {
     "name": "stdout",
     "output_type": "stream",
     "text": [
      "    getting account_link is done.\n    getting feed info is done\n"
     ]
    },
    {
     "name": "stdout",
     "output_type": "stream",
     "text": [
      "    getting account html_soup is done.\n    getting account info is done.\n    storing data is done\n    progress... : 8 / 20 mid\n"
     ]
    },
    {
     "name": "stdout",
     "output_type": "stream",
     "text": [
      "    getting account_link is done.\n    getting feed info is done\n"
     ]
    },
    {
     "name": "stdout",
     "output_type": "stream",
     "text": [
      "    getting account html_soup is done.\n    getting account info is done.\n    storing data is done\n    progress... : 9 / 20 mid\n"
     ]
    },
    {
     "name": "stdout",
     "output_type": "stream",
     "text": [
      "    getting account_link is done.\n    getting feed info is done\n"
     ]
    },
    {
     "name": "stdout",
     "output_type": "stream",
     "text": [
      "    getting account html_soup is done.\n    getting account info is done.\n    storing data is done\n    progress... : 10 / 20 mid\n"
     ]
    },
    {
     "name": "stdout",
     "output_type": "stream",
     "text": [
      "    getting account_link is done.\n    getting feed info is done\n"
     ]
    },
    {
     "name": "stdout",
     "output_type": "stream",
     "text": [
      "    getting account html_soup is done.\n    getting account info is done.\n    storing data is done\n    progress... : 11 / 20 mid\n"
     ]
    },
    {
     "name": "stdout",
     "output_type": "stream",
     "text": [
      "    getting account_link is done.\n    getting feed info is done\n"
     ]
    },
    {
     "name": "stdout",
     "output_type": "stream",
     "text": [
      "    getting account html_soup is done.\n    getting account info is done.\n    storing data is done\n    progress... : 12 / 20 mid\n"
     ]
    },
    {
     "name": "stdout",
     "output_type": "stream",
     "text": [
      "    getting account_link is done.\n    getting feed info is done\n"
     ]
    },
    {
     "name": "stdout",
     "output_type": "stream",
     "text": [
      "    getting account html_soup is done.\n    getting account info is done.\n    storing data is done\n    progress... : 13 / 20 mid\n"
     ]
    },
    {
     "name": "stdout",
     "output_type": "stream",
     "text": [
      "    getting account_link is done.\n    getting feed info is done\n"
     ]
    },
    {
     "name": "stdout",
     "output_type": "stream",
     "text": [
      "    getting account html_soup is done.\n    getting account info is done.\n    storing data is done\n    progress... : 14 / 20 mid\n"
     ]
    },
    {
     "name": "stdout",
     "output_type": "stream",
     "text": [
      "    getting account_link is done.\n    getting feed info is done\n"
     ]
    },
    {
     "name": "stdout",
     "output_type": "stream",
     "text": [
      "    getting account html_soup is done.\n    getting account info is done.\n    storing data is done\n    progress... : 15 / 20 mid\n"
     ]
    },
    {
     "name": "stdout",
     "output_type": "stream",
     "text": [
      "    getting account_link is done.\n    getting feed info is done\n"
     ]
    },
    {
     "name": "stdout",
     "output_type": "stream",
     "text": [
      "    getting account html_soup is done.\n    getting account info is done.\n    storing data is done\n    progress... : 16 / 20 mid\n"
     ]
    },
    {
     "name": "stdout",
     "output_type": "stream",
     "text": [
      "    getting account_link is done.\n    getting feed info is done\n"
     ]
    },
    {
     "name": "stdout",
     "output_type": "stream",
     "text": [
      "    getting account html_soup is done.\n    getting account info is done.\n    storing data is done\n    progress... : 17 / 20 mid\n"
     ]
    },
    {
     "name": "stdout",
     "output_type": "stream",
     "text": [
      "    getting account_link is done.\n    getting feed info is done\n"
     ]
    },
    {
     "name": "stdout",
     "output_type": "stream",
     "text": [
      "    getting account html_soup is done.\n    getting account info is done.\n    storing data is done\n    progress... : 18 / 20 mid\n"
     ]
    },
    {
     "name": "stdout",
     "output_type": "stream",
     "text": [
      "    getting account_link is done.\n    getting feed info is done\n"
     ]
    },
    {
     "name": "stdout",
     "output_type": "stream",
     "text": [
      "    getting account html_soup is done.\n    getting account info is done.\n    storing data is done\n    progress... : 19 / 20 mid\n"
     ]
    },
    {
     "name": "stdout",
     "output_type": "stream",
     "text": [
      "    getting account_link is done.\n    getting feed info is done\n"
     ]
    },
    {
     "name": "stdout",
     "output_type": "stream",
     "text": [
      "    getting account html_soup is done.\n    getting account info is done.\n    storing data is done\nprogress... : 27 / 38 feed link\n"
     ]
    },
    {
     "ename": "TimeoutException",
     "evalue": "Message: timeout\n  (Session info: chrome=74.0.3726.0)\n  (Driver info: chromedriver=2.44.609545 (c2f88692e98ce7233d2df7c724465ecacfe74df5),platform=Mac OS X 10.14.1 x86_64)\n",
     "traceback": [
      "\u001b[0;31m---------------------------------------------------------------------------\u001b[0m",
      "\u001b[0;31mTimeoutException\u001b[0m                          Traceback (most recent call last)",
      "\u001b[0;32m<ipython-input-58-504e33ebfe94>\u001b[0m in \u001b[0;36m<module>\u001b[0;34m()\u001b[0m\n\u001b[1;32m     50\u001b[0m     \u001b[0mprint\u001b[0m\u001b[0;34m(\u001b[0m\u001b[0;34m'progress... : {} / {} feed link'\u001b[0m\u001b[0;34m.\u001b[0m\u001b[0mformat\u001b[0m\u001b[0;34m(\u001b[0m\u001b[0mi\u001b[0m\u001b[0;34m,\u001b[0m \u001b[0mlen\u001b[0m\u001b[0;34m(\u001b[0m\u001b[0mfeed_links\u001b[0m\u001b[0;34m)\u001b[0m\u001b[0;34m)\u001b[0m\u001b[0;34m)\u001b[0m\u001b[0;34m\u001b[0m\u001b[0;34m\u001b[0m\u001b[0m\n\u001b[1;32m     51\u001b[0m     \u001b[0;31m# フィードのhtmlを取得\u001b[0m\u001b[0;34m\u001b[0m\u001b[0;34m\u001b[0m\u001b[0;34m\u001b[0m\u001b[0m\n\u001b[0;32m---> 52\u001b[0;31m     \u001b[0mfeed_html_soup\u001b[0m \u001b[0;34m=\u001b[0m \u001b[0mget_feed_html_soup\u001b[0m\u001b[0;34m(\u001b[0m\u001b[0mdriver\u001b[0m\u001b[0;34m,\u001b[0m \u001b[0mfeed_link\u001b[0m\u001b[0;34m)\u001b[0m\u001b[0;34m\u001b[0m\u001b[0;34m\u001b[0m\u001b[0m\n\u001b[0m\u001b[1;32m     53\u001b[0m     \u001b[0mprint\u001b[0m\u001b[0;34m(\u001b[0m\u001b[0;34m'getting feed html_soup is done.'\u001b[0m\u001b[0;34m)\u001b[0m\u001b[0;34m\u001b[0m\u001b[0;34m\u001b[0m\u001b[0m\n\u001b[1;32m     54\u001b[0m \u001b[0;34m\u001b[0m\u001b[0m\n",
      "\u001b[0;32m<ipython-input-3-b88b1a8dc66f>\u001b[0m in \u001b[0;36mget_feed_html_soup\u001b[0;34m(driver, url)\u001b[0m\n\u001b[1;32m      6\u001b[0m \u001b[0;34m\u001b[0m\u001b[0m\n\u001b[1;32m      7\u001b[0m \u001b[0;32mdef\u001b[0m \u001b[0mget_feed_html_soup\u001b[0m\u001b[0;34m(\u001b[0m\u001b[0mdriver\u001b[0m\u001b[0;34m,\u001b[0m \u001b[0murl\u001b[0m\u001b[0;34m)\u001b[0m\u001b[0;34m:\u001b[0m\u001b[0;34m\u001b[0m\u001b[0;34m\u001b[0m\u001b[0m\n\u001b[0;32m----> 8\u001b[0;31m     \u001b[0mdriver\u001b[0m\u001b[0;34m.\u001b[0m\u001b[0mget\u001b[0m\u001b[0;34m(\u001b[0m\u001b[0murl\u001b[0m\u001b[0;34m)\u001b[0m\u001b[0;34m\u001b[0m\u001b[0;34m\u001b[0m\u001b[0m\n\u001b[0m\u001b[1;32m      9\u001b[0m     \u001b[0mhtml\u001b[0m \u001b[0;34m=\u001b[0m \u001b[0mdriver\u001b[0m\u001b[0;34m.\u001b[0m\u001b[0mpage_source\u001b[0m\u001b[0;34m.\u001b[0m\u001b[0mencode\u001b[0m\u001b[0;34m(\u001b[0m\u001b[0;34m'utf-8'\u001b[0m\u001b[0;34m)\u001b[0m\u001b[0;34m\u001b[0m\u001b[0;34m\u001b[0m\u001b[0m\n\u001b[1;32m     10\u001b[0m     \u001b[0mhtml_soup\u001b[0m \u001b[0;34m=\u001b[0m \u001b[0mBeautifulSoup\u001b[0m\u001b[0;34m(\u001b[0m\u001b[0mhtml\u001b[0m\u001b[0;34m,\u001b[0m \u001b[0;34m\"html.parser\"\u001b[0m\u001b[0;34m)\u001b[0m\u001b[0;34m\u001b[0m\u001b[0;34m\u001b[0m\u001b[0m\n",
      "\u001b[0;32m/Users/higashi/PycharmProjects/WeiboScraping/venv/lib/python3.7/site-packages/selenium/webdriver/remote/webdriver.py\u001b[0m in \u001b[0;36mget\u001b[0;34m(self, url)\u001b[0m\n\u001b[1;32m    331\u001b[0m         \u001b[0mLoads\u001b[0m \u001b[0ma\u001b[0m \u001b[0mweb\u001b[0m \u001b[0mpage\u001b[0m \u001b[0;32min\u001b[0m \u001b[0mthe\u001b[0m \u001b[0mcurrent\u001b[0m \u001b[0mbrowser\u001b[0m \u001b[0msession\u001b[0m\u001b[0;34m.\u001b[0m\u001b[0;34m\u001b[0m\u001b[0;34m\u001b[0m\u001b[0m\n\u001b[1;32m    332\u001b[0m         \"\"\"\n\u001b[0;32m--> 333\u001b[0;31m         \u001b[0mself\u001b[0m\u001b[0;34m.\u001b[0m\u001b[0mexecute\u001b[0m\u001b[0;34m(\u001b[0m\u001b[0mCommand\u001b[0m\u001b[0;34m.\u001b[0m\u001b[0mGET\u001b[0m\u001b[0;34m,\u001b[0m \u001b[0;34m{\u001b[0m\u001b[0;34m'url'\u001b[0m\u001b[0;34m:\u001b[0m \u001b[0murl\u001b[0m\u001b[0;34m}\u001b[0m\u001b[0;34m)\u001b[0m\u001b[0;34m\u001b[0m\u001b[0;34m\u001b[0m\u001b[0m\n\u001b[0m\u001b[1;32m    334\u001b[0m \u001b[0;34m\u001b[0m\u001b[0m\n\u001b[1;32m    335\u001b[0m     \u001b[0;34m@\u001b[0m\u001b[0mproperty\u001b[0m\u001b[0;34m\u001b[0m\u001b[0;34m\u001b[0m\u001b[0m\n",
      "\u001b[0;32m/Users/higashi/PycharmProjects/WeiboScraping/venv/lib/python3.7/site-packages/selenium/webdriver/remote/webdriver.py\u001b[0m in \u001b[0;36mexecute\u001b[0;34m(self, driver_command, params)\u001b[0m\n\u001b[1;32m    319\u001b[0m         \u001b[0mresponse\u001b[0m \u001b[0;34m=\u001b[0m \u001b[0mself\u001b[0m\u001b[0;34m.\u001b[0m\u001b[0mcommand_executor\u001b[0m\u001b[0;34m.\u001b[0m\u001b[0mexecute\u001b[0m\u001b[0;34m(\u001b[0m\u001b[0mdriver_command\u001b[0m\u001b[0;34m,\u001b[0m \u001b[0mparams\u001b[0m\u001b[0;34m)\u001b[0m\u001b[0;34m\u001b[0m\u001b[0;34m\u001b[0m\u001b[0m\n\u001b[1;32m    320\u001b[0m         \u001b[0;32mif\u001b[0m \u001b[0mresponse\u001b[0m\u001b[0;34m:\u001b[0m\u001b[0;34m\u001b[0m\u001b[0;34m\u001b[0m\u001b[0m\n\u001b[0;32m--> 321\u001b[0;31m             \u001b[0mself\u001b[0m\u001b[0;34m.\u001b[0m\u001b[0merror_handler\u001b[0m\u001b[0;34m.\u001b[0m\u001b[0mcheck_response\u001b[0m\u001b[0;34m(\u001b[0m\u001b[0mresponse\u001b[0m\u001b[0;34m)\u001b[0m\u001b[0;34m\u001b[0m\u001b[0;34m\u001b[0m\u001b[0m\n\u001b[0m\u001b[1;32m    322\u001b[0m             response['value'] = self._unwrap_value(\n\u001b[1;32m    323\u001b[0m                 response.get('value', None))\n",
      "\u001b[0;32m/Users/higashi/PycharmProjects/WeiboScraping/venv/lib/python3.7/site-packages/selenium/webdriver/remote/errorhandler.py\u001b[0m in \u001b[0;36mcheck_response\u001b[0;34m(self, response)\u001b[0m\n\u001b[1;32m    240\u001b[0m                 \u001b[0malert_text\u001b[0m \u001b[0;34m=\u001b[0m \u001b[0mvalue\u001b[0m\u001b[0;34m[\u001b[0m\u001b[0;34m'alert'\u001b[0m\u001b[0;34m]\u001b[0m\u001b[0;34m.\u001b[0m\u001b[0mget\u001b[0m\u001b[0;34m(\u001b[0m\u001b[0;34m'text'\u001b[0m\u001b[0;34m)\u001b[0m\u001b[0;34m\u001b[0m\u001b[0;34m\u001b[0m\u001b[0m\n\u001b[1;32m    241\u001b[0m             \u001b[0;32mraise\u001b[0m \u001b[0mexception_class\u001b[0m\u001b[0;34m(\u001b[0m\u001b[0mmessage\u001b[0m\u001b[0;34m,\u001b[0m \u001b[0mscreen\u001b[0m\u001b[0;34m,\u001b[0m \u001b[0mstacktrace\u001b[0m\u001b[0;34m,\u001b[0m \u001b[0malert_text\u001b[0m\u001b[0;34m)\u001b[0m\u001b[0;34m\u001b[0m\u001b[0;34m\u001b[0m\u001b[0m\n\u001b[0;32m--> 242\u001b[0;31m         \u001b[0;32mraise\u001b[0m \u001b[0mexception_class\u001b[0m\u001b[0;34m(\u001b[0m\u001b[0mmessage\u001b[0m\u001b[0;34m,\u001b[0m \u001b[0mscreen\u001b[0m\u001b[0;34m,\u001b[0m \u001b[0mstacktrace\u001b[0m\u001b[0;34m)\u001b[0m\u001b[0;34m\u001b[0m\u001b[0;34m\u001b[0m\u001b[0m\n\u001b[0m\u001b[1;32m    243\u001b[0m \u001b[0;34m\u001b[0m\u001b[0m\n\u001b[1;32m    244\u001b[0m     \u001b[0;32mdef\u001b[0m \u001b[0m_value_or_default\u001b[0m\u001b[0;34m(\u001b[0m\u001b[0mself\u001b[0m\u001b[0;34m,\u001b[0m \u001b[0mobj\u001b[0m\u001b[0;34m,\u001b[0m \u001b[0mkey\u001b[0m\u001b[0;34m,\u001b[0m \u001b[0mdefault\u001b[0m\u001b[0;34m)\u001b[0m\u001b[0;34m:\u001b[0m\u001b[0;34m\u001b[0m\u001b[0;34m\u001b[0m\u001b[0m\n",
      "\u001b[0;31mTimeoutException\u001b[0m: Message: timeout\n  (Session info: chrome=74.0.3726.0)\n  (Driver info: chromedriver=2.44.609545 (c2f88692e98ce7233d2df7c724465ecacfe74df5),platform=Mac OS X 10.14.1 x86_64)\n"
     ],
     "output_type": "error"
    }
   ],
   "source": [
    "\"\"\"\n",
    "テスト3\n",
    "\"\"\"\n",
    "\n",
    "# リストを準備\n",
    "account_names = []\n",
    "feed_times = []\n",
    "sentences = []\n",
    "shares = []\n",
    "comments = []\n",
    "goods = []\n",
    "ranks = []\n",
    "locations = []\n",
    "genders = []\n",
    "follows = []\n",
    "followers = []\n",
    "weiboes = []\n",
    "get_times = []\n",
    "types = []\n",
    "\n",
    "comment_account_names = []\n",
    "comment_sentences = []\n",
    "comment_types = []\n",
    "# コメントについては、下記情報は一旦保留\n",
    "comment_locations = []\n",
    "comment_genders = []\n",
    "comment_ranks = []\n",
    "comment_follows = []\n",
    "comment_followers = []\n",
    "comment_weiboes = []\n",
    "comment_post_times = []\n",
    "comment_get_times = []\n",
    "comment_shares = []\n",
    "comment_comments = []\n",
    "comment_goods = []\n",
    "\n",
    "# コメント取得実装のため一時的\n",
    "# count = 0\n",
    "\n",
    "# スタートリンクの設定\n",
    "start_url = 'https://s.weibo.com/weibo?q=toyota&wvr=6&b=1&display=0&retcode=6102&Refer=SWeibo_box'\n",
    "\n",
    "# フィードのリンクを全て取得\n",
    "feed_links = get_feed_links(start_url)\n",
    "print('getting feed links is done.')\n",
    "print('{} links are detected.'.format(len(feed_links)))\n",
    "\n",
    "# フィードページごとにデータ取得\n",
    "for i, feed_link in enumerate(feed_links):\n",
    "    print('progress... : {} / {} feed link'.format(i, len(feed_links)))\n",
    "    # フィードのhtmlを取得\n",
    "    feed_html_soup = get_feed_html_soup(driver, feed_link)\n",
    "    print('getting feed html_soup is done.')\n",
    "    \n",
    "    # commentボタンリストを取得\n",
    "    # elems, elems_suda_data = get_comment_button_list(driver)\n",
    "    \n",
    "    # midリストを取得\n",
    "    if feed_html_soup:\n",
    "        mids = get_mid_list(feed_html_soup)\n",
    "        print('getting mid_list is done.')\n",
    "        print('{} mids are detected.'.format(len(mids)))\n",
    "    else:\n",
    "        continue\n",
    "    # midごとにデータ取得\n",
    "    for j, mid in enumerate(mids):\n",
    "        print('    progress... : {} / {} mid'.format(j, len(mids)))\n",
    "        # アカウントリンクを取得\n",
    "        account_link = 'https:' + get_account_link(feed_html_soup, mid)\n",
    "        print('    getting account_link is done.')\n",
    "        \n",
    "        # コメント取得実装のため一時的\n",
    "        # if count == 1:\n",
    "            # break\n",
    "        \n",
    "        # フィードデータを取得\n",
    "        account_name, feed_time, sentence, share, comment, suda_data, good = get_feed_info(feed_html_soup, mid)\n",
    "        print('    getting feed info is done')\n",
    "        \n",
    "        \"\"\"\n",
    "        # コメントが存在する場合、コメントを取得しに行く\n",
    "        if comment != '0':\n",
    "            click_comment(suda_data, elems, elems_suda_data)\n",
    "            print(\"clicked\")\n",
    "            html = driver.page_source.encode('utf-8')\n",
    "            html_soup = BeautifulSoup(html, \"html.parser\")\n",
    "            comment_id_list = get_comment_id_list(html_soup)\n",
    "            print(comment_id_list)\n",
    "            \n",
    "            global comment_account_names, comment_sentences, comment_types, comment_locations\n",
    "            global comment_genders, comment_ranks, comment_follows, comment_followers\n",
    "            global comment_weiboes, comment_post_times, comment_get_times, comment_shares\n",
    "            global comment_comments, comment_goods\n",
    "            comment_account_names.clear()\n",
    "            comment_sentences.clear()\n",
    "            comment_types.clear()\n",
    "            # コメントについては、下記情報は一旦保留\n",
    "            comment_locations.clear()\n",
    "            comment_genders.clear()\n",
    "            comment_ranks.clear()\n",
    "            comment_follows.clear()\n",
    "            comment_followers.clear()\n",
    "            comment_weiboes.clear()\n",
    "            comment_post_times.clear()\n",
    "            comment_get_times.clear()\n",
    "            comment_shares.clear()\n",
    "            comment_comments.clear()\n",
    "            comment_goods.clear()\n",
    "            \n",
    "            for comment_id in comment_id_list:\n",
    "                comment_account_name, comment_sentence = get_comment_name_sentence(html_soup, comment_id)\n",
    "                comment_account_names.append(comment_account_name)\n",
    "                comment_sentences.append(comment_sentence)\n",
    "                comment_types.append('comment')\n",
    "                # コメントについては、下記情報は一旦保留\n",
    "                comment_locations.append('None')\n",
    "                comment_genders.append('None')\n",
    "                comment_ranks.append('None')\n",
    "                comment_follows.append('None')\n",
    "                comment_followers.append('None')\n",
    "                comment_weiboes.append('None')\n",
    "                comment_post_times.append('None')\n",
    "                comment_get_times.append('None')\n",
    "                comment_shares.append('None')\n",
    "                comment_comments.append('None')\n",
    "                comment_goods.append('None')\n",
    "        \"\"\"\n",
    "        \n",
    "        # アカウント詳細のhtmlを取得\n",
    "        account_html_soup = get_account_html_soup(driver, account_link)\n",
    "        print('    getting account html_soup is done.')\n",
    "        \n",
    "        # アカウントデータを取得\n",
    "        rank, location, gender, follow, follower, weibo, get_time = get_account_info(account_html_soup)\n",
    "        print('    getting account info is done.')\n",
    "        \n",
    "        # タイプを定義\n",
    "        type_name = 'feed'\n",
    "        \n",
    "        # フィードデータ格納\n",
    "        account_names.append(account_name)\n",
    "        feed_times.append(feed_time)\n",
    "        sentences.append(sentence)\n",
    "        shares.append(share)\n",
    "        comments.append(comment)\n",
    "        goods.append(good)\n",
    "        ranks.append(rank)\n",
    "        locations.append(location)\n",
    "        genders.append(gender)\n",
    "        follows.append(follow)\n",
    "        followers.append(follower)\n",
    "        weiboes.append(weibo)\n",
    "        get_times.append(get_time)\n",
    "        types.append(type_name)\n",
    "        \n",
    "        \"\"\"\n",
    "        # フィードとコメントを連結\n",
    "        account_names = account_names + comment_account_names\n",
    "        feed_times = feed_times + comment_post_times\n",
    "        sentences = sentences + comment_sentences\n",
    "        shares = shares + comment_shares\n",
    "        comments = comments + comment_comments\n",
    "        goods = goods + comment_goods\n",
    "        ranks = ranks + comment_ranks\n",
    "        locations = locations + comment_locations\n",
    "        genders = genders + comment_genders\n",
    "        follows = follows + comment_follows\n",
    "        followers = followers + comment_followers\n",
    "        weiboes = weiboes + comment_weiboes\n",
    "        get_times = get_times + comment_get_times\n",
    "        types = types + comment_types\n",
    "        \"\"\"\n",
    "        \n",
    "        print('    storing data is done')\n",
    "        \n",
    "        # コメント取得実装のため一時的\n",
    "        # count = count + 1\n",
    "\n",
    "# csv保存\n",
    "os.chdir('/Users/higashi/PycharmProjects/WeiboScraping/venv/data')\n",
    "\n",
    "df = pd.DataFrame({\n",
    "    'Account': account_names,\n",
    "    'Location': locations,\n",
    "    'Gender': genders,\n",
    "    'Rank': ranks,\n",
    "    'Follow': follows,\n",
    "    'Follower': followers,\n",
    "    'Weibo': weiboes,\n",
    "    'FeedTime': feed_times,\n",
    "    'GetTime': get_times,\n",
    "    'Type': types,\n",
    "    'Sentence': sentences,\n",
    "    'Share': shares,\n",
    "    'Comment': comments,\n",
    "    'Good': goods\n",
    "})\n",
    "\n",
    "df.to_csv('data_tmp' + '.csv')\n"
   ]
  },
  {
   "cell_type": "code",
   "execution_count": 60,
   "metadata": {},
   "outputs": [],
   "source": [
    "os.chdir('/Users/higashi/PycharmProjects/WeiboScraping/venv/data')\n",
    "\n",
    "df = pd.DataFrame({\n",
    "    'Account': account_names,\n",
    "    'Location': locations,\n",
    "    'Gender': genders,\n",
    "    'Rank': ranks,\n",
    "    'Follow': follows,\n",
    "    'Follower': followers,\n",
    "    'Weibo': weiboes,\n",
    "    'FeedTime': feed_times,\n",
    "    'GetTime': get_times,\n",
    "    'Type': types,\n",
    "    'Sentence': sentences,\n",
    "    'Share': shares,\n",
    "    'Comment': comments,\n",
    "    'Good': goods\n",
    "})\n",
    "\n",
    "df.to_csv('data_tmp' + '.csv')\n"
   ]
  },
  {
   "cell_type": "code",
   "execution_count": 59,
   "metadata": {},
   "outputs": [
    {
     "name": "stdout",
     "output_type": "stream",
     "text": [
      "539\n539\n539\n539\n539\n539\n539\n539\n539\n539\n539\n539\n539\n"
     ]
    }
   ],
   "source": [
    "print(len(account_names))\n",
    "print(len(locations))\n",
    "print(len(genders))\n",
    "print(len(ranks))\n",
    "print(len(follows))\n",
    "print(len(followers))\n",
    "print(len(weiboes))\n",
    "print(len(feed_times))\n",
    "print(len(get_times))\n",
    "print(len(sentences))\n",
    "print(len(shares))\n",
    "print(len(comments))\n",
    "print(len(goods))"
   ]
  },
  {
   "cell_type": "code",
   "execution_count": 179,
   "metadata": {},
   "outputs": [],
   "source": [
    "driver = set_driver()\n",
    "url = 'https://s.weibo.com/weibo/%25E7%25A4%25BE%25E4%25BC%259A?topnav=1&wvr=6&b=1&display=0&retcode=6102'\n",
    "driver.get(url)\n",
    "\n",
    "html = driver.page_source.encode('utf-8')\n",
    "html_soup = BeautifulSoup(html, \"html.parser\")"
   ]
  },
  {
   "cell_type": "heading",
   "metadata": {},
   "level": 1,
   "source": [
    "temporary"
   ]
  },
  {
   "cell_type": "code",
   "execution_count": 202,
   "metadata": {},
   "outputs": [],
   "source": [
    "start_url = 'https://s.weibo.com/weibo/%25E7%25A4%25BE%25E4%25BC%259A?topnav=1&wvr=6&b=1&display=0&retcode=6102'"
   ]
  },
  {
   "cell_type": "code",
   "execution_count": 205,
   "metadata": {},
   "outputs": [],
   "source": [
    "driver = set_driver()"
   ]
  },
  {
   "cell_type": "code",
   "execution_count": 458,
   "metadata": {},
   "outputs": [],
   "source": [
    "html_soup = get_feed_html_soup(driver, start_url)"
   ]
  },
  {
   "cell_type": "code",
   "execution_count": 442,
   "metadata": {
    "collapsed": true
   },
   "outputs": [
    {
     "name": "stdout",
     "output_type": "stream",
     "text": [
      "['4346780374581298', '4346820799059078', '4346814767492117', '4346820765823538', '4346820740263682', '4346820619066894', '4346820580603113', '4346820576728532', '4346818282556028', '4346820547001044', '4346814524172163', '4346812465357444', '4346776142370038', '4346820358237685', '4346811118843330', '4346820274232950', '4346820266187894', '4346006906492611', '4346820157526028', '4346820039931262']\n"
     ]
    }
   ],
   "source": [
    "mid_list = get_mid_list(html_soup)\n",
    "print(mid_list)"
   ]
  },
  {
   "cell_type": "code",
   "execution_count": 448,
   "metadata": {},
   "outputs": [
    {
     "name": "stdout",
     "output_type": "stream",
     "text": [
      "4346820765823538\n"
     ]
    },
    {
     "name": "stdout",
     "output_type": "stream",
     "text": [
      "[<a class=\"name\" href=\"//weibo.com/5479900504?refer_flag=1001030103_\" nick-name=\"丷Joann丷\" suda-data=\"key=tblog_search_weibo&amp;value=seqid:155184631147003269956|type:1|t:0|pos:1-0|q:%E7%A4%BE%E4%BC%9A|ext:cate:31,mpos:3,click:user_name\" target=\"_blank\">丷Joann丷</a>]\n//weibo.com/5479900504?refer_flag=1001030103_\n"
     ]
    }
   ],
   "source": [
    "mid = mid_list[3]\n",
    "print(mid)\n",
    "account_link = get_account_link(html_soup, mid)\n",
    "print(account_link)"
   ]
  },
  {
   "cell_type": "code",
   "execution_count": 382,
   "metadata": {
    "collapsed": true
   },
   "outputs": [],
   "source": [
    "elems, elems_suda_data = get_comment_button_list(driver)"
   ]
  },
  {
   "cell_type": "code",
   "execution_count": 270,
   "metadata": {},
   "outputs": [],
   "source": [
    "if comment != '0':\n",
    "    click_comment(suda_data, elems, elems_suda_data)\n"
   ]
  },
  {
   "cell_type": "code",
   "execution_count": 344,
   "metadata": {},
   "outputs": [],
   "source": [
    "html = driver.page_source.encode('utf-8')\n",
    "html_soup = BeautifulSoup(html, \"html.parser\")"
   ]
  },
  {
   "cell_type": "code",
   "execution_count": 345,
   "metadata": {},
   "outputs": [
    {
     "name": "stdout",
     "output_type": "stream",
     "text": [
      "['4346795515714917', '4346795498638536', '4346794979119085', '4346794769239090', '4346794462286953', '4346794052157061', '4346793791798330', '4346793787848316', '4346793615330808']\n"
     ]
    }
   ],
   "source": [
    "comment_id_list = get_comment_id_list(html_soup)\n",
    "print(comment_id_list)"
   ]
  },
  {
   "cell_type": "code",
   "execution_count": 352,
   "metadata": {},
   "outputs": [],
   "source": [
    "comment_id = comment_id_list[0]\n",
    "div_comment = html_soup.find_all('div', {'comment_id': comment_id})"
   ]
  },
  {
   "cell_type": "code",
   "execution_count": 353,
   "metadata": {},
   "outputs": [
    {
     "name": "stdout",
     "output_type": "stream",
     "text": [
      "['WOAIJIAJIA', '：']\n"
     ]
    }
   ],
   "source": [
    "comment_account_name = div_comment[0].find('div', {'class': 'txt'}).text.split()[0]\n",
    "print(div_comment[0].find('div', {'class': 'txt'}).text.split())\n",
    "#comment_text = div_comment[0].find('div', {'class': 'txt'}).text.split()[2]\n",
    "#print(comment_account_name)\n",
    "#print(comment_text)"
   ]
  },
  {
   "cell_type": "code",
   "execution_count": 304,
   "metadata": {},
   "outputs": [],
   "source": [
    ""
   ]
  },
  {
   "cell_type": "code",
   "execution_count": 307,
   "metadata": {},
   "outputs": [
    {
     "name": "stdout",
     "output_type": "stream",
     "text": [
      "[1, 2, 3, 4, 5]\n"
     ]
    }
   ],
   "source": [
    "\"\"\"\n",
    "リストの結合\n",
    "\"\"\"\n",
    "\n",
    "\n",
    "A = [1, 2, 3]\n",
    "B = [4, 5]\n",
    "\n",
    "C = A + B\n",
    "print(C)\n"
   ]
  },
  {
   "cell_type": "code",
   "execution_count": 308,
   "metadata": {},
   "outputs": [
    {
     "name": "stdout",
     "output_type": "stream",
     "text": [
      "[]\n"
     ]
    }
   ],
   "source": [
    "C.clear()\n",
    "print(C)"
   ]
  },
  {
   "cell_type": "code",
   "execution_count": 33,
   "metadata": {},
   "outputs": [
    {
     "name": "stdout",
     "output_type": "stream",
     "text": [
      "10\n"
     ]
    },
    {
     "ename": "ValueError",
     "evalue": "time data '3月4日 20:56' does not match format '%Y年%m月%d日%H:%M'",
     "traceback": [
      "\u001b[0;31m---------------------------------------------------------------------------\u001b[0m",
      "\u001b[0;31mValueError\u001b[0m                                Traceback (most recent call last)",
      "\u001b[0;32m<ipython-input-33-11f1f6e65eb5>\u001b[0m in \u001b[0;36m<module>\u001b[0;34m()\u001b[0m\n\u001b[1;32m      1\u001b[0m \u001b[0mfeed_time\u001b[0m \u001b[0;34m=\u001b[0m \u001b[0;34m'3月4日 20:56'\u001b[0m\u001b[0;34m\u001b[0m\u001b[0;34m\u001b[0m\u001b[0m\n\u001b[1;32m      2\u001b[0m \u001b[0mprint\u001b[0m\u001b[0;34m(\u001b[0m\u001b[0mlen\u001b[0m\u001b[0;34m(\u001b[0m\u001b[0mfeed_time\u001b[0m\u001b[0;34m)\u001b[0m\u001b[0;34m)\u001b[0m\u001b[0;34m\u001b[0m\u001b[0;34m\u001b[0m\u001b[0m\n\u001b[0;32m----> 3\u001b[0;31m \u001b[0mfeed_time\u001b[0m \u001b[0;34m=\u001b[0m \u001b[0mdt\u001b[0m\u001b[0;34m.\u001b[0m\u001b[0mstrptime\u001b[0m\u001b[0;34m(\u001b[0m\u001b[0mfeed_time\u001b[0m\u001b[0;34m,\u001b[0m \u001b[0;34m'%Y年%m月%d日%H:%M'\u001b[0m\u001b[0;34m)\u001b[0m\u001b[0;34m\u001b[0m\u001b[0;34m\u001b[0m\u001b[0m\n\u001b[0m",
      "\u001b[0;32m/Library/Frameworks/Python.framework/Versions/3.7/lib/python3.7/_strptime.py\u001b[0m in \u001b[0;36m_strptime_datetime\u001b[0;34m(cls, data_string, format)\u001b[0m\n\u001b[1;32m    575\u001b[0m     \"\"\"Return a class cls instance based on the input string and the\n\u001b[1;32m    576\u001b[0m     format string.\"\"\"\n\u001b[0;32m--> 577\u001b[0;31m     \u001b[0mtt\u001b[0m\u001b[0;34m,\u001b[0m \u001b[0mfraction\u001b[0m\u001b[0;34m,\u001b[0m \u001b[0mgmtoff_fraction\u001b[0m \u001b[0;34m=\u001b[0m \u001b[0m_strptime\u001b[0m\u001b[0;34m(\u001b[0m\u001b[0mdata_string\u001b[0m\u001b[0;34m,\u001b[0m \u001b[0mformat\u001b[0m\u001b[0;34m)\u001b[0m\u001b[0;34m\u001b[0m\u001b[0;34m\u001b[0m\u001b[0m\n\u001b[0m\u001b[1;32m    578\u001b[0m     \u001b[0mtzname\u001b[0m\u001b[0;34m,\u001b[0m \u001b[0mgmtoff\u001b[0m \u001b[0;34m=\u001b[0m \u001b[0mtt\u001b[0m\u001b[0;34m[\u001b[0m\u001b[0;34m-\u001b[0m\u001b[0;36m2\u001b[0m\u001b[0;34m:\u001b[0m\u001b[0;34m]\u001b[0m\u001b[0;34m\u001b[0m\u001b[0;34m\u001b[0m\u001b[0m\n\u001b[1;32m    579\u001b[0m     \u001b[0margs\u001b[0m \u001b[0;34m=\u001b[0m \u001b[0mtt\u001b[0m\u001b[0;34m[\u001b[0m\u001b[0;34m:\u001b[0m\u001b[0;36m6\u001b[0m\u001b[0;34m]\u001b[0m \u001b[0;34m+\u001b[0m \u001b[0;34m(\u001b[0m\u001b[0mfraction\u001b[0m\u001b[0;34m,\u001b[0m\u001b[0;34m)\u001b[0m\u001b[0;34m\u001b[0m\u001b[0;34m\u001b[0m\u001b[0m\n",
      "\u001b[0;32m/Library/Frameworks/Python.framework/Versions/3.7/lib/python3.7/_strptime.py\u001b[0m in \u001b[0;36m_strptime\u001b[0;34m(data_string, format)\u001b[0m\n\u001b[1;32m    357\u001b[0m     \u001b[0;32mif\u001b[0m \u001b[0;32mnot\u001b[0m \u001b[0mfound\u001b[0m\u001b[0;34m:\u001b[0m\u001b[0;34m\u001b[0m\u001b[0;34m\u001b[0m\u001b[0m\n\u001b[1;32m    358\u001b[0m         raise ValueError(\"time data %r does not match format %r\" %\n\u001b[0;32m--> 359\u001b[0;31m                          (data_string, format))\n\u001b[0m\u001b[1;32m    360\u001b[0m     \u001b[0;32mif\u001b[0m \u001b[0mlen\u001b[0m\u001b[0;34m(\u001b[0m\u001b[0mdata_string\u001b[0m\u001b[0;34m)\u001b[0m \u001b[0;34m!=\u001b[0m \u001b[0mfound\u001b[0m\u001b[0;34m.\u001b[0m\u001b[0mend\u001b[0m\u001b[0;34m(\u001b[0m\u001b[0;34m)\u001b[0m\u001b[0;34m:\u001b[0m\u001b[0;34m\u001b[0m\u001b[0;34m\u001b[0m\u001b[0m\n\u001b[1;32m    361\u001b[0m         raise ValueError(\"unconverted data remains: %s\" %\n",
      "\u001b[0;31mValueError\u001b[0m: time data '3月4日 20:56' does not match format '%Y年%m月%d日%H:%M'"
     ],
     "output_type": "error"
    }
   ],
   "source": [
    "feed_time = '3月4日 20:56'\n",
    "feed_time = dt.strptime(feed_time, '%Y年%m月%d日%H:%M')"
   ]
  },
  {
   "cell_type": "code",
   "execution_count": 37,
   "metadata": {},
   "outputs": [
    {
     "name": "stdout",
     "output_type": "stream",
     "text": [
      "3月4日20:56\n2019-03-04 20:56:00\n"
     ]
    }
   ],
   "source": [
    "text = '3月4日 20:56 转赞人数超过20'\n",
    "text = text.split()[0] + text.split()[1]\n",
    "# text = ''.join(text.split())\n",
    "print(text)\n",
    "feed_time = dt.strptime(text, '%m月%d日%H:%M').replace(year=2019)\n",
    "print(feed_time)"
   ]
  },
  {
   "cell_type": "code",
   "execution_count": 292,
   "metadata": {},
   "outputs": [],
   "source": []
  },
  {
   "cell_type": "code",
   "execution_count": 7,
   "metadata": {},
   "outputs": [
    {
     "name": "stdout",
     "output_type": "stream",
     "text": [
      "false\n"
     ]
    }
   ],
   "source": [
    "A = None\n",
    "\n",
    "if A:\n",
    "    print('true')\n",
    "else:\n",
    "    print('false')"
   ]
  },
  {
   "cell_type": "code",
   "execution_count": null,
   "metadata": {},
   "outputs": [],
   "source": []
  }
 ],
 "metadata": {
  "kernelspec": {
   "display_name": "Python 2",
   "language": "python",
   "name": "python2"
  },
  "language_info": {
   "codemirror_mode": {
    "name": "ipython",
    "version": 2
   },
   "file_extension": ".py",
   "mimetype": "text/x-python",
   "name": "python",
   "nbconvert_exporter": "python",
   "pygments_lexer": "ipython2",
   "version": "2.7.6"
  }
 },
 "nbformat": 4,
 "nbformat_minor": 0
}
