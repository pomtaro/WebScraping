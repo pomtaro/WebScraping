{
 "cells": [
  {
   "cell_type": "code",
   "execution_count": 1,
   "metadata": {
    "collapsed": true
   },
   "outputs": [
    {
     "data": {
      "text/plain": [
       "'\\nSplinterを用いたスクレイピング\\n・urlアクセス\\n・フォームへの入力\\n・ボタンのクリック\\n・XPathを用いたスクレイプ\\n・階層を追うようにhtml要素を取得できる\\n・BeautifulSoupよりも直感的に理解できる\\n'"
      ]
     },
     "execution_count": 1,
     "metadata": {},
     "output_type": "execute_result"
    }
   ],
   "source": [
    "\"\"\"\n",
    "Splinterを用いたスクレイピング\n",
    "・urlアクセス\n",
    "・フォームへの入力\n",
    "・ボタンのクリック\n",
    "・XPathを用いたスクレイプ\n",
    "・階層を追うようにhtml要素を取得できる\n",
    "・BeautifulSoupよりも直感的に理解できる\n",
    "\"\"\""
   ]
  },
  {
   "cell_type": "code",
   "execution_count": 2,
   "metadata": {},
   "outputs": [],
   "source": [
    "from splinter import Browser\n",
    "import pandas as pd"
   ]
  },
  {
   "cell_type": "code",
   "execution_count": 3,
   "metadata": {},
   "outputs": [],
   "source": [
    "\"\"\"\n",
    "chromeブラウザを立ち上げる\n",
    "\"\"\"\n",
    "\n",
    "browser = Browser('chrome')\n",
    "browser.driver.set_window_size(640, 480)"
   ]
  },
  {
   "cell_type": "code",
   "execution_count": 10,
   "metadata": {},
   "outputs": [],
   "source": [
    "\"\"\"\n",
    "指定したurlへアクセス\n",
    "\"\"\"\n",
    "\n",
    "browser.visit('https://s.weibo.com/weibo/%25E7%25A4%25BE%25E4%25BC%259A?topnav=1&wvr=6&b=1&display=0&retcode=6102')"
   ]
  },
  {
   "cell_type": "code",
   "execution_count": 27,
   "metadata": {},
   "outputs": [],
   "source": [
    "\"\"\"\n",
    "chromeの開発者画面から、コンポーネントのXPathを取得\n",
    "ここではサーチバーのXPathを取得\n",
    "\"\"\"\n",
    "\n",
    "search_bar_xpath = '//*[@id=\"pl_feedlist_index\"]/div[1]/div[6]/div/div[2]/ul/li[3]/a'"
   ]
  },
  {
   "cell_type": "code",
   "execution_count": 28,
   "metadata": {},
   "outputs": [],
   "source": [
    "\"\"\"\n",
    "XPathから、サーチバーを定義\n",
    "\"\"\"\n",
    "\n",
    "search_bar = browser.find_by_xpath(search_bar_xpath)[0]"
   ]
  },
  {
   "cell_type": "code",
   "execution_count": 33,
   "metadata": {},
   "outputs": [],
   "source": [
    "\"\"\"\n",
    "サーチバーに文字列を入力\n",
    "\"\"\"\n",
    "\n",
    "search_bar.fill(\"CodingStartups.com\")"
   ]
  },
  {
   "cell_type": "code",
   "execution_count": 34,
   "metadata": {},
   "outputs": [],
   "source": [
    "\"\"\"\n",
    "chromeの開発者画面からサーチボタンのXPathを取得\n",
    "\"\"\"\n",
    "\n",
    "search_button_xpath = '//*[@id=\"tsf\"]/div[2]/div/div[3]/center/input[1]'"
   ]
  },
  {
   "cell_type": "code",
   "execution_count": 35,
   "metadata": {},
   "outputs": [],
   "source": [
    "\"\"\"\n",
    "XPathからサーチボタンを定義\n",
    "\"\"\"\n",
    "\n",
    "search_button = browser.find_by_xpath(search_button_xpath)[0]"
   ]
  },
  {
   "cell_type": "code",
   "execution_count": 36,
   "metadata": {},
   "outputs": [],
   "source": [
    "\"\"\"\n",
    "サーチボタンをクリック\n",
    "サーチ結果の画面へ遷移する\n",
    "\"\"\"\n",
    "\n",
    "search_button.click()"
   ]
  },
  {
   "cell_type": "code",
   "execution_count": 82,
   "metadata": {},
   "outputs": [],
   "source": [
    "\"\"\"\n",
    "検索結果タイトル文字列のXPathを取得\n",
    "タイトル文字列の一覧を取得\n",
    "\"\"\"\n",
    "\n",
    "title_search_results_xpath = '//a/h3[@class=\"LC20lb\"]'\n",
    "title_search_results = browser.find_by_xpath(title_search_results_xpath)\n",
    "\n",
    "titles = []\n",
    "for title_search_result in title_search_results:\n",
    "    titles.append(title_search_result.text.encode('utf8'))"
   ]
  },
  {
   "cell_type": "code",
   "execution_count": 83,
   "metadata": {},
   "outputs": [],
   "source": [
    "\"\"\"\n",
    "検索結果タイトルリンクのXPathを取得\n",
    "タイトルリンクの一覧を取得\n",
    "タイトルリンクではないリンクも取れてしまうため、classの違いを利用して選別\n",
    "\"\"\"\n",
    "\n",
    "link_search_results_xpath = '//div[@class=\"r\"]/a'\n",
    "link_search_results = browser.find_by_xpath(link_search_results_xpath)\n",
    "\n",
    "links = []\n",
    "for link_search_result in link_search_results:\n",
    "    if not link_search_result[\"class\"] == 'fl':\n",
    "        links.append(link_search_result[\"href\"])"
   ]
  },
  {
   "cell_type": "code",
   "execution_count": 84,
   "metadata": {},
   "outputs": [
    {
     "name": "stdout",
     "output_type": "stream",
     "text": [
      "(b'Coding Startups - Coders with entrepreneurial mindset', 'https://codingstartups.com/')\n(b'Machine Learning for hackers: model comparison and selection ...', 'https://codingstartups.com/machine-learning-hackers-model-comparison-selection/')\n(b'web scraping Archives - Coding Startups', 'https://codingstartups.com/tag/web-scraping/')\n(b'CodingStartups - Website | Facebook - 2 Reviews - 3 Photos', 'https://www.facebook.com/codingstartups/posts')\n(b'Linux gave me a new life, no college - YouTube', 'https://www.youtube.com/watch?v=wIJgw5lyYOc')\n(b'scraping-with-python/web_scraping.py at master \\xc2\\xb7 CodingStartups ...', 'https://github.com/CodingStartups/scraping-with-python/blob/master/web_scraping.py')\n(b'Submissions from codingstartups.com | Hacker News', 'https://news.ycombinator.com/from?site=codingstartups.com')\n(b'Codingstartups : Home - Coding Startups', 'https://codingstartups.com.cutestat.com/')\n(b'How to Boost Blog Traffic With Just One FREE Hack \\xe2\\x80\\x93 Ofir Chakon ...', 'https://medium.com/@OfirChakon/how-to-boost-blog-traffic-with-just-one-free-hack-3e20b339bed4')\n"
     ]
    }
   ],
   "source": [
    "\"\"\"\n",
    "スクレイプデータとして、タプル形式の要素をリストに格納\n",
    "\"\"\"\n",
    "\n",
    "scraped_data = []\n",
    "for i in range(len(titles)):\n",
    "    scraped_data.append((titles[i], links[i]))\n",
    "    \n",
    "for data in scraped_data:\n",
    "    print(data)"
   ]
  },
  {
   "cell_type": "code",
   "execution_count": 85,
   "metadata": {},
   "outputs": [],
   "source": [
    ""
   ]
  },
  {
   "cell_type": "code",
   "execution_count": 29,
   "metadata": {},
   "outputs": [],
   "source": [
    "search_bar.click()"
   ]
  },
  {
   "cell_type": "code",
   "execution_count": 77,
   "metadata": {},
   "outputs": [],
   "source": [
    ""
   ]
  },
  {
   "cell_type": "code",
   "execution_count": 77,
   "metadata": {},
   "outputs": [],
   "source": []
  },
  {
   "cell_type": "code",
   "execution_count": null,
   "metadata": {},
   "outputs": [],
   "source": []
  }
 ],
 "metadata": {
  "kernelspec": {
   "display_name": "Python 2",
   "language": "python",
   "name": "python2"
  },
  "language_info": {
   "codemirror_mode": {
    "name": "ipython",
    "version": 2
   },
   "file_extension": ".py",
   "mimetype": "text/x-python",
   "name": "python",
   "nbconvert_exporter": "python",
   "pygments_lexer": "ipython2",
   "version": "2.7.6"
  }
 },
 "nbformat": 4,
 "nbformat_minor": 0
}
