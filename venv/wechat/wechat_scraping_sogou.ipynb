{
 "cells": [
  {
   "cell_type": "code",
   "execution_count": 1,
   "metadata": {
    "collapsed": true
   },
   "outputs": [],
   "source": [
    "import requests\n",
    "import pandas as pd\n",
    "import os\n",
    "import time\n",
    "from bs4 import BeautifulSoup\n",
    "from datetime import datetime as dt\n",
    "\n",
    "from selenium import webdriver\n",
    "from selenium.webdriver.chrome.options import Options\n",
    "from selenium.common.exceptions import TimeoutException, NoSuchElementException\n"
   ]
  },
  {
   "cell_type": "code",
   "execution_count": 2,
   "metadata": {},
   "outputs": [],
   "source": [
    "\"\"\"\n",
    "arg: None\n",
    "return: driver\n",
    "\"\"\"\n",
    "\n",
    "\n",
    "def set_driver():\n",
    "    options = Options()\n",
    "\n",
    "    # options.set_headless(True)\n",
    "    options.binary_location = \"/Applications/Google Chrome Canary.app/Contents/MacOS/Google Chrome Canary\"\n",
    "    # options.add_argument(\"--headless\")\n",
    "\n",
    "    chromedriver_path = \"/Users/higashi/Desktop/Document/chromedriver/chromedriver\"\n",
    "\n",
    "    return webdriver.Chrome(options=options, executable_path=chromedriver_path)\n"
   ]
  },
  {
   "cell_type": "code",
   "execution_count": 3,
   "metadata": {},
   "outputs": [],
   "source": [
    "\"\"\"\n",
    "arg: url\n",
    "return: urls\n",
    "\"\"\"\n",
    "\n",
    "\n",
    "def get_page_links(start_url):\n",
    "    urls = []\n",
    "    urls.append(start_url)\n",
    "    \n",
    "    url = start_url\n",
    "    \n",
    "    for i in range(50):  # 何ページ目まで読むか\n",
    "        r = requests.get(url)\n",
    "        html_contents = r.text\n",
    "\n",
    "        html_soup = BeautifulSoup(html_contents)\n",
    "        try:\n",
    "            next_link = 'https://weixin.sogou.com/weixin' + html_soup.find_all('a', {'id': 'sogou_next'})[0].get('href')\n",
    "            if next_link in urls:\n",
    "                continue\n",
    "            else:\n",
    "                urls.append(next_link)\n",
    "                url = next_link\n",
    "        except:\n",
    "            break\n",
    "\n",
    "    return urls\n"
   ]
  },
  {
   "cell_type": "code",
   "execution_count": 27,
   "metadata": {},
   "outputs": [],
   "source": [
    "\"\"\"\n",
    "arg: driver, url\n",
    "return: driver, html_soup\n",
    "\"\"\"\n",
    "\n",
    "\n",
    "def get_page_html_soup_newdriver(driver, url):\n",
    "    i = 0\n",
    "    while True:\n",
    "        if i == 0:\n",
    "            pass\n",
    "        else:\n",
    "            driver = driver\n",
    "        \n",
    "        try:\n",
    "            driver.get(url)\n",
    "            html = driver.page_source.encode('utf-8')\n",
    "            html_soup = BeautifulSoup(html, \"html.parser\")\n",
    "        \n",
    "            return driver, html_soup\n",
    "    \n",
    "        except TimeoutException:\n",
    "            driver.quit()\n",
    "            driver = set_driver()\n",
    "            timeout = 15\n",
    "            driver.set_page_load_timeout(timeout)\n",
    "            # driver = login(driver, url, 'feed')  # ログイン\n",
    "            i += 1\n",
    "\n",
    "\n",
    "def get_page_html_soup(driver):\n",
    "    html = driver.page_source.encode('utf-8')\n",
    "    html_soup = BeautifulSoup(html, 'html.parser')\n",
    "    \n",
    "    return html_soup\n"
   ]
  },
  {
   "cell_type": "code",
   "execution_count": 5,
   "metadata": {},
   "outputs": [],
   "source": [
    "\"\"\"\n",
    "arg: html_soup\n",
    "return: feed_id_list\n",
    "\"\"\"\n",
    "\n",
    "\n",
    "def get_feed_id_list(html_soup):\n",
    "    feed_id_list = []\n",
    "    div_elements = html_soup.find_all('ul', {'class': 'news-list'})\n",
    "    div_elements = div_elements[0].find_all('li')\n",
    "    for elem in div_elements:\n",
    "        feed_id = elem.get('d')\n",
    "        feed_id_list.append(feed_id)\n",
    "    \n",
    "    return feed_id_list\n"
   ]
  },
  {
   "cell_type": "code",
   "execution_count": 6,
   "metadata": {},
   "outputs": [],
   "source": [
    "\"\"\"\n",
    "arg: html_soup, feed_id\n",
    "return: feed_link\n",
    "\"\"\"\n",
    "\n",
    "\n",
    "def get_feed_link(html_soup, feed_id):\n",
    "    feed_ul = html_soup.find_all('ul', {'class': 'news-list'})\n",
    "    feed_link = feed_ul[0].find_all('li', {'d': feed_id})[0].find_all('a')[0].get('href')\n",
    "    \n",
    "    return feed_link\n"
   ]
  },
  {
   "cell_type": "code",
   "execution_count": 7,
   "metadata": {},
   "outputs": [],
   "source": [
    "\"\"\"\n",
    "arg: html_soup, feed_id\n",
    "return: feed_link\n",
    "\"\"\"\n",
    "\n",
    "\n",
    "def get_feed_account(html_soup, feed_id):\n",
    "    feed_ul = html_soup.find_all('ul', {'class': 'news-list'})\n",
    "    feed_account = feed_ul[0].find_all('li', {'d': feed_id})[0].find_all('a', {'class': 'account'})[0].text\n",
    "    \n",
    "    return feed_account\n"
   ]
  },
  {
   "cell_type": "code",
   "execution_count": 10,
   "metadata": {},
   "outputs": [],
   "source": [
    "\"\"\"\n",
    "arg: html_soup, feed_id\n",
    "return: post_time\n",
    "\"\"\"\n",
    "\n",
    "\n",
    "def get_post_time(html_soup, feed_id):\n",
    "    feed_ul = html_soup.find_all('ul', {'class': 'news-list'})\n",
    "    post_time = feed_ul[0].find_all('li', {'d': feed_id})[0].find_all('span', {'class': 's2'})[0].text\n",
    "    \n",
    "    return post_time\n"
   ]
  },
  {
   "cell_type": "code",
   "execution_count": 8,
   "metadata": {},
   "outputs": [],
   "source": [
    "\"\"\"\n",
    "arg:html_soup\n",
    "return: title\n",
    "\"\"\"\n",
    "\n",
    "\n",
    "def get_feed_title(html_soup):\n",
    "    title = ''\n",
    "    h2_tag = html_soup.find_all('h2', {'class': 'rich_media_title'})\n",
    "    title_pieces = h2_tag[0].text.split()\n",
    "    for title_piece in title_pieces:\n",
    "        title += title_piece\n",
    "    \n",
    "    return title\n"
   ]
  },
  {
   "cell_type": "code",
   "execution_count": 9,
   "metadata": {},
   "outputs": [],
   "source": [
    "\"\"\"\n",
    "arg: html_soup\n",
    "return: text\n",
    "\"\"\"\n",
    "\n",
    "\n",
    "def get_feed_text(html_soup):\n",
    "    text = ''\n",
    "    div_tag = html_soup.find_all('div', {'class': 'rich_media_content'})\n",
    "    p_tags = div_tag[0].find_all('p')\n",
    "    for p_tag in p_tags:\n",
    "        text += p_tag.text\n",
    "    \n",
    "    return text\n"
   ]
  },
  {
   "cell_type": "code",
   "execution_count": 11,
   "metadata": {},
   "outputs": [],
   "source": []
  },
  {
   "cell_type": "code",
   "execution_count": 11,
   "metadata": {},
   "outputs": [],
   "source": [
    "\"\"\"\n",
    "STEP1\n",
    "driver起動\n",
    "\"\"\"\n",
    "\n",
    "# driver初期化\n",
    "timeout = 15\n",
    "driver = set_driver()\n",
    "driver.set_page_load_timeout(timeout)\n",
    "\n",
    "# スタートリンクの定義\n",
    "start_url = 'https://weixin.sogou.com/weixin?type=2&ie=utf8&query=%E8%B5%84%E7%94%9F%E5%A0%82%20program&tsn=5&ft=2018-12-01&et=2019-02-28&interation=&wxid=&usip='\n",
    "\n",
    "driver.get(start_url)\n"
   ]
  },
  {
   "cell_type": "code",
   "execution_count": 45,
   "metadata": {},
   "outputs": [],
   "source": [
    "\"\"\"\n",
    "STEP2\n",
    "データ定義\n",
    "\"\"\"\n",
    "\n",
    "# 出力データ\n",
    "feed_id_list = []\n",
    "feed_links = []\n",
    "feed_titles = []\n",
    "feed_texts = []\n",
    "feed_accounts = []\n",
    "feed_post_times = []\n",
    "\n",
    "# 一時データ\n",
    "feed_id_list_tmp = []\n",
    "\n",
    "count = 0\n"
   ]
  },
  {
   "cell_type": "code",
   "execution_count": 46,
   "metadata": {
    "collapsed": true
   },
   "outputs": [
    {
     "name": "stdout",
     "output_type": "stream",
     "text": [
      "https://weixin.sogou.com/weixin?usip=&query=freeplus&ft=2018-12-01&tsn=5&et=2019-02-28&interation=&type=2&wxid=&page=39&ie=utf8\n"
     ]
    }
   ],
   "source": [
    "\"\"\"\n",
    "STEP3\n",
    "クローリング開始\n",
    "記事リンクの取得\n",
    "\"\"\"\n",
    "\n",
    "\n",
    "while True:\n",
    "    \n",
    "    # 現在のurlを取得\n",
    "    current_url = driver.current_url\n",
    "        \n",
    "    # フィードのhtmlを取得\n",
    "    page_html_soup = get_page_html_soup(driver)\n",
    "    \n",
    "    try:    \n",
    "        if page_html_soup:\n",
    "            feed_id_list_tmp.clear()\n",
    "            # feed_id_listを取得\n",
    "            feed_id_list_tmp = get_feed_id_list(page_html_soup)\n",
    "    \n",
    "            feed_id_list = feed_id_list + feed_id_list_tmp\n",
    "\n",
    "        for i, feed_id in enumerate(feed_id_list_tmp):\n",
    "            feed_link = get_feed_link(page_html_soup, feed_id)\n",
    "            feed_links.append(feed_link)\n",
    "            feed_account = get_feed_account(page_html_soup, feed_id)\n",
    "            feed_accounts.append(feed_account)\n",
    "            feed_post_time = get_post_time(page_html_soup, feed_id)\n",
    "            feed_post_times.append(feed_post_time)\n",
    "        \n",
    "        # nextボタンをクリック\n",
    "        driver.find_element_by_id(\"sogou_next\").click()\n",
    "    except:\n",
    "        print(current_url)\n",
    "        break\n"
   ]
  },
  {
   "cell_type": "code",
   "execution_count": 48,
   "metadata": {
    "collapsed": true
   },
   "outputs": [],
   "source": [
    "\"\"\"\n",
    "STEP4\n",
    "クローリング開始\n",
    "記事テキストの取得\n",
    "\n",
    "記事テキストの取得では、ログインは必要ない\n",
    "tryが失敗した時は、driver再起動で対処可能\n",
    "\"\"\"\n",
    "\n",
    "driver = set_driver()\n",
    "timeout = 15\n",
    "driver.set_page_load_timeout(timeout)\n",
    "\n",
    "j = 0\n",
    "feed_titles.clear()\n",
    "feed_texts.clear()\n",
    "\n",
    "for j, feed_link in enumerate(feed_links):\n",
    "    \n",
    "    driver = driver\n",
    "    \n",
    "    try:\n",
    "        driver.get(feed_link)\n",
    "        driver, feed_html_soup = get_page_html_soup_newdriver(driver, feed_link)\n",
    "        title = get_feed_title(feed_html_soup)\n",
    "        text = get_feed_text(feed_html_soup)\n",
    "        feed_titles.append(title)\n",
    "        feed_texts.append(text)\n",
    "        \n",
    "    except:\n",
    "        feed_titles.append('texts was not detected')\n",
    "        feed_texts.append('texts was not detected')\n",
    "        \n",
    "        driver.quit()\n",
    "        driver = set_driver()\n",
    "        timeout = 15\n",
    "        driver.set_page_load_timeout(timeout)\n"
   ]
  },
  {
   "cell_type": "code",
   "execution_count": 50,
   "metadata": {},
   "outputs": [],
   "source": [
    "os.chdir('/Users/higashi/PycharmProjects/WebScraping/venv/wechat/data')\n",
    "\n",
    "df = pd.DataFrame({\n",
    "    'Title': feed_titles,\n",
    "    'Account': feed_accounts,\n",
    "    'ID': feed_id_list,\n",
    "    'PostTime': feed_post_times,\n",
    "    'Text': feed_texts\n",
    "})\n",
    "\n",
    "df.to_csv('20190320_wechat_freeplus_20181201-20190228_feed' + '.csv')\n"
   ]
  },
  {
   "cell_type": "code",
   "execution_count": 49,
   "metadata": {},
   "outputs": [
    {
     "name": "stdout",
     "output_type": "stream",
     "text": [
      "384\n384\n384\n384\n384\n384\n"
     ]
    }
   ],
   "source": [
    "print(len(feed_links))\n",
    "print(len(feed_titles))\n",
    "print(len(feed_texts))\n",
    "print(len(feed_accounts))\n",
    "print(len(feed_id_list))\n",
    "print(len(feed_post_times))"
   ]
  },
  {
   "cell_type": "code",
   "execution_count": 39,
   "metadata": {},
   "outputs": [
    {
     "name": "stdout",
     "output_type": "stream",
     "text": [
      "5\n6\n7\n8\n9\n"
     ]
    }
   ],
   "source": [
    "A = range(10)\n",
    "for i in A[5:]:\n",
    "    print(i)"
   ]
  },
  {
   "cell_type": "code",
   "execution_count": 66,
   "metadata": {},
   "outputs": [
    {
     "data": {
      "text/plain": [
       "623"
      ]
     },
     "execution_count": 66,
     "metadata": {},
     "output_type": "execute_result"
    }
   ],
   "source": [
    "len(feed_texts)"
   ]
  },
  {
   "cell_type": "code",
   "execution_count": 67,
   "metadata": {},
   "outputs": [
    {
     "name": "stdout",
     "output_type": "stream",
     "text": [
      "error\nerror\nerror\nerror\nerror\nerror\nerror\nerror\nerror\nerror\n"
     ]
    }
   ],
   "source": [
    "for i in range(10):\n",
    "    try:\n",
    "        a = b/0\n",
    "        print(a)\n",
    "    except:\n",
    "        print('error')\n",
    "        "
   ]
  },
  {
   "cell_type": "code",
   "execution_count": 16,
   "metadata": {},
   "outputs": [],
   "source": [
    "current_url = driver.current_url"
   ]
  },
  {
   "cell_type": "code",
   "execution_count": 17,
   "metadata": {},
   "outputs": [],
   "source": [
    "driver, page_html_soup = get_page_html_soup_newdriver(driver, current_url)"
   ]
  },
  {
   "cell_type": "code",
   "execution_count": 22,
   "metadata": {},
   "outputs": [],
   "source": [
    "driver.get()"
   ]
  },
  {
   "cell_type": "code",
   "execution_count": 25,
   "metadata": {},
   "outputs": [],
   "source": [
    "driver.find_element_by_id(\"sogou_next\").click()"
   ]
  },
  {
   "cell_type": "code",
   "execution_count": 30,
   "metadata": {},
   "outputs": [
    {
     "name": "stdout",
     "output_type": "stream",
     "text": [
      "[\"document.write(timeConvert('1544281105'))2018-12-8\", \"document.write(timeConvert('1547197238'))2019-1-11\", \"document.write(timeConvert('1545827458'))2018-12-26\", \"document.write(timeConvert('1546139906'))2018-12-30\", \"document.write(timeConvert('1545400816'))2018-12-21\", \"document.write(timeConvert('1544533216'))2018-12-11\", \"document.write(timeConvert('1548738847'))2019-1-29\", \"document.write(timeConvert('1548765002'))2019-1-29\", \"document.write(timeConvert('1545974683'))2018-12-28\", \"document.write(timeConvert('1547596828'))2019-1-16\", \"document.write(timeConvert('1548992482'))2019-2-1\", \"document.write(timeConvert('1544402684'))2018-12-10\", \"document.write(timeConvert('1545993499'))2018-12-28\", \"document.write(timeConvert('1550977490'))2019-2-24\", \"document.write(timeConvert('1544967729'))2018-12-16\", \"document.write(timeConvert('1548566213'))2019-1-27\", \"document.write(timeConvert('1546406687'))2019-1-2\", \"document.write(timeConvert('1544710858'))2018-12-13\", \"document.write(timeConvert('1547200857'))2019-1-11\", \"document.write(timeConvert('1545269116'))2018-12-20\", \"document.write(timeConvert('1544866315'))2018-12-15\", \"document.write(timeConvert('1545199044'))2018-12-19\", \"document.write(timeConvert('1545041089'))2018-12-17\", \"document.write(timeConvert('1543823188'))2018-12-3\", \"document.write(timeConvert('1543715565'))2018-12-2\", \"document.write(timeConvert('1544758524'))2018-12-14\", \"document.write(timeConvert('1546650430'))2019-1-5\", \"document.write(timeConvert('1545191434'))2018-12-19\", \"document.write(timeConvert('1543748338'))2018-12-2\", \"document.write(timeConvert('1547468600'))2019-1-14\", \"document.write(timeConvert('1546012127'))2018-12-29\", \"document.write(timeConvert('1550996769'))2019-2-24\", \"document.write(timeConvert('1550663926'))2019-2-20\", \"document.write(timeConvert('1544926854'))2018-12-16\", \"document.write(timeConvert('1545620421'))2018-12-24\", \"document.write(timeConvert('1544966201'))2018-12-16\", \"document.write(timeConvert('1548135745'))2019-1-22\", \"document.write(timeConvert('1546050347'))2018-12-29\", \"document.write(timeConvert('1546057458'))2018-12-29\", \"document.write(timeConvert('1545187297'))2018-12-19\", \"document.write(timeConvert('1544785233'))2018-12-14\", \"document.write(timeConvert('1546844182'))2019-1-7\", \"document.write(timeConvert('1546855229'))2019-1-7\", \"document.write(timeConvert('1550132505'))2019-2-14\", \"document.write(timeConvert('1550572070'))2019-2-19\", \"document.write(timeConvert('1544969821'))2018-12-16\", \"document.write(timeConvert('1546404768'))2019-1-2\", \"document.write(timeConvert('1547211788'))2019-1-11\", \"document.write(timeConvert('1547414691'))2019-1-14\", \"document.write(timeConvert('1544411895'))2018-12-10\", \"document.write(timeConvert('1551266818'))2019-2-27\", \"document.write(timeConvert('1545902566'))2018-12-27\", \"document.write(timeConvert('1544334614'))2018-12-9\", \"document.write(timeConvert('1547030280'))2019-1-9\", \"document.write(timeConvert('1546596009'))2019-1-4\", \"document.write(timeConvert('1549447153'))2019-2-6\", \"document.write(timeConvert('1546487899'))2019-1-3\", \"document.write(timeConvert('1546437751'))2019-1-2\", \"document.write(timeConvert('1550980802'))2019-2-24\", \"document.write(timeConvert('1548548630'))2019-1-27\", \"document.write(timeConvert('1551016956'))2019-2-24\", \"document.write(timeConvert('1544274385'))2018-12-8\", \"document.write(timeConvert('1548112366'))2019-1-22\", \"document.write(timeConvert('1543987763'))2018-12-5\", \"document.write(timeConvert('1544270443'))2018-12-8\", \"document.write(timeConvert('1546596033'))2019-1-4\", \"document.write(timeConvert('1545876032'))2018-12-27\", \"document.write(timeConvert('1550755931'))2019-2-21\", \"document.write(timeConvert('1551059043'))2019-2-25\", \"document.write(timeConvert('1549638360'))2019-2-9\", \"document.write(timeConvert('1543798861'))2018-12-3\", \"document.write(timeConvert('1543665622'))2018-12-1\", \"document.write(timeConvert('1547272604'))2019-1-12\", \"document.write(timeConvert('1545931393'))2018-12-28\", \"document.write(timeConvert('1550012616'))2019-2-13\", \"document.write(timeConvert('1549872398'))2019-2-11\", \"document.write(timeConvert('1551349436'))2019-2-28\", \"document.write(timeConvert('1547798818'))2019-1-18\", \"document.write(timeConvert('1547216207'))2019-1-11\", \"document.write(timeConvert('1549377926'))2019-2-5\", \"document.write(timeConvert('1547029666'))2019-1-9\", \"document.write(timeConvert('1545606033'))2018-12-24\", \"document.write(timeConvert('1549972802'))2019-2-12\", \"document.write(timeConvert('1548996888'))2019-2-1\", \"document.write(timeConvert('1546704055'))2019-1-6\", \"document.write(timeConvert('1546253850'))2018-12-31\", \"document.write(timeConvert('1546146957'))2018-12-30\", \"document.write(timeConvert('1546594011'))2019-1-4\", \"document.write(timeConvert('1546261538'))2018-12-31\", \"document.write(timeConvert('1547599342'))2019-1-16\", \"document.write(timeConvert('1545444779'))2018-12-22\", \"document.write(timeConvert('1549274432'))2019-2-4\", \"document.write(timeConvert('1549620059'))2019-2-8\", \"document.write(timeConvert('1549166451'))2019-2-3\", \"document.write(timeConvert('1546235736'))2018-12-31\", \"document.write(timeConvert('1546865769'))2019-1-7\", \"document.write(timeConvert('1546665933'))2019-1-5\", \"document.write(timeConvert('1544775227'))2018-12-14\", \"document.write(timeConvert('1545628073'))2018-12-24\", \"document.write(timeConvert('1549360823'))2019-2-5\", \"document.write(timeConvert('1547551164'))2019-1-15\", \"document.write(timeConvert('1547685638'))2019-1-17\", \"document.write(timeConvert('1545011311'))2018-12-17\", \"document.write(timeConvert('1544792063'))2018-12-14\", \"document.write(timeConvert('1547476721'))2019-1-14\", \"document.write(timeConvert('1544057710'))2018-12-6\", \"document.write(timeConvert('1545526849'))2018-12-23\", \"document.write(timeConvert('1547546430'))2019-1-15\", \"document.write(timeConvert('1547633538'))2019-1-16\", \"document.write(timeConvert('1546681458'))2019-1-5\", \"document.write(timeConvert('1547796440'))2019-1-18\"]\n"
     ]
    }
   ],
   "source": [
    "print(feed_post_times)"
   ]
  },
  {
   "cell_type": "code",
   "execution_count": null,
   "metadata": {},
   "outputs": [],
   "source": [
    "https://weixin.sogou.com/weixin?type=2&ie=utf8&query=freeplus&tsn=5&ft=2018-12-01&et=2019-02-28&interation=&wxid=&usip="
   ]
  }
 ],
 "metadata": {
  "kernelspec": {
   "display_name": "Python 2",
   "language": "python",
   "name": "python2"
  },
  "language_info": {
   "codemirror_mode": {
    "name": "ipython",
    "version": 2
   },
   "file_extension": ".py",
   "mimetype": "text/x-python",
   "name": "python",
   "nbconvert_exporter": "python",
   "pygments_lexer": "ipython2",
   "version": "2.7.6"
  }
 },
 "nbformat": 4,
 "nbformat_minor": 0
}
