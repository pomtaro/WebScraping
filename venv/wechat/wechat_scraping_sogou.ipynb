{
 "cells": [
  {
   "cell_type": "code",
   "execution_count": 1,
   "metadata": {
    "collapsed": true
   },
   "outputs": [],
   "source": [
    "import requests\n",
    "import pandas as pd\n",
    "import os\n",
    "import time\n",
    "from bs4 import BeautifulSoup\n",
    "from datetime import datetime as dt\n",
    "\n",
    "from selenium import webdriver\n",
    "from selenium.webdriver.chrome.options import Options\n",
    "from selenium.common.exceptions import TimeoutException, NoSuchElementException\n"
   ]
  },
  {
   "cell_type": "code",
   "execution_count": 2,
   "metadata": {},
   "outputs": [],
   "source": [
    "\"\"\"\n",
    "arg: None\n",
    "return: driver\n",
    "\"\"\"\n",
    "\n",
    "\n",
    "def set_driver():\n",
    "    options = Options()\n",
    "\n",
    "    # options.set_headless(True)\n",
    "    options.binary_location = \"/Applications/Google Chrome Canary.app/Contents/MacOS/Google Chrome Canary\"\n",
    "    # options.add_argument(\"--headless\")\n",
    "\n",
    "    chromedriver_path = \"/Users/higashi/Desktop/Document/chromedriver/chromedriver\"\n",
    "\n",
    "    return webdriver.Chrome(options=options, executable_path=chromedriver_path)\n"
   ]
  },
  {
   "cell_type": "code",
   "execution_count": 3,
   "metadata": {},
   "outputs": [],
   "source": [
    "\"\"\"\n",
    "arg: url\n",
    "return: urls\n",
    "\"\"\"\n",
    "\n",
    "\n",
    "def get_page_links(start_url):\n",
    "    urls = []\n",
    "    urls.append(start_url)\n",
    "    \n",
    "    url = start_url\n",
    "    \n",
    "    for i in range(50):  # 何ページ目まで読むか\n",
    "        r = requests.get(url)\n",
    "        html_contents = r.text\n",
    "\n",
    "        html_soup = BeautifulSoup(html_contents)\n",
    "        try:\n",
    "            next_link = 'https://weixin.sogou.com/weixin' + html_soup.find_all('a', {'id': 'sogou_next'})[0].get('href')\n",
    "            if next_link in urls:\n",
    "                continue\n",
    "            else:\n",
    "                urls.append(next_link)\n",
    "                url = next_link\n",
    "        except:\n",
    "            break\n",
    "\n",
    "    return urls\n"
   ]
  },
  {
   "cell_type": "code",
   "execution_count": 4,
   "metadata": {},
   "outputs": [],
   "source": [
    "\"\"\"\n",
    "arg: driver, url\n",
    "return: driver, html_soup\n",
    "\"\"\"\n",
    "\n",
    "\n",
    "def get_page_html_soup_newdriver(driver, url):\n",
    "    i = 0\n",
    "    while True:\n",
    "        if i == 0:\n",
    "            pass\n",
    "        else:\n",
    "            driver = driver\n",
    "        \n",
    "        try:\n",
    "            driver.get(url)\n",
    "            html = driver.page_source.encode('utf-8')\n",
    "            html_soup = BeautifulSoup(html, \"html.parser\")\n",
    "        \n",
    "            return driver, html_soup\n",
    "    \n",
    "        except TimeoutException:\n",
    "            driver.quit()\n",
    "            driver = set_driver()\n",
    "            timeout = 15\n",
    "            driver.set_page_load_timeout(timeout)\n",
    "            # driver = login(driver, url, 'feed')  # ログイン\n",
    "            i += 1\n"
   ]
  },
  {
   "cell_type": "code",
   "execution_count": 5,
   "metadata": {},
   "outputs": [],
   "source": [
    "\"\"\"\n",
    "arg: html_soup\n",
    "return: feed_id_list\n",
    "\"\"\"\n",
    "\n",
    "\n",
    "def get_feed_id_list(html_soup):\n",
    "    feed_id_list = []\n",
    "    div_elements = html_soup.find_all('ul', {'class': 'news-list'})\n",
    "    div_elements = div_elements[0].find_all('li')\n",
    "    for elem in div_elements:\n",
    "        feed_id = elem.get('d')\n",
    "        feed_id_list.append(feed_id)\n",
    "    \n",
    "    return feed_id_list\n"
   ]
  },
  {
   "cell_type": "code",
   "execution_count": 6,
   "metadata": {},
   "outputs": [],
   "source": [
    "\"\"\"\n",
    "arg: html_soup, feed_id\n",
    "return: feed_link\n",
    "\"\"\"\n",
    "\n",
    "\n",
    "def get_feed_link(html_soup, feed_id):\n",
    "    feed_ul = html_soup.find_all('ul', {'class': 'news-list'})\n",
    "    feed_link = feed_ul[0].find_all('li', {'d': feed_id})[0].find_all('a')[0].get('href')\n",
    "    \n",
    "    return feed_link\n"
   ]
  },
  {
   "cell_type": "code",
   "execution_count": 7,
   "metadata": {},
   "outputs": [],
   "source": [
    "\"\"\"\n",
    "arg: html_soup, feed_id\n",
    "return: feed_link\n",
    "\"\"\"\n",
    "\n",
    "\n",
    "def get_feed_account(html_soup, feed_id):\n",
    "    feed_ul = html_soup.find_all('ul', {'class': 'news-list'})\n",
    "    feed_account = feed_ul[0].find_all('li', {'d': feed_id})[0].find_all('a', {'class': 'account'})[0].text\n",
    "    \n",
    "    return feed_account\n"
   ]
  },
  {
   "cell_type": "code",
   "execution_count": 8,
   "metadata": {},
   "outputs": [],
   "source": [
    "\"\"\"\n",
    "arg:html_soup\n",
    "return: title\n",
    "\"\"\"\n",
    "\n",
    "\n",
    "def get_feed_title(html_soup):\n",
    "    title = ''\n",
    "    h2_tag = html_soup.find_all('h2', {'class': 'rich_media_title'})\n",
    "    title_pieces = h2_tag[0].text.split()\n",
    "    for title_piece in title_pieces:\n",
    "        title += title_piece\n",
    "    \n",
    "    return title\n"
   ]
  },
  {
   "cell_type": "code",
   "execution_count": 9,
   "metadata": {},
   "outputs": [],
   "source": [
    "\"\"\"\n",
    "arg: html_soup\n",
    "return: text\n",
    "\"\"\"\n",
    "\n",
    "\n",
    "def get_feed_text(html_soup):\n",
    "    text = ''\n",
    "    div_tag = html_soup.find_all('div', {'class': 'rich_media_content'})\n",
    "    p_tags = div_tag[0].find_all('p')\n",
    "    for p_tag in p_tags:\n",
    "        text += p_tag.text\n",
    "    \n",
    "    return text\n"
   ]
  },
  {
   "cell_type": "code",
   "execution_count": 10,
   "metadata": {},
   "outputs": [],
   "source": []
  },
  {
   "cell_type": "code",
   "execution_count": 10,
   "metadata": {},
   "outputs": [],
   "source": []
  },
  {
   "cell_type": "code",
   "execution_count": 47,
   "metadata": {},
   "outputs": [],
   "source": [
    "\"\"\"\n",
    "STEP1\n",
    "driver起動\n",
    "\"\"\"\n",
    "\n",
    "# driver初期化\n",
    "timeout = 15\n",
    "driver = set_driver()\n",
    "driver.set_page_load_timeout(timeout)\n",
    "\n",
    "# スタートリンクの定義\n",
    "start_url = 'https://weixin.sogou.com/weixin?type=2&query=d+program&' \\\n",
    "            'ie=utf8&s_from=input&_sug_=n&_sug_type_=&w=01019900&' \\\n",
    "            'sut=1847&sst0=1552552737503&lkt=10%2C1552552735622%2C1552552737399'\n",
    "\n",
    "driver.get(start_url)\n"
   ]
  },
  {
   "cell_type": "code",
   "execution_count": 48,
   "metadata": {},
   "outputs": [],
   "source": [
    "\"\"\"\n",
    "STEP2\n",
    "データ定義\n",
    "\"\"\"\n",
    "\n",
    "# 出力データ\n",
    "feed_id_list = []\n",
    "feed_links = []\n",
    "feed_titles = []\n",
    "feed_texts = []\n",
    "feed_accounts = []\n",
    "\n",
    "# 一時データ\n",
    "feed_id_list_tmp = []\n",
    "\n",
    "count = 0\n"
   ]
  },
  {
   "cell_type": "code",
   "execution_count": 49,
   "metadata": {
    "collapsed": true
   },
   "outputs": [
    {
     "name": "stdout",
     "output_type": "stream",
     "text": [
      "getting page_html_soup was done.\ngetting feed_id_list was done.\n10 feed_ids were detected.\ngetting_feed_links were done.\ngetting_feed_accounts were done.\n1\n"
     ]
    },
    {
     "name": "stdout",
     "output_type": "stream",
     "text": [
      "getting page_html_soup was done.\ngetting feed_id_list was done.\n10 feed_ids were detected.\ngetting_feed_links were done.\ngetting_feed_accounts were done.\n2\n"
     ]
    },
    {
     "name": "stdout",
     "output_type": "stream",
     "text": [
      "getting page_html_soup was done.\ngetting feed_id_list was done.\n10 feed_ids were detected.\ngetting_feed_links were done.\ngetting_feed_accounts were done.\n3\n"
     ]
    },
    {
     "name": "stdout",
     "output_type": "stream",
     "text": [
      "getting page_html_soup was done.\ngetting feed_id_list was done.\n10 feed_ids were detected.\ngetting_feed_links were done.\ngetting_feed_accounts were done.\n4\n"
     ]
    },
    {
     "name": "stdout",
     "output_type": "stream",
     "text": [
      "getting page_html_soup was done.\ngetting feed_id_list was done.\n10 feed_ids were detected.\ngetting_feed_links were done.\ngetting_feed_accounts were done.\n5\n"
     ]
    },
    {
     "name": "stdout",
     "output_type": "stream",
     "text": [
      "getting page_html_soup was done.\ngetting feed_id_list was done.\n10 feed_ids were detected.\ngetting_feed_links were done.\ngetting_feed_accounts were done.\n6\n"
     ]
    },
    {
     "name": "stdout",
     "output_type": "stream",
     "text": [
      "getting page_html_soup was done.\ngetting feed_id_list was done.\n10 feed_ids were detected.\ngetting_feed_links were done.\ngetting_feed_accounts were done.\n7\n"
     ]
    },
    {
     "name": "stdout",
     "output_type": "stream",
     "text": [
      "getting page_html_soup was done.\ngetting feed_id_list was done.\n10 feed_ids were detected.\ngetting_feed_links were done.\ngetting_feed_accounts were done.\n8\n"
     ]
    },
    {
     "name": "stdout",
     "output_type": "stream",
     "text": [
      "getting page_html_soup was done.\ngetting feed_id_list was done.\n10 feed_ids were detected.\ngetting_feed_links were done.\ngetting_feed_accounts were done.\n9\n"
     ]
    },
    {
     "name": "stdout",
     "output_type": "stream",
     "text": [
      "getting page_html_soup was done.\ngetting feed_id_list was done.\n1 feed_ids were detected.\ngetting_feed_links were done.\ngetting_feed_accounts were done.\n10\nMessage: no such element: Unable to locate element: {\"method\":\"id\",\"selector\":\"sogou_next\"}\n  (Session info: chrome=75.0.3732.0)\n  (Driver info: chromedriver=2.44.609545 (c2f88692e98ce7233d2df7c724465ecacfe74df5),platform=Mac OS X 10.14.1 x86_64)\n\n"
     ]
    }
   ],
   "source": [
    "\"\"\"\n",
    "STEP3\n",
    "クローリング開始\n",
    "記事リンクの取得\n",
    "\"\"\"\n",
    "\n",
    "\n",
    "while True:\n",
    "    \n",
    "    # 現在のurlを取得\n",
    "    current_url = driver.current_url\n",
    "        \n",
    "    # フィードのhtmlを取得\n",
    "    driver, page_html_soup = get_page_html_soup_newdriver(driver, current_url)\n",
    "    print('getting page_html_soup was done.')\n",
    "        \n",
    "    if page_html_soup:\n",
    "        feed_id_list_tmp.clear()\n",
    "        # feed_id_listを取得\n",
    "        feed_id_list_tmp = get_feed_id_list(page_html_soup)\n",
    "        print('getting feed_id_list was done.')\n",
    "        print('{} feed_ids were detected.'.format(len(feed_id_list_tmp)))\n",
    "        feed_id_list = feed_id_list + feed_id_list_tmp\n",
    "\n",
    "    for i, feed_id in enumerate(feed_id_list_tmp):\n",
    "        feed_link = get_feed_link(page_html_soup, feed_id)\n",
    "        feed_links.append(feed_link)\n",
    "        feed_account = get_feed_account(page_html_soup, feed_id)\n",
    "        feed_accounts.append(feed_account)\n",
    "        \n",
    "    print('getting_feed_links were done.')\n",
    "    print('getting_feed_accounts were done.')\n",
    "    \n",
    "    count += 1\n",
    "    print(count)\n",
    "        \n",
    "    # nextボタンをクリック\n",
    "    try:\n",
    "        driver.find_element_by_id(\"sogou_next\").click()\n",
    "    except NoSuchElementException as error:\n",
    "        print(error)\n",
    "        break\n"
   ]
  },
  {
   "cell_type": "code",
   "execution_count": 51,
   "metadata": {
    "collapsed": true
   },
   "outputs": [
    {
     "name": "stdout",
     "output_type": "stream",
     "text": [
      "0\ngetting title and text was done.\n"
     ]
    },
    {
     "name": "stdout",
     "output_type": "stream",
     "text": [
      "1\ngetting title and text was done.\n"
     ]
    },
    {
     "name": "stdout",
     "output_type": "stream",
     "text": [
      "2\ngetting title and text was done.\n"
     ]
    },
    {
     "name": "stdout",
     "output_type": "stream",
     "text": [
      "3\ngetting title and text was done.\n"
     ]
    },
    {
     "name": "stdout",
     "output_type": "stream",
     "text": [
      "4\ngetting title and text was done.\n"
     ]
    },
    {
     "name": "stdout",
     "output_type": "stream",
     "text": [
      "5\ngetting title and text was done.\n"
     ]
    },
    {
     "name": "stdout",
     "output_type": "stream",
     "text": [
      "6\ngetting title and text was done.\n"
     ]
    },
    {
     "name": "stdout",
     "output_type": "stream",
     "text": [
      "7\ngetting title and text was done.\n"
     ]
    },
    {
     "name": "stdout",
     "output_type": "stream",
     "text": [
      "8\ngetting title and text was done.\n"
     ]
    },
    {
     "name": "stdout",
     "output_type": "stream",
     "text": [
      "9\ngetting title and text was done.\n"
     ]
    },
    {
     "name": "stdout",
     "output_type": "stream",
     "text": [
      "10\ngetting title and text was done.\n"
     ]
    },
    {
     "name": "stdout",
     "output_type": "stream",
     "text": [
      "11\ngetting title and text was done.\n"
     ]
    },
    {
     "name": "stdout",
     "output_type": "stream",
     "text": [
      "12\ngetting title and text was done.\n"
     ]
    },
    {
     "name": "stdout",
     "output_type": "stream",
     "text": [
      "13\ngetting title and text was done.\n"
     ]
    },
    {
     "name": "stdout",
     "output_type": "stream",
     "text": [
      "14\ngetting title and text was done.\n"
     ]
    },
    {
     "name": "stdout",
     "output_type": "stream",
     "text": [
      "15\ngetting title and text was done.\n"
     ]
    },
    {
     "name": "stdout",
     "output_type": "stream",
     "text": [
      "16\ngetting title and text was done.\n"
     ]
    },
    {
     "name": "stdout",
     "output_type": "stream",
     "text": [
      "17\ngetting title and text was done.\n"
     ]
    },
    {
     "name": "stdout",
     "output_type": "stream",
     "text": [
      "18\ngetting title and text was done.\n"
     ]
    },
    {
     "name": "stdout",
     "output_type": "stream",
     "text": [
      "19\ngetting title and text was done.\n"
     ]
    },
    {
     "name": "stdout",
     "output_type": "stream",
     "text": [
      "20\ngetting title and text was done.\n"
     ]
    },
    {
     "name": "stdout",
     "output_type": "stream",
     "text": [
      "21\ngetting title and text was done.\n"
     ]
    },
    {
     "name": "stdout",
     "output_type": "stream",
     "text": [
      "22\ngetting title and text was done.\n"
     ]
    },
    {
     "name": "stdout",
     "output_type": "stream",
     "text": [
      "23\ngetting title and text was done.\n"
     ]
    },
    {
     "name": "stdout",
     "output_type": "stream",
     "text": [
      "24\ngetting title and text was done.\n"
     ]
    },
    {
     "name": "stdout",
     "output_type": "stream",
     "text": [
      "25\ngetting title and text was done.\n"
     ]
    },
    {
     "name": "stdout",
     "output_type": "stream",
     "text": [
      "26\ngetting title and text was done.\n"
     ]
    },
    {
     "name": "stdout",
     "output_type": "stream",
     "text": [
      "27\ngetting title and text was done.\n"
     ]
    },
    {
     "name": "stdout",
     "output_type": "stream",
     "text": [
      "28\ngetting title and text was done.\n"
     ]
    },
    {
     "name": "stdout",
     "output_type": "stream",
     "text": [
      "29\ngetting title and text was done.\n"
     ]
    },
    {
     "name": "stdout",
     "output_type": "stream",
     "text": [
      "30\ngetting title and text was done.\n"
     ]
    },
    {
     "name": "stdout",
     "output_type": "stream",
     "text": [
      "31\ngetting title and text was done.\n"
     ]
    },
    {
     "name": "stdout",
     "output_type": "stream",
     "text": [
      "32\ngetting title and text was done.\n"
     ]
    },
    {
     "name": "stdout",
     "output_type": "stream",
     "text": [
      "33\ngetting title and text was done.\n"
     ]
    },
    {
     "name": "stdout",
     "output_type": "stream",
     "text": [
      "34\ngetting title and text was done.\n"
     ]
    },
    {
     "name": "stdout",
     "output_type": "stream",
     "text": [
      "35\ngetting title and text was done.\n"
     ]
    },
    {
     "name": "stdout",
     "output_type": "stream",
     "text": [
      "36\ngetting title and text was done.\n"
     ]
    },
    {
     "name": "stdout",
     "output_type": "stream",
     "text": [
      "37\ngetting title and text was done.\n"
     ]
    },
    {
     "name": "stdout",
     "output_type": "stream",
     "text": [
      "38\ngetting title and text was done.\n"
     ]
    },
    {
     "name": "stdout",
     "output_type": "stream",
     "text": [
      "39\ngetting title and text was done.\n"
     ]
    },
    {
     "name": "stdout",
     "output_type": "stream",
     "text": [
      "40\ngetting title and text was done.\n"
     ]
    },
    {
     "name": "stdout",
     "output_type": "stream",
     "text": [
      "41\ngetting title and text was done.\n"
     ]
    },
    {
     "name": "stdout",
     "output_type": "stream",
     "text": [
      "42\ngetting title and text was done.\n"
     ]
    },
    {
     "name": "stdout",
     "output_type": "stream",
     "text": [
      "43\ngetting title and text was done.\n"
     ]
    },
    {
     "name": "stdout",
     "output_type": "stream",
     "text": [
      "44\ngetting title and text was done.\n"
     ]
    },
    {
     "name": "stdout",
     "output_type": "stream",
     "text": [
      "45\ngetting title and text was done.\n"
     ]
    },
    {
     "name": "stdout",
     "output_type": "stream",
     "text": [
      "46\ngetting title and text was done.\n"
     ]
    },
    {
     "name": "stdout",
     "output_type": "stream",
     "text": [
      "47\ngetting title and text was done.\n"
     ]
    },
    {
     "name": "stdout",
     "output_type": "stream",
     "text": [
      "48\ngetting title and text was done.\n"
     ]
    },
    {
     "name": "stdout",
     "output_type": "stream",
     "text": [
      "49\ngetting title and text was done.\n"
     ]
    },
    {
     "name": "stdout",
     "output_type": "stream",
     "text": [
      "50\ngetting title and text was done.\n"
     ]
    },
    {
     "name": "stdout",
     "output_type": "stream",
     "text": [
      "51\ngetting title and text was done.\n"
     ]
    },
    {
     "name": "stdout",
     "output_type": "stream",
     "text": [
      "52\ngetting title and text was done.\n"
     ]
    },
    {
     "name": "stdout",
     "output_type": "stream",
     "text": [
      "53\ngetting title and text was done.\n"
     ]
    },
    {
     "name": "stdout",
     "output_type": "stream",
     "text": [
      "54\ngetting title and text was done.\n"
     ]
    },
    {
     "name": "stdout",
     "output_type": "stream",
     "text": [
      "55\ngetting title and text was done.\n"
     ]
    },
    {
     "name": "stdout",
     "output_type": "stream",
     "text": [
      "56\ngetting title and text was done.\n"
     ]
    },
    {
     "name": "stdout",
     "output_type": "stream",
     "text": [
      "57\ngetting title and text was done.\n"
     ]
    },
    {
     "name": "stdout",
     "output_type": "stream",
     "text": [
      "58\ngetting title and text was done.\n"
     ]
    },
    {
     "name": "stdout",
     "output_type": "stream",
     "text": [
      "59\ngetting title and text was done.\n"
     ]
    },
    {
     "name": "stdout",
     "output_type": "stream",
     "text": [
      "60\ngetting title and text was done.\n"
     ]
    },
    {
     "name": "stdout",
     "output_type": "stream",
     "text": [
      "61\ngetting title and text was done.\n"
     ]
    },
    {
     "name": "stdout",
     "output_type": "stream",
     "text": [
      "62\ngetting title and text was done.\n"
     ]
    },
    {
     "name": "stdout",
     "output_type": "stream",
     "text": [
      "63\ngetting title and text was done.\n"
     ]
    },
    {
     "name": "stdout",
     "output_type": "stream",
     "text": [
      "64\ngetting title and text was done.\n"
     ]
    },
    {
     "name": "stdout",
     "output_type": "stream",
     "text": [
      "65\ngetting title and text was done.\n"
     ]
    },
    {
     "name": "stdout",
     "output_type": "stream",
     "text": [
      "66\ngetting title and text was done.\n"
     ]
    },
    {
     "name": "stdout",
     "output_type": "stream",
     "text": [
      "67\ngetting title and text was done.\n"
     ]
    },
    {
     "name": "stdout",
     "output_type": "stream",
     "text": [
      "68\ngetting title and text was done.\n"
     ]
    },
    {
     "name": "stdout",
     "output_type": "stream",
     "text": [
      "69\ngetting title and text was done.\n"
     ]
    },
    {
     "name": "stdout",
     "output_type": "stream",
     "text": [
      "70\ngetting title and text was done.\n"
     ]
    },
    {
     "name": "stdout",
     "output_type": "stream",
     "text": [
      "71\ngetting title and text was done.\n"
     ]
    },
    {
     "name": "stdout",
     "output_type": "stream",
     "text": [
      "72\ngetting title and text was done.\n"
     ]
    },
    {
     "name": "stdout",
     "output_type": "stream",
     "text": [
      "73\ngetting title and text was done.\n"
     ]
    },
    {
     "name": "stdout",
     "output_type": "stream",
     "text": [
      "74\ngetting title and text was done.\n"
     ]
    },
    {
     "name": "stdout",
     "output_type": "stream",
     "text": [
      "75\ngetting title and text was done.\n"
     ]
    },
    {
     "name": "stdout",
     "output_type": "stream",
     "text": [
      "76\ngetting title and text was done.\n"
     ]
    },
    {
     "name": "stdout",
     "output_type": "stream",
     "text": [
      "77\ngetting title and text was done.\n"
     ]
    },
    {
     "name": "stdout",
     "output_type": "stream",
     "text": [
      "78\ngetting title and text was done.\n"
     ]
    },
    {
     "name": "stdout",
     "output_type": "stream",
     "text": [
      "79\ngetting title and text was done.\n"
     ]
    },
    {
     "name": "stdout",
     "output_type": "stream",
     "text": [
      "80\ngetting title and text was done.\n"
     ]
    },
    {
     "name": "stdout",
     "output_type": "stream",
     "text": [
      "81\ngetting title and text was done.\n"
     ]
    },
    {
     "name": "stdout",
     "output_type": "stream",
     "text": [
      "82\ngetting title and text was done.\n"
     ]
    },
    {
     "name": "stdout",
     "output_type": "stream",
     "text": [
      "83\ngetting title and text was done.\n"
     ]
    },
    {
     "name": "stdout",
     "output_type": "stream",
     "text": [
      "84\ngetting title and text was done.\n"
     ]
    },
    {
     "name": "stdout",
     "output_type": "stream",
     "text": [
      "85\ngetting title and text was done.\n"
     ]
    },
    {
     "name": "stdout",
     "output_type": "stream",
     "text": [
      "86\ngetting title and text was done.\n"
     ]
    },
    {
     "name": "stdout",
     "output_type": "stream",
     "text": [
      "87\ngetting title and text was done.\n"
     ]
    },
    {
     "name": "stdout",
     "output_type": "stream",
     "text": [
      "88\ngetting title and text was done.\n"
     ]
    },
    {
     "name": "stdout",
     "output_type": "stream",
     "text": [
      "89\ngetting title and text was done.\n"
     ]
    },
    {
     "name": "stdout",
     "output_type": "stream",
     "text": [
      "90\ngetting title and text was done.\n"
     ]
    }
   ],
   "source": [
    "\"\"\"\n",
    "STEP4\n",
    "クローリング開始\n",
    "記事テキストの取得\n",
    "\"\"\"\n",
    "\n",
    "j = 0\n",
    "for j, feed_link in enumerate(feed_links):\n",
    "    try:\n",
    "        driver.get(feed_link)\n",
    "        driver, feed_html_soup = get_page_html_soup_newdriver(driver, feed_link)\n",
    "        title = get_feed_title(feed_html_soup)\n",
    "        text = get_feed_text(feed_html_soup)\n",
    "        feed_titles.append(title)\n",
    "        feed_texts.append(text)\n",
    "        \n",
    "        print(j)\n",
    "        j += 1\n",
    "        print('getting title and text was done.')\n",
    "    except:\n",
    "        print('except')\n",
    "        break\n"
   ]
  },
  {
   "cell_type": "code",
   "execution_count": 52,
   "metadata": {},
   "outputs": [],
   "source": [
    "os.chdir('/Users/higashi/PycharmProjects/Scraping/venv/wechat/data')\n",
    "\n",
    "df = pd.DataFrame({\n",
    "    # 'Title': feed_titles,\n",
    "    # 'Account': feed_accounts,\n",
    "    # 'ID': feed_id_list,\n",
    "    'Text': feed_texts\n",
    "})\n",
    "\n",
    "df.to_csv('20190314_wechat_dprogram_feed' + '.csv')\n"
   ]
  },
  {
   "cell_type": "code",
   "execution_count": 50,
   "metadata": {},
   "outputs": [
    {
     "name": "stdout",
     "output_type": "stream",
     "text": [
      "91\n"
     ]
    }
   ],
   "source": [
    "print(len(feed_links))\n"
   ]
  },
  {
   "cell_type": "code",
   "execution_count": 45,
   "metadata": {},
   "outputs": [
    {
     "name": "stdout",
     "output_type": "stream",
     "text": [
      "908\n"
     ]
    }
   ],
   "source": [
    ""
   ]
  },
  {
   "cell_type": "code",
   "execution_count": null,
   "metadata": {},
   "outputs": [],
   "source": []
  }
 ],
 "metadata": {
  "kernelspec": {
   "display_name": "Python 2",
   "language": "python",
   "name": "python2"
  },
  "language_info": {
   "codemirror_mode": {
    "name": "ipython",
    "version": 2
   },
   "file_extension": ".py",
   "mimetype": "text/x-python",
   "name": "python",
   "nbconvert_exporter": "python",
   "pygments_lexer": "ipython2",
   "version": "2.7.6"
  }
 },
 "nbformat": 4,
 "nbformat_minor": 0
}
